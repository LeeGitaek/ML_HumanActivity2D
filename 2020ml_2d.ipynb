{
  "nbformat": 4,
  "nbformat_minor": 0,
  "metadata": {
    "kernelspec": {
      "display_name": "Python 3",
      "language": "python",
      "name": "python3"
    },
    "language_info": {
      "codemirror_mode": {
        "name": "ipython",
        "version": 3
      },
      "file_extension": ".py",
      "mimetype": "text/x-python",
      "name": "python",
      "nbconvert_exporter": "python",
      "pygments_lexer": "ipython3",
      "version": "3.7.6"
    },
    "papermill": {
      "duration": 1236.954903,
      "end_time": "2020-12-10T14:52:12.394673",
      "environment_variables": {},
      "exception": null,
      "input_path": "__notebook__.ipynb",
      "output_path": "__notebook__.ipynb",
      "parameters": {},
      "start_time": "2020-12-10T14:31:35.439770",
      "version": "2.1.0"
    },
    "colab": {
      "name": "2020ml_2d.ipynb",
      "provenance": []
    }
  },
  "cells": [
    {
      "cell_type": "code",
      "metadata": {
        "_cell_guid": "b1076dfc-b9ad-4769-8c92-a6c4dae69d19",
        "_uuid": "8f2839f25d086af736a60e9eeb907d3b93b6e0e5",
        "execution": {
          "iopub.execute_input": "2020-12-10T14:31:39.657785Z",
          "iopub.status.busy": "2020-12-10T14:31:39.657146Z",
          "iopub.status.idle": "2020-12-10T14:31:41.406695Z",
          "shell.execute_reply": "2020-12-10T14:31:41.405512Z"
        },
        "papermill": {
          "duration": 1.777652,
          "end_time": "2020-12-10T14:31:41.406955",
          "exception": false,
          "start_time": "2020-12-10T14:31:39.629303",
          "status": "completed"
        },
        "tags": [],
        "id": "HbQ_-ceW8u_Y",
        "outputId": "558f2c2b-1287-4a45-93e3-c81480223425"
      },
      "source": [
        "# This Python 3 environment comes with many helpful analytics libraries installed\n",
        "# It is defined by the kaggle/python Docker image: https://github.com/kaggle/docker-python\n",
        "# For example, here's several helpful packages to load\n",
        "\n",
        "import numpy as np # linear algebra\n",
        "import pandas as pd # data processing, CSV file I/O (e.g. pd.read_csv)\n",
        "\n",
        "# Input data files are available in the read-only \"../input/\" directory\n",
        "# For example, running this (by clicking run or pressing Shift+Enter) will list all files under the input directory\n",
        "\n",
        "import os\n",
        "for dirname, _, filenames in os.walk('/kaggle/input'):\n",
        "    for filename in filenames:\n",
        "        print(os.path.join(dirname, filename))\n",
        "\n",
        "# You can write up to 20GB to the current directory (/kaggle/working/) that gets preserved as output when you create a version using \"Save & Run All\" \n",
        "# You can also write temporary files to /kaggle/temp/, but they won't be saved outside of the current session"
      ],
      "execution_count": null,
      "outputs": [
        {
          "output_type": "stream",
          "text": [
            "/kaggle/input/kagglejson/kaggle.json\n",
            "/kaggle/input/2020mltermprojectbovw/Label2Names.csv\n",
            "/kaggle/input/2020mltermprojectbovw/submission.csv\n",
            "/kaggle/input/2020mltermprojectbovw/train_csv_v2/scorpion/image_0080.csv\n",
            "/kaggle/input/2020mltermprojectbovw/train_csv_v2/scorpion/image_0015.csv\n",
            "/kaggle/input/2020mltermprojectbovw/train_csv_v2/scorpion/image_0066.csv\n",
            "/kaggle/input/2020mltermprojectbovw/train_csv_v2/scorpion/image_0049.csv\n",
            "/kaggle/input/2020mltermprojectbovw/train_csv_v2/scorpion/image_0063.csv\n",
            "/kaggle/input/2020mltermprojectbovw/train_csv_v2/scorpion/image_0020.csv\n",
            "/kaggle/input/2020mltermprojectbovw/train_csv_v2/scorpion/image_0028.csv\n",
            "/kaggle/input/2020mltermprojectbovw/train_csv_v2/scorpion/image_0014.csv\n",
            "/kaggle/input/2020mltermprojectbovw/train_csv_v2/scorpion/image_0054.csv\n",
            "/kaggle/input/2020mltermprojectbovw/train_csv_v2/scorpion/image_0004.csv\n",
            "/kaggle/input/2020mltermprojectbovw/train_csv_v2/scorpion/image_0009.csv\n",
            "/kaggle/input/2020mltermprojectbovw/train_csv_v2/scorpion/image_0021.csv\n",
            "/kaggle/input/2020mltermprojectbovw/train_csv_v2/scorpion/image_0070.csv\n",
            "/kaggle/input/2020mltermprojectbovw/train_csv_v2/scorpion/image_0046.csv\n",
            "/kaggle/input/2020mltermprojectbovw/train_csv_v2/scorpion/image_0052.csv\n",
            "/kaggle/input/2020mltermprojectbovw/train_csv_v2/scorpion/image_0002.csv\n",
            "/kaggle/input/2020mltermprojectbovw/train_csv_v2/scorpion/image_0022.csv\n",
            "/kaggle/input/2020mltermprojectbovw/train_csv_v2/scorpion/image_0077.csv\n",
            "/kaggle/input/2020mltermprojectbovw/train_csv_v2/scorpion/image_0059.csv\n",
            "/kaggle/input/2020mltermprojectbovw/train_csv_v2/scorpion/image_0037.csv\n",
            "/kaggle/input/2020mltermprojectbovw/train_csv_v2/scorpion/image_0033.csv\n",
            "/kaggle/input/2020mltermprojectbovw/train_csv_v2/scorpion/image_0035.csv\n",
            "/kaggle/input/2020mltermprojectbovw/train_csv_v2/scorpion/image_0061.csv\n",
            "/kaggle/input/2020mltermprojectbovw/train_csv_v2/scorpion/image_0082.csv\n",
            "/kaggle/input/2020mltermprojectbovw/train_csv_v2/scorpion/image_0062.csv\n",
            "/kaggle/input/2020mltermprojectbovw/train_csv_v2/scorpion/image_0074.csv\n",
            "/kaggle/input/2020mltermprojectbovw/train_csv_v2/scorpion/image_0026.csv\n",
            "/kaggle/input/2020mltermprojectbovw/train_csv_v2/scorpion/image_0030.csv\n",
            "/kaggle/input/2020mltermprojectbovw/train_csv_v2/scorpion/image_0083.csv\n",
            "/kaggle/input/2020mltermprojectbovw/train_csv_v2/scorpion/image_0039.csv\n",
            "/kaggle/input/2020mltermprojectbovw/train_csv_v2/hedgehog/image_0003.csv\n",
            "/kaggle/input/2020mltermprojectbovw/train_csv_v2/hedgehog/image_0025.csv\n",
            "/kaggle/input/2020mltermprojectbovw/train_csv_v2/hedgehog/image_0036.csv\n",
            "/kaggle/input/2020mltermprojectbovw/train_csv_v2/hedgehog/image_0015.csv\n",
            "/kaggle/input/2020mltermprojectbovw/train_csv_v2/hedgehog/image_0034.csv\n",
            "/kaggle/input/2020mltermprojectbovw/train_csv_v2/hedgehog/image_0005.csv\n",
            "/kaggle/input/2020mltermprojectbovw/train_csv_v2/hedgehog/image_0020.csv\n",
            "/kaggle/input/2020mltermprojectbovw/train_csv_v2/hedgehog/image_0042.csv\n",
            "/kaggle/input/2020mltermprojectbovw/train_csv_v2/hedgehog/image_0014.csv\n",
            "/kaggle/input/2020mltermprojectbovw/train_csv_v2/hedgehog/image_0029.csv\n",
            "/kaggle/input/2020mltermprojectbovw/train_csv_v2/hedgehog/image_0016.csv\n",
            "/kaggle/input/2020mltermprojectbovw/train_csv_v2/hedgehog/image_0041.csv\n",
            "/kaggle/input/2020mltermprojectbovw/train_csv_v2/hedgehog/image_0046.csv\n",
            "/kaggle/input/2020mltermprojectbovw/train_csv_v2/hedgehog/image_0012.csv\n",
            "/kaggle/input/2020mltermprojectbovw/train_csv_v2/hedgehog/image_0052.csv\n",
            "/kaggle/input/2020mltermprojectbovw/train_csv_v2/hedgehog/image_0047.csv\n",
            "/kaggle/input/2020mltermprojectbovw/train_csv_v2/hedgehog/image_0013.csv\n",
            "/kaggle/input/2020mltermprojectbovw/train_csv_v2/hedgehog/image_0038.csv\n",
            "/kaggle/input/2020mltermprojectbovw/train_csv_v2/hedgehog/image_0043.csv\n",
            "/kaggle/input/2020mltermprojectbovw/train_csv_v2/hedgehog/image_0027.csv\n",
            "/kaggle/input/2020mltermprojectbovw/train_csv_v2/hedgehog/image_0032.csv\n",
            "/kaggle/input/2020mltermprojectbovw/train_csv_v2/hedgehog/image_0006.csv\n",
            "/kaggle/input/2020mltermprojectbovw/train_csv_v2/hedgehog/image_0011.csv\n",
            "/kaggle/input/2020mltermprojectbovw/train_csv_v2/hedgehog/image_0037.csv\n",
            "/kaggle/input/2020mltermprojectbovw/train_csv_v2/hedgehog/image_0051.csv\n",
            "/kaggle/input/2020mltermprojectbovw/train_csv_v2/hedgehog/image_0010.csv\n",
            "/kaggle/input/2020mltermprojectbovw/train_csv_v2/hedgehog/image_0050.csv\n",
            "/kaggle/input/2020mltermprojectbovw/train_csv_v2/hedgehog/image_0045.csv\n",
            "/kaggle/input/2020mltermprojectbovw/train_csv_v2/hedgehog/image_0040.csv\n",
            "/kaggle/input/2020mltermprojectbovw/train_csv_v2/hedgehog/image_0039.csv\n",
            "/kaggle/input/2020mltermprojectbovw/train_csv_v2/crocodile_head/image_0003.csv\n",
            "/kaggle/input/2020mltermprojectbovw/train_csv_v2/crocodile_head/image_0001.csv\n",
            "/kaggle/input/2020mltermprojectbovw/train_csv_v2/crocodile_head/image_0036.csv\n",
            "/kaggle/input/2020mltermprojectbovw/train_csv_v2/crocodile_head/image_0015.csv\n",
            "/kaggle/input/2020mltermprojectbovw/train_csv_v2/crocodile_head/image_0034.csv\n",
            "/kaggle/input/2020mltermprojectbovw/train_csv_v2/crocodile_head/image_0017.csv\n",
            "/kaggle/input/2020mltermprojectbovw/train_csv_v2/crocodile_head/image_0020.csv\n",
            "/kaggle/input/2020mltermprojectbovw/train_csv_v2/crocodile_head/image_0028.csv\n",
            "/kaggle/input/2020mltermprojectbovw/train_csv_v2/crocodile_head/image_0042.csv\n",
            "/kaggle/input/2020mltermprojectbovw/train_csv_v2/crocodile_head/image_0014.csv\n",
            "/kaggle/input/2020mltermprojectbovw/train_csv_v2/crocodile_head/image_0018.csv\n",
            "/kaggle/input/2020mltermprojectbovw/train_csv_v2/crocodile_head/image_0044.csv\n",
            "/kaggle/input/2020mltermprojectbovw/train_csv_v2/crocodile_head/image_0004.csv\n",
            "/kaggle/input/2020mltermprojectbovw/train_csv_v2/crocodile_head/image_0041.csv\n",
            "/kaggle/input/2020mltermprojectbovw/train_csv_v2/crocodile_head/image_0046.csv\n",
            "/kaggle/input/2020mltermprojectbovw/train_csv_v2/crocodile_head/image_0022.csv\n",
            "/kaggle/input/2020mltermprojectbovw/train_csv_v2/crocodile_head/image_0047.csv\n",
            "/kaggle/input/2020mltermprojectbovw/train_csv_v2/crocodile_head/image_0038.csv\n",
            "/kaggle/input/2020mltermprojectbovw/train_csv_v2/crocodile_head/image_0027.csv\n",
            "/kaggle/input/2020mltermprojectbovw/train_csv_v2/crocodile_head/image_0032.csv\n",
            "/kaggle/input/2020mltermprojectbovw/train_csv_v2/crocodile_head/image_0037.csv\n",
            "/kaggle/input/2020mltermprojectbovw/train_csv_v2/crocodile_head/image_0033.csv\n",
            "/kaggle/input/2020mltermprojectbovw/train_csv_v2/crocodile_head/image_0051.csv\n",
            "/kaggle/input/2020mltermprojectbovw/train_csv_v2/crocodile_head/image_0019.csv\n",
            "/kaggle/input/2020mltermprojectbovw/train_csv_v2/crocodile_head/image_0035.csv\n",
            "/kaggle/input/2020mltermprojectbovw/train_csv_v2/crocodile_head/image_0010.csv\n",
            "/kaggle/input/2020mltermprojectbovw/train_csv_v2/crocodile_head/image_0050.csv\n",
            "/kaggle/input/2020mltermprojectbovw/train_csv_v2/crocodile_head/image_0026.csv\n",
            "/kaggle/input/2020mltermprojectbovw/train_csv_v2/crocodile_head/image_0007.csv\n",
            "/kaggle/input/2020mltermprojectbovw/train_csv_v2/crocodile_head/image_0040.csv\n",
            "/kaggle/input/2020mltermprojectbovw/train_csv_v2/headphone/image_0008.csv\n",
            "/kaggle/input/2020mltermprojectbovw/train_csv_v2/headphone/image_0024.csv\n",
            "/kaggle/input/2020mltermprojectbovw/train_csv_v2/headphone/image_0001.csv\n",
            "/kaggle/input/2020mltermprojectbovw/train_csv_v2/headphone/image_0025.csv\n",
            "/kaggle/input/2020mltermprojectbovw/train_csv_v2/headphone/image_0034.csv\n",
            "/kaggle/input/2020mltermprojectbovw/train_csv_v2/headphone/image_0017.csv\n",
            "/kaggle/input/2020mltermprojectbovw/train_csv_v2/headphone/image_0005.csv\n",
            "/kaggle/input/2020mltermprojectbovw/train_csv_v2/headphone/image_0020.csv\n",
            "/kaggle/input/2020mltermprojectbovw/train_csv_v2/headphone/image_0014.csv\n",
            "/kaggle/input/2020mltermprojectbovw/train_csv_v2/headphone/image_0018.csv\n",
            "/kaggle/input/2020mltermprojectbovw/train_csv_v2/headphone/image_0029.csv\n",
            "/kaggle/input/2020mltermprojectbovw/train_csv_v2/headphone/image_0016.csv\n",
            "/kaggle/input/2020mltermprojectbovw/train_csv_v2/headphone/image_0009.csv\n",
            "/kaggle/input/2020mltermprojectbovw/train_csv_v2/headphone/image_0021.csv\n",
            "/kaggle/input/2020mltermprojectbovw/train_csv_v2/headphone/image_0041.csv\n",
            "/kaggle/input/2020mltermprojectbovw/train_csv_v2/headphone/image_0023.csv\n",
            "/kaggle/input/2020mltermprojectbovw/train_csv_v2/headphone/image_0012.csv\n",
            "/kaggle/input/2020mltermprojectbovw/train_csv_v2/headphone/image_0022.csv\n",
            "/kaggle/input/2020mltermprojectbovw/train_csv_v2/headphone/image_0013.csv\n",
            "/kaggle/input/2020mltermprojectbovw/train_csv_v2/headphone/image_0027.csv\n",
            "/kaggle/input/2020mltermprojectbovw/train_csv_v2/headphone/image_0032.csv\n",
            "/kaggle/input/2020mltermprojectbovw/train_csv_v2/headphone/image_0006.csv\n",
            "/kaggle/input/2020mltermprojectbovw/train_csv_v2/headphone/image_0011.csv\n",
            "/kaggle/input/2020mltermprojectbovw/train_csv_v2/headphone/image_0033.csv\n",
            "/kaggle/input/2020mltermprojectbovw/train_csv_v2/headphone/image_0019.csv\n",
            "/kaggle/input/2020mltermprojectbovw/train_csv_v2/headphone/image_0035.csv\n",
            "/kaggle/input/2020mltermprojectbovw/train_csv_v2/headphone/image_0010.csv\n",
            "/kaggle/input/2020mltermprojectbovw/train_csv_v2/headphone/image_0026.csv\n",
            "/kaggle/input/2020mltermprojectbovw/train_csv_v2/headphone/image_0030.csv\n",
            "/kaggle/input/2020mltermprojectbovw/train_csv_v2/headphone/image_0040.csv\n",
            "/kaggle/input/2020mltermprojectbovw/train_csv_v2/mandolin/image_0003.csv\n",
            "/kaggle/input/2020mltermprojectbovw/train_csv_v2/mandolin/image_0024.csv\n",
            "/kaggle/input/2020mltermprojectbovw/train_csv_v2/mandolin/image_0001.csv\n",
            "/kaggle/input/2020mltermprojectbovw/train_csv_v2/mandolin/image_0025.csv\n",
            "/kaggle/input/2020mltermprojectbovw/train_csv_v2/mandolin/image_0036.csv\n",
            "/kaggle/input/2020mltermprojectbovw/train_csv_v2/mandolin/image_0015.csv\n",
            "/kaggle/input/2020mltermprojectbovw/train_csv_v2/mandolin/image_0034.csv\n",
            "/kaggle/input/2020mltermprojectbovw/train_csv_v2/mandolin/image_0005.csv\n",
            "/kaggle/input/2020mltermprojectbovw/train_csv_v2/mandolin/image_0020.csv\n",
            "/kaggle/input/2020mltermprojectbovw/train_csv_v2/mandolin/image_0014.csv\n",
            "/kaggle/input/2020mltermprojectbovw/train_csv_v2/mandolin/image_0018.csv\n",
            "/kaggle/input/2020mltermprojectbovw/train_csv_v2/mandolin/image_0004.csv\n",
            "/kaggle/input/2020mltermprojectbovw/train_csv_v2/mandolin/image_0016.csv\n",
            "/kaggle/input/2020mltermprojectbovw/train_csv_v2/mandolin/image_0021.csv\n",
            "/kaggle/input/2020mltermprojectbovw/train_csv_v2/mandolin/image_0041.csv\n",
            "/kaggle/input/2020mltermprojectbovw/train_csv_v2/mandolin/image_0012.csv\n",
            "/kaggle/input/2020mltermprojectbovw/train_csv_v2/mandolin/image_0002.csv\n",
            "/kaggle/input/2020mltermprojectbovw/train_csv_v2/mandolin/image_0022.csv\n",
            "/kaggle/input/2020mltermprojectbovw/train_csv_v2/mandolin/image_0013.csv\n",
            "/kaggle/input/2020mltermprojectbovw/train_csv_v2/mandolin/image_0038.csv\n",
            "/kaggle/input/2020mltermprojectbovw/train_csv_v2/mandolin/image_0027.csv\n",
            "/kaggle/input/2020mltermprojectbovw/train_csv_v2/mandolin/image_0032.csv\n",
            "/kaggle/input/2020mltermprojectbovw/train_csv_v2/mandolin/image_0011.csv\n",
            "/kaggle/input/2020mltermprojectbovw/train_csv_v2/mandolin/image_0037.csv\n",
            "/kaggle/input/2020mltermprojectbovw/train_csv_v2/mandolin/image_0033.csv\n",
            "/kaggle/input/2020mltermprojectbovw/train_csv_v2/mandolin/image_0019.csv\n",
            "/kaggle/input/2020mltermprojectbovw/train_csv_v2/mandolin/image_0010.csv\n",
            "/kaggle/input/2020mltermprojectbovw/train_csv_v2/mandolin/image_0026.csv\n",
            "/kaggle/input/2020mltermprojectbovw/train_csv_v2/mandolin/image_0040.csv\n",
            "/kaggle/input/2020mltermprojectbovw/train_csv_v2/mandolin/image_0039.csv\n",
            "/kaggle/input/2020mltermprojectbovw/train_csv_v2/ewer/image_0003.csv\n",
            "/kaggle/input/2020mltermprojectbovw/train_csv_v2/ewer/image_0056.csv\n",
            "/kaggle/input/2020mltermprojectbovw/train_csv_v2/ewer/image_0008.csv\n",
            "/kaggle/input/2020mltermprojectbovw/train_csv_v2/ewer/image_0060.csv\n",
            "/kaggle/input/2020mltermprojectbovw/train_csv_v2/ewer/image_0080.csv\n",
            "/kaggle/input/2020mltermprojectbovw/train_csv_v2/ewer/image_0058.csv\n",
            "/kaggle/input/2020mltermprojectbovw/train_csv_v2/ewer/image_0057.csv\n",
            "/kaggle/input/2020mltermprojectbovw/train_csv_v2/ewer/image_0034.csv\n",
            "/kaggle/input/2020mltermprojectbovw/train_csv_v2/ewer/image_0069.csv\n",
            "/kaggle/input/2020mltermprojectbovw/train_csv_v2/ewer/image_0005.csv\n",
            "/kaggle/input/2020mltermprojectbovw/train_csv_v2/ewer/image_0031.csv\n",
            "/kaggle/input/2020mltermprojectbovw/train_csv_v2/ewer/image_0042.csv\n",
            "/kaggle/input/2020mltermprojectbovw/train_csv_v2/ewer/image_0014.csv\n",
            "/kaggle/input/2020mltermprojectbovw/train_csv_v2/ewer/image_0029.csv\n",
            "/kaggle/input/2020mltermprojectbovw/train_csv_v2/ewer/image_0009.csv\n",
            "/kaggle/input/2020mltermprojectbovw/train_csv_v2/ewer/image_0081.csv\n",
            "/kaggle/input/2020mltermprojectbovw/train_csv_v2/ewer/image_0046.csv\n",
            "/kaggle/input/2020mltermprojectbovw/train_csv_v2/ewer/image_0053.csv\n",
            "/kaggle/input/2020mltermprojectbovw/train_csv_v2/ewer/image_0002.csv\n",
            "/kaggle/input/2020mltermprojectbovw/train_csv_v2/ewer/image_0047.csv\n",
            "/kaggle/input/2020mltermprojectbovw/train_csv_v2/ewer/image_0077.csv\n",
            "/kaggle/input/2020mltermprojectbovw/train_csv_v2/ewer/image_0013.csv\n",
            "/kaggle/input/2020mltermprojectbovw/train_csv_v2/ewer/image_0027.csv\n",
            "/kaggle/input/2020mltermprojectbovw/train_csv_v2/ewer/image_0059.csv\n",
            "/kaggle/input/2020mltermprojectbovw/train_csv_v2/ewer/image_0019.csv\n",
            "/kaggle/input/2020mltermprojectbovw/train_csv_v2/ewer/image_0082.csv\n",
            "/kaggle/input/2020mltermprojectbovw/train_csv_v2/ewer/image_0062.csv\n",
            "/kaggle/input/2020mltermprojectbovw/train_csv_v2/ewer/image_0074.csv\n",
            "/kaggle/input/2020mltermprojectbovw/train_csv_v2/ewer/image_0026.csv\n",
            "/kaggle/input/2020mltermprojectbovw/train_csv_v2/ewer/image_0079.csv\n",
            "/kaggle/input/2020mltermprojectbovw/train_csv_v2/stop_sign/image_0003.csv\n",
            "/kaggle/input/2020mltermprojectbovw/train_csv_v2/stop_sign/image_0008.csv\n",
            "/kaggle/input/2020mltermprojectbovw/train_csv_v2/stop_sign/image_0060.csv\n",
            "/kaggle/input/2020mltermprojectbovw/train_csv_v2/stop_sign/image_0058.csv\n",
            "/kaggle/input/2020mltermprojectbovw/train_csv_v2/stop_sign/image_0049.csv\n",
            "/kaggle/input/2020mltermprojectbovw/train_csv_v2/stop_sign/image_0031.csv\n",
            "/kaggle/input/2020mltermprojectbovw/train_csv_v2/stop_sign/image_0042.csv\n",
            "/kaggle/input/2020mltermprojectbovw/train_csv_v2/stop_sign/image_0014.csv\n",
            "/kaggle/input/2020mltermprojectbovw/train_csv_v2/stop_sign/image_0018.csv\n",
            "/kaggle/input/2020mltermprojectbovw/train_csv_v2/stop_sign/image_0029.csv\n",
            "/kaggle/input/2020mltermprojectbovw/train_csv_v2/stop_sign/image_0016.csv\n",
            "/kaggle/input/2020mltermprojectbovw/train_csv_v2/stop_sign/image_0009.csv\n",
            "/kaggle/input/2020mltermprojectbovw/train_csv_v2/stop_sign/image_0021.csv\n",
            "/kaggle/input/2020mltermprojectbovw/train_csv_v2/stop_sign/image_0041.csv\n",
            "/kaggle/input/2020mltermprojectbovw/train_csv_v2/stop_sign/image_0046.csv\n",
            "/kaggle/input/2020mltermprojectbovw/train_csv_v2/stop_sign/image_0053.csv\n",
            "/kaggle/input/2020mltermprojectbovw/train_csv_v2/stop_sign/image_0012.csv\n",
            "/kaggle/input/2020mltermprojectbovw/train_csv_v2/stop_sign/image_0052.csv\n",
            "/kaggle/input/2020mltermprojectbovw/train_csv_v2/stop_sign/image_0002.csv\n",
            "/kaggle/input/2020mltermprojectbovw/train_csv_v2/stop_sign/image_0047.csv\n",
            "/kaggle/input/2020mltermprojectbovw/train_csv_v2/stop_sign/image_0059.csv\n",
            "/kaggle/input/2020mltermprojectbovw/train_csv_v2/stop_sign/image_0037.csv\n",
            "/kaggle/input/2020mltermprojectbovw/train_csv_v2/stop_sign/image_0051.csv\n",
            "/kaggle/input/2020mltermprojectbovw/train_csv_v2/stop_sign/image_0019.csv\n",
            "/kaggle/input/2020mltermprojectbovw/train_csv_v2/stop_sign/image_0010.csv\n",
            "/kaggle/input/2020mltermprojectbovw/train_csv_v2/stop_sign/image_0050.csv\n",
            "/kaggle/input/2020mltermprojectbovw/train_csv_v2/stop_sign/image_0026.csv\n",
            "/kaggle/input/2020mltermprojectbovw/train_csv_v2/stop_sign/image_0007.csv\n",
            "/kaggle/input/2020mltermprojectbovw/train_csv_v2/stop_sign/image_0030.csv\n",
            "/kaggle/input/2020mltermprojectbovw/train_csv_v2/stop_sign/image_0040.csv\n",
            "/kaggle/input/2020mltermprojectbovw/train_csv_v2/ant/image_0003.csv\n",
            "/kaggle/input/2020mltermprojectbovw/train_csv_v2/ant/image_0024.csv\n",
            "/kaggle/input/2020mltermprojectbovw/train_csv_v2/ant/image_0025.csv\n",
            "/kaggle/input/2020mltermprojectbovw/train_csv_v2/ant/image_0036.csv\n",
            "/kaggle/input/2020mltermprojectbovw/train_csv_v2/ant/image_0015.csv\n",
            "/kaggle/input/2020mltermprojectbovw/train_csv_v2/ant/image_0034.csv\n",
            "/kaggle/input/2020mltermprojectbovw/train_csv_v2/ant/image_0005.csv\n",
            "/kaggle/input/2020mltermprojectbovw/train_csv_v2/ant/image_0028.csv\n",
            "/kaggle/input/2020mltermprojectbovw/train_csv_v2/ant/image_0014.csv\n",
            "/kaggle/input/2020mltermprojectbovw/train_csv_v2/ant/image_0018.csv\n",
            "/kaggle/input/2020mltermprojectbovw/train_csv_v2/ant/image_0004.csv\n",
            "/kaggle/input/2020mltermprojectbovw/train_csv_v2/ant/image_0029.csv\n",
            "/kaggle/input/2020mltermprojectbovw/train_csv_v2/ant/image_0016.csv\n",
            "/kaggle/input/2020mltermprojectbovw/train_csv_v2/ant/image_0009.csv\n",
            "/kaggle/input/2020mltermprojectbovw/train_csv_v2/ant/image_0041.csv\n",
            "/kaggle/input/2020mltermprojectbovw/train_csv_v2/ant/image_0022.csv\n",
            "/kaggle/input/2020mltermprojectbovw/train_csv_v2/ant/image_0013.csv\n",
            "/kaggle/input/2020mltermprojectbovw/train_csv_v2/ant/image_0027.csv\n",
            "/kaggle/input/2020mltermprojectbovw/train_csv_v2/ant/image_0032.csv\n",
            "/kaggle/input/2020mltermprojectbovw/train_csv_v2/ant/image_0011.csv\n",
            "/kaggle/input/2020mltermprojectbovw/train_csv_v2/ant/image_0037.csv\n",
            "/kaggle/input/2020mltermprojectbovw/train_csv_v2/ant/image_0033.csv\n",
            "/kaggle/input/2020mltermprojectbovw/train_csv_v2/ant/image_0019.csv\n",
            "/kaggle/input/2020mltermprojectbovw/train_csv_v2/ant/image_0035.csv\n",
            "/kaggle/input/2020mltermprojectbovw/train_csv_v2/ant/image_0010.csv\n",
            "/kaggle/input/2020mltermprojectbovw/train_csv_v2/ant/image_0026.csv\n",
            "/kaggle/input/2020mltermprojectbovw/train_csv_v2/ant/image_0007.csv\n",
            "/kaggle/input/2020mltermprojectbovw/train_csv_v2/ant/image_0030.csv\n",
            "/kaggle/input/2020mltermprojectbovw/train_csv_v2/ant/image_0040.csv\n",
            "/kaggle/input/2020mltermprojectbovw/train_csv_v2/ant/image_0039.csv\n",
            "/kaggle/input/2020mltermprojectbovw/train_csv_v2/ferry/image_0003.csv\n",
            "/kaggle/input/2020mltermprojectbovw/train_csv_v2/ferry/image_0056.csv\n",
            "/kaggle/input/2020mltermprojectbovw/train_csv_v2/ferry/image_0058.csv\n",
            "/kaggle/input/2020mltermprojectbovw/train_csv_v2/ferry/image_0057.csv\n",
            "/kaggle/input/2020mltermprojectbovw/train_csv_v2/ferry/image_0015.csv\n",
            "/kaggle/input/2020mltermprojectbovw/train_csv_v2/ferry/image_0017.csv\n",
            "/kaggle/input/2020mltermprojectbovw/train_csv_v2/ferry/image_0044.csv\n",
            "/kaggle/input/2020mltermprojectbovw/train_csv_v2/ferry/image_0048.csv\n",
            "/kaggle/input/2020mltermprojectbovw/train_csv_v2/ferry/image_0029.csv\n",
            "/kaggle/input/2020mltermprojectbovw/train_csv_v2/ferry/image_0065.csv\n",
            "/kaggle/input/2020mltermprojectbovw/train_csv_v2/ferry/image_0046.csv\n",
            "/kaggle/input/2020mltermprojectbovw/train_csv_v2/ferry/image_0053.csv\n",
            "/kaggle/input/2020mltermprojectbovw/train_csv_v2/ferry/image_0012.csv\n",
            "/kaggle/input/2020mltermprojectbovw/train_csv_v2/ferry/image_0002.csv\n",
            "/kaggle/input/2020mltermprojectbovw/train_csv_v2/ferry/image_0022.csv\n",
            "/kaggle/input/2020mltermprojectbovw/train_csv_v2/ferry/image_0013.csv\n",
            "/kaggle/input/2020mltermprojectbovw/train_csv_v2/ferry/image_0027.csv\n",
            "/kaggle/input/2020mltermprojectbovw/train_csv_v2/ferry/image_0006.csv\n",
            "/kaggle/input/2020mltermprojectbovw/train_csv_v2/ferry/image_0059.csv\n",
            "/kaggle/input/2020mltermprojectbovw/train_csv_v2/ferry/image_0037.csv\n",
            "/kaggle/input/2020mltermprojectbovw/train_csv_v2/ferry/image_0033.csv\n",
            "/kaggle/input/2020mltermprojectbovw/train_csv_v2/ferry/image_0061.csv\n",
            "/kaggle/input/2020mltermprojectbovw/train_csv_v2/ferry/image_0010.csv\n",
            "/kaggle/input/2020mltermprojectbovw/train_csv_v2/ferry/image_0050.csv\n",
            "/kaggle/input/2020mltermprojectbovw/train_csv_v2/ferry/image_0062.csv\n",
            "/kaggle/input/2020mltermprojectbovw/train_csv_v2/ferry/image_0064.csv\n",
            "/kaggle/input/2020mltermprojectbovw/train_csv_v2/ferry/image_0067.csv\n",
            "/kaggle/input/2020mltermprojectbovw/train_csv_v2/ferry/image_0026.csv\n",
            "/kaggle/input/2020mltermprojectbovw/train_csv_v2/ferry/image_0045.csv\n",
            "/kaggle/input/2020mltermprojectbovw/train_csv_v2/ferry/image_0040.csv\n",
            "/kaggle/input/2020mltermprojectbovw/train_csv_v2/butterfly/image_0008.csv\n",
            "/kaggle/input/2020mltermprojectbovw/train_csv_v2/butterfly/image_0060.csv\n",
            "/kaggle/input/2020mltermprojectbovw/train_csv_v2/butterfly/image_0086.csv\n",
            "/kaggle/input/2020mltermprojectbovw/train_csv_v2/butterfly/image_0024.csv\n",
            "/kaggle/input/2020mltermprojectbovw/train_csv_v2/butterfly/image_0025.csv\n",
            "/kaggle/input/2020mltermprojectbovw/train_csv_v2/butterfly/image_0080.csv\n",
            "/kaggle/input/2020mltermprojectbovw/train_csv_v2/butterfly/image_0058.csv\n",
            "/kaggle/input/2020mltermprojectbovw/train_csv_v2/butterfly/image_0057.csv\n",
            "/kaggle/input/2020mltermprojectbovw/train_csv_v2/butterfly/image_0066.csv\n",
            "/kaggle/input/2020mltermprojectbovw/train_csv_v2/butterfly/image_0049.csv\n",
            "/kaggle/input/2020mltermprojectbovw/train_csv_v2/butterfly/image_0017.csv\n",
            "/kaggle/input/2020mltermprojectbovw/train_csv_v2/butterfly/image_0031.csv\n",
            "/kaggle/input/2020mltermprojectbovw/train_csv_v2/butterfly/image_0071.csv\n",
            "/kaggle/input/2020mltermprojectbovw/train_csv_v2/butterfly/image_0004.csv\n",
            "/kaggle/input/2020mltermprojectbovw/train_csv_v2/butterfly/image_0048.csv\n",
            "/kaggle/input/2020mltermprojectbovw/train_csv_v2/butterfly/image_0065.csv\n",
            "/kaggle/input/2020mltermprojectbovw/train_csv_v2/butterfly/image_0041.csv\n",
            "/kaggle/input/2020mltermprojectbovw/train_csv_v2/butterfly/image_0023.csv\n",
            "/kaggle/input/2020mltermprojectbovw/train_csv_v2/butterfly/image_0012.csv\n",
            "/kaggle/input/2020mltermprojectbovw/train_csv_v2/butterfly/image_0022.csv\n",
            "/kaggle/input/2020mltermprojectbovw/train_csv_v2/butterfly/image_0077.csv\n",
            "/kaggle/input/2020mltermprojectbovw/train_csv_v2/butterfly/image_0043.csv\n",
            "/kaggle/input/2020mltermprojectbovw/train_csv_v2/butterfly/image_0006.csv\n",
            "/kaggle/input/2020mltermprojectbovw/train_csv_v2/butterfly/image_0059.csv\n",
            "/kaggle/input/2020mltermprojectbovw/train_csv_v2/butterfly/image_0019.csv\n",
            "/kaggle/input/2020mltermprojectbovw/train_csv_v2/butterfly/image_0074.csv\n",
            "/kaggle/input/2020mltermprojectbovw/train_csv_v2/butterfly/image_0007.csv\n",
            "/kaggle/input/2020mltermprojectbovw/train_csv_v2/butterfly/image_0087.csv\n",
            "/kaggle/input/2020mltermprojectbovw/train_csv_v2/butterfly/image_0091.csv\n",
            "/kaggle/input/2020mltermprojectbovw/train_csv_v2/butterfly/image_0039.csv\n",
            "/kaggle/input/2020mltermprojectbovw/train_csv_v2/airplanes/image_0526.csv\n",
            "/kaggle/input/2020mltermprojectbovw/train_csv_v2/airplanes/image_0643.csv\n",
            "/kaggle/input/2020mltermprojectbovw/train_csv_v2/airplanes/image_0362.csv\n",
            "/kaggle/input/2020mltermprojectbovw/train_csv_v2/airplanes/image_0446.csv\n",
            "/kaggle/input/2020mltermprojectbovw/train_csv_v2/airplanes/image_0184.csv\n",
            "/kaggle/input/2020mltermprojectbovw/train_csv_v2/airplanes/image_0235.csv\n",
            "/kaggle/input/2020mltermprojectbovw/train_csv_v2/airplanes/image_0770.csv\n",
            "/kaggle/input/2020mltermprojectbovw/train_csv_v2/airplanes/image_0293.csv\n",
            "/kaggle/input/2020mltermprojectbovw/train_csv_v2/airplanes/image_0612.csv\n",
            "/kaggle/input/2020mltermprojectbovw/train_csv_v2/airplanes/image_0220.csv\n",
            "/kaggle/input/2020mltermprojectbovw/train_csv_v2/airplanes/image_0758.csv\n",
            "/kaggle/input/2020mltermprojectbovw/train_csv_v2/airplanes/image_0784.csv\n",
            "/kaggle/input/2020mltermprojectbovw/train_csv_v2/airplanes/image_0228.csv\n",
            "/kaggle/input/2020mltermprojectbovw/train_csv_v2/airplanes/image_0004.csv\n",
            "/kaggle/input/2020mltermprojectbovw/train_csv_v2/airplanes/image_0048.csv\n",
            "/kaggle/input/2020mltermprojectbovw/train_csv_v2/airplanes/image_0735.csv\n",
            "/kaggle/input/2020mltermprojectbovw/train_csv_v2/airplanes/image_0301.csv\n",
            "/kaggle/input/2020mltermprojectbovw/train_csv_v2/airplanes/image_0346.csv\n",
            "/kaggle/input/2020mltermprojectbovw/train_csv_v2/airplanes/image_0395.csv\n",
            "/kaggle/input/2020mltermprojectbovw/train_csv_v2/airplanes/image_0648.csv\n",
            "/kaggle/input/2020mltermprojectbovw/train_csv_v2/airplanes/image_0323.csv\n",
            "/kaggle/input/2020mltermprojectbovw/train_csv_v2/airplanes/image_0454.csv\n",
            "/kaggle/input/2020mltermprojectbovw/train_csv_v2/airplanes/image_0380.csv\n",
            "/kaggle/input/2020mltermprojectbovw/train_csv_v2/airplanes/image_0343.csv\n",
            "/kaggle/input/2020mltermprojectbovw/train_csv_v2/airplanes/image_0483.csv\n",
            "/kaggle/input/2020mltermprojectbovw/train_csv_v2/airplanes/image_0655.csv\n",
            "/kaggle/input/2020mltermprojectbovw/train_csv_v2/airplanes/image_0513.csv\n",
            "/kaggle/input/2020mltermprojectbovw/train_csv_v2/airplanes/image_0590.csv\n",
            "/kaggle/input/2020mltermprojectbovw/train_csv_v2/airplanes/image_0030.csv\n",
            "/kaggle/input/2020mltermprojectbovw/train_csv_v2/airplanes/image_0416.csv\n",
            "/kaggle/input/2020mltermprojectbovw/train_csv_v2/ibis/image_0003.csv\n",
            "/kaggle/input/2020mltermprojectbovw/train_csv_v2/ibis/image_0055.csv\n",
            "/kaggle/input/2020mltermprojectbovw/train_csv_v2/ibis/image_0068.csv\n",
            "/kaggle/input/2020mltermprojectbovw/train_csv_v2/ibis/image_0060.csv\n",
            "/kaggle/input/2020mltermprojectbovw/train_csv_v2/ibis/image_0001.csv\n",
            "/kaggle/input/2020mltermprojectbovw/train_csv_v2/ibis/image_0025.csv\n",
            "/kaggle/input/2020mltermprojectbovw/train_csv_v2/ibis/image_0069.csv\n",
            "/kaggle/input/2020mltermprojectbovw/train_csv_v2/ibis/image_0049.csv\n",
            "/kaggle/input/2020mltermprojectbovw/train_csv_v2/ibis/image_0063.csv\n",
            "/kaggle/input/2020mltermprojectbovw/train_csv_v2/ibis/image_0031.csv\n",
            "/kaggle/input/2020mltermprojectbovw/train_csv_v2/ibis/image_0028.csv\n",
            "/kaggle/input/2020mltermprojectbovw/train_csv_v2/ibis/image_0042.csv\n",
            "/kaggle/input/2020mltermprojectbovw/train_csv_v2/ibis/image_0014.csv\n",
            "/kaggle/input/2020mltermprojectbovw/train_csv_v2/ibis/image_0076.csv\n",
            "/kaggle/input/2020mltermprojectbovw/train_csv_v2/ibis/image_0018.csv\n",
            "/kaggle/input/2020mltermprojectbovw/train_csv_v2/ibis/image_0044.csv\n",
            "/kaggle/input/2020mltermprojectbovw/train_csv_v2/ibis/image_0048.csv\n",
            "/kaggle/input/2020mltermprojectbovw/train_csv_v2/ibis/image_0029.csv\n",
            "/kaggle/input/2020mltermprojectbovw/train_csv_v2/ibis/image_0009.csv\n",
            "/kaggle/input/2020mltermprojectbovw/train_csv_v2/ibis/image_0065.csv\n",
            "/kaggle/input/2020mltermprojectbovw/train_csv_v2/ibis/image_0021.csv\n",
            "/kaggle/input/2020mltermprojectbovw/train_csv_v2/ibis/image_0023.csv\n",
            "/kaggle/input/2020mltermprojectbovw/train_csv_v2/ibis/image_0052.csv\n",
            "/kaggle/input/2020mltermprojectbovw/train_csv_v2/ibis/image_0077.csv\n",
            "/kaggle/input/2020mltermprojectbovw/train_csv_v2/ibis/image_0038.csv\n",
            "/kaggle/input/2020mltermprojectbovw/train_csv_v2/ibis/image_0019.csv\n",
            "/kaggle/input/2020mltermprojectbovw/train_csv_v2/ibis/image_0062.csv\n",
            "/kaggle/input/2020mltermprojectbovw/train_csv_v2/ibis/image_0045.csv\n",
            "/kaggle/input/2020mltermprojectbovw/train_csv_v2/ibis/image_0030.csv\n",
            "/kaggle/input/2020mltermprojectbovw/train_csv_v2/ibis/image_0039.csv\n",
            "/kaggle/input/2020mltermprojectbovw/train_csv_v2/lobster/image_0003.csv\n",
            "/kaggle/input/2020mltermprojectbovw/train_csv_v2/lobster/image_0024.csv\n",
            "/kaggle/input/2020mltermprojectbovw/train_csv_v2/lobster/image_0001.csv\n",
            "/kaggle/input/2020mltermprojectbovw/train_csv_v2/lobster/image_0025.csv\n",
            "/kaggle/input/2020mltermprojectbovw/train_csv_v2/lobster/image_0036.csv\n",
            "/kaggle/input/2020mltermprojectbovw/train_csv_v2/lobster/image_0015.csv\n",
            "/kaggle/input/2020mltermprojectbovw/train_csv_v2/lobster/image_0034.csv\n",
            "/kaggle/input/2020mltermprojectbovw/train_csv_v2/lobster/image_0005.csv\n",
            "/kaggle/input/2020mltermprojectbovw/train_csv_v2/lobster/image_0020.csv\n",
            "/kaggle/input/2020mltermprojectbovw/train_csv_v2/lobster/image_0031.csv\n",
            "/kaggle/input/2020mltermprojectbovw/train_csv_v2/lobster/image_0014.csv\n",
            "/kaggle/input/2020mltermprojectbovw/train_csv_v2/lobster/image_0004.csv\n",
            "/kaggle/input/2020mltermprojectbovw/train_csv_v2/lobster/image_0029.csv\n",
            "/kaggle/input/2020mltermprojectbovw/train_csv_v2/lobster/image_0016.csv\n",
            "/kaggle/input/2020mltermprojectbovw/train_csv_v2/lobster/image_0009.csv\n",
            "/kaggle/input/2020mltermprojectbovw/train_csv_v2/lobster/image_0021.csv\n",
            "/kaggle/input/2020mltermprojectbovw/train_csv_v2/lobster/image_0041.csv\n",
            "/kaggle/input/2020mltermprojectbovw/train_csv_v2/lobster/image_0023.csv\n",
            "/kaggle/input/2020mltermprojectbovw/train_csv_v2/lobster/image_0002.csv\n",
            "/kaggle/input/2020mltermprojectbovw/train_csv_v2/lobster/image_0022.csv\n",
            "/kaggle/input/2020mltermprojectbovw/train_csv_v2/lobster/image_0013.csv\n",
            "/kaggle/input/2020mltermprojectbovw/train_csv_v2/lobster/image_0038.csv\n",
            "/kaggle/input/2020mltermprojectbovw/train_csv_v2/lobster/image_0027.csv\n",
            "/kaggle/input/2020mltermprojectbovw/train_csv_v2/lobster/image_0032.csv\n",
            "/kaggle/input/2020mltermprojectbovw/train_csv_v2/lobster/image_0033.csv\n",
            "/kaggle/input/2020mltermprojectbovw/train_csv_v2/lobster/image_0019.csv\n",
            "/kaggle/input/2020mltermprojectbovw/train_csv_v2/lobster/image_0035.csv\n",
            "/kaggle/input/2020mltermprojectbovw/train_csv_v2/lobster/image_0010.csv\n",
            "/kaggle/input/2020mltermprojectbovw/train_csv_v2/lobster/image_0007.csv\n",
            "/kaggle/input/2020mltermprojectbovw/train_csv_v2/lobster/image_0040.csv\n",
            "/kaggle/input/2020mltermprojectbovw/train_csv_v2/buddha/image_0073.csv\n",
            "/kaggle/input/2020mltermprojectbovw/train_csv_v2/buddha/image_0055.csv\n",
            "/kaggle/input/2020mltermprojectbovw/train_csv_v2/buddha/image_0060.csv\n",
            "/kaggle/input/2020mltermprojectbovw/train_csv_v2/buddha/image_0024.csv\n",
            "/kaggle/input/2020mltermprojectbovw/train_csv_v2/buddha/image_0069.csv\n",
            "/kaggle/input/2020mltermprojectbovw/train_csv_v2/buddha/image_0049.csv\n",
            "/kaggle/input/2020mltermprojectbovw/train_csv_v2/buddha/image_0063.csv\n",
            "/kaggle/input/2020mltermprojectbovw/train_csv_v2/buddha/image_0071.csv\n",
            "/kaggle/input/2020mltermprojectbovw/train_csv_v2/buddha/image_0044.csv\n",
            "/kaggle/input/2020mltermprojectbovw/train_csv_v2/buddha/image_0048.csv\n",
            "/kaggle/input/2020mltermprojectbovw/train_csv_v2/buddha/image_0070.csv\n",
            "/kaggle/input/2020mltermprojectbovw/train_csv_v2/buddha/image_0081.csv\n",
            "/kaggle/input/2020mltermprojectbovw/train_csv_v2/buddha/image_0012.csv\n",
            "/kaggle/input/2020mltermprojectbovw/train_csv_v2/buddha/image_0078.csv\n",
            "/kaggle/input/2020mltermprojectbovw/train_csv_v2/buddha/image_0052.csv\n",
            "/kaggle/input/2020mltermprojectbovw/train_csv_v2/buddha/image_0047.csv\n",
            "/kaggle/input/2020mltermprojectbovw/train_csv_v2/buddha/image_0077.csv\n",
            "/kaggle/input/2020mltermprojectbovw/train_csv_v2/buddha/image_0013.csv\n",
            "/kaggle/input/2020mltermprojectbovw/train_csv_v2/buddha/image_0059.csv\n",
            "/kaggle/input/2020mltermprojectbovw/train_csv_v2/buddha/image_0037.csv\n",
            "/kaggle/input/2020mltermprojectbovw/train_csv_v2/buddha/image_0033.csv\n",
            "/kaggle/input/2020mltermprojectbovw/train_csv_v2/buddha/image_0035.csv\n",
            "/kaggle/input/2020mltermprojectbovw/train_csv_v2/buddha/image_0061.csv\n",
            "/kaggle/input/2020mltermprojectbovw/train_csv_v2/buddha/image_0010.csv\n",
            "/kaggle/input/2020mltermprojectbovw/train_csv_v2/buddha/image_0062.csv\n",
            "/kaggle/input/2020mltermprojectbovw/train_csv_v2/buddha/image_0067.csv\n",
            "/kaggle/input/2020mltermprojectbovw/train_csv_v2/buddha/image_0007.csv\n",
            "/kaggle/input/2020mltermprojectbovw/train_csv_v2/buddha/image_0040.csv\n",
            "/kaggle/input/2020mltermprojectbovw/train_csv_v2/buddha/image_0079.csv\n",
            "/kaggle/input/2020mltermprojectbovw/train_csv_v2/buddha/image_0039.csv\n",
            "/kaggle/input/2020mltermprojectbovw/train_csv_v2/yin_yang/image_0055.csv\n",
            "/kaggle/input/2020mltermprojectbovw/train_csv_v2/yin_yang/image_0056.csv\n",
            "/kaggle/input/2020mltermprojectbovw/train_csv_v2/yin_yang/image_0060.csv\n",
            "/kaggle/input/2020mltermprojectbovw/train_csv_v2/yin_yang/image_0024.csv\n",
            "/kaggle/input/2020mltermprojectbovw/train_csv_v2/yin_yang/image_0036.csv\n",
            "/kaggle/input/2020mltermprojectbovw/train_csv_v2/yin_yang/image_0057.csv\n",
            "/kaggle/input/2020mltermprojectbovw/train_csv_v2/yin_yang/image_0034.csv\n",
            "/kaggle/input/2020mltermprojectbovw/train_csv_v2/yin_yang/image_0049.csv\n",
            "/kaggle/input/2020mltermprojectbovw/train_csv_v2/yin_yang/image_0017.csv\n",
            "/kaggle/input/2020mltermprojectbovw/train_csv_v2/yin_yang/image_0020.csv\n",
            "/kaggle/input/2020mltermprojectbovw/train_csv_v2/yin_yang/image_0031.csv\n",
            "/kaggle/input/2020mltermprojectbovw/train_csv_v2/yin_yang/image_0014.csv\n",
            "/kaggle/input/2020mltermprojectbovw/train_csv_v2/yin_yang/image_0054.csv\n",
            "/kaggle/input/2020mltermprojectbovw/train_csv_v2/yin_yang/image_0018.csv\n",
            "/kaggle/input/2020mltermprojectbovw/train_csv_v2/yin_yang/image_0048.csv\n",
            "/kaggle/input/2020mltermprojectbovw/train_csv_v2/yin_yang/image_0029.csv\n",
            "/kaggle/input/2020mltermprojectbovw/train_csv_v2/yin_yang/image_0016.csv\n",
            "/kaggle/input/2020mltermprojectbovw/train_csv_v2/yin_yang/image_0041.csv\n",
            "/kaggle/input/2020mltermprojectbovw/train_csv_v2/yin_yang/image_0053.csv\n",
            "/kaggle/input/2020mltermprojectbovw/train_csv_v2/yin_yang/image_0023.csv\n",
            "/kaggle/input/2020mltermprojectbovw/train_csv_v2/yin_yang/image_0012.csv\n",
            "/kaggle/input/2020mltermprojectbovw/train_csv_v2/yin_yang/image_0052.csv\n",
            "/kaggle/input/2020mltermprojectbovw/train_csv_v2/yin_yang/image_0043.csv\n",
            "/kaggle/input/2020mltermprojectbovw/train_csv_v2/yin_yang/image_0006.csv\n",
            "/kaggle/input/2020mltermprojectbovw/train_csv_v2/yin_yang/image_0035.csv\n",
            "/kaggle/input/2020mltermprojectbovw/train_csv_v2/yin_yang/image_0010.csv\n",
            "/kaggle/input/2020mltermprojectbovw/train_csv_v2/yin_yang/image_0026.csv\n",
            "/kaggle/input/2020mltermprojectbovw/train_csv_v2/yin_yang/image_0030.csv\n",
            "/kaggle/input/2020mltermprojectbovw/train_csv_v2/yin_yang/image_0040.csv\n",
            "/kaggle/input/2020mltermprojectbovw/train_csv_v2/yin_yang/image_0039.csv\n",
            "/kaggle/input/2020mltermprojectbovw/train_csv_v2/hawksbill/image_0073.csv\n",
            "/kaggle/input/2020mltermprojectbovw/train_csv_v2/hawksbill/image_0086.csv\n",
            "/kaggle/input/2020mltermprojectbovw/train_csv_v2/hawksbill/image_0034.csv\n",
            "/kaggle/input/2020mltermprojectbovw/train_csv_v2/hawksbill/image_0069.csv\n",
            "/kaggle/input/2020mltermprojectbovw/train_csv_v2/hawksbill/image_0049.csv\n",
            "/kaggle/input/2020mltermprojectbovw/train_csv_v2/hawksbill/image_0084.csv\n",
            "/kaggle/input/2020mltermprojectbovw/train_csv_v2/hawksbill/image_0075.csv\n",
            "/kaggle/input/2020mltermprojectbovw/train_csv_v2/hawksbill/image_0063.csv\n",
            "/kaggle/input/2020mltermprojectbovw/train_csv_v2/hawksbill/image_0020.csv\n",
            "/kaggle/input/2020mltermprojectbovw/train_csv_v2/hawksbill/image_0071.csv\n",
            "/kaggle/input/2020mltermprojectbovw/train_csv_v2/hawksbill/image_0042.csv\n",
            "/kaggle/input/2020mltermprojectbovw/train_csv_v2/hawksbill/image_0090.csv\n",
            "/kaggle/input/2020mltermprojectbovw/train_csv_v2/hawksbill/image_0099.csv\n",
            "/kaggle/input/2020mltermprojectbovw/train_csv_v2/hawksbill/image_0029.csv\n",
            "/kaggle/input/2020mltermprojectbovw/train_csv_v2/hawksbill/image_0070.csv\n",
            "/kaggle/input/2020mltermprojectbovw/train_csv_v2/hawksbill/image_0046.csv\n",
            "/kaggle/input/2020mltermprojectbovw/train_csv_v2/hawksbill/image_0023.csv\n",
            "/kaggle/input/2020mltermprojectbovw/train_csv_v2/hawksbill/image_0078.csv\n",
            "/kaggle/input/2020mltermprojectbovw/train_csv_v2/hawksbill/image_0052.csv\n",
            "/kaggle/input/2020mltermprojectbovw/train_csv_v2/hawksbill/image_0077.csv\n",
            "/kaggle/input/2020mltermprojectbovw/train_csv_v2/hawksbill/image_0097.csv\n",
            "/kaggle/input/2020mltermprojectbovw/train_csv_v2/hawksbill/image_0011.csv\n",
            "/kaggle/input/2020mltermprojectbovw/train_csv_v2/hawksbill/image_0059.csv\n",
            "/kaggle/input/2020mltermprojectbovw/train_csv_v2/hawksbill/image_0037.csv\n",
            "/kaggle/input/2020mltermprojectbovw/train_csv_v2/hawksbill/image_0019.csv\n",
            "/kaggle/input/2020mltermprojectbovw/train_csv_v2/hawksbill/image_0035.csv\n",
            "/kaggle/input/2020mltermprojectbovw/train_csv_v2/hawksbill/image_0061.csv\n",
            "/kaggle/input/2020mltermprojectbovw/train_csv_v2/hawksbill/image_0067.csv\n",
            "/kaggle/input/2020mltermprojectbovw/train_csv_v2/hawksbill/image_0007.csv\n",
            "/kaggle/input/2020mltermprojectbovw/train_csv_v2/hawksbill/image_0030.csv\n",
            "/kaggle/input/2020mltermprojectbovw/train_csv_v2/helicopter/image_0056.csv\n",
            "/kaggle/input/2020mltermprojectbovw/train_csv_v2/helicopter/image_0025.csv\n",
            "/kaggle/input/2020mltermprojectbovw/train_csv_v2/helicopter/image_0036.csv\n",
            "/kaggle/input/2020mltermprojectbovw/train_csv_v2/helicopter/image_0080.csv\n",
            "/kaggle/input/2020mltermprojectbovw/train_csv_v2/helicopter/image_0058.csv\n",
            "/kaggle/input/2020mltermprojectbovw/train_csv_v2/helicopter/image_0034.csv\n",
            "/kaggle/input/2020mltermprojectbovw/train_csv_v2/helicopter/image_0066.csv\n",
            "/kaggle/input/2020mltermprojectbovw/train_csv_v2/helicopter/image_0085.csv\n",
            "/kaggle/input/2020mltermprojectbovw/train_csv_v2/helicopter/image_0075.csv\n",
            "/kaggle/input/2020mltermprojectbovw/train_csv_v2/helicopter/image_0020.csv\n",
            "/kaggle/input/2020mltermprojectbovw/train_csv_v2/helicopter/image_0028.csv\n",
            "/kaggle/input/2020mltermprojectbovw/train_csv_v2/helicopter/image_0054.csv\n",
            "/kaggle/input/2020mltermprojectbovw/train_csv_v2/helicopter/image_0029.csv\n",
            "/kaggle/input/2020mltermprojectbovw/train_csv_v2/helicopter/image_0016.csv\n",
            "/kaggle/input/2020mltermprojectbovw/train_csv_v2/helicopter/image_0041.csv\n",
            "/kaggle/input/2020mltermprojectbovw/train_csv_v2/helicopter/image_0046.csv\n",
            "/kaggle/input/2020mltermprojectbovw/train_csv_v2/helicopter/image_0052.csv\n",
            "/kaggle/input/2020mltermprojectbovw/train_csv_v2/helicopter/image_0022.csv\n",
            "/kaggle/input/2020mltermprojectbovw/train_csv_v2/helicopter/image_0047.csv\n",
            "/kaggle/input/2020mltermprojectbovw/train_csv_v2/helicopter/image_0013.csv\n",
            "/kaggle/input/2020mltermprojectbovw/train_csv_v2/helicopter/image_0088.csv\n",
            "/kaggle/input/2020mltermprojectbovw/train_csv_v2/helicopter/image_0072.csv\n",
            "/kaggle/input/2020mltermprojectbovw/train_csv_v2/helicopter/image_0059.csv\n",
            "/kaggle/input/2020mltermprojectbovw/train_csv_v2/helicopter/image_0033.csv\n",
            "/kaggle/input/2020mltermprojectbovw/train_csv_v2/helicopter/image_0035.csv\n",
            "/kaggle/input/2020mltermprojectbovw/train_csv_v2/helicopter/image_0061.csv\n",
            "/kaggle/input/2020mltermprojectbovw/train_csv_v2/helicopter/image_0010.csv\n",
            "/kaggle/input/2020mltermprojectbovw/train_csv_v2/helicopter/image_0050.csv\n",
            "/kaggle/input/2020mltermprojectbovw/train_csv_v2/helicopter/image_0045.csv\n",
            "/kaggle/input/2020mltermprojectbovw/train_csv_v2/helicopter/image_0083.csv\n",
            "/kaggle/input/2020mltermprojectbovw/train_csv_v2/pigeon/image_0003.csv\n",
            "/kaggle/input/2020mltermprojectbovw/train_csv_v2/pigeon/image_0008.csv\n",
            "/kaggle/input/2020mltermprojectbovw/train_csv_v2/pigeon/image_0024.csv\n",
            "/kaggle/input/2020mltermprojectbovw/train_csv_v2/pigeon/image_0001.csv\n",
            "/kaggle/input/2020mltermprojectbovw/train_csv_v2/pigeon/image_0025.csv\n",
            "/kaggle/input/2020mltermprojectbovw/train_csv_v2/pigeon/image_0015.csv\n",
            "/kaggle/input/2020mltermprojectbovw/train_csv_v2/pigeon/image_0017.csv\n",
            "/kaggle/input/2020mltermprojectbovw/train_csv_v2/pigeon/image_0005.csv\n",
            "/kaggle/input/2020mltermprojectbovw/train_csv_v2/pigeon/image_0020.csv\n",
            "/kaggle/input/2020mltermprojectbovw/train_csv_v2/pigeon/image_0031.csv\n",
            "/kaggle/input/2020mltermprojectbovw/train_csv_v2/pigeon/image_0028.csv\n",
            "/kaggle/input/2020mltermprojectbovw/train_csv_v2/pigeon/image_0042.csv\n",
            "/kaggle/input/2020mltermprojectbovw/train_csv_v2/pigeon/image_0014.csv\n",
            "/kaggle/input/2020mltermprojectbovw/train_csv_v2/pigeon/image_0018.csv\n",
            "/kaggle/input/2020mltermprojectbovw/train_csv_v2/pigeon/image_0044.csv\n",
            "/kaggle/input/2020mltermprojectbovw/train_csv_v2/pigeon/image_0004.csv\n",
            "/kaggle/input/2020mltermprojectbovw/train_csv_v2/pigeon/image_0016.csv\n",
            "/kaggle/input/2020mltermprojectbovw/train_csv_v2/pigeon/image_0009.csv\n",
            "/kaggle/input/2020mltermprojectbovw/train_csv_v2/pigeon/image_0041.csv\n",
            "/kaggle/input/2020mltermprojectbovw/train_csv_v2/pigeon/image_0023.csv\n",
            "/kaggle/input/2020mltermprojectbovw/train_csv_v2/pigeon/image_0012.csv\n",
            "/kaggle/input/2020mltermprojectbovw/train_csv_v2/pigeon/image_0002.csv\n",
            "/kaggle/input/2020mltermprojectbovw/train_csv_v2/pigeon/image_0013.csv\n",
            "/kaggle/input/2020mltermprojectbovw/train_csv_v2/pigeon/image_0006.csv\n",
            "/kaggle/input/2020mltermprojectbovw/train_csv_v2/pigeon/image_0011.csv\n",
            "/kaggle/input/2020mltermprojectbovw/train_csv_v2/pigeon/image_0033.csv\n",
            "/kaggle/input/2020mltermprojectbovw/train_csv_v2/pigeon/image_0019.csv\n",
            "/kaggle/input/2020mltermprojectbovw/train_csv_v2/pigeon/image_0026.csv\n",
            "/kaggle/input/2020mltermprojectbovw/train_csv_v2/pigeon/image_0045.csv\n",
            "/kaggle/input/2020mltermprojectbovw/train_csv_v2/pigeon/image_0040.csv\n",
            "/kaggle/input/2020mltermprojectbovw/train_csv_v2/snoopy/image_0003.csv\n",
            "/kaggle/input/2020mltermprojectbovw/train_csv_v2/snoopy/image_0008.csv\n",
            "/kaggle/input/2020mltermprojectbovw/train_csv_v2/snoopy/image_0024.csv\n",
            "/kaggle/input/2020mltermprojectbovw/train_csv_v2/snoopy/image_0001.csv\n",
            "/kaggle/input/2020mltermprojectbovw/train_csv_v2/snoopy/image_0015.csv\n",
            "/kaggle/input/2020mltermprojectbovw/train_csv_v2/snoopy/image_0034.csv\n",
            "/kaggle/input/2020mltermprojectbovw/train_csv_v2/snoopy/image_0017.csv\n",
            "/kaggle/input/2020mltermprojectbovw/train_csv_v2/snoopy/image_0005.csv\n",
            "/kaggle/input/2020mltermprojectbovw/train_csv_v2/snoopy/image_0020.csv\n",
            "/kaggle/input/2020mltermprojectbovw/train_csv_v2/snoopy/image_0028.csv\n",
            "/kaggle/input/2020mltermprojectbovw/train_csv_v2/snoopy/image_0014.csv\n",
            "/kaggle/input/2020mltermprojectbovw/train_csv_v2/snoopy/image_0018.csv\n",
            "/kaggle/input/2020mltermprojectbovw/train_csv_v2/snoopy/image_0004.csv\n",
            "/kaggle/input/2020mltermprojectbovw/train_csv_v2/snoopy/image_0029.csv\n",
            "/kaggle/input/2020mltermprojectbovw/train_csv_v2/snoopy/image_0016.csv\n",
            "/kaggle/input/2020mltermprojectbovw/train_csv_v2/snoopy/image_0009.csv\n",
            "/kaggle/input/2020mltermprojectbovw/train_csv_v2/snoopy/image_0021.csv\n",
            "/kaggle/input/2020mltermprojectbovw/train_csv_v2/snoopy/image_0012.csv\n",
            "/kaggle/input/2020mltermprojectbovw/train_csv_v2/snoopy/image_0002.csv\n",
            "/kaggle/input/2020mltermprojectbovw/train_csv_v2/snoopy/image_0022.csv\n",
            "/kaggle/input/2020mltermprojectbovw/train_csv_v2/snoopy/image_0013.csv\n",
            "/kaggle/input/2020mltermprojectbovw/train_csv_v2/snoopy/image_0027.csv\n",
            "/kaggle/input/2020mltermprojectbovw/train_csv_v2/snoopy/image_0032.csv\n",
            "/kaggle/input/2020mltermprojectbovw/train_csv_v2/snoopy/image_0006.csv\n",
            "/kaggle/input/2020mltermprojectbovw/train_csv_v2/snoopy/image_0033.csv\n",
            "/kaggle/input/2020mltermprojectbovw/train_csv_v2/snoopy/image_0019.csv\n",
            "/kaggle/input/2020mltermprojectbovw/train_csv_v2/snoopy/image_0035.csv\n",
            "/kaggle/input/2020mltermprojectbovw/train_csv_v2/snoopy/image_0026.csv\n",
            "/kaggle/input/2020mltermprojectbovw/train_csv_v2/snoopy/image_0007.csv\n",
            "/kaggle/input/2020mltermprojectbovw/train_csv_v2/snoopy/image_0030.csv\n",
            "/kaggle/input/2020mltermprojectbovw/train_csv_v2/Leopards/image_0073.csv\n",
            "/kaggle/input/2020mltermprojectbovw/train_csv_v2/Leopards/image_0136.csv\n",
            "/kaggle/input/2020mltermprojectbovw/train_csv_v2/Leopards/image_0008.csv\n",
            "/kaggle/input/2020mltermprojectbovw/train_csv_v2/Leopards/image_0080.csv\n",
            "/kaggle/input/2020mltermprojectbovw/train_csv_v2/Leopards/image_0127.csv\n",
            "/kaggle/input/2020mltermprojectbovw/train_csv_v2/Leopards/image_0185.csv\n",
            "/kaggle/input/2020mltermprojectbovw/train_csv_v2/Leopards/image_0199.csv\n",
            "/kaggle/input/2020mltermprojectbovw/train_csv_v2/Leopards/image_0063.csv\n",
            "/kaggle/input/2020mltermprojectbovw/train_csv_v2/Leopards/image_0031.csv\n",
            "/kaggle/input/2020mltermprojectbovw/train_csv_v2/Leopards/image_0028.csv\n",
            "/kaggle/input/2020mltermprojectbovw/train_csv_v2/Leopards/image_0196.csv\n",
            "/kaggle/input/2020mltermprojectbovw/train_csv_v2/Leopards/image_0018.csv\n",
            "/kaggle/input/2020mltermprojectbovw/train_csv_v2/Leopards/image_0096.csv\n",
            "/kaggle/input/2020mltermprojectbovw/train_csv_v2/Leopards/image_0146.csv\n",
            "/kaggle/input/2020mltermprojectbovw/train_csv_v2/Leopards/image_0065.csv\n",
            "/kaggle/input/2020mltermprojectbovw/train_csv_v2/Leopards/image_0041.csv\n",
            "/kaggle/input/2020mltermprojectbovw/train_csv_v2/Leopards/image_0144.csv\n",
            "/kaggle/input/2020mltermprojectbovw/train_csv_v2/Leopards/image_0023.csv\n",
            "/kaggle/input/2020mltermprojectbovw/train_csv_v2/Leopards/image_0120.csv\n",
            "/kaggle/input/2020mltermprojectbovw/train_csv_v2/Leopards/image_0162.csv\n",
            "/kaggle/input/2020mltermprojectbovw/train_csv_v2/Leopards/image_0077.csv\n",
            "/kaggle/input/2020mltermprojectbovw/train_csv_v2/Leopards/image_0171.csv\n",
            "/kaggle/input/2020mltermprojectbovw/train_csv_v2/Leopards/image_0074.csv\n",
            "/kaggle/input/2020mltermprojectbovw/train_csv_v2/Leopards/image_0194.csv\n",
            "/kaggle/input/2020mltermprojectbovw/train_csv_v2/Leopards/image_0026.csv\n",
            "/kaggle/input/2020mltermprojectbovw/train_csv_v2/Leopards/image_0147.csv\n",
            "/kaggle/input/2020mltermprojectbovw/train_csv_v2/Leopards/image_0175.csv\n",
            "/kaggle/input/2020mltermprojectbovw/train_csv_v2/Leopards/image_0040.csv\n",
            "/kaggle/input/2020mltermprojectbovw/train_csv_v2/Leopards/image_0079.csv\n",
            "/kaggle/input/2020mltermprojectbovw/train_csv_v2/Leopards/image_0157.csv\n",
            "/kaggle/input/2020mltermprojectbovw/train_csv_v2/pagoda/image_0003.csv\n",
            "/kaggle/input/2020mltermprojectbovw/train_csv_v2/pagoda/image_0008.csv\n",
            "/kaggle/input/2020mltermprojectbovw/train_csv_v2/pagoda/image_0024.csv\n",
            "/kaggle/input/2020mltermprojectbovw/train_csv_v2/pagoda/image_0025.csv\n",
            "/kaggle/input/2020mltermprojectbovw/train_csv_v2/pagoda/image_0036.csv\n",
            "/kaggle/input/2020mltermprojectbovw/train_csv_v2/pagoda/image_0015.csv\n",
            "/kaggle/input/2020mltermprojectbovw/train_csv_v2/pagoda/image_0031.csv\n",
            "/kaggle/input/2020mltermprojectbovw/train_csv_v2/pagoda/image_0014.csv\n",
            "/kaggle/input/2020mltermprojectbovw/train_csv_v2/pagoda/image_0018.csv\n",
            "/kaggle/input/2020mltermprojectbovw/train_csv_v2/pagoda/image_0044.csv\n",
            "/kaggle/input/2020mltermprojectbovw/train_csv_v2/pagoda/image_0004.csv\n",
            "/kaggle/input/2020mltermprojectbovw/train_csv_v2/pagoda/image_0029.csv\n",
            "/kaggle/input/2020mltermprojectbovw/train_csv_v2/pagoda/image_0016.csv\n",
            "/kaggle/input/2020mltermprojectbovw/train_csv_v2/pagoda/image_0009.csv\n",
            "/kaggle/input/2020mltermprojectbovw/train_csv_v2/pagoda/image_0021.csv\n",
            "/kaggle/input/2020mltermprojectbovw/train_csv_v2/pagoda/image_0046.csv\n",
            "/kaggle/input/2020mltermprojectbovw/train_csv_v2/pagoda/image_0023.csv\n",
            "/kaggle/input/2020mltermprojectbovw/train_csv_v2/pagoda/image_0012.csv\n",
            "/kaggle/input/2020mltermprojectbovw/train_csv_v2/pagoda/image_0002.csv\n",
            "/kaggle/input/2020mltermprojectbovw/train_csv_v2/pagoda/image_0022.csv\n",
            "/kaggle/input/2020mltermprojectbovw/train_csv_v2/pagoda/image_0013.csv\n",
            "/kaggle/input/2020mltermprojectbovw/train_csv_v2/pagoda/image_0006.csv\n",
            "/kaggle/input/2020mltermprojectbovw/train_csv_v2/pagoda/image_0011.csv\n",
            "/kaggle/input/2020mltermprojectbovw/train_csv_v2/pagoda/image_0037.csv\n",
            "/kaggle/input/2020mltermprojectbovw/train_csv_v2/pagoda/image_0035.csv\n",
            "/kaggle/input/2020mltermprojectbovw/train_csv_v2/pagoda/image_0026.csv\n",
            "/kaggle/input/2020mltermprojectbovw/train_csv_v2/pagoda/image_0007.csv\n",
            "/kaggle/input/2020mltermprojectbovw/train_csv_v2/pagoda/image_0045.csv\n",
            "/kaggle/input/2020mltermprojectbovw/train_csv_v2/pagoda/image_0040.csv\n",
            "/kaggle/input/2020mltermprojectbovw/train_csv_v2/pagoda/image_0039.csv\n",
            "/kaggle/input/2020mltermprojectbovw/train_csv_v2/Faces/image_0003.csv\n",
            "/kaggle/input/2020mltermprojectbovw/train_csv_v2/Faces/image_0435.csv\n",
            "/kaggle/input/2020mltermprojectbovw/train_csv_v2/Faces/image_0008.csv\n",
            "/kaggle/input/2020mltermprojectbovw/train_csv_v2/Faces/image_0273.csv\n",
            "/kaggle/input/2020mltermprojectbovw/train_csv_v2/Faces/image_0193.csv\n",
            "/kaggle/input/2020mltermprojectbovw/train_csv_v2/Faces/image_0375.csv\n",
            "/kaggle/input/2020mltermprojectbovw/train_csv_v2/Faces/image_0277.csv\n",
            "/kaggle/input/2020mltermprojectbovw/train_csv_v2/Faces/image_0391.csv\n",
            "/kaggle/input/2020mltermprojectbovw/train_csv_v2/Faces/image_0351.csv\n",
            "/kaggle/input/2020mltermprojectbovw/train_csv_v2/Faces/image_0398.csv\n",
            "/kaggle/input/2020mltermprojectbovw/train_csv_v2/Faces/image_0219.csv\n",
            "/kaggle/input/2020mltermprojectbovw/train_csv_v2/Faces/image_0181.csv\n",
            "/kaggle/input/2020mltermprojectbovw/train_csv_v2/Faces/image_0346.csv\n",
            "/kaggle/input/2020mltermprojectbovw/train_csv_v2/Faces/image_0187.csv\n",
            "/kaggle/input/2020mltermprojectbovw/train_csv_v2/Faces/image_0012.csv\n",
            "/kaggle/input/2020mltermprojectbovw/train_csv_v2/Faces/image_0237.csv\n",
            "/kaggle/input/2020mltermprojectbovw/train_csv_v2/Faces/image_0138.csv\n",
            "/kaggle/input/2020mltermprojectbovw/train_csv_v2/Faces/image_0310.csv\n",
            "/kaggle/input/2020mltermprojectbovw/train_csv_v2/Faces/image_0162.csv\n",
            "/kaggle/input/2020mltermprojectbovw/train_csv_v2/Faces/image_0395.csv\n",
            "/kaggle/input/2020mltermprojectbovw/train_csv_v2/Faces/image_0038.csv\n",
            "/kaggle/input/2020mltermprojectbovw/train_csv_v2/Faces/image_0088.csv\n",
            "/kaggle/input/2020mltermprojectbovw/train_csv_v2/Faces/image_0216.csv\n",
            "/kaggle/input/2020mltermprojectbovw/train_csv_v2/Faces/image_0059.csv\n",
            "/kaggle/input/2020mltermprojectbovw/train_csv_v2/Faces/image_0317.csv\n",
            "/kaggle/input/2020mltermprojectbovw/train_csv_v2/Faces/image_0019.csv\n",
            "/kaggle/input/2020mltermprojectbovw/train_csv_v2/Faces/image_0130.csv\n",
            "/kaggle/input/2020mltermprojectbovw/train_csv_v2/Faces/image_0050.csv\n",
            "/kaggle/input/2020mltermprojectbovw/train_csv_v2/Faces/image_0074.csv\n",
            "/kaggle/input/2020mltermprojectbovw/train_csv_v2/Faces/image_0026.csv\n",
            "/kaggle/input/2020mltermprojectbovw/train_csv_v2/cup/image_0056.csv\n",
            "/kaggle/input/2020mltermprojectbovw/train_csv_v2/cup/image_0008.csv\n",
            "/kaggle/input/2020mltermprojectbovw/train_csv_v2/cup/image_0001.csv\n",
            "/kaggle/input/2020mltermprojectbovw/train_csv_v2/cup/image_0036.csv\n",
            "/kaggle/input/2020mltermprojectbovw/train_csv_v2/cup/image_0057.csv\n",
            "/kaggle/input/2020mltermprojectbovw/train_csv_v2/cup/image_0034.csv\n",
            "/kaggle/input/2020mltermprojectbovw/train_csv_v2/cup/image_0031.csv\n",
            "/kaggle/input/2020mltermprojectbovw/train_csv_v2/cup/image_0014.csv\n",
            "/kaggle/input/2020mltermprojectbovw/train_csv_v2/cup/image_0054.csv\n",
            "/kaggle/input/2020mltermprojectbovw/train_csv_v2/cup/image_0018.csv\n",
            "/kaggle/input/2020mltermprojectbovw/train_csv_v2/cup/image_0044.csv\n",
            "/kaggle/input/2020mltermprojectbovw/train_csv_v2/cup/image_0029.csv\n",
            "/kaggle/input/2020mltermprojectbovw/train_csv_v2/cup/image_0016.csv\n",
            "/kaggle/input/2020mltermprojectbovw/train_csv_v2/cup/image_0009.csv\n",
            "/kaggle/input/2020mltermprojectbovw/train_csv_v2/cup/image_0041.csv\n",
            "/kaggle/input/2020mltermprojectbovw/train_csv_v2/cup/image_0046.csv\n",
            "/kaggle/input/2020mltermprojectbovw/train_csv_v2/cup/image_0053.csv\n",
            "/kaggle/input/2020mltermprojectbovw/train_csv_v2/cup/image_0022.csv\n",
            "/kaggle/input/2020mltermprojectbovw/train_csv_v2/cup/image_0047.csv\n",
            "/kaggle/input/2020mltermprojectbovw/train_csv_v2/cup/image_0013.csv\n",
            "/kaggle/input/2020mltermprojectbovw/train_csv_v2/cup/image_0027.csv\n",
            "/kaggle/input/2020mltermprojectbovw/train_csv_v2/cup/image_0032.csv\n",
            "/kaggle/input/2020mltermprojectbovw/train_csv_v2/cup/image_0006.csv\n",
            "/kaggle/input/2020mltermprojectbovw/train_csv_v2/cup/image_0011.csv\n",
            "/kaggle/input/2020mltermprojectbovw/train_csv_v2/cup/image_0051.csv\n",
            "/kaggle/input/2020mltermprojectbovw/train_csv_v2/cup/image_0019.csv\n",
            "/kaggle/input/2020mltermprojectbovw/train_csv_v2/cup/image_0035.csv\n",
            "/kaggle/input/2020mltermprojectbovw/train_csv_v2/cup/image_0030.csv\n",
            "/kaggle/input/2020mltermprojectbovw/train_csv_v2/cup/image_0040.csv\n",
            "/kaggle/input/2020mltermprojectbovw/train_csv_v2/cup/image_0039.csv\n",
            "/kaggle/input/2020mltermprojectbovw/train_csv_v2/Faces_easy/image_0098.csv\n",
            "/kaggle/input/2020mltermprojectbovw/train_csv_v2/Faces_easy/image_0182.csv\n",
            "/kaggle/input/2020mltermprojectbovw/train_csv_v2/Faces_easy/image_0104.csv\n",
            "/kaggle/input/2020mltermprojectbovw/train_csv_v2/Faces_easy/image_0271.csv\n",
            "/kaggle/input/2020mltermprojectbovw/train_csv_v2/Faces_easy/image_0086.csv\n",
            "/kaggle/input/2020mltermprojectbovw/train_csv_v2/Faces_easy/image_0332.csv\n",
            "/kaggle/input/2020mltermprojectbovw/train_csv_v2/Faces_easy/image_0302.csv\n",
            "/kaggle/input/2020mltermprojectbovw/train_csv_v2/Faces_easy/image_0183.csv\n",
            "/kaggle/input/2020mltermprojectbovw/train_csv_v2/Faces_easy/image_0378.csv\n",
            "/kaggle/input/2020mltermprojectbovw/train_csv_v2/Faces_easy/image_0102.csv\n",
            "/kaggle/input/2020mltermprojectbovw/train_csv_v2/Faces_easy/image_0221.csv\n",
            "/kaggle/input/2020mltermprojectbovw/train_csv_v2/Faces_easy/image_0307.csv\n",
            "/kaggle/input/2020mltermprojectbovw/train_csv_v2/Faces_easy/image_0065.csv\n",
            "/kaggle/input/2020mltermprojectbovw/train_csv_v2/Faces_easy/image_0270.csv\n",
            "/kaggle/input/2020mltermprojectbovw/train_csv_v2/Faces_easy/image_0180.csv\n",
            "/kaggle/input/2020mltermprojectbovw/train_csv_v2/Faces_easy/image_0129.csv\n",
            "/kaggle/input/2020mltermprojectbovw/train_csv_v2/Faces_easy/image_0164.csv\n",
            "/kaggle/input/2020mltermprojectbovw/train_csv_v2/Faces_easy/image_0162.csv\n",
            "/kaggle/input/2020mltermprojectbovw/train_csv_v2/Faces_easy/image_0241.csv\n",
            "/kaggle/input/2020mltermprojectbovw/train_csv_v2/Faces_easy/image_0043.csv\n",
            "/kaggle/input/2020mltermprojectbovw/train_csv_v2/Faces_easy/image_0381.csv\n",
            "/kaggle/input/2020mltermprojectbovw/train_csv_v2/Faces_easy/image_0275.csv\n",
            "/kaggle/input/2020mltermprojectbovw/train_csv_v2/Faces_easy/image_0335.csv\n",
            "/kaggle/input/2020mltermprojectbovw/train_csv_v2/Faces_easy/image_0323.csv\n",
            "/kaggle/input/2020mltermprojectbovw/train_csv_v2/Faces_easy/image_0382.csv\n",
            "/kaggle/input/2020mltermprojectbovw/train_csv_v2/Faces_easy/image_0349.csv\n",
            "/kaggle/input/2020mltermprojectbovw/train_csv_v2/Faces_easy/image_0361.csv\n",
            "/kaggle/input/2020mltermprojectbovw/train_csv_v2/Faces_easy/image_0074.csv\n",
            "/kaggle/input/2020mltermprojectbovw/train_csv_v2/Faces_easy/image_0174.csv\n",
            "/kaggle/input/2020mltermprojectbovw/train_csv_v2/Faces_easy/image_0300.csv\n",
            "/kaggle/input/2020mltermprojectbovw/train_csv_v2/inline_skate/image_0003.csv\n",
            "/kaggle/input/2020mltermprojectbovw/train_csv_v2/inline_skate/image_0008.csv\n",
            "/kaggle/input/2020mltermprojectbovw/train_csv_v2/inline_skate/image_0024.csv\n",
            "/kaggle/input/2020mltermprojectbovw/train_csv_v2/inline_skate/image_0001.csv\n",
            "/kaggle/input/2020mltermprojectbovw/train_csv_v2/inline_skate/image_0025.csv\n",
            "/kaggle/input/2020mltermprojectbovw/train_csv_v2/inline_skate/image_0015.csv\n",
            "/kaggle/input/2020mltermprojectbovw/train_csv_v2/inline_skate/image_0017.csv\n",
            "/kaggle/input/2020mltermprojectbovw/train_csv_v2/inline_skate/image_0005.csv\n",
            "/kaggle/input/2020mltermprojectbovw/train_csv_v2/inline_skate/image_0020.csv\n",
            "/kaggle/input/2020mltermprojectbovw/train_csv_v2/inline_skate/image_0031.csv\n",
            "/kaggle/input/2020mltermprojectbovw/train_csv_v2/inline_skate/image_0028.csv\n",
            "/kaggle/input/2020mltermprojectbovw/train_csv_v2/inline_skate/image_0014.csv\n",
            "/kaggle/input/2020mltermprojectbovw/train_csv_v2/inline_skate/image_0018.csv\n",
            "/kaggle/input/2020mltermprojectbovw/train_csv_v2/inline_skate/image_0029.csv\n",
            "/kaggle/input/2020mltermprojectbovw/train_csv_v2/inline_skate/image_0016.csv\n",
            "/kaggle/input/2020mltermprojectbovw/train_csv_v2/inline_skate/image_0009.csv\n",
            "/kaggle/input/2020mltermprojectbovw/train_csv_v2/inline_skate/image_0021.csv\n",
            "/kaggle/input/2020mltermprojectbovw/train_csv_v2/inline_skate/image_0023.csv\n",
            "/kaggle/input/2020mltermprojectbovw/train_csv_v2/inline_skate/image_0012.csv\n",
            "/kaggle/input/2020mltermprojectbovw/train_csv_v2/inline_skate/image_0002.csv\n",
            "/kaggle/input/2020mltermprojectbovw/train_csv_v2/inline_skate/image_0022.csv\n",
            "/kaggle/input/2020mltermprojectbovw/train_csv_v2/inline_skate/image_0013.csv\n",
            "/kaggle/input/2020mltermprojectbovw/train_csv_v2/inline_skate/image_0027.csv\n",
            "/kaggle/input/2020mltermprojectbovw/train_csv_v2/inline_skate/image_0006.csv\n",
            "/kaggle/input/2020mltermprojectbovw/train_csv_v2/inline_skate/image_0011.csv\n",
            "/kaggle/input/2020mltermprojectbovw/train_csv_v2/inline_skate/image_0019.csv\n",
            "/kaggle/input/2020mltermprojectbovw/train_csv_v2/inline_skate/image_0010.csv\n",
            "/kaggle/input/2020mltermprojectbovw/train_csv_v2/inline_skate/image_0026.csv\n",
            "/kaggle/input/2020mltermprojectbovw/train_csv_v2/inline_skate/image_0007.csv\n",
            "/kaggle/input/2020mltermprojectbovw/train_csv_v2/inline_skate/image_0030.csv\n",
            "/kaggle/input/2020mltermprojectbovw/train_csv_v2/wheelchair/image_0003.csv\n",
            "/kaggle/input/2020mltermprojectbovw/train_csv_v2/wheelchair/image_0024.csv\n",
            "/kaggle/input/2020mltermprojectbovw/train_csv_v2/wheelchair/image_0001.csv\n",
            "/kaggle/input/2020mltermprojectbovw/train_csv_v2/wheelchair/image_0036.csv\n",
            "/kaggle/input/2020mltermprojectbovw/train_csv_v2/wheelchair/image_0058.csv\n",
            "/kaggle/input/2020mltermprojectbovw/train_csv_v2/wheelchair/image_0015.csv\n",
            "/kaggle/input/2020mltermprojectbovw/train_csv_v2/wheelchair/image_0034.csv\n",
            "/kaggle/input/2020mltermprojectbovw/train_csv_v2/wheelchair/image_0031.csv\n",
            "/kaggle/input/2020mltermprojectbovw/train_csv_v2/wheelchair/image_0028.csv\n",
            "/kaggle/input/2020mltermprojectbovw/train_csv_v2/wheelchair/image_0042.csv\n",
            "/kaggle/input/2020mltermprojectbovw/train_csv_v2/wheelchair/image_0014.csv\n",
            "/kaggle/input/2020mltermprojectbovw/train_csv_v2/wheelchair/image_0054.csv\n",
            "/kaggle/input/2020mltermprojectbovw/train_csv_v2/wheelchair/image_0018.csv\n",
            "/kaggle/input/2020mltermprojectbovw/train_csv_v2/wheelchair/image_0044.csv\n",
            "/kaggle/input/2020mltermprojectbovw/train_csv_v2/wheelchair/image_0004.csv\n",
            "/kaggle/input/2020mltermprojectbovw/train_csv_v2/wheelchair/image_0048.csv\n",
            "/kaggle/input/2020mltermprojectbovw/train_csv_v2/wheelchair/image_0029.csv\n",
            "/kaggle/input/2020mltermprojectbovw/train_csv_v2/wheelchair/image_0016.csv\n",
            "/kaggle/input/2020mltermprojectbovw/train_csv_v2/wheelchair/image_0046.csv\n",
            "/kaggle/input/2020mltermprojectbovw/train_csv_v2/wheelchair/image_0053.csv\n",
            "/kaggle/input/2020mltermprojectbovw/train_csv_v2/wheelchair/image_0052.csv\n",
            "/kaggle/input/2020mltermprojectbovw/train_csv_v2/wheelchair/image_0047.csv\n",
            "/kaggle/input/2020mltermprojectbovw/train_csv_v2/wheelchair/image_0013.csv\n",
            "/kaggle/input/2020mltermprojectbovw/train_csv_v2/wheelchair/image_0043.csv\n",
            "/kaggle/input/2020mltermprojectbovw/train_csv_v2/wheelchair/image_0037.csv\n",
            "/kaggle/input/2020mltermprojectbovw/train_csv_v2/wheelchair/image_0033.csv\n",
            "/kaggle/input/2020mltermprojectbovw/train_csv_v2/wheelchair/image_0050.csv\n",
            "/kaggle/input/2020mltermprojectbovw/train_csv_v2/wheelchair/image_0045.csv\n",
            "/kaggle/input/2020mltermprojectbovw/train_csv_v2/wheelchair/image_0030.csv\n",
            "/kaggle/input/2020mltermprojectbovw/train_csv_v2/wheelchair/image_0040.csv\n",
            "/kaggle/input/2020mltermprojectbovw/train_csv_v2/wild_cat/image_0003.csv\n",
            "/kaggle/input/2020mltermprojectbovw/train_csv_v2/wild_cat/image_0008.csv\n",
            "/kaggle/input/2020mltermprojectbovw/train_csv_v2/wild_cat/image_0024.csv\n",
            "/kaggle/input/2020mltermprojectbovw/train_csv_v2/wild_cat/image_0001.csv\n",
            "/kaggle/input/2020mltermprojectbovw/train_csv_v2/wild_cat/image_0025.csv\n",
            "/kaggle/input/2020mltermprojectbovw/train_csv_v2/wild_cat/image_0015.csv\n",
            "/kaggle/input/2020mltermprojectbovw/train_csv_v2/wild_cat/image_0005.csv\n",
            "/kaggle/input/2020mltermprojectbovw/train_csv_v2/wild_cat/image_0020.csv\n",
            "/kaggle/input/2020mltermprojectbovw/train_csv_v2/wild_cat/image_0031.csv\n",
            "/kaggle/input/2020mltermprojectbovw/train_csv_v2/wild_cat/image_0028.csv\n",
            "/kaggle/input/2020mltermprojectbovw/train_csv_v2/wild_cat/image_0014.csv\n",
            "/kaggle/input/2020mltermprojectbovw/train_csv_v2/wild_cat/image_0018.csv\n",
            "/kaggle/input/2020mltermprojectbovw/train_csv_v2/wild_cat/image_0004.csv\n",
            "/kaggle/input/2020mltermprojectbovw/train_csv_v2/wild_cat/image_0029.csv\n",
            "/kaggle/input/2020mltermprojectbovw/train_csv_v2/wild_cat/image_0016.csv\n",
            "/kaggle/input/2020mltermprojectbovw/train_csv_v2/wild_cat/image_0009.csv\n",
            "/kaggle/input/2020mltermprojectbovw/train_csv_v2/wild_cat/image_0021.csv\n",
            "/kaggle/input/2020mltermprojectbovw/train_csv_v2/wild_cat/image_0012.csv\n",
            "/kaggle/input/2020mltermprojectbovw/train_csv_v2/wild_cat/image_0002.csv\n",
            "/kaggle/input/2020mltermprojectbovw/train_csv_v2/wild_cat/image_0013.csv\n",
            "/kaggle/input/2020mltermprojectbovw/train_csv_v2/wild_cat/image_0027.csv\n",
            "/kaggle/input/2020mltermprojectbovw/train_csv_v2/wild_cat/image_0032.csv\n",
            "/kaggle/input/2020mltermprojectbovw/train_csv_v2/wild_cat/image_0006.csv\n",
            "/kaggle/input/2020mltermprojectbovw/train_csv_v2/wild_cat/image_0011.csv\n",
            "/kaggle/input/2020mltermprojectbovw/train_csv_v2/wild_cat/image_0033.csv\n",
            "/kaggle/input/2020mltermprojectbovw/train_csv_v2/wild_cat/image_0019.csv\n",
            "/kaggle/input/2020mltermprojectbovw/train_csv_v2/wild_cat/image_0010.csv\n",
            "/kaggle/input/2020mltermprojectbovw/train_csv_v2/wild_cat/image_0026.csv\n",
            "/kaggle/input/2020mltermprojectbovw/train_csv_v2/wild_cat/image_0007.csv\n",
            "/kaggle/input/2020mltermprojectbovw/train_csv_v2/wild_cat/image_0030.csv\n",
            "/kaggle/input/2020mltermprojectbovw/train_csv_v2/cougar_body/image_0001.csv\n",
            "/kaggle/input/2020mltermprojectbovw/train_csv_v2/cougar_body/image_0025.csv\n",
            "/kaggle/input/2020mltermprojectbovw/train_csv_v2/cougar_body/image_0036.csv\n",
            "/kaggle/input/2020mltermprojectbovw/train_csv_v2/cougar_body/image_0034.csv\n",
            "/kaggle/input/2020mltermprojectbovw/train_csv_v2/cougar_body/image_0017.csv\n",
            "/kaggle/input/2020mltermprojectbovw/train_csv_v2/cougar_body/image_0005.csv\n",
            "/kaggle/input/2020mltermprojectbovw/train_csv_v2/cougar_body/image_0020.csv\n",
            "/kaggle/input/2020mltermprojectbovw/train_csv_v2/cougar_body/image_0031.csv\n",
            "/kaggle/input/2020mltermprojectbovw/train_csv_v2/cougar_body/image_0042.csv\n",
            "/kaggle/input/2020mltermprojectbovw/train_csv_v2/cougar_body/image_0014.csv\n",
            "/kaggle/input/2020mltermprojectbovw/train_csv_v2/cougar_body/image_0018.csv\n",
            "/kaggle/input/2020mltermprojectbovw/train_csv_v2/cougar_body/image_0044.csv\n",
            "/kaggle/input/2020mltermprojectbovw/train_csv_v2/cougar_body/image_0004.csv\n",
            "/kaggle/input/2020mltermprojectbovw/train_csv_v2/cougar_body/image_0029.csv\n",
            "/kaggle/input/2020mltermprojectbovw/train_csv_v2/cougar_body/image_0009.csv\n",
            "/kaggle/input/2020mltermprojectbovw/train_csv_v2/cougar_body/image_0021.csv\n",
            "/kaggle/input/2020mltermprojectbovw/train_csv_v2/cougar_body/image_0041.csv\n",
            "/kaggle/input/2020mltermprojectbovw/train_csv_v2/cougar_body/image_0046.csv\n",
            "/kaggle/input/2020mltermprojectbovw/train_csv_v2/cougar_body/image_0002.csv\n",
            "/kaggle/input/2020mltermprojectbovw/train_csv_v2/cougar_body/image_0022.csv\n",
            "/kaggle/input/2020mltermprojectbovw/train_csv_v2/cougar_body/image_0047.csv\n",
            "/kaggle/input/2020mltermprojectbovw/train_csv_v2/cougar_body/image_0043.csv\n",
            "/kaggle/input/2020mltermprojectbovw/train_csv_v2/cougar_body/image_0027.csv\n",
            "/kaggle/input/2020mltermprojectbovw/train_csv_v2/cougar_body/image_0032.csv\n",
            "/kaggle/input/2020mltermprojectbovw/train_csv_v2/cougar_body/image_0006.csv\n",
            "/kaggle/input/2020mltermprojectbovw/train_csv_v2/cougar_body/image_0010.csv\n",
            "/kaggle/input/2020mltermprojectbovw/train_csv_v2/cougar_body/image_0007.csv\n",
            "/kaggle/input/2020mltermprojectbovw/train_csv_v2/cougar_body/image_0045.csv\n",
            "/kaggle/input/2020mltermprojectbovw/train_csv_v2/cougar_body/image_0030.csv\n",
            "/kaggle/input/2020mltermprojectbovw/train_csv_v2/cougar_body/image_0039.csv\n",
            "/kaggle/input/2020mltermprojectbovw/train_csv_v2/sea_horse/image_0055.csv\n",
            "/kaggle/input/2020mltermprojectbovw/train_csv_v2/sea_horse/image_0056.csv\n",
            "/kaggle/input/2020mltermprojectbovw/train_csv_v2/sea_horse/image_0024.csv\n",
            "/kaggle/input/2020mltermprojectbovw/train_csv_v2/sea_horse/image_0025.csv\n",
            "/kaggle/input/2020mltermprojectbovw/train_csv_v2/sea_horse/image_0015.csv\n",
            "/kaggle/input/2020mltermprojectbovw/train_csv_v2/sea_horse/image_0017.csv\n",
            "/kaggle/input/2020mltermprojectbovw/train_csv_v2/sea_horse/image_0020.csv\n",
            "/kaggle/input/2020mltermprojectbovw/train_csv_v2/sea_horse/image_0031.csv\n",
            "/kaggle/input/2020mltermprojectbovw/train_csv_v2/sea_horse/image_0028.csv\n",
            "/kaggle/input/2020mltermprojectbovw/train_csv_v2/sea_horse/image_0044.csv\n",
            "/kaggle/input/2020mltermprojectbovw/train_csv_v2/sea_horse/image_0004.csv\n",
            "/kaggle/input/2020mltermprojectbovw/train_csv_v2/sea_horse/image_0021.csv\n",
            "/kaggle/input/2020mltermprojectbovw/train_csv_v2/sea_horse/image_0041.csv\n",
            "/kaggle/input/2020mltermprojectbovw/train_csv_v2/sea_horse/image_0046.csv\n",
            "/kaggle/input/2020mltermprojectbovw/train_csv_v2/sea_horse/image_0053.csv\n",
            "/kaggle/input/2020mltermprojectbovw/train_csv_v2/sea_horse/image_0052.csv\n",
            "/kaggle/input/2020mltermprojectbovw/train_csv_v2/sea_horse/image_0002.csv\n",
            "/kaggle/input/2020mltermprojectbovw/train_csv_v2/sea_horse/image_0022.csv\n",
            "/kaggle/input/2020mltermprojectbovw/train_csv_v2/sea_horse/image_0013.csv\n",
            "/kaggle/input/2020mltermprojectbovw/train_csv_v2/sea_horse/image_0043.csv\n",
            "/kaggle/input/2020mltermprojectbovw/train_csv_v2/sea_horse/image_0027.csv\n",
            "/kaggle/input/2020mltermprojectbovw/train_csv_v2/sea_horse/image_0032.csv\n",
            "/kaggle/input/2020mltermprojectbovw/train_csv_v2/sea_horse/image_0006.csv\n",
            "/kaggle/input/2020mltermprojectbovw/train_csv_v2/sea_horse/image_0051.csv\n",
            "/kaggle/input/2020mltermprojectbovw/train_csv_v2/sea_horse/image_0019.csv\n",
            "/kaggle/input/2020mltermprojectbovw/train_csv_v2/sea_horse/image_0035.csv\n",
            "/kaggle/input/2020mltermprojectbovw/train_csv_v2/sea_horse/image_0010.csv\n",
            "/kaggle/input/2020mltermprojectbovw/train_csv_v2/sea_horse/image_0050.csv\n",
            "/kaggle/input/2020mltermprojectbovw/train_csv_v2/sea_horse/image_0007.csv\n",
            "/kaggle/input/2020mltermprojectbovw/train_csv_v2/sea_horse/image_0045.csv\n",
            "/kaggle/input/2020mltermprojectbovw/train_csv_v2/emu/image_0003.csv\n",
            "/kaggle/input/2020mltermprojectbovw/train_csv_v2/emu/image_0025.csv\n",
            "/kaggle/input/2020mltermprojectbovw/train_csv_v2/emu/image_0036.csv\n",
            "/kaggle/input/2020mltermprojectbovw/train_csv_v2/emu/image_0015.csv\n",
            "/kaggle/input/2020mltermprojectbovw/train_csv_v2/emu/image_0049.csv\n",
            "/kaggle/input/2020mltermprojectbovw/train_csv_v2/emu/image_0017.csv\n",
            "/kaggle/input/2020mltermprojectbovw/train_csv_v2/emu/image_0020.csv\n",
            "/kaggle/input/2020mltermprojectbovw/train_csv_v2/emu/image_0028.csv\n",
            "/kaggle/input/2020mltermprojectbovw/train_csv_v2/emu/image_0014.csv\n",
            "/kaggle/input/2020mltermprojectbovw/train_csv_v2/emu/image_0018.csv\n",
            "/kaggle/input/2020mltermprojectbovw/train_csv_v2/emu/image_0048.csv\n",
            "/kaggle/input/2020mltermprojectbovw/train_csv_v2/emu/image_0016.csv\n",
            "/kaggle/input/2020mltermprojectbovw/train_csv_v2/emu/image_0021.csv\n",
            "/kaggle/input/2020mltermprojectbovw/train_csv_v2/emu/image_0046.csv\n",
            "/kaggle/input/2020mltermprojectbovw/train_csv_v2/emu/image_0023.csv\n",
            "/kaggle/input/2020mltermprojectbovw/train_csv_v2/emu/image_0012.csv\n",
            "/kaggle/input/2020mltermprojectbovw/train_csv_v2/emu/image_0002.csv\n",
            "/kaggle/input/2020mltermprojectbovw/train_csv_v2/emu/image_0013.csv\n",
            "/kaggle/input/2020mltermprojectbovw/train_csv_v2/emu/image_0043.csv\n",
            "/kaggle/input/2020mltermprojectbovw/train_csv_v2/emu/image_0006.csv\n",
            "/kaggle/input/2020mltermprojectbovw/train_csv_v2/emu/image_0011.csv\n",
            "/kaggle/input/2020mltermprojectbovw/train_csv_v2/emu/image_0037.csv\n",
            "/kaggle/input/2020mltermprojectbovw/train_csv_v2/emu/image_0033.csv\n",
            "/kaggle/input/2020mltermprojectbovw/train_csv_v2/emu/image_0051.csv\n",
            "/kaggle/input/2020mltermprojectbovw/train_csv_v2/emu/image_0035.csv\n",
            "/kaggle/input/2020mltermprojectbovw/train_csv_v2/emu/image_0050.csv\n",
            "/kaggle/input/2020mltermprojectbovw/train_csv_v2/emu/image_0026.csv\n",
            "/kaggle/input/2020mltermprojectbovw/train_csv_v2/emu/image_0007.csv\n",
            "/kaggle/input/2020mltermprojectbovw/train_csv_v2/emu/image_0040.csv\n",
            "/kaggle/input/2020mltermprojectbovw/train_csv_v2/emu/image_0039.csv\n",
            "/kaggle/input/2020mltermprojectbovw/train_csv_v2/water_lilly/image_0003.csv\n",
            "/kaggle/input/2020mltermprojectbovw/train_csv_v2/water_lilly/image_0008.csv\n",
            "/kaggle/input/2020mltermprojectbovw/train_csv_v2/water_lilly/image_0024.csv\n",
            "/kaggle/input/2020mltermprojectbovw/train_csv_v2/water_lilly/image_0001.csv\n",
            "/kaggle/input/2020mltermprojectbovw/train_csv_v2/water_lilly/image_0025.csv\n",
            "/kaggle/input/2020mltermprojectbovw/train_csv_v2/water_lilly/image_0036.csv\n",
            "/kaggle/input/2020mltermprojectbovw/train_csv_v2/water_lilly/image_0015.csv\n",
            "/kaggle/input/2020mltermprojectbovw/train_csv_v2/water_lilly/image_0034.csv\n",
            "/kaggle/input/2020mltermprojectbovw/train_csv_v2/water_lilly/image_0005.csv\n",
            "/kaggle/input/2020mltermprojectbovw/train_csv_v2/water_lilly/image_0020.csv\n",
            "/kaggle/input/2020mltermprojectbovw/train_csv_v2/water_lilly/image_0031.csv\n",
            "/kaggle/input/2020mltermprojectbovw/train_csv_v2/water_lilly/image_0028.csv\n",
            "/kaggle/input/2020mltermprojectbovw/train_csv_v2/water_lilly/image_0004.csv\n",
            "/kaggle/input/2020mltermprojectbovw/train_csv_v2/water_lilly/image_0029.csv\n",
            "/kaggle/input/2020mltermprojectbovw/train_csv_v2/water_lilly/image_0009.csv\n",
            "/kaggle/input/2020mltermprojectbovw/train_csv_v2/water_lilly/image_0023.csv\n",
            "/kaggle/input/2020mltermprojectbovw/train_csv_v2/water_lilly/image_0012.csv\n",
            "/kaggle/input/2020mltermprojectbovw/train_csv_v2/water_lilly/image_0002.csv\n",
            "/kaggle/input/2020mltermprojectbovw/train_csv_v2/water_lilly/image_0022.csv\n",
            "/kaggle/input/2020mltermprojectbovw/train_csv_v2/water_lilly/image_0013.csv\n",
            "/kaggle/input/2020mltermprojectbovw/train_csv_v2/water_lilly/image_0027.csv\n",
            "/kaggle/input/2020mltermprojectbovw/train_csv_v2/water_lilly/image_0032.csv\n",
            "/kaggle/input/2020mltermprojectbovw/train_csv_v2/water_lilly/image_0006.csv\n",
            "/kaggle/input/2020mltermprojectbovw/train_csv_v2/water_lilly/image_0011.csv\n",
            "/kaggle/input/2020mltermprojectbovw/train_csv_v2/water_lilly/image_0019.csv\n",
            "/kaggle/input/2020mltermprojectbovw/train_csv_v2/water_lilly/image_0035.csv\n",
            "/kaggle/input/2020mltermprojectbovw/train_csv_v2/water_lilly/image_0010.csv\n",
            "/kaggle/input/2020mltermprojectbovw/train_csv_v2/water_lilly/image_0026.csv\n",
            "/kaggle/input/2020mltermprojectbovw/train_csv_v2/water_lilly/image_0007.csv\n",
            "/kaggle/input/2020mltermprojectbovw/train_csv_v2/water_lilly/image_0030.csv\n",
            "/kaggle/input/2020mltermprojectbovw/train_csv_v2/laptop/image_0003.csv\n",
            "/kaggle/input/2020mltermprojectbovw/train_csv_v2/laptop/image_0055.csv\n",
            "/kaggle/input/2020mltermprojectbovw/train_csv_v2/laptop/image_0008.csv\n",
            "/kaggle/input/2020mltermprojectbovw/train_csv_v2/laptop/image_0068.csv\n",
            "/kaggle/input/2020mltermprojectbovw/train_csv_v2/laptop/image_0001.csv\n",
            "/kaggle/input/2020mltermprojectbovw/train_csv_v2/laptop/image_0036.csv\n",
            "/kaggle/input/2020mltermprojectbovw/train_csv_v2/laptop/image_0058.csv\n",
            "/kaggle/input/2020mltermprojectbovw/train_csv_v2/laptop/image_0034.csv\n",
            "/kaggle/input/2020mltermprojectbovw/train_csv_v2/laptop/image_0031.csv\n",
            "/kaggle/input/2020mltermprojectbovw/train_csv_v2/laptop/image_0028.csv\n",
            "/kaggle/input/2020mltermprojectbovw/train_csv_v2/laptop/image_0071.csv\n",
            "/kaggle/input/2020mltermprojectbovw/train_csv_v2/laptop/image_0048.csv\n",
            "/kaggle/input/2020mltermprojectbovw/train_csv_v2/laptop/image_0029.csv\n",
            "/kaggle/input/2020mltermprojectbovw/train_csv_v2/laptop/image_0016.csv\n",
            "/kaggle/input/2020mltermprojectbovw/train_csv_v2/laptop/image_0021.csv\n",
            "/kaggle/input/2020mltermprojectbovw/train_csv_v2/laptop/image_0081.csv\n",
            "/kaggle/input/2020mltermprojectbovw/train_csv_v2/laptop/image_0046.csv\n",
            "/kaggle/input/2020mltermprojectbovw/train_csv_v2/laptop/image_0053.csv\n",
            "/kaggle/input/2020mltermprojectbovw/train_csv_v2/laptop/image_0012.csv\n",
            "/kaggle/input/2020mltermprojectbovw/train_csv_v2/laptop/image_0002.csv\n",
            "/kaggle/input/2020mltermprojectbovw/train_csv_v2/laptop/image_0027.csv\n",
            "/kaggle/input/2020mltermprojectbovw/train_csv_v2/laptop/image_0051.csv\n",
            "/kaggle/input/2020mltermprojectbovw/train_csv_v2/laptop/image_0019.csv\n",
            "/kaggle/input/2020mltermprojectbovw/train_csv_v2/laptop/image_0035.csv\n",
            "/kaggle/input/2020mltermprojectbovw/train_csv_v2/laptop/image_0062.csv\n",
            "/kaggle/input/2020mltermprojectbovw/train_csv_v2/laptop/image_0064.csv\n",
            "/kaggle/input/2020mltermprojectbovw/train_csv_v2/laptop/image_0026.csv\n",
            "/kaggle/input/2020mltermprojectbovw/train_csv_v2/laptop/image_0007.csv\n",
            "/kaggle/input/2020mltermprojectbovw/train_csv_v2/laptop/image_0045.csv\n",
            "/kaggle/input/2020mltermprojectbovw/train_csv_v2/laptop/image_0079.csv\n",
            "/kaggle/input/2020mltermprojectbovw/train_csv_v2/strawberry/image_0003.csv\n",
            "/kaggle/input/2020mltermprojectbovw/train_csv_v2/strawberry/image_0008.csv\n",
            "/kaggle/input/2020mltermprojectbovw/train_csv_v2/strawberry/image_0024.csv\n",
            "/kaggle/input/2020mltermprojectbovw/train_csv_v2/strawberry/image_0001.csv\n",
            "/kaggle/input/2020mltermprojectbovw/train_csv_v2/strawberry/image_0025.csv\n",
            "/kaggle/input/2020mltermprojectbovw/train_csv_v2/strawberry/image_0015.csv\n",
            "/kaggle/input/2020mltermprojectbovw/train_csv_v2/strawberry/image_0034.csv\n",
            "/kaggle/input/2020mltermprojectbovw/train_csv_v2/strawberry/image_0017.csv\n",
            "/kaggle/input/2020mltermprojectbovw/train_csv_v2/strawberry/image_0005.csv\n",
            "/kaggle/input/2020mltermprojectbovw/train_csv_v2/strawberry/image_0020.csv\n",
            "/kaggle/input/2020mltermprojectbovw/train_csv_v2/strawberry/image_0031.csv\n",
            "/kaggle/input/2020mltermprojectbovw/train_csv_v2/strawberry/image_0014.csv\n",
            "/kaggle/input/2020mltermprojectbovw/train_csv_v2/strawberry/image_0018.csv\n",
            "/kaggle/input/2020mltermprojectbovw/train_csv_v2/strawberry/image_0004.csv\n",
            "/kaggle/input/2020mltermprojectbovw/train_csv_v2/strawberry/image_0029.csv\n",
            "/kaggle/input/2020mltermprojectbovw/train_csv_v2/strawberry/image_0016.csv\n",
            "/kaggle/input/2020mltermprojectbovw/train_csv_v2/strawberry/image_0009.csv\n",
            "/kaggle/input/2020mltermprojectbovw/train_csv_v2/strawberry/image_0021.csv\n",
            "/kaggle/input/2020mltermprojectbovw/train_csv_v2/strawberry/image_0023.csv\n",
            "/kaggle/input/2020mltermprojectbovw/train_csv_v2/strawberry/image_0002.csv\n",
            "/kaggle/input/2020mltermprojectbovw/train_csv_v2/strawberry/image_0022.csv\n",
            "/kaggle/input/2020mltermprojectbovw/train_csv_v2/strawberry/image_0013.csv\n",
            "/kaggle/input/2020mltermprojectbovw/train_csv_v2/strawberry/image_0027.csv\n",
            "/kaggle/input/2020mltermprojectbovw/train_csv_v2/strawberry/image_0032.csv\n",
            "/kaggle/input/2020mltermprojectbovw/train_csv_v2/strawberry/image_0006.csv\n",
            "/kaggle/input/2020mltermprojectbovw/train_csv_v2/strawberry/image_0011.csv\n",
            "/kaggle/input/2020mltermprojectbovw/train_csv_v2/strawberry/image_0033.csv\n",
            "/kaggle/input/2020mltermprojectbovw/train_csv_v2/strawberry/image_0010.csv\n",
            "/kaggle/input/2020mltermprojectbovw/train_csv_v2/strawberry/image_0007.csv\n",
            "/kaggle/input/2020mltermprojectbovw/train_csv_v2/strawberry/image_0030.csv\n",
            "/kaggle/input/2020mltermprojectbovw/train_csv_v2/bass/image_0024.csv\n",
            "/kaggle/input/2020mltermprojectbovw/train_csv_v2/bass/image_0001.csv\n",
            "/kaggle/input/2020mltermprojectbovw/train_csv_v2/bass/image_0015.csv\n",
            "/kaggle/input/2020mltermprojectbovw/train_csv_v2/bass/image_0034.csv\n",
            "/kaggle/input/2020mltermprojectbovw/train_csv_v2/bass/image_0005.csv\n",
            "/kaggle/input/2020mltermprojectbovw/train_csv_v2/bass/image_0042.csv\n",
            "/kaggle/input/2020mltermprojectbovw/train_csv_v2/bass/image_0014.csv\n",
            "/kaggle/input/2020mltermprojectbovw/train_csv_v2/bass/image_0018.csv\n",
            "/kaggle/input/2020mltermprojectbovw/train_csv_v2/bass/image_0044.csv\n",
            "/kaggle/input/2020mltermprojectbovw/train_csv_v2/bass/image_0048.csv\n",
            "/kaggle/input/2020mltermprojectbovw/train_csv_v2/bass/image_0029.csv\n",
            "/kaggle/input/2020mltermprojectbovw/train_csv_v2/bass/image_0016.csv\n",
            "/kaggle/input/2020mltermprojectbovw/train_csv_v2/bass/image_0009.csv\n",
            "/kaggle/input/2020mltermprojectbovw/train_csv_v2/bass/image_0021.csv\n",
            "/kaggle/input/2020mltermprojectbovw/train_csv_v2/bass/image_0041.csv\n",
            "/kaggle/input/2020mltermprojectbovw/train_csv_v2/bass/image_0046.csv\n",
            "/kaggle/input/2020mltermprojectbovw/train_csv_v2/bass/image_0012.csv\n",
            "/kaggle/input/2020mltermprojectbovw/train_csv_v2/bass/image_0052.csv\n",
            "/kaggle/input/2020mltermprojectbovw/train_csv_v2/bass/image_0022.csv\n",
            "/kaggle/input/2020mltermprojectbovw/train_csv_v2/bass/image_0013.csv\n",
            "/kaggle/input/2020mltermprojectbovw/train_csv_v2/bass/image_0043.csv\n",
            "/kaggle/input/2020mltermprojectbovw/train_csv_v2/bass/image_0006.csv\n",
            "/kaggle/input/2020mltermprojectbovw/train_csv_v2/bass/image_0011.csv\n",
            "/kaggle/input/2020mltermprojectbovw/train_csv_v2/bass/image_0037.csv\n",
            "/kaggle/input/2020mltermprojectbovw/train_csv_v2/bass/image_0051.csv\n",
            "/kaggle/input/2020mltermprojectbovw/train_csv_v2/bass/image_0010.csv\n",
            "/kaggle/input/2020mltermprojectbovw/train_csv_v2/bass/image_0050.csv\n",
            "/kaggle/input/2020mltermprojectbovw/train_csv_v2/bass/image_0026.csv\n",
            "/kaggle/input/2020mltermprojectbovw/train_csv_v2/bass/image_0007.csv\n",
            "/kaggle/input/2020mltermprojectbovw/train_csv_v2/bass/image_0045.csv\n",
            "/kaggle/input/2020mltermprojectbovw/train_csv_v2/platypus/image_0003.csv\n",
            "/kaggle/input/2020mltermprojectbovw/train_csv_v2/platypus/image_0008.csv\n",
            "/kaggle/input/2020mltermprojectbovw/train_csv_v2/platypus/image_0024.csv\n",
            "/kaggle/input/2020mltermprojectbovw/train_csv_v2/platypus/image_0001.csv\n",
            "/kaggle/input/2020mltermprojectbovw/train_csv_v2/platypus/image_0025.csv\n",
            "/kaggle/input/2020mltermprojectbovw/train_csv_v2/platypus/image_0015.csv\n",
            "/kaggle/input/2020mltermprojectbovw/train_csv_v2/platypus/image_0034.csv\n",
            "/kaggle/input/2020mltermprojectbovw/train_csv_v2/platypus/image_0017.csv\n",
            "/kaggle/input/2020mltermprojectbovw/train_csv_v2/platypus/image_0020.csv\n",
            "/kaggle/input/2020mltermprojectbovw/train_csv_v2/platypus/image_0028.csv\n",
            "/kaggle/input/2020mltermprojectbovw/train_csv_v2/platypus/image_0014.csv\n",
            "/kaggle/input/2020mltermprojectbovw/train_csv_v2/platypus/image_0018.csv\n",
            "/kaggle/input/2020mltermprojectbovw/train_csv_v2/platypus/image_0004.csv\n",
            "/kaggle/input/2020mltermprojectbovw/train_csv_v2/platypus/image_0029.csv\n",
            "/kaggle/input/2020mltermprojectbovw/train_csv_v2/platypus/image_0016.csv\n",
            "/kaggle/input/2020mltermprojectbovw/train_csv_v2/platypus/image_0009.csv\n",
            "/kaggle/input/2020mltermprojectbovw/train_csv_v2/platypus/image_0021.csv\n",
            "/kaggle/input/2020mltermprojectbovw/train_csv_v2/platypus/image_0023.csv\n",
            "/kaggle/input/2020mltermprojectbovw/train_csv_v2/platypus/image_0012.csv\n",
            "/kaggle/input/2020mltermprojectbovw/train_csv_v2/platypus/image_0002.csv\n",
            "/kaggle/input/2020mltermprojectbovw/train_csv_v2/platypus/image_0022.csv\n",
            "/kaggle/input/2020mltermprojectbovw/train_csv_v2/platypus/image_0013.csv\n",
            "/kaggle/input/2020mltermprojectbovw/train_csv_v2/platypus/image_0027.csv\n",
            "/kaggle/input/2020mltermprojectbovw/train_csv_v2/platypus/image_0032.csv\n",
            "/kaggle/input/2020mltermprojectbovw/train_csv_v2/platypus/image_0011.csv\n",
            "/kaggle/input/2020mltermprojectbovw/train_csv_v2/platypus/image_0033.csv\n",
            "/kaggle/input/2020mltermprojectbovw/train_csv_v2/platypus/image_0019.csv\n",
            "/kaggle/input/2020mltermprojectbovw/train_csv_v2/platypus/image_0010.csv\n",
            "/kaggle/input/2020mltermprojectbovw/train_csv_v2/platypus/image_0026.csv\n",
            "/kaggle/input/2020mltermprojectbovw/train_csv_v2/platypus/image_0007.csv\n",
            "/kaggle/input/2020mltermprojectbovw/train_csv_v2/metronome/image_0003.csv\n",
            "/kaggle/input/2020mltermprojectbovw/train_csv_v2/metronome/image_0008.csv\n",
            "/kaggle/input/2020mltermprojectbovw/train_csv_v2/metronome/image_0024.csv\n",
            "/kaggle/input/2020mltermprojectbovw/train_csv_v2/metronome/image_0001.csv\n",
            "/kaggle/input/2020mltermprojectbovw/train_csv_v2/metronome/image_0025.csv\n",
            "/kaggle/input/2020mltermprojectbovw/train_csv_v2/metronome/image_0017.csv\n",
            "/kaggle/input/2020mltermprojectbovw/train_csv_v2/metronome/image_0005.csv\n",
            "/kaggle/input/2020mltermprojectbovw/train_csv_v2/metronome/image_0020.csv\n",
            "/kaggle/input/2020mltermprojectbovw/train_csv_v2/metronome/image_0031.csv\n",
            "/kaggle/input/2020mltermprojectbovw/train_csv_v2/metronome/image_0028.csv\n",
            "/kaggle/input/2020mltermprojectbovw/train_csv_v2/metronome/image_0014.csv\n",
            "/kaggle/input/2020mltermprojectbovw/train_csv_v2/metronome/image_0018.csv\n",
            "/kaggle/input/2020mltermprojectbovw/train_csv_v2/metronome/image_0004.csv\n",
            "/kaggle/input/2020mltermprojectbovw/train_csv_v2/metronome/image_0016.csv\n",
            "/kaggle/input/2020mltermprojectbovw/train_csv_v2/metronome/image_0009.csv\n",
            "/kaggle/input/2020mltermprojectbovw/train_csv_v2/metronome/image_0021.csv\n",
            "/kaggle/input/2020mltermprojectbovw/train_csv_v2/metronome/image_0023.csv\n",
            "/kaggle/input/2020mltermprojectbovw/train_csv_v2/metronome/image_0012.csv\n",
            "/kaggle/input/2020mltermprojectbovw/train_csv_v2/metronome/image_0002.csv\n",
            "/kaggle/input/2020mltermprojectbovw/train_csv_v2/metronome/image_0022.csv\n",
            "/kaggle/input/2020mltermprojectbovw/train_csv_v2/metronome/image_0013.csv\n",
            "/kaggle/input/2020mltermprojectbovw/train_csv_v2/metronome/image_0027.csv\n",
            "/kaggle/input/2020mltermprojectbovw/train_csv_v2/metronome/image_0032.csv\n",
            "/kaggle/input/2020mltermprojectbovw/train_csv_v2/metronome/image_0006.csv\n",
            "/kaggle/input/2020mltermprojectbovw/train_csv_v2/metronome/image_0011.csv\n",
            "/kaggle/input/2020mltermprojectbovw/train_csv_v2/metronome/image_0019.csv\n",
            "/kaggle/input/2020mltermprojectbovw/train_csv_v2/metronome/image_0010.csv\n",
            "/kaggle/input/2020mltermprojectbovw/train_csv_v2/metronome/image_0026.csv\n",
            "/kaggle/input/2020mltermprojectbovw/train_csv_v2/metronome/image_0007.csv\n",
            "/kaggle/input/2020mltermprojectbovw/train_csv_v2/metronome/image_0030.csv\n",
            "/kaggle/input/2020mltermprojectbovw/train_csv_v2/ketch/image_0073.csv\n",
            "/kaggle/input/2020mltermprojectbovw/train_csv_v2/ketch/image_0003.csv\n",
            "/kaggle/input/2020mltermprojectbovw/train_csv_v2/ketch/image_0086.csv\n",
            "/kaggle/input/2020mltermprojectbovw/train_csv_v2/ketch/image_0025.csv\n",
            "/kaggle/input/2020mltermprojectbovw/train_csv_v2/ketch/image_0057.csv\n",
            "/kaggle/input/2020mltermprojectbovw/train_csv_v2/ketch/image_0017.csv\n",
            "/kaggle/input/2020mltermprojectbovw/train_csv_v2/ketch/image_0084.csv\n",
            "/kaggle/input/2020mltermprojectbovw/train_csv_v2/ketch/image_0114.csv\n",
            "/kaggle/input/2020mltermprojectbovw/train_csv_v2/ketch/image_0044.csv\n",
            "/kaggle/input/2020mltermprojectbovw/train_csv_v2/ketch/image_0029.csv\n",
            "/kaggle/input/2020mltermprojectbovw/train_csv_v2/ketch/image_0096.csv\n",
            "/kaggle/input/2020mltermprojectbovw/train_csv_v2/ketch/image_0016.csv\n",
            "/kaggle/input/2020mltermprojectbovw/train_csv_v2/ketch/image_0092.csv\n",
            "/kaggle/input/2020mltermprojectbovw/train_csv_v2/ketch/image_0021.csv\n",
            "/kaggle/input/2020mltermprojectbovw/train_csv_v2/ketch/image_0070.csv\n",
            "/kaggle/input/2020mltermprojectbovw/train_csv_v2/ketch/image_0078.csv\n",
            "/kaggle/input/2020mltermprojectbovw/train_csv_v2/ketch/image_0077.csv\n",
            "/kaggle/input/2020mltermprojectbovw/train_csv_v2/ketch/image_0095.csv\n",
            "/kaggle/input/2020mltermprojectbovw/train_csv_v2/ketch/image_0088.csv\n",
            "/kaggle/input/2020mltermprojectbovw/train_csv_v2/ketch/image_0032.csv\n",
            "/kaggle/input/2020mltermprojectbovw/train_csv_v2/ketch/image_0059.csv\n",
            "/kaggle/input/2020mltermprojectbovw/train_csv_v2/ketch/image_0107.csv\n",
            "/kaggle/input/2020mltermprojectbovw/train_csv_v2/ketch/image_0010.csv\n",
            "/kaggle/input/2020mltermprojectbovw/train_csv_v2/ketch/image_0062.csv\n",
            "/kaggle/input/2020mltermprojectbovw/train_csv_v2/ketch/image_0105.csv\n",
            "/kaggle/input/2020mltermprojectbovw/train_csv_v2/ketch/image_0067.csv\n",
            "/kaggle/input/2020mltermprojectbovw/train_csv_v2/ketch/image_0026.csv\n",
            "/kaggle/input/2020mltermprojectbovw/train_csv_v2/ketch/image_0045.csv\n",
            "/kaggle/input/2020mltermprojectbovw/train_csv_v2/ketch/image_0083.csv\n",
            "/kaggle/input/2020mltermprojectbovw/train_csv_v2/ketch/image_0039.csv\n",
            "/kaggle/input/2020mltermprojectbovw/train_csv_v2/grand_piano/image_0056.csv\n",
            "/kaggle/input/2020mltermprojectbovw/train_csv_v2/grand_piano/image_0068.csv\n",
            "/kaggle/input/2020mltermprojectbovw/train_csv_v2/grand_piano/image_0086.csv\n",
            "/kaggle/input/2020mltermprojectbovw/train_csv_v2/grand_piano/image_0001.csv\n",
            "/kaggle/input/2020mltermprojectbovw/train_csv_v2/grand_piano/image_0094.csv\n",
            "/kaggle/input/2020mltermprojectbovw/train_csv_v2/grand_piano/image_0025.csv\n",
            "/kaggle/input/2020mltermprojectbovw/train_csv_v2/grand_piano/image_0084.csv\n",
            "/kaggle/input/2020mltermprojectbovw/train_csv_v2/grand_piano/image_0075.csv\n",
            "/kaggle/input/2020mltermprojectbovw/train_csv_v2/grand_piano/image_0063.csv\n",
            "/kaggle/input/2020mltermprojectbovw/train_csv_v2/grand_piano/image_0071.csv\n",
            "/kaggle/input/2020mltermprojectbovw/train_csv_v2/grand_piano/image_0099.csv\n",
            "/kaggle/input/2020mltermprojectbovw/train_csv_v2/grand_piano/image_0044.csv\n",
            "/kaggle/input/2020mltermprojectbovw/train_csv_v2/grand_piano/image_0048.csv\n",
            "/kaggle/input/2020mltermprojectbovw/train_csv_v2/grand_piano/image_0092.csv\n",
            "/kaggle/input/2020mltermprojectbovw/train_csv_v2/grand_piano/image_0065.csv\n",
            "/kaggle/input/2020mltermprojectbovw/train_csv_v2/grand_piano/image_0078.csv\n",
            "/kaggle/input/2020mltermprojectbovw/train_csv_v2/grand_piano/image_0052.csv\n",
            "/kaggle/input/2020mltermprojectbovw/train_csv_v2/grand_piano/image_0077.csv\n",
            "/kaggle/input/2020mltermprojectbovw/train_csv_v2/grand_piano/image_0097.csv\n",
            "/kaggle/input/2020mltermprojectbovw/train_csv_v2/grand_piano/image_0032.csv\n",
            "/kaggle/input/2020mltermprojectbovw/train_csv_v2/grand_piano/image_0072.csv\n",
            "/kaggle/input/2020mltermprojectbovw/train_csv_v2/grand_piano/image_0011.csv\n",
            "/kaggle/input/2020mltermprojectbovw/train_csv_v2/grand_piano/image_0059.csv\n",
            "/kaggle/input/2020mltermprojectbovw/train_csv_v2/grand_piano/image_0051.csv\n",
            "/kaggle/input/2020mltermprojectbovw/train_csv_v2/grand_piano/image_0061.csv\n",
            "/kaggle/input/2020mltermprojectbovw/train_csv_v2/grand_piano/image_0010.csv\n",
            "/kaggle/input/2020mltermprojectbovw/train_csv_v2/grand_piano/image_0030.csv\n",
            "/kaggle/input/2020mltermprojectbovw/train_csv_v2/grand_piano/image_0040.csv\n",
            "/kaggle/input/2020mltermprojectbovw/train_csv_v2/grand_piano/image_0091.csv\n",
            "/kaggle/input/2020mltermprojectbovw/train_csv_v2/grand_piano/image_0079.csv\n",
            "/kaggle/input/2020mltermprojectbovw/train_csv_v2/lamp/image_0003.csv\n",
            "/kaggle/input/2020mltermprojectbovw/train_csv_v2/lamp/image_0056.csv\n",
            "/kaggle/input/2020mltermprojectbovw/train_csv_v2/lamp/image_0001.csv\n",
            "/kaggle/input/2020mltermprojectbovw/train_csv_v2/lamp/image_0057.csv\n",
            "/kaggle/input/2020mltermprojectbovw/train_csv_v2/lamp/image_0015.csv\n",
            "/kaggle/input/2020mltermprojectbovw/train_csv_v2/lamp/image_0005.csv\n",
            "/kaggle/input/2020mltermprojectbovw/train_csv_v2/lamp/image_0028.csv\n",
            "/kaggle/input/2020mltermprojectbovw/train_csv_v2/lamp/image_0042.csv\n",
            "/kaggle/input/2020mltermprojectbovw/train_csv_v2/lamp/image_0014.csv\n",
            "/kaggle/input/2020mltermprojectbovw/train_csv_v2/lamp/image_0054.csv\n",
            "/kaggle/input/2020mltermprojectbovw/train_csv_v2/lamp/image_0044.csv\n",
            "/kaggle/input/2020mltermprojectbovw/train_csv_v2/lamp/image_0016.csv\n",
            "/kaggle/input/2020mltermprojectbovw/train_csv_v2/lamp/image_0046.csv\n",
            "/kaggle/input/2020mltermprojectbovw/train_csv_v2/lamp/image_0012.csv\n",
            "/kaggle/input/2020mltermprojectbovw/train_csv_v2/lamp/image_0013.csv\n",
            "/kaggle/input/2020mltermprojectbovw/train_csv_v2/lamp/image_0038.csv\n",
            "/kaggle/input/2020mltermprojectbovw/train_csv_v2/lamp/image_0043.csv\n",
            "/kaggle/input/2020mltermprojectbovw/train_csv_v2/lamp/image_0027.csv\n",
            "/kaggle/input/2020mltermprojectbovw/train_csv_v2/lamp/image_0032.csv\n",
            "/kaggle/input/2020mltermprojectbovw/train_csv_v2/lamp/image_0006.csv\n",
            "/kaggle/input/2020mltermprojectbovw/train_csv_v2/lamp/image_0011.csv\n",
            "/kaggle/input/2020mltermprojectbovw/train_csv_v2/lamp/image_0059.csv\n",
            "/kaggle/input/2020mltermprojectbovw/train_csv_v2/lamp/image_0033.csv\n",
            "/kaggle/input/2020mltermprojectbovw/train_csv_v2/lamp/image_0010.csv\n",
            "/kaggle/input/2020mltermprojectbovw/train_csv_v2/lamp/image_0050.csv\n",
            "/kaggle/input/2020mltermprojectbovw/train_csv_v2/lamp/image_0026.csv\n",
            "/kaggle/input/2020mltermprojectbovw/train_csv_v2/lamp/image_0007.csv\n",
            "/kaggle/input/2020mltermprojectbovw/train_csv_v2/lamp/image_0045.csv\n",
            "/kaggle/input/2020mltermprojectbovw/train_csv_v2/lamp/image_0040.csv\n",
            "/kaggle/input/2020mltermprojectbovw/train_csv_v2/lamp/image_0039.csv\n",
            "/kaggle/input/2020mltermprojectbovw/train_csv_v2/gramophone/image_0003.csv\n",
            "/kaggle/input/2020mltermprojectbovw/train_csv_v2/gramophone/image_0008.csv\n",
            "/kaggle/input/2020mltermprojectbovw/train_csv_v2/gramophone/image_0024.csv\n",
            "/kaggle/input/2020mltermprojectbovw/train_csv_v2/gramophone/image_0036.csv\n",
            "/kaggle/input/2020mltermprojectbovw/train_csv_v2/gramophone/image_0034.csv\n",
            "/kaggle/input/2020mltermprojectbovw/train_csv_v2/gramophone/image_0005.csv\n",
            "/kaggle/input/2020mltermprojectbovw/train_csv_v2/gramophone/image_0028.csv\n",
            "/kaggle/input/2020mltermprojectbovw/train_csv_v2/gramophone/image_0014.csv\n",
            "/kaggle/input/2020mltermprojectbovw/train_csv_v2/gramophone/image_0018.csv\n",
            "/kaggle/input/2020mltermprojectbovw/train_csv_v2/gramophone/image_0044.csv\n",
            "/kaggle/input/2020mltermprojectbovw/train_csv_v2/gramophone/image_0004.csv\n",
            "/kaggle/input/2020mltermprojectbovw/train_csv_v2/gramophone/image_0048.csv\n",
            "/kaggle/input/2020mltermprojectbovw/train_csv_v2/gramophone/image_0021.csv\n",
            "/kaggle/input/2020mltermprojectbovw/train_csv_v2/gramophone/image_0041.csv\n",
            "/kaggle/input/2020mltermprojectbovw/train_csv_v2/gramophone/image_0046.csv\n",
            "/kaggle/input/2020mltermprojectbovw/train_csv_v2/gramophone/image_0023.csv\n",
            "/kaggle/input/2020mltermprojectbovw/train_csv_v2/gramophone/image_0002.csv\n",
            "/kaggle/input/2020mltermprojectbovw/train_csv_v2/gramophone/image_0013.csv\n",
            "/kaggle/input/2020mltermprojectbovw/train_csv_v2/gramophone/image_0038.csv\n",
            "/kaggle/input/2020mltermprojectbovw/train_csv_v2/gramophone/image_0043.csv\n",
            "/kaggle/input/2020mltermprojectbovw/train_csv_v2/gramophone/image_0032.csv\n",
            "/kaggle/input/2020mltermprojectbovw/train_csv_v2/gramophone/image_0011.csv\n",
            "/kaggle/input/2020mltermprojectbovw/train_csv_v2/gramophone/image_0037.csv\n",
            "/kaggle/input/2020mltermprojectbovw/train_csv_v2/gramophone/image_0051.csv\n",
            "/kaggle/input/2020mltermprojectbovw/train_csv_v2/gramophone/image_0019.csv\n",
            "/kaggle/input/2020mltermprojectbovw/train_csv_v2/gramophone/image_0035.csv\n",
            "/kaggle/input/2020mltermprojectbovw/train_csv_v2/gramophone/image_0026.csv\n",
            "/kaggle/input/2020mltermprojectbovw/train_csv_v2/gramophone/image_0030.csv\n",
            "/kaggle/input/2020mltermprojectbovw/train_csv_v2/gramophone/image_0040.csv\n",
            "/kaggle/input/2020mltermprojectbovw/train_csv_v2/gramophone/image_0039.csv\n",
            "/kaggle/input/2020mltermprojectbovw/train_csv_v2/kangaroo/image_0056.csv\n",
            "/kaggle/input/2020mltermprojectbovw/train_csv_v2/kangaroo/image_0008.csv\n",
            "/kaggle/input/2020mltermprojectbovw/train_csv_v2/kangaroo/image_0025.csv\n",
            "/kaggle/input/2020mltermprojectbovw/train_csv_v2/kangaroo/image_0036.csv\n",
            "/kaggle/input/2020mltermprojectbovw/train_csv_v2/kangaroo/image_0057.csv\n",
            "/kaggle/input/2020mltermprojectbovw/train_csv_v2/kangaroo/image_0066.csv\n",
            "/kaggle/input/2020mltermprojectbovw/train_csv_v2/kangaroo/image_0075.csv\n",
            "/kaggle/input/2020mltermprojectbovw/train_csv_v2/kangaroo/image_0063.csv\n",
            "/kaggle/input/2020mltermprojectbovw/train_csv_v2/kangaroo/image_0005.csv\n",
            "/kaggle/input/2020mltermprojectbovw/train_csv_v2/kangaroo/image_0020.csv\n",
            "/kaggle/input/2020mltermprojectbovw/train_csv_v2/kangaroo/image_0028.csv\n",
            "/kaggle/input/2020mltermprojectbovw/train_csv_v2/kangaroo/image_0014.csv\n",
            "/kaggle/input/2020mltermprojectbovw/train_csv_v2/kangaroo/image_0029.csv\n",
            "/kaggle/input/2020mltermprojectbovw/train_csv_v2/kangaroo/image_0009.csv\n",
            "/kaggle/input/2020mltermprojectbovw/train_csv_v2/kangaroo/image_0041.csv\n",
            "/kaggle/input/2020mltermprojectbovw/train_csv_v2/kangaroo/image_0081.csv\n",
            "/kaggle/input/2020mltermprojectbovw/train_csv_v2/kangaroo/image_0046.csv\n",
            "/kaggle/input/2020mltermprojectbovw/train_csv_v2/kangaroo/image_0078.csv\n",
            "/kaggle/input/2020mltermprojectbovw/train_csv_v2/kangaroo/image_0047.csv\n",
            "/kaggle/input/2020mltermprojectbovw/train_csv_v2/kangaroo/image_0077.csv\n",
            "/kaggle/input/2020mltermprojectbovw/train_csv_v2/kangaroo/image_0027.csv\n",
            "/kaggle/input/2020mltermprojectbovw/train_csv_v2/kangaroo/image_0006.csv\n",
            "/kaggle/input/2020mltermprojectbovw/train_csv_v2/kangaroo/image_0011.csv\n",
            "/kaggle/input/2020mltermprojectbovw/train_csv_v2/kangaroo/image_0019.csv\n",
            "/kaggle/input/2020mltermprojectbovw/train_csv_v2/kangaroo/image_0061.csv\n",
            "/kaggle/input/2020mltermprojectbovw/train_csv_v2/kangaroo/image_0064.csv\n",
            "/kaggle/input/2020mltermprojectbovw/train_csv_v2/kangaroo/image_0067.csv\n",
            "/kaggle/input/2020mltermprojectbovw/train_csv_v2/kangaroo/image_0026.csv\n",
            "/kaggle/input/2020mltermprojectbovw/train_csv_v2/kangaroo/image_0045.csv\n",
            "/kaggle/input/2020mltermprojectbovw/train_csv_v2/kangaroo/image_0039.csv\n",
            "/kaggle/input/2020mltermprojectbovw/train_csv_v2/starfish/image_0055.csv\n",
            "/kaggle/input/2020mltermprojectbovw/train_csv_v2/starfish/image_0056.csv\n",
            "/kaggle/input/2020mltermprojectbovw/train_csv_v2/starfish/image_0068.csv\n",
            "/kaggle/input/2020mltermprojectbovw/train_csv_v2/starfish/image_0025.csv\n",
            "/kaggle/input/2020mltermprojectbovw/train_csv_v2/starfish/image_0080.csv\n",
            "/kaggle/input/2020mltermprojectbovw/train_csv_v2/starfish/image_0057.csv\n",
            "/kaggle/input/2020mltermprojectbovw/train_csv_v2/starfish/image_0075.csv\n",
            "/kaggle/input/2020mltermprojectbovw/train_csv_v2/starfish/image_0063.csv\n",
            "/kaggle/input/2020mltermprojectbovw/train_csv_v2/starfish/image_0005.csv\n",
            "/kaggle/input/2020mltermprojectbovw/train_csv_v2/starfish/image_0042.csv\n",
            "/kaggle/input/2020mltermprojectbovw/train_csv_v2/starfish/image_0014.csv\n",
            "/kaggle/input/2020mltermprojectbovw/train_csv_v2/starfish/image_0018.csv\n",
            "/kaggle/input/2020mltermprojectbovw/train_csv_v2/starfish/image_0044.csv\n",
            "/kaggle/input/2020mltermprojectbovw/train_csv_v2/starfish/image_0004.csv\n",
            "/kaggle/input/2020mltermprojectbovw/train_csv_v2/starfish/image_0048.csv\n",
            "/kaggle/input/2020mltermprojectbovw/train_csv_v2/starfish/image_0009.csv\n",
            "/kaggle/input/2020mltermprojectbovw/train_csv_v2/starfish/image_0053.csv\n",
            "/kaggle/input/2020mltermprojectbovw/train_csv_v2/starfish/image_0052.csv\n",
            "/kaggle/input/2020mltermprojectbovw/train_csv_v2/starfish/image_0022.csv\n",
            "/kaggle/input/2020mltermprojectbovw/train_csv_v2/starfish/image_0047.csv\n",
            "/kaggle/input/2020mltermprojectbovw/train_csv_v2/starfish/image_0032.csv\n",
            "/kaggle/input/2020mltermprojectbovw/train_csv_v2/starfish/image_0011.csv\n",
            "/kaggle/input/2020mltermprojectbovw/train_csv_v2/starfish/image_0059.csv\n",
            "/kaggle/input/2020mltermprojectbovw/train_csv_v2/starfish/image_0019.csv\n",
            "/kaggle/input/2020mltermprojectbovw/train_csv_v2/starfish/image_0010.csv\n",
            "/kaggle/input/2020mltermprojectbovw/train_csv_v2/starfish/image_0050.csv\n",
            "/kaggle/input/2020mltermprojectbovw/train_csv_v2/starfish/image_0062.csv\n",
            "/kaggle/input/2020mltermprojectbovw/train_csv_v2/starfish/image_0074.csv\n",
            "/kaggle/input/2020mltermprojectbovw/train_csv_v2/starfish/image_0026.csv\n",
            "/kaggle/input/2020mltermprojectbovw/train_csv_v2/starfish/image_0045.csv\n",
            "/kaggle/input/2020mltermprojectbovw/train_csv_v2/dalmatian/image_0003.csv\n",
            "/kaggle/input/2020mltermprojectbovw/train_csv_v2/dalmatian/image_0056.csv\n",
            "/kaggle/input/2020mltermprojectbovw/train_csv_v2/dalmatian/image_0001.csv\n",
            "/kaggle/input/2020mltermprojectbovw/train_csv_v2/dalmatian/image_0025.csv\n",
            "/kaggle/input/2020mltermprojectbovw/train_csv_v2/dalmatian/image_0036.csv\n",
            "/kaggle/input/2020mltermprojectbovw/train_csv_v2/dalmatian/image_0058.csv\n",
            "/kaggle/input/2020mltermprojectbovw/train_csv_v2/dalmatian/image_0057.csv\n",
            "/kaggle/input/2020mltermprojectbovw/train_csv_v2/dalmatian/image_0015.csv\n",
            "/kaggle/input/2020mltermprojectbovw/train_csv_v2/dalmatian/image_0049.csv\n",
            "/kaggle/input/2020mltermprojectbovw/train_csv_v2/dalmatian/image_0063.csv\n",
            "/kaggle/input/2020mltermprojectbovw/train_csv_v2/dalmatian/image_0031.csv\n",
            "/kaggle/input/2020mltermprojectbovw/train_csv_v2/dalmatian/image_0028.csv\n",
            "/kaggle/input/2020mltermprojectbovw/train_csv_v2/dalmatian/image_0042.csv\n",
            "/kaggle/input/2020mltermprojectbovw/train_csv_v2/dalmatian/image_0054.csv\n",
            "/kaggle/input/2020mltermprojectbovw/train_csv_v2/dalmatian/image_0044.csv\n",
            "/kaggle/input/2020mltermprojectbovw/train_csv_v2/dalmatian/image_0048.csv\n",
            "/kaggle/input/2020mltermprojectbovw/train_csv_v2/dalmatian/image_0016.csv\n",
            "/kaggle/input/2020mltermprojectbovw/train_csv_v2/dalmatian/image_0065.csv\n",
            "/kaggle/input/2020mltermprojectbovw/train_csv_v2/dalmatian/image_0021.csv\n",
            "/kaggle/input/2020mltermprojectbovw/train_csv_v2/dalmatian/image_0052.csv\n",
            "/kaggle/input/2020mltermprojectbovw/train_csv_v2/dalmatian/image_0047.csv\n",
            "/kaggle/input/2020mltermprojectbovw/train_csv_v2/dalmatian/image_0013.csv\n",
            "/kaggle/input/2020mltermprojectbovw/train_csv_v2/dalmatian/image_0011.csv\n",
            "/kaggle/input/2020mltermprojectbovw/train_csv_v2/dalmatian/image_0051.csv\n",
            "/kaggle/input/2020mltermprojectbovw/train_csv_v2/dalmatian/image_0061.csv\n",
            "/kaggle/input/2020mltermprojectbovw/train_csv_v2/dalmatian/image_0067.csv\n",
            "/kaggle/input/2020mltermprojectbovw/train_csv_v2/dalmatian/image_0026.csv\n",
            "/kaggle/input/2020mltermprojectbovw/train_csv_v2/dalmatian/image_0007.csv\n",
            "/kaggle/input/2020mltermprojectbovw/train_csv_v2/dalmatian/image_0045.csv\n",
            "/kaggle/input/2020mltermprojectbovw/train_csv_v2/dalmatian/image_0030.csv\n",
            "/kaggle/input/2020mltermprojectbovw/train_csv_v2/bonsai/image_0098.csv\n",
            "/kaggle/input/2020mltermprojectbovw/train_csv_v2/bonsai/image_0100.csv\n",
            "/kaggle/input/2020mltermprojectbovw/train_csv_v2/bonsai/image_0055.csv\n",
            "/kaggle/input/2020mltermprojectbovw/train_csv_v2/bonsai/image_0008.csv\n",
            "/kaggle/input/2020mltermprojectbovw/train_csv_v2/bonsai/image_0068.csv\n",
            "/kaggle/input/2020mltermprojectbovw/train_csv_v2/bonsai/image_0060.csv\n",
            "/kaggle/input/2020mltermprojectbovw/train_csv_v2/bonsai/image_0125.csv\n",
            "/kaggle/input/2020mltermprojectbovw/train_csv_v2/bonsai/image_0058.csv\n",
            "/kaggle/input/2020mltermprojectbovw/train_csv_v2/bonsai/image_0034.csv\n",
            "/kaggle/input/2020mltermprojectbovw/train_csv_v2/bonsai/image_0066.csv\n",
            "/kaggle/input/2020mltermprojectbovw/train_csv_v2/bonsai/image_0069.csv\n",
            "/kaggle/input/2020mltermprojectbovw/train_csv_v2/bonsai/image_0114.csv\n",
            "/kaggle/input/2020mltermprojectbovw/train_csv_v2/bonsai/image_0096.csv\n",
            "/kaggle/input/2020mltermprojectbovw/train_csv_v2/bonsai/image_0009.csv\n",
            "/kaggle/input/2020mltermprojectbovw/train_csv_v2/bonsai/image_0021.csv\n",
            "/kaggle/input/2020mltermprojectbovw/train_csv_v2/bonsai/image_0041.csv\n",
            "/kaggle/input/2020mltermprojectbovw/train_csv_v2/bonsai/image_0023.csv\n",
            "/kaggle/input/2020mltermprojectbovw/train_csv_v2/bonsai/image_0101.csv\n",
            "/kaggle/input/2020mltermprojectbovw/train_csv_v2/bonsai/image_0052.csv\n",
            "/kaggle/input/2020mltermprojectbovw/train_csv_v2/bonsai/image_0116.csv\n",
            "/kaggle/input/2020mltermprojectbovw/train_csv_v2/bonsai/image_0077.csv\n",
            "/kaggle/input/2020mltermprojectbovw/train_csv_v2/bonsai/image_0043.csv\n",
            "/kaggle/input/2020mltermprojectbovw/train_csv_v2/bonsai/image_0095.csv\n",
            "/kaggle/input/2020mltermprojectbovw/train_csv_v2/bonsai/image_0088.csv\n",
            "/kaggle/input/2020mltermprojectbovw/train_csv_v2/bonsai/image_0032.csv\n",
            "/kaggle/input/2020mltermprojectbovw/train_csv_v2/bonsai/image_0011.csv\n",
            "/kaggle/input/2020mltermprojectbovw/train_csv_v2/bonsai/image_0107.csv\n",
            "/kaggle/input/2020mltermprojectbovw/train_csv_v2/bonsai/image_0035.csv\n",
            "/kaggle/input/2020mltermprojectbovw/train_csv_v2/bonsai/image_0087.csv\n",
            "/kaggle/input/2020mltermprojectbovw/train_csv_v2/bonsai/image_0083.csv\n",
            "/kaggle/input/2020mltermprojectbovw/train_csv_v2/wrench/image_0003.csv\n",
            "/kaggle/input/2020mltermprojectbovw/train_csv_v2/wrench/image_0024.csv\n",
            "/kaggle/input/2020mltermprojectbovw/train_csv_v2/wrench/image_0025.csv\n",
            "/kaggle/input/2020mltermprojectbovw/train_csv_v2/wrench/image_0036.csv\n",
            "/kaggle/input/2020mltermprojectbovw/train_csv_v2/wrench/image_0015.csv\n",
            "/kaggle/input/2020mltermprojectbovw/train_csv_v2/wrench/image_0034.csv\n",
            "/kaggle/input/2020mltermprojectbovw/train_csv_v2/wrench/image_0017.csv\n",
            "/kaggle/input/2020mltermprojectbovw/train_csv_v2/wrench/image_0005.csv\n",
            "/kaggle/input/2020mltermprojectbovw/train_csv_v2/wrench/image_0020.csv\n",
            "/kaggle/input/2020mltermprojectbovw/train_csv_v2/wrench/image_0031.csv\n",
            "/kaggle/input/2020mltermprojectbovw/train_csv_v2/wrench/image_0028.csv\n",
            "/kaggle/input/2020mltermprojectbovw/train_csv_v2/wrench/image_0018.csv\n",
            "/kaggle/input/2020mltermprojectbovw/train_csv_v2/wrench/image_0029.csv\n",
            "/kaggle/input/2020mltermprojectbovw/train_csv_v2/wrench/image_0016.csv\n",
            "/kaggle/input/2020mltermprojectbovw/train_csv_v2/wrench/image_0009.csv\n",
            "/kaggle/input/2020mltermprojectbovw/train_csv_v2/wrench/image_0021.csv\n",
            "/kaggle/input/2020mltermprojectbovw/train_csv_v2/wrench/image_0023.csv\n",
            "/kaggle/input/2020mltermprojectbovw/train_csv_v2/wrench/image_0012.csv\n",
            "/kaggle/input/2020mltermprojectbovw/train_csv_v2/wrench/image_0002.csv\n",
            "/kaggle/input/2020mltermprojectbovw/train_csv_v2/wrench/image_0022.csv\n",
            "/kaggle/input/2020mltermprojectbovw/train_csv_v2/wrench/image_0013.csv\n",
            "/kaggle/input/2020mltermprojectbovw/train_csv_v2/wrench/image_0038.csv\n",
            "/kaggle/input/2020mltermprojectbovw/train_csv_v2/wrench/image_0032.csv\n",
            "/kaggle/input/2020mltermprojectbovw/train_csv_v2/wrench/image_0011.csv\n",
            "/kaggle/input/2020mltermprojectbovw/train_csv_v2/wrench/image_0037.csv\n",
            "/kaggle/input/2020mltermprojectbovw/train_csv_v2/wrench/image_0033.csv\n",
            "/kaggle/input/2020mltermprojectbovw/train_csv_v2/wrench/image_0019.csv\n",
            "/kaggle/input/2020mltermprojectbovw/train_csv_v2/wrench/image_0035.csv\n",
            "/kaggle/input/2020mltermprojectbovw/train_csv_v2/wrench/image_0007.csv\n",
            "/kaggle/input/2020mltermprojectbovw/train_csv_v2/wrench/image_0030.csv\n",
            "/kaggle/input/2020mltermprojectbovw/train_csv_v2/flamingo_head/image_0003.csv\n",
            "/kaggle/input/2020mltermprojectbovw/train_csv_v2/flamingo_head/image_0025.csv\n",
            "/kaggle/input/2020mltermprojectbovw/train_csv_v2/flamingo_head/image_0015.csv\n",
            "/kaggle/input/2020mltermprojectbovw/train_csv_v2/flamingo_head/image_0017.csv\n",
            "/kaggle/input/2020mltermprojectbovw/train_csv_v2/flamingo_head/image_0005.csv\n",
            "/kaggle/input/2020mltermprojectbovw/train_csv_v2/flamingo_head/image_0020.csv\n",
            "/kaggle/input/2020mltermprojectbovw/train_csv_v2/flamingo_head/image_0031.csv\n",
            "/kaggle/input/2020mltermprojectbovw/train_csv_v2/flamingo_head/image_0028.csv\n",
            "/kaggle/input/2020mltermprojectbovw/train_csv_v2/flamingo_head/image_0042.csv\n",
            "/kaggle/input/2020mltermprojectbovw/train_csv_v2/flamingo_head/image_0014.csv\n",
            "/kaggle/input/2020mltermprojectbovw/train_csv_v2/flamingo_head/image_0018.csv\n",
            "/kaggle/input/2020mltermprojectbovw/train_csv_v2/flamingo_head/image_0044.csv\n",
            "/kaggle/input/2020mltermprojectbovw/train_csv_v2/flamingo_head/image_0016.csv\n",
            "/kaggle/input/2020mltermprojectbovw/train_csv_v2/flamingo_head/image_0021.csv\n",
            "/kaggle/input/2020mltermprojectbovw/train_csv_v2/flamingo_head/image_0023.csv\n",
            "/kaggle/input/2020mltermprojectbovw/train_csv_v2/flamingo_head/image_0012.csv\n",
            "/kaggle/input/2020mltermprojectbovw/train_csv_v2/flamingo_head/image_0002.csv\n",
            "/kaggle/input/2020mltermprojectbovw/train_csv_v2/flamingo_head/image_0022.csv\n",
            "/kaggle/input/2020mltermprojectbovw/train_csv_v2/flamingo_head/image_0013.csv\n",
            "/kaggle/input/2020mltermprojectbovw/train_csv_v2/flamingo_head/image_0038.csv\n",
            "/kaggle/input/2020mltermprojectbovw/train_csv_v2/flamingo_head/image_0027.csv\n",
            "/kaggle/input/2020mltermprojectbovw/train_csv_v2/flamingo_head/image_0032.csv\n",
            "/kaggle/input/2020mltermprojectbovw/train_csv_v2/flamingo_head/image_0037.csv\n",
            "/kaggle/input/2020mltermprojectbovw/train_csv_v2/flamingo_head/image_0033.csv\n",
            "/kaggle/input/2020mltermprojectbovw/train_csv_v2/flamingo_head/image_0035.csv\n",
            "/kaggle/input/2020mltermprojectbovw/train_csv_v2/flamingo_head/image_0010.csv\n",
            "/kaggle/input/2020mltermprojectbovw/train_csv_v2/flamingo_head/image_0026.csv\n",
            "/kaggle/input/2020mltermprojectbovw/train_csv_v2/flamingo_head/image_0045.csv\n",
            "/kaggle/input/2020mltermprojectbovw/train_csv_v2/flamingo_head/image_0030.csv\n",
            "/kaggle/input/2020mltermprojectbovw/train_csv_v2/flamingo_head/image_0039.csv\n",
            "/kaggle/input/2020mltermprojectbovw/train_csv_v2/umbrella/image_0003.csv\n",
            "/kaggle/input/2020mltermprojectbovw/train_csv_v2/umbrella/image_0055.csv\n",
            "/kaggle/input/2020mltermprojectbovw/train_csv_v2/umbrella/image_0008.csv\n",
            "/kaggle/input/2020mltermprojectbovw/train_csv_v2/umbrella/image_0060.csv\n",
            "/kaggle/input/2020mltermprojectbovw/train_csv_v2/umbrella/image_0024.csv\n",
            "/kaggle/input/2020mltermprojectbovw/train_csv_v2/umbrella/image_0001.csv\n",
            "/kaggle/input/2020mltermprojectbovw/train_csv_v2/umbrella/image_0015.csv\n",
            "/kaggle/input/2020mltermprojectbovw/train_csv_v2/umbrella/image_0066.csv\n",
            "/kaggle/input/2020mltermprojectbovw/train_csv_v2/umbrella/image_0049.csv\n",
            "/kaggle/input/2020mltermprojectbovw/train_csv_v2/umbrella/image_0075.csv\n",
            "/kaggle/input/2020mltermprojectbovw/train_csv_v2/umbrella/image_0020.csv\n",
            "/kaggle/input/2020mltermprojectbovw/train_csv_v2/umbrella/image_0028.csv\n",
            "/kaggle/input/2020mltermprojectbovw/train_csv_v2/umbrella/image_0071.csv\n",
            "/kaggle/input/2020mltermprojectbovw/train_csv_v2/umbrella/image_0042.csv\n",
            "/kaggle/input/2020mltermprojectbovw/train_csv_v2/umbrella/image_0014.csv\n",
            "/kaggle/input/2020mltermprojectbovw/train_csv_v2/umbrella/image_0054.csv\n",
            "/kaggle/input/2020mltermprojectbovw/train_csv_v2/umbrella/image_0044.csv\n",
            "/kaggle/input/2020mltermprojectbovw/train_csv_v2/umbrella/image_0041.csv\n",
            "/kaggle/input/2020mltermprojectbovw/train_csv_v2/umbrella/image_0070.csv\n",
            "/kaggle/input/2020mltermprojectbovw/train_csv_v2/umbrella/image_0047.csv\n",
            "/kaggle/input/2020mltermprojectbovw/train_csv_v2/umbrella/image_0043.csv\n",
            "/kaggle/input/2020mltermprojectbovw/train_csv_v2/umbrella/image_0027.csv\n",
            "/kaggle/input/2020mltermprojectbovw/train_csv_v2/umbrella/image_0037.csv\n",
            "/kaggle/input/2020mltermprojectbovw/train_csv_v2/umbrella/image_0019.csv\n",
            "/kaggle/input/2020mltermprojectbovw/train_csv_v2/umbrella/image_0035.csv\n",
            "/kaggle/input/2020mltermprojectbovw/train_csv_v2/umbrella/image_0050.csv\n",
            "/kaggle/input/2020mltermprojectbovw/train_csv_v2/umbrella/image_0074.csv\n",
            "/kaggle/input/2020mltermprojectbovw/train_csv_v2/umbrella/image_0026.csv\n",
            "/kaggle/input/2020mltermprojectbovw/train_csv_v2/umbrella/image_0007.csv\n",
            "/kaggle/input/2020mltermprojectbovw/train_csv_v2/umbrella/image_0045.csv\n",
            "/kaggle/input/2020mltermprojectbovw/train_csv_v2/stegosaurus/image_0025.csv\n",
            "/kaggle/input/2020mltermprojectbovw/train_csv_v2/stegosaurus/image_0036.csv\n",
            "/kaggle/input/2020mltermprojectbovw/train_csv_v2/stegosaurus/image_0015.csv\n",
            "/kaggle/input/2020mltermprojectbovw/train_csv_v2/stegosaurus/image_0034.csv\n",
            "/kaggle/input/2020mltermprojectbovw/train_csv_v2/stegosaurus/image_0049.csv\n",
            "/kaggle/input/2020mltermprojectbovw/train_csv_v2/stegosaurus/image_0042.csv\n",
            "/kaggle/input/2020mltermprojectbovw/train_csv_v2/stegosaurus/image_0014.csv\n",
            "/kaggle/input/2020mltermprojectbovw/train_csv_v2/stegosaurus/image_0054.csv\n",
            "/kaggle/input/2020mltermprojectbovw/train_csv_v2/stegosaurus/image_0044.csv\n",
            "/kaggle/input/2020mltermprojectbovw/train_csv_v2/stegosaurus/image_0004.csv\n",
            "/kaggle/input/2020mltermprojectbovw/train_csv_v2/stegosaurus/image_0009.csv\n",
            "/kaggle/input/2020mltermprojectbovw/train_csv_v2/stegosaurus/image_0021.csv\n",
            "/kaggle/input/2020mltermprojectbovw/train_csv_v2/stegosaurus/image_0046.csv\n",
            "/kaggle/input/2020mltermprojectbovw/train_csv_v2/stegosaurus/image_0012.csv\n",
            "/kaggle/input/2020mltermprojectbovw/train_csv_v2/stegosaurus/image_0022.csv\n",
            "/kaggle/input/2020mltermprojectbovw/train_csv_v2/stegosaurus/image_0047.csv\n",
            "/kaggle/input/2020mltermprojectbovw/train_csv_v2/stegosaurus/image_0013.csv\n",
            "/kaggle/input/2020mltermprojectbovw/train_csv_v2/stegosaurus/image_0038.csv\n",
            "/kaggle/input/2020mltermprojectbovw/train_csv_v2/stegosaurus/image_0043.csv\n",
            "/kaggle/input/2020mltermprojectbovw/train_csv_v2/stegosaurus/image_0027.csv\n",
            "/kaggle/input/2020mltermprojectbovw/train_csv_v2/stegosaurus/image_0006.csv\n",
            "/kaggle/input/2020mltermprojectbovw/train_csv_v2/stegosaurus/image_0011.csv\n",
            "/kaggle/input/2020mltermprojectbovw/train_csv_v2/stegosaurus/image_0037.csv\n",
            "/kaggle/input/2020mltermprojectbovw/train_csv_v2/stegosaurus/image_0051.csv\n",
            "/kaggle/input/2020mltermprojectbovw/train_csv_v2/stegosaurus/image_0035.csv\n",
            "/kaggle/input/2020mltermprojectbovw/train_csv_v2/stegosaurus/image_0050.csv\n",
            "/kaggle/input/2020mltermprojectbovw/train_csv_v2/stegosaurus/image_0026.csv\n",
            "/kaggle/input/2020mltermprojectbovw/train_csv_v2/stegosaurus/image_0030.csv\n",
            "/kaggle/input/2020mltermprojectbovw/train_csv_v2/stegosaurus/image_0040.csv\n",
            "/kaggle/input/2020mltermprojectbovw/train_csv_v2/stegosaurus/image_0039.csv\n",
            "/kaggle/input/2020mltermprojectbovw/train_csv_v2/revolver/image_0001.csv\n",
            "/kaggle/input/2020mltermprojectbovw/train_csv_v2/revolver/image_0025.csv\n",
            "/kaggle/input/2020mltermprojectbovw/train_csv_v2/revolver/image_0080.csv\n",
            "/kaggle/input/2020mltermprojectbovw/train_csv_v2/revolver/image_0034.csv\n",
            "/kaggle/input/2020mltermprojectbovw/train_csv_v2/revolver/image_0069.csv\n",
            "/kaggle/input/2020mltermprojectbovw/train_csv_v2/revolver/image_0049.csv\n",
            "/kaggle/input/2020mltermprojectbovw/train_csv_v2/revolver/image_0075.csv\n",
            "/kaggle/input/2020mltermprojectbovw/train_csv_v2/revolver/image_0005.csv\n",
            "/kaggle/input/2020mltermprojectbovw/train_csv_v2/revolver/image_0071.csv\n",
            "/kaggle/input/2020mltermprojectbovw/train_csv_v2/revolver/image_0042.csv\n",
            "/kaggle/input/2020mltermprojectbovw/train_csv_v2/revolver/image_0054.csv\n",
            "/kaggle/input/2020mltermprojectbovw/train_csv_v2/revolver/image_0004.csv\n",
            "/kaggle/input/2020mltermprojectbovw/train_csv_v2/revolver/image_0016.csv\n",
            "/kaggle/input/2020mltermprojectbovw/train_csv_v2/revolver/image_0065.csv\n",
            "/kaggle/input/2020mltermprojectbovw/train_csv_v2/revolver/image_0041.csv\n",
            "/kaggle/input/2020mltermprojectbovw/train_csv_v2/revolver/image_0070.csv\n",
            "/kaggle/input/2020mltermprojectbovw/train_csv_v2/revolver/image_0046.csv\n",
            "/kaggle/input/2020mltermprojectbovw/train_csv_v2/revolver/image_0002.csv\n",
            "/kaggle/input/2020mltermprojectbovw/train_csv_v2/revolver/image_0022.csv\n",
            "/kaggle/input/2020mltermprojectbovw/train_csv_v2/revolver/image_0013.csv\n",
            "/kaggle/input/2020mltermprojectbovw/train_csv_v2/revolver/image_0043.csv\n",
            "/kaggle/input/2020mltermprojectbovw/train_csv_v2/revolver/image_0072.csv\n",
            "/kaggle/input/2020mltermprojectbovw/train_csv_v2/revolver/image_0006.csv\n",
            "/kaggle/input/2020mltermprojectbovw/train_csv_v2/revolver/image_0011.csv\n",
            "/kaggle/input/2020mltermprojectbovw/train_csv_v2/revolver/image_0051.csv\n",
            "/kaggle/input/2020mltermprojectbovw/train_csv_v2/revolver/image_0035.csv\n",
            "/kaggle/input/2020mltermprojectbovw/train_csv_v2/revolver/image_0010.csv\n",
            "/kaggle/input/2020mltermprojectbovw/train_csv_v2/revolver/image_0064.csv\n",
            "/kaggle/input/2020mltermprojectbovw/train_csv_v2/revolver/image_0045.csv\n",
            "/kaggle/input/2020mltermprojectbovw/train_csv_v2/revolver/image_0039.csv\n",
            "/kaggle/input/2020mltermprojectbovw/train_csv_v2/gerenuk/image_0003.csv\n",
            "/kaggle/input/2020mltermprojectbovw/train_csv_v2/gerenuk/image_0008.csv\n",
            "/kaggle/input/2020mltermprojectbovw/train_csv_v2/gerenuk/image_0001.csv\n",
            "/kaggle/input/2020mltermprojectbovw/train_csv_v2/gerenuk/image_0025.csv\n",
            "/kaggle/input/2020mltermprojectbovw/train_csv_v2/gerenuk/image_0017.csv\n",
            "/kaggle/input/2020mltermprojectbovw/train_csv_v2/gerenuk/image_0005.csv\n",
            "/kaggle/input/2020mltermprojectbovw/train_csv_v2/gerenuk/image_0020.csv\n",
            "/kaggle/input/2020mltermprojectbovw/train_csv_v2/gerenuk/image_0031.csv\n",
            "/kaggle/input/2020mltermprojectbovw/train_csv_v2/gerenuk/image_0028.csv\n",
            "/kaggle/input/2020mltermprojectbovw/train_csv_v2/gerenuk/image_0014.csv\n",
            "/kaggle/input/2020mltermprojectbovw/train_csv_v2/gerenuk/image_0018.csv\n",
            "/kaggle/input/2020mltermprojectbovw/train_csv_v2/gerenuk/image_0004.csv\n",
            "/kaggle/input/2020mltermprojectbovw/train_csv_v2/gerenuk/image_0029.csv\n",
            "/kaggle/input/2020mltermprojectbovw/train_csv_v2/gerenuk/image_0016.csv\n",
            "/kaggle/input/2020mltermprojectbovw/train_csv_v2/gerenuk/image_0009.csv\n",
            "/kaggle/input/2020mltermprojectbovw/train_csv_v2/gerenuk/image_0021.csv\n",
            "/kaggle/input/2020mltermprojectbovw/train_csv_v2/gerenuk/image_0023.csv\n",
            "/kaggle/input/2020mltermprojectbovw/train_csv_v2/gerenuk/image_0002.csv\n",
            "/kaggle/input/2020mltermprojectbovw/train_csv_v2/gerenuk/image_0022.csv\n",
            "/kaggle/input/2020mltermprojectbovw/train_csv_v2/gerenuk/image_0013.csv\n",
            "/kaggle/input/2020mltermprojectbovw/train_csv_v2/gerenuk/image_0027.csv\n",
            "/kaggle/input/2020mltermprojectbovw/train_csv_v2/gerenuk/image_0032.csv\n",
            "/kaggle/input/2020mltermprojectbovw/train_csv_v2/gerenuk/image_0006.csv\n",
            "/kaggle/input/2020mltermprojectbovw/train_csv_v2/gerenuk/image_0011.csv\n",
            "/kaggle/input/2020mltermprojectbovw/train_csv_v2/gerenuk/image_0033.csv\n",
            "/kaggle/input/2020mltermprojectbovw/train_csv_v2/gerenuk/image_0019.csv\n",
            "/kaggle/input/2020mltermprojectbovw/train_csv_v2/gerenuk/image_0010.csv\n",
            "/kaggle/input/2020mltermprojectbovw/train_csv_v2/gerenuk/image_0026.csv\n",
            "/kaggle/input/2020mltermprojectbovw/train_csv_v2/gerenuk/image_0007.csv\n",
            "/kaggle/input/2020mltermprojectbovw/train_csv_v2/gerenuk/image_0030.csv\n",
            "/kaggle/input/2020mltermprojectbovw/train_csv_v2/beaver/image_0008.csv\n",
            "/kaggle/input/2020mltermprojectbovw/train_csv_v2/beaver/image_0024.csv\n",
            "/kaggle/input/2020mltermprojectbovw/train_csv_v2/beaver/image_0001.csv\n",
            "/kaggle/input/2020mltermprojectbovw/train_csv_v2/beaver/image_0036.csv\n",
            "/kaggle/input/2020mltermprojectbovw/train_csv_v2/beaver/image_0015.csv\n",
            "/kaggle/input/2020mltermprojectbovw/train_csv_v2/beaver/image_0017.csv\n",
            "/kaggle/input/2020mltermprojectbovw/train_csv_v2/beaver/image_0020.csv\n",
            "/kaggle/input/2020mltermprojectbovw/train_csv_v2/beaver/image_0031.csv\n",
            "/kaggle/input/2020mltermprojectbovw/train_csv_v2/beaver/image_0028.csv\n",
            "/kaggle/input/2020mltermprojectbovw/train_csv_v2/beaver/image_0018.csv\n",
            "/kaggle/input/2020mltermprojectbovw/train_csv_v2/beaver/image_0009.csv\n",
            "/kaggle/input/2020mltermprojectbovw/train_csv_v2/beaver/image_0021.csv\n",
            "/kaggle/input/2020mltermprojectbovw/train_csv_v2/beaver/image_0041.csv\n",
            "/kaggle/input/2020mltermprojectbovw/train_csv_v2/beaver/image_0046.csv\n",
            "/kaggle/input/2020mltermprojectbovw/train_csv_v2/beaver/image_0002.csv\n",
            "/kaggle/input/2020mltermprojectbovw/train_csv_v2/beaver/image_0022.csv\n",
            "/kaggle/input/2020mltermprojectbovw/train_csv_v2/beaver/image_0013.csv\n",
            "/kaggle/input/2020mltermprojectbovw/train_csv_v2/beaver/image_0038.csv\n",
            "/kaggle/input/2020mltermprojectbovw/train_csv_v2/beaver/image_0043.csv\n",
            "/kaggle/input/2020mltermprojectbovw/train_csv_v2/beaver/image_0006.csv\n",
            "/kaggle/input/2020mltermprojectbovw/train_csv_v2/beaver/image_0011.csv\n",
            "/kaggle/input/2020mltermprojectbovw/train_csv_v2/beaver/image_0037.csv\n",
            "/kaggle/input/2020mltermprojectbovw/train_csv_v2/beaver/image_0033.csv\n",
            "/kaggle/input/2020mltermprojectbovw/train_csv_v2/beaver/image_0019.csv\n",
            "/kaggle/input/2020mltermprojectbovw/train_csv_v2/beaver/image_0035.csv\n",
            "/kaggle/input/2020mltermprojectbovw/train_csv_v2/beaver/image_0010.csv\n",
            "/kaggle/input/2020mltermprojectbovw/train_csv_v2/beaver/image_0026.csv\n",
            "/kaggle/input/2020mltermprojectbovw/train_csv_v2/beaver/image_0030.csv\n",
            "/kaggle/input/2020mltermprojectbovw/train_csv_v2/beaver/image_0040.csv\n",
            "/kaggle/input/2020mltermprojectbovw/train_csv_v2/beaver/image_0039.csv\n",
            "/kaggle/input/2020mltermprojectbovw/train_csv_v2/barrel/image_0003.csv\n",
            "/kaggle/input/2020mltermprojectbovw/train_csv_v2/barrel/image_0024.csv\n",
            "/kaggle/input/2020mltermprojectbovw/train_csv_v2/barrel/image_0036.csv\n",
            "/kaggle/input/2020mltermprojectbovw/train_csv_v2/barrel/image_0015.csv\n",
            "/kaggle/input/2020mltermprojectbovw/train_csv_v2/barrel/image_0017.csv\n",
            "/kaggle/input/2020mltermprojectbovw/train_csv_v2/barrel/image_0005.csv\n",
            "/kaggle/input/2020mltermprojectbovw/train_csv_v2/barrel/image_0020.csv\n",
            "/kaggle/input/2020mltermprojectbovw/train_csv_v2/barrel/image_0028.csv\n",
            "/kaggle/input/2020mltermprojectbovw/train_csv_v2/barrel/image_0042.csv\n",
            "/kaggle/input/2020mltermprojectbovw/train_csv_v2/barrel/image_0014.csv\n",
            "/kaggle/input/2020mltermprojectbovw/train_csv_v2/barrel/image_0018.csv\n",
            "/kaggle/input/2020mltermprojectbovw/train_csv_v2/barrel/image_0044.csv\n",
            "/kaggle/input/2020mltermprojectbovw/train_csv_v2/barrel/image_0004.csv\n",
            "/kaggle/input/2020mltermprojectbovw/train_csv_v2/barrel/image_0016.csv\n",
            "/kaggle/input/2020mltermprojectbovw/train_csv_v2/barrel/image_0023.csv\n",
            "/kaggle/input/2020mltermprojectbovw/train_csv_v2/barrel/image_0012.csv\n",
            "/kaggle/input/2020mltermprojectbovw/train_csv_v2/barrel/image_0002.csv\n",
            "/kaggle/input/2020mltermprojectbovw/train_csv_v2/barrel/image_0022.csv\n",
            "/kaggle/input/2020mltermprojectbovw/train_csv_v2/barrel/image_0047.csv\n",
            "/kaggle/input/2020mltermprojectbovw/train_csv_v2/barrel/image_0013.csv\n",
            "/kaggle/input/2020mltermprojectbovw/train_csv_v2/barrel/image_0027.csv\n",
            "/kaggle/input/2020mltermprojectbovw/train_csv_v2/barrel/image_0032.csv\n",
            "/kaggle/input/2020mltermprojectbovw/train_csv_v2/barrel/image_0033.csv\n",
            "/kaggle/input/2020mltermprojectbovw/train_csv_v2/barrel/image_0019.csv\n",
            "/kaggle/input/2020mltermprojectbovw/train_csv_v2/barrel/image_0035.csv\n",
            "/kaggle/input/2020mltermprojectbovw/train_csv_v2/barrel/image_0010.csv\n",
            "/kaggle/input/2020mltermprojectbovw/train_csv_v2/barrel/image_0026.csv\n",
            "/kaggle/input/2020mltermprojectbovw/train_csv_v2/barrel/image_0007.csv\n",
            "/kaggle/input/2020mltermprojectbovw/train_csv_v2/barrel/image_0045.csv\n",
            "/kaggle/input/2020mltermprojectbovw/train_csv_v2/barrel/image_0039.csv\n",
            "/kaggle/input/2020mltermprojectbovw/train_csv_v2/anchor/image_0003.csv\n",
            "/kaggle/input/2020mltermprojectbovw/train_csv_v2/anchor/image_0008.csv\n",
            "/kaggle/input/2020mltermprojectbovw/train_csv_v2/anchor/image_0024.csv\n",
            "/kaggle/input/2020mltermprojectbovw/train_csv_v2/anchor/image_0025.csv\n",
            "/kaggle/input/2020mltermprojectbovw/train_csv_v2/anchor/image_0036.csv\n",
            "/kaggle/input/2020mltermprojectbovw/train_csv_v2/anchor/image_0017.csv\n",
            "/kaggle/input/2020mltermprojectbovw/train_csv_v2/anchor/image_0020.csv\n",
            "/kaggle/input/2020mltermprojectbovw/train_csv_v2/anchor/image_0031.csv\n",
            "/kaggle/input/2020mltermprojectbovw/train_csv_v2/anchor/image_0028.csv\n",
            "/kaggle/input/2020mltermprojectbovw/train_csv_v2/anchor/image_0042.csv\n",
            "/kaggle/input/2020mltermprojectbovw/train_csv_v2/anchor/image_0014.csv\n",
            "/kaggle/input/2020mltermprojectbovw/train_csv_v2/anchor/image_0018.csv\n",
            "/kaggle/input/2020mltermprojectbovw/train_csv_v2/anchor/image_0004.csv\n",
            "/kaggle/input/2020mltermprojectbovw/train_csv_v2/anchor/image_0029.csv\n",
            "/kaggle/input/2020mltermprojectbovw/train_csv_v2/anchor/image_0009.csv\n",
            "/kaggle/input/2020mltermprojectbovw/train_csv_v2/anchor/image_0021.csv\n",
            "/kaggle/input/2020mltermprojectbovw/train_csv_v2/anchor/image_0041.csv\n",
            "/kaggle/input/2020mltermprojectbovw/train_csv_v2/anchor/image_0023.csv\n",
            "/kaggle/input/2020mltermprojectbovw/train_csv_v2/anchor/image_0002.csv\n",
            "/kaggle/input/2020mltermprojectbovw/train_csv_v2/anchor/image_0013.csv\n",
            "/kaggle/input/2020mltermprojectbovw/train_csv_v2/anchor/image_0038.csv\n",
            "/kaggle/input/2020mltermprojectbovw/train_csv_v2/anchor/image_0027.csv\n",
            "/kaggle/input/2020mltermprojectbovw/train_csv_v2/anchor/image_0006.csv\n",
            "/kaggle/input/2020mltermprojectbovw/train_csv_v2/anchor/image_0011.csv\n",
            "/kaggle/input/2020mltermprojectbovw/train_csv_v2/anchor/image_0033.csv\n",
            "/kaggle/input/2020mltermprojectbovw/train_csv_v2/anchor/image_0010.csv\n",
            "/kaggle/input/2020mltermprojectbovw/train_csv_v2/anchor/image_0026.csv\n",
            "/kaggle/input/2020mltermprojectbovw/train_csv_v2/anchor/image_0007.csv\n",
            "/kaggle/input/2020mltermprojectbovw/train_csv_v2/anchor/image_0030.csv\n",
            "/kaggle/input/2020mltermprojectbovw/train_csv_v2/anchor/image_0040.csv\n",
            "/kaggle/input/2020mltermprojectbovw/train_csv_v2/saxophone/image_0003.csv\n",
            "/kaggle/input/2020mltermprojectbovw/train_csv_v2/saxophone/image_0008.csv\n",
            "/kaggle/input/2020mltermprojectbovw/train_csv_v2/saxophone/image_0024.csv\n",
            "/kaggle/input/2020mltermprojectbovw/train_csv_v2/saxophone/image_0001.csv\n",
            "/kaggle/input/2020mltermprojectbovw/train_csv_v2/saxophone/image_0036.csv\n",
            "/kaggle/input/2020mltermprojectbovw/train_csv_v2/saxophone/image_0015.csv\n",
            "/kaggle/input/2020mltermprojectbovw/train_csv_v2/saxophone/image_0034.csv\n",
            "/kaggle/input/2020mltermprojectbovw/train_csv_v2/saxophone/image_0017.csv\n",
            "/kaggle/input/2020mltermprojectbovw/train_csv_v2/saxophone/image_0005.csv\n",
            "/kaggle/input/2020mltermprojectbovw/train_csv_v2/saxophone/image_0020.csv\n",
            "/kaggle/input/2020mltermprojectbovw/train_csv_v2/saxophone/image_0031.csv\n",
            "/kaggle/input/2020mltermprojectbovw/train_csv_v2/saxophone/image_0018.csv\n",
            "/kaggle/input/2020mltermprojectbovw/train_csv_v2/saxophone/image_0004.csv\n",
            "/kaggle/input/2020mltermprojectbovw/train_csv_v2/saxophone/image_0016.csv\n",
            "/kaggle/input/2020mltermprojectbovw/train_csv_v2/saxophone/image_0021.csv\n",
            "/kaggle/input/2020mltermprojectbovw/train_csv_v2/saxophone/image_0023.csv\n",
            "/kaggle/input/2020mltermprojectbovw/train_csv_v2/saxophone/image_0012.csv\n",
            "/kaggle/input/2020mltermprojectbovw/train_csv_v2/saxophone/image_0022.csv\n",
            "/kaggle/input/2020mltermprojectbovw/train_csv_v2/saxophone/image_0038.csv\n",
            "/kaggle/input/2020mltermprojectbovw/train_csv_v2/saxophone/image_0027.csv\n",
            "/kaggle/input/2020mltermprojectbovw/train_csv_v2/saxophone/image_0006.csv\n",
            "/kaggle/input/2020mltermprojectbovw/train_csv_v2/saxophone/image_0011.csv\n",
            "/kaggle/input/2020mltermprojectbovw/train_csv_v2/saxophone/image_0037.csv\n",
            "/kaggle/input/2020mltermprojectbovw/train_csv_v2/saxophone/image_0033.csv\n",
            "/kaggle/input/2020mltermprojectbovw/train_csv_v2/saxophone/image_0019.csv\n",
            "/kaggle/input/2020mltermprojectbovw/train_csv_v2/saxophone/image_0035.csv\n",
            "/kaggle/input/2020mltermprojectbovw/train_csv_v2/saxophone/image_0010.csv\n",
            "/kaggle/input/2020mltermprojectbovw/train_csv_v2/saxophone/image_0007.csv\n",
            "/kaggle/input/2020mltermprojectbovw/train_csv_v2/saxophone/image_0030.csv\n",
            "/kaggle/input/2020mltermprojectbovw/train_csv_v2/saxophone/image_0039.csv\n",
            "/kaggle/input/2020mltermprojectbovw/train_csv_v2/dollar_bill/image_0001.csv\n",
            "/kaggle/input/2020mltermprojectbovw/train_csv_v2/dollar_bill/image_0049.csv\n",
            "/kaggle/input/2020mltermprojectbovw/train_csv_v2/dollar_bill/image_0017.csv\n",
            "/kaggle/input/2020mltermprojectbovw/train_csv_v2/dollar_bill/image_0005.csv\n",
            "/kaggle/input/2020mltermprojectbovw/train_csv_v2/dollar_bill/image_0020.csv\n",
            "/kaggle/input/2020mltermprojectbovw/train_csv_v2/dollar_bill/image_0031.csv\n",
            "/kaggle/input/2020mltermprojectbovw/train_csv_v2/dollar_bill/image_0028.csv\n",
            "/kaggle/input/2020mltermprojectbovw/train_csv_v2/dollar_bill/image_0042.csv\n",
            "/kaggle/input/2020mltermprojectbovw/train_csv_v2/dollar_bill/image_0014.csv\n",
            "/kaggle/input/2020mltermprojectbovw/train_csv_v2/dollar_bill/image_0018.csv\n",
            "/kaggle/input/2020mltermprojectbovw/train_csv_v2/dollar_bill/image_0044.csv\n",
            "/kaggle/input/2020mltermprojectbovw/train_csv_v2/dollar_bill/image_0004.csv\n",
            "/kaggle/input/2020mltermprojectbovw/train_csv_v2/dollar_bill/image_0048.csv\n",
            "/kaggle/input/2020mltermprojectbovw/train_csv_v2/dollar_bill/image_0029.csv\n",
            "/kaggle/input/2020mltermprojectbovw/train_csv_v2/dollar_bill/image_0016.csv\n",
            "/kaggle/input/2020mltermprojectbovw/train_csv_v2/dollar_bill/image_0009.csv\n",
            "/kaggle/input/2020mltermprojectbovw/train_csv_v2/dollar_bill/image_0046.csv\n",
            "/kaggle/input/2020mltermprojectbovw/train_csv_v2/dollar_bill/image_0052.csv\n",
            "/kaggle/input/2020mltermprojectbovw/train_csv_v2/dollar_bill/image_0002.csv\n",
            "/kaggle/input/2020mltermprojectbovw/train_csv_v2/dollar_bill/image_0022.csv\n",
            "/kaggle/input/2020mltermprojectbovw/train_csv_v2/dollar_bill/image_0047.csv\n",
            "/kaggle/input/2020mltermprojectbovw/train_csv_v2/dollar_bill/image_0027.csv\n",
            "/kaggle/input/2020mltermprojectbovw/train_csv_v2/dollar_bill/image_0011.csv\n",
            "/kaggle/input/2020mltermprojectbovw/train_csv_v2/dollar_bill/image_0037.csv\n",
            "/kaggle/input/2020mltermprojectbovw/train_csv_v2/dollar_bill/image_0051.csv\n",
            "/kaggle/input/2020mltermprojectbovw/train_csv_v2/dollar_bill/image_0035.csv\n",
            "/kaggle/input/2020mltermprojectbovw/train_csv_v2/dollar_bill/image_0050.csv\n",
            "/kaggle/input/2020mltermprojectbovw/train_csv_v2/dollar_bill/image_0026.csv\n",
            "/kaggle/input/2020mltermprojectbovw/train_csv_v2/dollar_bill/image_0045.csv\n",
            "/kaggle/input/2020mltermprojectbovw/train_csv_v2/dollar_bill/image_0039.csv\n",
            "/kaggle/input/2020mltermprojectbovw/train_csv_v2/nautilus/image_0055.csv\n",
            "/kaggle/input/2020mltermprojectbovw/train_csv_v2/nautilus/image_0008.csv\n",
            "/kaggle/input/2020mltermprojectbovw/train_csv_v2/nautilus/image_0025.csv\n",
            "/kaggle/input/2020mltermprojectbovw/train_csv_v2/nautilus/image_0036.csv\n",
            "/kaggle/input/2020mltermprojectbovw/train_csv_v2/nautilus/image_0015.csv\n",
            "/kaggle/input/2020mltermprojectbovw/train_csv_v2/nautilus/image_0034.csv\n",
            "/kaggle/input/2020mltermprojectbovw/train_csv_v2/nautilus/image_0049.csv\n",
            "/kaggle/input/2020mltermprojectbovw/train_csv_v2/nautilus/image_0020.csv\n",
            "/kaggle/input/2020mltermprojectbovw/train_csv_v2/nautilus/image_0054.csv\n",
            "/kaggle/input/2020mltermprojectbovw/train_csv_v2/nautilus/image_0004.csv\n",
            "/kaggle/input/2020mltermprojectbovw/train_csv_v2/nautilus/image_0048.csv\n",
            "/kaggle/input/2020mltermprojectbovw/train_csv_v2/nautilus/image_0029.csv\n",
            "/kaggle/input/2020mltermprojectbovw/train_csv_v2/nautilus/image_0016.csv\n",
            "/kaggle/input/2020mltermprojectbovw/train_csv_v2/nautilus/image_0009.csv\n",
            "/kaggle/input/2020mltermprojectbovw/train_csv_v2/nautilus/image_0021.csv\n",
            "/kaggle/input/2020mltermprojectbovw/train_csv_v2/nautilus/image_0046.csv\n",
            "/kaggle/input/2020mltermprojectbovw/train_csv_v2/nautilus/image_0053.csv\n",
            "/kaggle/input/2020mltermprojectbovw/train_csv_v2/nautilus/image_0023.csv\n",
            "/kaggle/input/2020mltermprojectbovw/train_csv_v2/nautilus/image_0002.csv\n",
            "/kaggle/input/2020mltermprojectbovw/train_csv_v2/nautilus/image_0043.csv\n",
            "/kaggle/input/2020mltermprojectbovw/train_csv_v2/nautilus/image_0011.csv\n",
            "/kaggle/input/2020mltermprojectbovw/train_csv_v2/nautilus/image_0037.csv\n",
            "/kaggle/input/2020mltermprojectbovw/train_csv_v2/nautilus/image_0033.csv\n",
            "/kaggle/input/2020mltermprojectbovw/train_csv_v2/nautilus/image_0051.csv\n",
            "/kaggle/input/2020mltermprojectbovw/train_csv_v2/nautilus/image_0019.csv\n",
            "/kaggle/input/2020mltermprojectbovw/train_csv_v2/nautilus/image_0010.csv\n",
            "/kaggle/input/2020mltermprojectbovw/train_csv_v2/nautilus/image_0050.csv\n",
            "/kaggle/input/2020mltermprojectbovw/train_csv_v2/nautilus/image_0026.csv\n",
            "/kaggle/input/2020mltermprojectbovw/train_csv_v2/nautilus/image_0007.csv\n",
            "/kaggle/input/2020mltermprojectbovw/train_csv_v2/nautilus/image_0045.csv\n",
            "/kaggle/input/2020mltermprojectbovw/train_csv_v2/elephant/image_0003.csv\n",
            "/kaggle/input/2020mltermprojectbovw/train_csv_v2/elephant/image_0055.csv\n",
            "/kaggle/input/2020mltermprojectbovw/train_csv_v2/elephant/image_0056.csv\n",
            "/kaggle/input/2020mltermprojectbovw/train_csv_v2/elephant/image_0008.csv\n",
            "/kaggle/input/2020mltermprojectbovw/train_csv_v2/elephant/image_0060.csv\n",
            "/kaggle/input/2020mltermprojectbovw/train_csv_v2/elephant/image_0024.csv\n",
            "/kaggle/input/2020mltermprojectbovw/train_csv_v2/elephant/image_0001.csv\n",
            "/kaggle/input/2020mltermprojectbovw/train_csv_v2/elephant/image_0049.csv\n",
            "/kaggle/input/2020mltermprojectbovw/train_csv_v2/elephant/image_0005.csv\n",
            "/kaggle/input/2020mltermprojectbovw/train_csv_v2/elephant/image_0020.csv\n",
            "/kaggle/input/2020mltermprojectbovw/train_csv_v2/elephant/image_0031.csv\n",
            "/kaggle/input/2020mltermprojectbovw/train_csv_v2/elephant/image_0014.csv\n",
            "/kaggle/input/2020mltermprojectbovw/train_csv_v2/elephant/image_0018.csv\n",
            "/kaggle/input/2020mltermprojectbovw/train_csv_v2/elephant/image_0044.csv\n",
            "/kaggle/input/2020mltermprojectbovw/train_csv_v2/elephant/image_0016.csv\n",
            "/kaggle/input/2020mltermprojectbovw/train_csv_v2/elephant/image_0009.csv\n",
            "/kaggle/input/2020mltermprojectbovw/train_csv_v2/elephant/image_0021.csv\n",
            "/kaggle/input/2020mltermprojectbovw/train_csv_v2/elephant/image_0046.csv\n",
            "/kaggle/input/2020mltermprojectbovw/train_csv_v2/elephant/image_0053.csv\n",
            "/kaggle/input/2020mltermprojectbovw/train_csv_v2/elephant/image_0023.csv\n",
            "/kaggle/input/2020mltermprojectbovw/train_csv_v2/elephant/image_0013.csv\n",
            "/kaggle/input/2020mltermprojectbovw/train_csv_v2/elephant/image_0006.csv\n",
            "/kaggle/input/2020mltermprojectbovw/train_csv_v2/elephant/image_0059.csv\n",
            "/kaggle/input/2020mltermprojectbovw/train_csv_v2/elephant/image_0037.csv\n",
            "/kaggle/input/2020mltermprojectbovw/train_csv_v2/elephant/image_0033.csv\n",
            "/kaggle/input/2020mltermprojectbovw/train_csv_v2/elephant/image_0050.csv\n",
            "/kaggle/input/2020mltermprojectbovw/train_csv_v2/elephant/image_0026.csv\n",
            "/kaggle/input/2020mltermprojectbovw/train_csv_v2/elephant/image_0007.csv\n",
            "/kaggle/input/2020mltermprojectbovw/train_csv_v2/elephant/image_0045.csv\n",
            "/kaggle/input/2020mltermprojectbovw/train_csv_v2/elephant/image_0040.csv\n",
            "/kaggle/input/2020mltermprojectbovw/train_csv_v2/llama/image_0003.csv\n",
            "/kaggle/input/2020mltermprojectbovw/train_csv_v2/llama/image_0056.csv\n",
            "/kaggle/input/2020mltermprojectbovw/train_csv_v2/llama/image_0024.csv\n",
            "/kaggle/input/2020mltermprojectbovw/train_csv_v2/llama/image_0001.csv\n",
            "/kaggle/input/2020mltermprojectbovw/train_csv_v2/llama/image_0069.csv\n",
            "/kaggle/input/2020mltermprojectbovw/train_csv_v2/llama/image_0049.csv\n",
            "/kaggle/input/2020mltermprojectbovw/train_csv_v2/llama/image_0063.csv\n",
            "/kaggle/input/2020mltermprojectbovw/train_csv_v2/llama/image_0005.csv\n",
            "/kaggle/input/2020mltermprojectbovw/train_csv_v2/llama/image_0054.csv\n",
            "/kaggle/input/2020mltermprojectbovw/train_csv_v2/llama/image_0076.csv\n",
            "/kaggle/input/2020mltermprojectbovw/train_csv_v2/llama/image_0044.csv\n",
            "/kaggle/input/2020mltermprojectbovw/train_csv_v2/llama/image_0029.csv\n",
            "/kaggle/input/2020mltermprojectbovw/train_csv_v2/llama/image_0009.csv\n",
            "/kaggle/input/2020mltermprojectbovw/train_csv_v2/llama/image_0065.csv\n",
            "/kaggle/input/2020mltermprojectbovw/train_csv_v2/llama/image_0021.csv\n",
            "/kaggle/input/2020mltermprojectbovw/train_csv_v2/llama/image_0041.csv\n",
            "/kaggle/input/2020mltermprojectbovw/train_csv_v2/llama/image_0070.csv\n",
            "/kaggle/input/2020mltermprojectbovw/train_csv_v2/llama/image_0052.csv\n",
            "/kaggle/input/2020mltermprojectbovw/train_csv_v2/llama/image_0022.csv\n",
            "/kaggle/input/2020mltermprojectbovw/train_csv_v2/llama/image_0059.csv\n",
            "/kaggle/input/2020mltermprojectbovw/train_csv_v2/llama/image_0051.csv\n",
            "/kaggle/input/2020mltermprojectbovw/train_csv_v2/llama/image_0019.csv\n",
            "/kaggle/input/2020mltermprojectbovw/train_csv_v2/llama/image_0010.csv\n",
            "/kaggle/input/2020mltermprojectbovw/train_csv_v2/llama/image_0050.csv\n",
            "/kaggle/input/2020mltermprojectbovw/train_csv_v2/llama/image_0062.csv\n",
            "/kaggle/input/2020mltermprojectbovw/train_csv_v2/llama/image_0064.csv\n",
            "/kaggle/input/2020mltermprojectbovw/train_csv_v2/llama/image_0026.csv\n",
            "/kaggle/input/2020mltermprojectbovw/train_csv_v2/llama/image_0007.csv\n",
            "/kaggle/input/2020mltermprojectbovw/train_csv_v2/llama/image_0040.csv\n",
            "/kaggle/input/2020mltermprojectbovw/train_csv_v2/llama/image_0039.csv\n",
            "/kaggle/input/2020mltermprojectbovw/train_csv_v2/dragonfly/image_0003.csv\n",
            "/kaggle/input/2020mltermprojectbovw/train_csv_v2/dragonfly/image_0055.csv\n",
            "/kaggle/input/2020mltermprojectbovw/train_csv_v2/dragonfly/image_0024.csv\n",
            "/kaggle/input/2020mltermprojectbovw/train_csv_v2/dragonfly/image_0001.csv\n",
            "/kaggle/input/2020mltermprojectbovw/train_csv_v2/dragonfly/image_0036.csv\n",
            "/kaggle/input/2020mltermprojectbovw/train_csv_v2/dragonfly/image_0058.csv\n",
            "/kaggle/input/2020mltermprojectbovw/train_csv_v2/dragonfly/image_0015.csv\n",
            "/kaggle/input/2020mltermprojectbovw/train_csv_v2/dragonfly/image_0017.csv\n",
            "/kaggle/input/2020mltermprojectbovw/train_csv_v2/dragonfly/image_0063.csv\n",
            "/kaggle/input/2020mltermprojectbovw/train_csv_v2/dragonfly/image_0005.csv\n",
            "/kaggle/input/2020mltermprojectbovw/train_csv_v2/dragonfly/image_0020.csv\n",
            "/kaggle/input/2020mltermprojectbovw/train_csv_v2/dragonfly/image_0031.csv\n",
            "/kaggle/input/2020mltermprojectbovw/train_csv_v2/dragonfly/image_0042.csv\n",
            "/kaggle/input/2020mltermprojectbovw/train_csv_v2/dragonfly/image_0014.csv\n",
            "/kaggle/input/2020mltermprojectbovw/train_csv_v2/dragonfly/image_0018.csv\n",
            "/kaggle/input/2020mltermprojectbovw/train_csv_v2/dragonfly/image_0065.csv\n",
            "/kaggle/input/2020mltermprojectbovw/train_csv_v2/dragonfly/image_0021.csv\n",
            "/kaggle/input/2020mltermprojectbovw/train_csv_v2/dragonfly/image_0053.csv\n",
            "/kaggle/input/2020mltermprojectbovw/train_csv_v2/dragonfly/image_0052.csv\n",
            "/kaggle/input/2020mltermprojectbovw/train_csv_v2/dragonfly/image_0047.csv\n",
            "/kaggle/input/2020mltermprojectbovw/train_csv_v2/dragonfly/image_0043.csv\n",
            "/kaggle/input/2020mltermprojectbovw/train_csv_v2/dragonfly/image_0011.csv\n",
            "/kaggle/input/2020mltermprojectbovw/train_csv_v2/dragonfly/image_0059.csv\n",
            "/kaggle/input/2020mltermprojectbovw/train_csv_v2/dragonfly/image_0037.csv\n",
            "/kaggle/input/2020mltermprojectbovw/train_csv_v2/dragonfly/image_0019.csv\n",
            "/kaggle/input/2020mltermprojectbovw/train_csv_v2/dragonfly/image_0010.csv\n",
            "/kaggle/input/2020mltermprojectbovw/train_csv_v2/dragonfly/image_0064.csv\n",
            "/kaggle/input/2020mltermprojectbovw/train_csv_v2/dragonfly/image_0007.csv\n",
            "/kaggle/input/2020mltermprojectbovw/train_csv_v2/dragonfly/image_0040.csv\n",
            "/kaggle/input/2020mltermprojectbovw/train_csv_v2/dragonfly/image_0039.csv\n",
            "/kaggle/input/2020mltermprojectbovw/train_csv_v2/cougar_face/image_0003.csv\n",
            "/kaggle/input/2020mltermprojectbovw/train_csv_v2/cougar_face/image_0008.csv\n",
            "/kaggle/input/2020mltermprojectbovw/train_csv_v2/cougar_face/image_0036.csv\n",
            "/kaggle/input/2020mltermprojectbovw/train_csv_v2/cougar_face/image_0057.csv\n",
            "/kaggle/input/2020mltermprojectbovw/train_csv_v2/cougar_face/image_0066.csv\n",
            "/kaggle/input/2020mltermprojectbovw/train_csv_v2/cougar_face/image_0049.csv\n",
            "/kaggle/input/2020mltermprojectbovw/train_csv_v2/cougar_face/image_0017.csv\n",
            "/kaggle/input/2020mltermprojectbovw/train_csv_v2/cougar_face/image_0063.csv\n",
            "/kaggle/input/2020mltermprojectbovw/train_csv_v2/cougar_face/image_0020.csv\n",
            "/kaggle/input/2020mltermprojectbovw/train_csv_v2/cougar_face/image_0031.csv\n",
            "/kaggle/input/2020mltermprojectbovw/train_csv_v2/cougar_face/image_0028.csv\n",
            "/kaggle/input/2020mltermprojectbovw/train_csv_v2/cougar_face/image_0054.csv\n",
            "/kaggle/input/2020mltermprojectbovw/train_csv_v2/cougar_face/image_0048.csv\n",
            "/kaggle/input/2020mltermprojectbovw/train_csv_v2/cougar_face/image_0029.csv\n",
            "/kaggle/input/2020mltermprojectbovw/train_csv_v2/cougar_face/image_0016.csv\n",
            "/kaggle/input/2020mltermprojectbovw/train_csv_v2/cougar_face/image_0012.csv\n",
            "/kaggle/input/2020mltermprojectbovw/train_csv_v2/cougar_face/image_0022.csv\n",
            "/kaggle/input/2020mltermprojectbovw/train_csv_v2/cougar_face/image_0047.csv\n",
            "/kaggle/input/2020mltermprojectbovw/train_csv_v2/cougar_face/image_0013.csv\n",
            "/kaggle/input/2020mltermprojectbovw/train_csv_v2/cougar_face/image_0043.csv\n",
            "/kaggle/input/2020mltermprojectbovw/train_csv_v2/cougar_face/image_0032.csv\n",
            "/kaggle/input/2020mltermprojectbovw/train_csv_v2/cougar_face/image_0011.csv\n",
            "/kaggle/input/2020mltermprojectbovw/train_csv_v2/cougar_face/image_0033.csv\n",
            "/kaggle/input/2020mltermprojectbovw/train_csv_v2/cougar_face/image_0019.csv\n",
            "/kaggle/input/2020mltermprojectbovw/train_csv_v2/cougar_face/image_0061.csv\n",
            "/kaggle/input/2020mltermprojectbovw/train_csv_v2/cougar_face/image_0010.csv\n",
            "/kaggle/input/2020mltermprojectbovw/train_csv_v2/cougar_face/image_0062.csv\n",
            "/kaggle/input/2020mltermprojectbovw/train_csv_v2/cougar_face/image_0064.csv\n",
            "/kaggle/input/2020mltermprojectbovw/train_csv_v2/cougar_face/image_0026.csv\n",
            "/kaggle/input/2020mltermprojectbovw/train_csv_v2/cougar_face/image_0030.csv\n",
            "/kaggle/input/2020mltermprojectbovw/train_csv_v2/chandelier/image_0003.csv\n",
            "/kaggle/input/2020mltermprojectbovw/train_csv_v2/chandelier/image_0008.csv\n",
            "/kaggle/input/2020mltermprojectbovw/train_csv_v2/chandelier/image_0089.csv\n",
            "/kaggle/input/2020mltermprojectbovw/train_csv_v2/chandelier/image_0024.csv\n",
            "/kaggle/input/2020mltermprojectbovw/train_csv_v2/chandelier/image_0001.csv\n",
            "/kaggle/input/2020mltermprojectbovw/train_csv_v2/chandelier/image_0036.csv\n",
            "/kaggle/input/2020mltermprojectbovw/train_csv_v2/chandelier/image_0058.csv\n",
            "/kaggle/input/2020mltermprojectbovw/train_csv_v2/chandelier/image_0057.csv\n",
            "/kaggle/input/2020mltermprojectbovw/train_csv_v2/chandelier/image_0066.csv\n",
            "/kaggle/input/2020mltermprojectbovw/train_csv_v2/chandelier/image_0071.csv\n",
            "/kaggle/input/2020mltermprojectbovw/train_csv_v2/chandelier/image_0014.csv\n",
            "/kaggle/input/2020mltermprojectbovw/train_csv_v2/chandelier/image_0029.csv\n",
            "/kaggle/input/2020mltermprojectbovw/train_csv_v2/chandelier/image_0065.csv\n",
            "/kaggle/input/2020mltermprojectbovw/train_csv_v2/chandelier/image_0021.csv\n",
            "/kaggle/input/2020mltermprojectbovw/train_csv_v2/chandelier/image_0070.csv\n",
            "/kaggle/input/2020mltermprojectbovw/train_csv_v2/chandelier/image_0103.csv\n",
            "/kaggle/input/2020mltermprojectbovw/train_csv_v2/chandelier/image_0022.csv\n",
            "/kaggle/input/2020mltermprojectbovw/train_csv_v2/chandelier/image_0077.csv\n",
            "/kaggle/input/2020mltermprojectbovw/train_csv_v2/chandelier/image_0038.csv\n",
            "/kaggle/input/2020mltermprojectbovw/train_csv_v2/chandelier/image_0095.csv\n",
            "/kaggle/input/2020mltermprojectbovw/train_csv_v2/chandelier/image_0088.csv\n",
            "/kaggle/input/2020mltermprojectbovw/train_csv_v2/chandelier/image_0107.csv\n",
            "/kaggle/input/2020mltermprojectbovw/train_csv_v2/chandelier/image_0033.csv\n",
            "/kaggle/input/2020mltermprojectbovw/train_csv_v2/chandelier/image_0051.csv\n",
            "/kaggle/input/2020mltermprojectbovw/train_csv_v2/chandelier/image_0019.csv\n",
            "/kaggle/input/2020mltermprojectbovw/train_csv_v2/chandelier/image_0061.csv\n",
            "/kaggle/input/2020mltermprojectbovw/train_csv_v2/chandelier/image_0062.csv\n",
            "/kaggle/input/2020mltermprojectbovw/train_csv_v2/chandelier/image_0105.csv\n",
            "/kaggle/input/2020mltermprojectbovw/train_csv_v2/chandelier/image_0045.csv\n",
            "/kaggle/input/2020mltermprojectbovw/train_csv_v2/chandelier/image_0083.csv\n",
            "/kaggle/input/2020mltermprojectbovw/train_csv_v2/Motorbikes/image_0056.csv\n",
            "/kaggle/input/2020mltermprojectbovw/train_csv_v2/Motorbikes/image_0217.csv\n",
            "/kaggle/input/2020mltermprojectbovw/train_csv_v2/Motorbikes/image_0001.csv\n",
            "/kaggle/input/2020mltermprojectbovw/train_csv_v2/Motorbikes/image_0787.csv\n",
            "/kaggle/input/2020mltermprojectbovw/train_csv_v2/Motorbikes/image_0149.csv\n",
            "/kaggle/input/2020mltermprojectbovw/train_csv_v2/Motorbikes/image_0269.csv\n",
            "/kaggle/input/2020mltermprojectbovw/train_csv_v2/Motorbikes/image_0589.csv\n",
            "/kaggle/input/2020mltermprojectbovw/train_csv_v2/Motorbikes/image_0467.csv\n",
            "/kaggle/input/2020mltermprojectbovw/train_csv_v2/Motorbikes/image_0247.csv\n",
            "/kaggle/input/2020mltermprojectbovw/train_csv_v2/Motorbikes/image_0021.csv\n",
            "/kaggle/input/2020mltermprojectbovw/train_csv_v2/Motorbikes/image_0783.csv\n",
            "/kaggle/input/2020mltermprojectbovw/train_csv_v2/Motorbikes/image_0200.csv\n",
            "/kaggle/input/2020mltermprojectbovw/train_csv_v2/Motorbikes/image_0769.csv\n",
            "/kaggle/input/2020mltermprojectbovw/train_csv_v2/Motorbikes/image_0123.csv\n",
            "/kaggle/input/2020mltermprojectbovw/train_csv_v2/Motorbikes/image_0168.csv\n",
            "/kaggle/input/2020mltermprojectbovw/train_csv_v2/Motorbikes/image_0622.csv\n",
            "/kaggle/input/2020mltermprojectbovw/train_csv_v2/Motorbikes/image_0267.csv\n",
            "/kaggle/input/2020mltermprojectbovw/train_csv_v2/Motorbikes/image_0684.csv\n",
            "/kaggle/input/2020mltermprojectbovw/train_csv_v2/Motorbikes/image_0701.csv\n",
            "/kaggle/input/2020mltermprojectbovw/train_csv_v2/Motorbikes/image_0006.csv\n",
            "/kaggle/input/2020mltermprojectbovw/train_csv_v2/Motorbikes/image_0600.csv\n",
            "/kaggle/input/2020mltermprojectbovw/train_csv_v2/Motorbikes/image_0773.csv\n",
            "/kaggle/input/2020mltermprojectbovw/train_csv_v2/Motorbikes/image_0251.csv\n",
            "/kaggle/input/2020mltermprojectbovw/train_csv_v2/Motorbikes/image_0306.csv\n",
            "/kaggle/input/2020mltermprojectbovw/train_csv_v2/Motorbikes/image_0390.csv\n",
            "/kaggle/input/2020mltermprojectbovw/train_csv_v2/Motorbikes/image_0173.csv\n",
            "/kaggle/input/2020mltermprojectbovw/train_csv_v2/Motorbikes/image_0276.csv\n",
            "/kaggle/input/2020mltermprojectbovw/train_csv_v2/Motorbikes/image_0074.csv\n",
            "/kaggle/input/2020mltermprojectbovw/train_csv_v2/Motorbikes/image_0067.csv\n",
            "/kaggle/input/2020mltermprojectbovw/train_csv_v2/Motorbikes/image_0790.csv\n",
            "/kaggle/input/2020mltermprojectbovw/train_csv_v2/octopus/image_0003.csv\n",
            "/kaggle/input/2020mltermprojectbovw/train_csv_v2/octopus/image_0008.csv\n",
            "/kaggle/input/2020mltermprojectbovw/train_csv_v2/octopus/image_0024.csv\n",
            "/kaggle/input/2020mltermprojectbovw/train_csv_v2/octopus/image_0001.csv\n",
            "/kaggle/input/2020mltermprojectbovw/train_csv_v2/octopus/image_0025.csv\n",
            "/kaggle/input/2020mltermprojectbovw/train_csv_v2/octopus/image_0015.csv\n",
            "/kaggle/input/2020mltermprojectbovw/train_csv_v2/octopus/image_0034.csv\n",
            "/kaggle/input/2020mltermprojectbovw/train_csv_v2/octopus/image_0017.csv\n",
            "/kaggle/input/2020mltermprojectbovw/train_csv_v2/octopus/image_0020.csv\n",
            "/kaggle/input/2020mltermprojectbovw/train_csv_v2/octopus/image_0031.csv\n",
            "/kaggle/input/2020mltermprojectbovw/train_csv_v2/octopus/image_0014.csv\n",
            "/kaggle/input/2020mltermprojectbovw/train_csv_v2/octopus/image_0018.csv\n",
            "/kaggle/input/2020mltermprojectbovw/train_csv_v2/octopus/image_0016.csv\n",
            "/kaggle/input/2020mltermprojectbovw/train_csv_v2/octopus/image_0021.csv\n",
            "/kaggle/input/2020mltermprojectbovw/train_csv_v2/octopus/image_0023.csv\n",
            "/kaggle/input/2020mltermprojectbovw/train_csv_v2/octopus/image_0012.csv\n",
            "/kaggle/input/2020mltermprojectbovw/train_csv_v2/octopus/image_0002.csv\n",
            "/kaggle/input/2020mltermprojectbovw/train_csv_v2/octopus/image_0022.csv\n",
            "/kaggle/input/2020mltermprojectbovw/train_csv_v2/octopus/image_0013.csv\n",
            "/kaggle/input/2020mltermprojectbovw/train_csv_v2/octopus/image_0027.csv\n",
            "/kaggle/input/2020mltermprojectbovw/train_csv_v2/octopus/image_0032.csv\n",
            "/kaggle/input/2020mltermprojectbovw/train_csv_v2/octopus/image_0006.csv\n",
            "/kaggle/input/2020mltermprojectbovw/train_csv_v2/octopus/image_0011.csv\n",
            "/kaggle/input/2020mltermprojectbovw/train_csv_v2/octopus/image_0033.csv\n",
            "/kaggle/input/2020mltermprojectbovw/train_csv_v2/octopus/image_0019.csv\n",
            "/kaggle/input/2020mltermprojectbovw/train_csv_v2/octopus/image_0035.csv\n",
            "/kaggle/input/2020mltermprojectbovw/train_csv_v2/octopus/image_0010.csv\n",
            "/kaggle/input/2020mltermprojectbovw/train_csv_v2/octopus/image_0026.csv\n",
            "/kaggle/input/2020mltermprojectbovw/train_csv_v2/octopus/image_0007.csv\n",
            "/kaggle/input/2020mltermprojectbovw/train_csv_v2/octopus/image_0030.csv\n",
            "/kaggle/input/2020mltermprojectbovw/train_csv_v2/pyramid/image_0003.csv\n",
            "/kaggle/input/2020mltermprojectbovw/train_csv_v2/pyramid/image_0055.csv\n",
            "/kaggle/input/2020mltermprojectbovw/train_csv_v2/pyramid/image_0024.csv\n",
            "/kaggle/input/2020mltermprojectbovw/train_csv_v2/pyramid/image_0001.csv\n",
            "/kaggle/input/2020mltermprojectbovw/train_csv_v2/pyramid/image_0025.csv\n",
            "/kaggle/input/2020mltermprojectbovw/train_csv_v2/pyramid/image_0036.csv\n",
            "/kaggle/input/2020mltermprojectbovw/train_csv_v2/pyramid/image_0057.csv\n",
            "/kaggle/input/2020mltermprojectbovw/train_csv_v2/pyramid/image_0005.csv\n",
            "/kaggle/input/2020mltermprojectbovw/train_csv_v2/pyramid/image_0020.csv\n",
            "/kaggle/input/2020mltermprojectbovw/train_csv_v2/pyramid/image_0042.csv\n",
            "/kaggle/input/2020mltermprojectbovw/train_csv_v2/pyramid/image_0014.csv\n",
            "/kaggle/input/2020mltermprojectbovw/train_csv_v2/pyramid/image_0054.csv\n",
            "/kaggle/input/2020mltermprojectbovw/train_csv_v2/pyramid/image_0018.csv\n",
            "/kaggle/input/2020mltermprojectbovw/train_csv_v2/pyramid/image_0044.csv\n",
            "/kaggle/input/2020mltermprojectbovw/train_csv_v2/pyramid/image_0004.csv\n",
            "/kaggle/input/2020mltermprojectbovw/train_csv_v2/pyramid/image_0048.csv\n",
            "/kaggle/input/2020mltermprojectbovw/train_csv_v2/pyramid/image_0009.csv\n",
            "/kaggle/input/2020mltermprojectbovw/train_csv_v2/pyramid/image_0041.csv\n",
            "/kaggle/input/2020mltermprojectbovw/train_csv_v2/pyramid/image_0046.csv\n",
            "/kaggle/input/2020mltermprojectbovw/train_csv_v2/pyramid/image_0023.csv\n",
            "/kaggle/input/2020mltermprojectbovw/train_csv_v2/pyramid/image_0012.csv\n",
            "/kaggle/input/2020mltermprojectbovw/train_csv_v2/pyramid/image_0002.csv\n",
            "/kaggle/input/2020mltermprojectbovw/train_csv_v2/pyramid/image_0013.csv\n",
            "/kaggle/input/2020mltermprojectbovw/train_csv_v2/pyramid/image_0043.csv\n",
            "/kaggle/input/2020mltermprojectbovw/train_csv_v2/pyramid/image_0027.csv\n",
            "/kaggle/input/2020mltermprojectbovw/train_csv_v2/pyramid/image_0006.csv\n",
            "/kaggle/input/2020mltermprojectbovw/train_csv_v2/pyramid/image_0019.csv\n",
            "/kaggle/input/2020mltermprojectbovw/train_csv_v2/pyramid/image_0035.csv\n",
            "/kaggle/input/2020mltermprojectbovw/train_csv_v2/pyramid/image_0050.csv\n",
            "/kaggle/input/2020mltermprojectbovw/train_csv_v2/pyramid/image_0026.csv\n",
            "/kaggle/input/2020mltermprojectbovw/train_csv_v2/cannon/image_0008.csv\n",
            "/kaggle/input/2020mltermprojectbovw/train_csv_v2/cannon/image_0024.csv\n",
            "/kaggle/input/2020mltermprojectbovw/train_csv_v2/cannon/image_0001.csv\n",
            "/kaggle/input/2020mltermprojectbovw/train_csv_v2/cannon/image_0025.csv\n",
            "/kaggle/input/2020mltermprojectbovw/train_csv_v2/cannon/image_0036.csv\n",
            "/kaggle/input/2020mltermprojectbovw/train_csv_v2/cannon/image_0034.csv\n",
            "/kaggle/input/2020mltermprojectbovw/train_csv_v2/cannon/image_0005.csv\n",
            "/kaggle/input/2020mltermprojectbovw/train_csv_v2/cannon/image_0020.csv\n",
            "/kaggle/input/2020mltermprojectbovw/train_csv_v2/cannon/image_0028.csv\n",
            "/kaggle/input/2020mltermprojectbovw/train_csv_v2/cannon/image_0042.csv\n",
            "/kaggle/input/2020mltermprojectbovw/train_csv_v2/cannon/image_0014.csv\n",
            "/kaggle/input/2020mltermprojectbovw/train_csv_v2/cannon/image_0018.csv\n",
            "/kaggle/input/2020mltermprojectbovw/train_csv_v2/cannon/image_0029.csv\n",
            "/kaggle/input/2020mltermprojectbovw/train_csv_v2/cannon/image_0016.csv\n",
            "/kaggle/input/2020mltermprojectbovw/train_csv_v2/cannon/image_0009.csv\n",
            "/kaggle/input/2020mltermprojectbovw/train_csv_v2/cannon/image_0021.csv\n",
            "/kaggle/input/2020mltermprojectbovw/train_csv_v2/cannon/image_0041.csv\n",
            "/kaggle/input/2020mltermprojectbovw/train_csv_v2/cannon/image_0023.csv\n",
            "/kaggle/input/2020mltermprojectbovw/train_csv_v2/cannon/image_0022.csv\n",
            "/kaggle/input/2020mltermprojectbovw/train_csv_v2/cannon/image_0013.csv\n",
            "/kaggle/input/2020mltermprojectbovw/train_csv_v2/cannon/image_0038.csv\n",
            "/kaggle/input/2020mltermprojectbovw/train_csv_v2/cannon/image_0043.csv\n",
            "/kaggle/input/2020mltermprojectbovw/train_csv_v2/cannon/image_0032.csv\n",
            "/kaggle/input/2020mltermprojectbovw/train_csv_v2/cannon/image_0006.csv\n",
            "/kaggle/input/2020mltermprojectbovw/train_csv_v2/cannon/image_0011.csv\n",
            "/kaggle/input/2020mltermprojectbovw/train_csv_v2/cannon/image_0037.csv\n",
            "/kaggle/input/2020mltermprojectbovw/train_csv_v2/cannon/image_0007.csv\n",
            "/kaggle/input/2020mltermprojectbovw/train_csv_v2/cannon/image_0030.csv\n",
            "/kaggle/input/2020mltermprojectbovw/train_csv_v2/cannon/image_0040.csv\n",
            "/kaggle/input/2020mltermprojectbovw/train_csv_v2/cannon/image_0039.csv\n",
            "/kaggle/input/2020mltermprojectbovw/train_csv_v2/crayfish/image_0003.csv\n",
            "/kaggle/input/2020mltermprojectbovw/train_csv_v2/crayfish/image_0055.csv\n",
            "/kaggle/input/2020mltermprojectbovw/train_csv_v2/crayfish/image_0024.csv\n",
            "/kaggle/input/2020mltermprojectbovw/train_csv_v2/crayfish/image_0025.csv\n",
            "/kaggle/input/2020mltermprojectbovw/train_csv_v2/crayfish/image_0058.csv\n",
            "/kaggle/input/2020mltermprojectbovw/train_csv_v2/crayfish/image_0057.csv\n",
            "/kaggle/input/2020mltermprojectbovw/train_csv_v2/crayfish/image_0034.csv\n",
            "/kaggle/input/2020mltermprojectbovw/train_csv_v2/crayfish/image_0017.csv\n",
            "/kaggle/input/2020mltermprojectbovw/train_csv_v2/crayfish/image_0063.csv\n",
            "/kaggle/input/2020mltermprojectbovw/train_csv_v2/crayfish/image_0018.csv\n",
            "/kaggle/input/2020mltermprojectbovw/train_csv_v2/crayfish/image_0009.csv\n",
            "/kaggle/input/2020mltermprojectbovw/train_csv_v2/crayfish/image_0021.csv\n",
            "/kaggle/input/2020mltermprojectbovw/train_csv_v2/crayfish/image_0070.csv\n",
            "/kaggle/input/2020mltermprojectbovw/train_csv_v2/crayfish/image_0053.csv\n",
            "/kaggle/input/2020mltermprojectbovw/train_csv_v2/crayfish/image_0052.csv\n",
            "/kaggle/input/2020mltermprojectbovw/train_csv_v2/crayfish/image_0022.csv\n",
            "/kaggle/input/2020mltermprojectbovw/train_csv_v2/crayfish/image_0047.csv\n",
            "/kaggle/input/2020mltermprojectbovw/train_csv_v2/crayfish/image_0038.csv\n",
            "/kaggle/input/2020mltermprojectbovw/train_csv_v2/crayfish/image_0043.csv\n",
            "/kaggle/input/2020mltermprojectbovw/train_csv_v2/crayfish/image_0027.csv\n",
            "/kaggle/input/2020mltermprojectbovw/train_csv_v2/crayfish/image_0032.csv\n",
            "/kaggle/input/2020mltermprojectbovw/train_csv_v2/crayfish/image_0059.csv\n",
            "/kaggle/input/2020mltermprojectbovw/train_csv_v2/crayfish/image_0051.csv\n",
            "/kaggle/input/2020mltermprojectbovw/train_csv_v2/crayfish/image_0019.csv\n",
            "/kaggle/input/2020mltermprojectbovw/train_csv_v2/crayfish/image_0035.csv\n",
            "/kaggle/input/2020mltermprojectbovw/train_csv_v2/crayfish/image_0061.csv\n",
            "/kaggle/input/2020mltermprojectbovw/train_csv_v2/crayfish/image_0050.csv\n",
            "/kaggle/input/2020mltermprojectbovw/train_csv_v2/crayfish/image_0062.csv\n",
            "/kaggle/input/2020mltermprojectbovw/train_csv_v2/crayfish/image_0045.csv\n",
            "/kaggle/input/2020mltermprojectbovw/train_csv_v2/crayfish/image_0039.csv\n",
            "/kaggle/input/2020mltermprojectbovw/train_csv_v2/panda/image_0003.csv\n",
            "/kaggle/input/2020mltermprojectbovw/train_csv_v2/panda/image_0008.csv\n",
            "/kaggle/input/2020mltermprojectbovw/train_csv_v2/panda/image_0024.csv\n",
            "/kaggle/input/2020mltermprojectbovw/train_csv_v2/panda/image_0001.csv\n",
            "/kaggle/input/2020mltermprojectbovw/train_csv_v2/panda/image_0025.csv\n",
            "/kaggle/input/2020mltermprojectbovw/train_csv_v2/panda/image_0036.csv\n",
            "/kaggle/input/2020mltermprojectbovw/train_csv_v2/panda/image_0034.csv\n",
            "/kaggle/input/2020mltermprojectbovw/train_csv_v2/panda/image_0017.csv\n",
            "/kaggle/input/2020mltermprojectbovw/train_csv_v2/panda/image_0005.csv\n",
            "/kaggle/input/2020mltermprojectbovw/train_csv_v2/panda/image_0020.csv\n",
            "/kaggle/input/2020mltermprojectbovw/train_csv_v2/panda/image_0031.csv\n",
            "/kaggle/input/2020mltermprojectbovw/train_csv_v2/panda/image_0018.csv\n",
            "/kaggle/input/2020mltermprojectbovw/train_csv_v2/panda/image_0004.csv\n",
            "/kaggle/input/2020mltermprojectbovw/train_csv_v2/panda/image_0029.csv\n",
            "/kaggle/input/2020mltermprojectbovw/train_csv_v2/panda/image_0016.csv\n",
            "/kaggle/input/2020mltermprojectbovw/train_csv_v2/panda/image_0009.csv\n",
            "/kaggle/input/2020mltermprojectbovw/train_csv_v2/panda/image_0012.csv\n",
            "/kaggle/input/2020mltermprojectbovw/train_csv_v2/panda/image_0002.csv\n",
            "/kaggle/input/2020mltermprojectbovw/train_csv_v2/panda/image_0022.csv\n",
            "/kaggle/input/2020mltermprojectbovw/train_csv_v2/panda/image_0013.csv\n",
            "/kaggle/input/2020mltermprojectbovw/train_csv_v2/panda/image_0027.csv\n",
            "/kaggle/input/2020mltermprojectbovw/train_csv_v2/panda/image_0032.csv\n",
            "/kaggle/input/2020mltermprojectbovw/train_csv_v2/panda/image_0011.csv\n",
            "/kaggle/input/2020mltermprojectbovw/train_csv_v2/panda/image_0037.csv\n",
            "/kaggle/input/2020mltermprojectbovw/train_csv_v2/panda/image_0033.csv\n",
            "/kaggle/input/2020mltermprojectbovw/train_csv_v2/panda/image_0019.csv\n",
            "/kaggle/input/2020mltermprojectbovw/train_csv_v2/panda/image_0035.csv\n",
            "/kaggle/input/2020mltermprojectbovw/train_csv_v2/panda/image_0010.csv\n",
            "/kaggle/input/2020mltermprojectbovw/train_csv_v2/panda/image_0026.csv\n",
            "/kaggle/input/2020mltermprojectbovw/train_csv_v2/panda/image_0007.csv\n",
            "/kaggle/input/2020mltermprojectbovw/train_csv_v2/menorah/image_0055.csv\n",
            "/kaggle/input/2020mltermprojectbovw/train_csv_v2/menorah/image_0008.csv\n",
            "/kaggle/input/2020mltermprojectbovw/train_csv_v2/menorah/image_0068.csv\n",
            "/kaggle/input/2020mltermprojectbovw/train_csv_v2/menorah/image_0024.csv\n",
            "/kaggle/input/2020mltermprojectbovw/train_csv_v2/menorah/image_0025.csv\n",
            "/kaggle/input/2020mltermprojectbovw/train_csv_v2/menorah/image_0058.csv\n",
            "/kaggle/input/2020mltermprojectbovw/train_csv_v2/menorah/image_0034.csv\n",
            "/kaggle/input/2020mltermprojectbovw/train_csv_v2/menorah/image_0069.csv\n",
            "/kaggle/input/2020mltermprojectbovw/train_csv_v2/menorah/image_0084.csv\n",
            "/kaggle/input/2020mltermprojectbovw/train_csv_v2/menorah/image_0075.csv\n",
            "/kaggle/input/2020mltermprojectbovw/train_csv_v2/menorah/image_0028.csv\n",
            "/kaggle/input/2020mltermprojectbovw/train_csv_v2/menorah/image_0071.csv\n",
            "/kaggle/input/2020mltermprojectbovw/train_csv_v2/menorah/image_0042.csv\n",
            "/kaggle/input/2020mltermprojectbovw/train_csv_v2/menorah/image_0014.csv\n",
            "/kaggle/input/2020mltermprojectbovw/train_csv_v2/menorah/image_0076.csv\n",
            "/kaggle/input/2020mltermprojectbovw/train_csv_v2/menorah/image_0044.csv\n",
            "/kaggle/input/2020mltermprojectbovw/train_csv_v2/menorah/image_0048.csv\n",
            "/kaggle/input/2020mltermprojectbovw/train_csv_v2/menorah/image_0029.csv\n",
            "/kaggle/input/2020mltermprojectbovw/train_csv_v2/menorah/image_0021.csv\n",
            "/kaggle/input/2020mltermprojectbovw/train_csv_v2/menorah/image_0070.csv\n",
            "/kaggle/input/2020mltermprojectbovw/train_csv_v2/menorah/image_0053.csv\n",
            "/kaggle/input/2020mltermprojectbovw/train_csv_v2/menorah/image_0027.csv\n",
            "/kaggle/input/2020mltermprojectbovw/train_csv_v2/menorah/image_0033.csv\n",
            "/kaggle/input/2020mltermprojectbovw/train_csv_v2/menorah/image_0061.csv\n",
            "/kaggle/input/2020mltermprojectbovw/train_csv_v2/menorah/image_0050.csv\n",
            "/kaggle/input/2020mltermprojectbovw/train_csv_v2/menorah/image_0045.csv\n",
            "/kaggle/input/2020mltermprojectbovw/train_csv_v2/menorah/image_0030.csv\n",
            "/kaggle/input/2020mltermprojectbovw/train_csv_v2/menorah/image_0083.csv\n",
            "/kaggle/input/2020mltermprojectbovw/train_csv_v2/menorah/image_0079.csv\n",
            "/kaggle/input/2020mltermprojectbovw/train_csv_v2/menorah/image_0039.csv\n",
            "/kaggle/input/2020mltermprojectbovw/train_csv_v2/stapler/image_0003.csv\n",
            "/kaggle/input/2020mltermprojectbovw/train_csv_v2/stapler/image_0024.csv\n",
            "/kaggle/input/2020mltermprojectbovw/train_csv_v2/stapler/image_0015.csv\n",
            "/kaggle/input/2020mltermprojectbovw/train_csv_v2/stapler/image_0017.csv\n",
            "/kaggle/input/2020mltermprojectbovw/train_csv_v2/stapler/image_0005.csv\n",
            "/kaggle/input/2020mltermprojectbovw/train_csv_v2/stapler/image_0020.csv\n",
            "/kaggle/input/2020mltermprojectbovw/train_csv_v2/stapler/image_0031.csv\n",
            "/kaggle/input/2020mltermprojectbovw/train_csv_v2/stapler/image_0028.csv\n",
            "/kaggle/input/2020mltermprojectbovw/train_csv_v2/stapler/image_0014.csv\n",
            "/kaggle/input/2020mltermprojectbovw/train_csv_v2/stapler/image_0044.csv\n",
            "/kaggle/input/2020mltermprojectbovw/train_csv_v2/stapler/image_0004.csv\n",
            "/kaggle/input/2020mltermprojectbovw/train_csv_v2/stapler/image_0029.csv\n",
            "/kaggle/input/2020mltermprojectbovw/train_csv_v2/stapler/image_0016.csv\n",
            "/kaggle/input/2020mltermprojectbovw/train_csv_v2/stapler/image_0009.csv\n",
            "/kaggle/input/2020mltermprojectbovw/train_csv_v2/stapler/image_0022.csv\n",
            "/kaggle/input/2020mltermprojectbovw/train_csv_v2/stapler/image_0013.csv\n",
            "/kaggle/input/2020mltermprojectbovw/train_csv_v2/stapler/image_0038.csv\n",
            "/kaggle/input/2020mltermprojectbovw/train_csv_v2/stapler/image_0043.csv\n",
            "/kaggle/input/2020mltermprojectbovw/train_csv_v2/stapler/image_0027.csv\n",
            "/kaggle/input/2020mltermprojectbovw/train_csv_v2/stapler/image_0032.csv\n",
            "/kaggle/input/2020mltermprojectbovw/train_csv_v2/stapler/image_0037.csv\n",
            "/kaggle/input/2020mltermprojectbovw/train_csv_v2/stapler/image_0033.csv\n",
            "/kaggle/input/2020mltermprojectbovw/train_csv_v2/stapler/image_0019.csv\n",
            "/kaggle/input/2020mltermprojectbovw/train_csv_v2/stapler/image_0035.csv\n",
            "/kaggle/input/2020mltermprojectbovw/train_csv_v2/stapler/image_0010.csv\n",
            "/kaggle/input/2020mltermprojectbovw/train_csv_v2/stapler/image_0026.csv\n",
            "/kaggle/input/2020mltermprojectbovw/train_csv_v2/stapler/image_0045.csv\n",
            "/kaggle/input/2020mltermprojectbovw/train_csv_v2/stapler/image_0030.csv\n",
            "/kaggle/input/2020mltermprojectbovw/train_csv_v2/stapler/image_0040.csv\n",
            "/kaggle/input/2020mltermprojectbovw/train_csv_v2/stapler/image_0039.csv\n",
            "/kaggle/input/2020mltermprojectbovw/train_csv_v2/flamingo/image_0055.csv\n",
            "/kaggle/input/2020mltermprojectbovw/train_csv_v2/flamingo/image_0008.csv\n",
            "/kaggle/input/2020mltermprojectbovw/train_csv_v2/flamingo/image_0060.csv\n",
            "/kaggle/input/2020mltermprojectbovw/train_csv_v2/flamingo/image_0024.csv\n",
            "/kaggle/input/2020mltermprojectbovw/train_csv_v2/flamingo/image_0036.csv\n",
            "/kaggle/input/2020mltermprojectbovw/train_csv_v2/flamingo/image_0058.csv\n",
            "/kaggle/input/2020mltermprojectbovw/train_csv_v2/flamingo/image_0057.csv\n",
            "/kaggle/input/2020mltermprojectbovw/train_csv_v2/flamingo/image_0034.csv\n",
            "/kaggle/input/2020mltermprojectbovw/train_csv_v2/flamingo/image_0066.csv\n",
            "/kaggle/input/2020mltermprojectbovw/train_csv_v2/flamingo/image_0005.csv\n",
            "/kaggle/input/2020mltermprojectbovw/train_csv_v2/flamingo/image_0018.csv\n",
            "/kaggle/input/2020mltermprojectbovw/train_csv_v2/flamingo/image_0004.csv\n",
            "/kaggle/input/2020mltermprojectbovw/train_csv_v2/flamingo/image_0029.csv\n",
            "/kaggle/input/2020mltermprojectbovw/train_csv_v2/flamingo/image_0009.csv\n",
            "/kaggle/input/2020mltermprojectbovw/train_csv_v2/flamingo/image_0065.csv\n",
            "/kaggle/input/2020mltermprojectbovw/train_csv_v2/flamingo/image_0041.csv\n",
            "/kaggle/input/2020mltermprojectbovw/train_csv_v2/flamingo/image_0053.csv\n",
            "/kaggle/input/2020mltermprojectbovw/train_csv_v2/flamingo/image_0023.csv\n",
            "/kaggle/input/2020mltermprojectbovw/train_csv_v2/flamingo/image_0022.csv\n",
            "/kaggle/input/2020mltermprojectbovw/train_csv_v2/flamingo/image_0027.csv\n",
            "/kaggle/input/2020mltermprojectbovw/train_csv_v2/flamingo/image_0006.csv\n",
            "/kaggle/input/2020mltermprojectbovw/train_csv_v2/flamingo/image_0037.csv\n",
            "/kaggle/input/2020mltermprojectbovw/train_csv_v2/flamingo/image_0019.csv\n",
            "/kaggle/input/2020mltermprojectbovw/train_csv_v2/flamingo/image_0035.csv\n",
            "/kaggle/input/2020mltermprojectbovw/train_csv_v2/flamingo/image_0061.csv\n",
            "/kaggle/input/2020mltermprojectbovw/train_csv_v2/flamingo/image_0050.csv\n",
            "/kaggle/input/2020mltermprojectbovw/train_csv_v2/flamingo/image_0064.csv\n",
            "/kaggle/input/2020mltermprojectbovw/train_csv_v2/flamingo/image_0045.csv\n",
            "/kaggle/input/2020mltermprojectbovw/train_csv_v2/flamingo/image_0030.csv\n",
            "/kaggle/input/2020mltermprojectbovw/train_csv_v2/flamingo/image_0039.csv\n",
            "/kaggle/input/2020mltermprojectbovw/train_csv_v2/mayfly/image_0003.csv\n",
            "/kaggle/input/2020mltermprojectbovw/train_csv_v2/mayfly/image_0008.csv\n",
            "/kaggle/input/2020mltermprojectbovw/train_csv_v2/mayfly/image_0024.csv\n",
            "/kaggle/input/2020mltermprojectbovw/train_csv_v2/mayfly/image_0001.csv\n",
            "/kaggle/input/2020mltermprojectbovw/train_csv_v2/mayfly/image_0036.csv\n",
            "/kaggle/input/2020mltermprojectbovw/train_csv_v2/mayfly/image_0015.csv\n",
            "/kaggle/input/2020mltermprojectbovw/train_csv_v2/mayfly/image_0034.csv\n",
            "/kaggle/input/2020mltermprojectbovw/train_csv_v2/mayfly/image_0017.csv\n",
            "/kaggle/input/2020mltermprojectbovw/train_csv_v2/mayfly/image_0020.csv\n",
            "/kaggle/input/2020mltermprojectbovw/train_csv_v2/mayfly/image_0031.csv\n",
            "/kaggle/input/2020mltermprojectbovw/train_csv_v2/mayfly/image_0028.csv\n",
            "/kaggle/input/2020mltermprojectbovw/train_csv_v2/mayfly/image_0014.csv\n",
            "/kaggle/input/2020mltermprojectbovw/train_csv_v2/mayfly/image_0018.csv\n",
            "/kaggle/input/2020mltermprojectbovw/train_csv_v2/mayfly/image_0004.csv\n",
            "/kaggle/input/2020mltermprojectbovw/train_csv_v2/mayfly/image_0029.csv\n",
            "/kaggle/input/2020mltermprojectbovw/train_csv_v2/mayfly/image_0016.csv\n",
            "/kaggle/input/2020mltermprojectbovw/train_csv_v2/mayfly/image_0009.csv\n",
            "/kaggle/input/2020mltermprojectbovw/train_csv_v2/mayfly/image_0021.csv\n",
            "/kaggle/input/2020mltermprojectbovw/train_csv_v2/mayfly/image_0023.csv\n",
            "/kaggle/input/2020mltermprojectbovw/train_csv_v2/mayfly/image_0002.csv\n",
            "/kaggle/input/2020mltermprojectbovw/train_csv_v2/mayfly/image_0006.csv\n",
            "/kaggle/input/2020mltermprojectbovw/train_csv_v2/mayfly/image_0011.csv\n",
            "/kaggle/input/2020mltermprojectbovw/train_csv_v2/mayfly/image_0037.csv\n",
            "/kaggle/input/2020mltermprojectbovw/train_csv_v2/mayfly/image_0033.csv\n",
            "/kaggle/input/2020mltermprojectbovw/train_csv_v2/mayfly/image_0035.csv\n",
            "/kaggle/input/2020mltermprojectbovw/train_csv_v2/mayfly/image_0010.csv\n",
            "/kaggle/input/2020mltermprojectbovw/train_csv_v2/mayfly/image_0026.csv\n",
            "/kaggle/input/2020mltermprojectbovw/train_csv_v2/mayfly/image_0007.csv\n",
            "/kaggle/input/2020mltermprojectbovw/train_csv_v2/mayfly/image_0030.csv\n",
            "/kaggle/input/2020mltermprojectbovw/train_csv_v2/mayfly/image_0039.csv\n",
            "/kaggle/input/2020mltermprojectbovw/train_csv_v2/windsor_chair/image_0055.csv\n",
            "/kaggle/input/2020mltermprojectbovw/train_csv_v2/windsor_chair/image_0008.csv\n",
            "/kaggle/input/2020mltermprojectbovw/train_csv_v2/windsor_chair/image_0001.csv\n",
            "/kaggle/input/2020mltermprojectbovw/train_csv_v2/windsor_chair/image_0015.csv\n",
            "/kaggle/input/2020mltermprojectbovw/train_csv_v2/windsor_chair/image_0034.csv\n",
            "/kaggle/input/2020mltermprojectbovw/train_csv_v2/windsor_chair/image_0017.csv\n",
            "/kaggle/input/2020mltermprojectbovw/train_csv_v2/windsor_chair/image_0005.csv\n",
            "/kaggle/input/2020mltermprojectbovw/train_csv_v2/windsor_chair/image_0020.csv\n",
            "/kaggle/input/2020mltermprojectbovw/train_csv_v2/windsor_chair/image_0031.csv\n",
            "/kaggle/input/2020mltermprojectbovw/train_csv_v2/windsor_chair/image_0042.csv\n",
            "/kaggle/input/2020mltermprojectbovw/train_csv_v2/windsor_chair/image_0014.csv\n",
            "/kaggle/input/2020mltermprojectbovw/train_csv_v2/windsor_chair/image_0044.csv\n",
            "/kaggle/input/2020mltermprojectbovw/train_csv_v2/windsor_chair/image_0048.csv\n",
            "/kaggle/input/2020mltermprojectbovw/train_csv_v2/windsor_chair/image_0016.csv\n",
            "/kaggle/input/2020mltermprojectbovw/train_csv_v2/windsor_chair/image_0021.csv\n",
            "/kaggle/input/2020mltermprojectbovw/train_csv_v2/windsor_chair/image_0053.csv\n",
            "/kaggle/input/2020mltermprojectbovw/train_csv_v2/windsor_chair/image_0023.csv\n",
            "/kaggle/input/2020mltermprojectbovw/train_csv_v2/windsor_chair/image_0012.csv\n",
            "/kaggle/input/2020mltermprojectbovw/train_csv_v2/windsor_chair/image_0002.csv\n",
            "/kaggle/input/2020mltermprojectbovw/train_csv_v2/windsor_chair/image_0013.csv\n",
            "/kaggle/input/2020mltermprojectbovw/train_csv_v2/windsor_chair/image_0032.csv\n",
            "/kaggle/input/2020mltermprojectbovw/train_csv_v2/windsor_chair/image_0006.csv\n",
            "/kaggle/input/2020mltermprojectbovw/train_csv_v2/windsor_chair/image_0011.csv\n",
            "/kaggle/input/2020mltermprojectbovw/train_csv_v2/windsor_chair/image_0037.csv\n",
            "/kaggle/input/2020mltermprojectbovw/train_csv_v2/windsor_chair/image_0033.csv\n",
            "/kaggle/input/2020mltermprojectbovw/train_csv_v2/windsor_chair/image_0051.csv\n",
            "/kaggle/input/2020mltermprojectbovw/train_csv_v2/windsor_chair/image_0050.csv\n",
            "/kaggle/input/2020mltermprojectbovw/train_csv_v2/windsor_chair/image_0007.csv\n",
            "/kaggle/input/2020mltermprojectbovw/train_csv_v2/windsor_chair/image_0030.csv\n",
            "/kaggle/input/2020mltermprojectbovw/train_csv_v2/windsor_chair/image_0039.csv\n",
            "/kaggle/input/2020mltermprojectbovw/train_csv_v2/scissors/image_0003.csv\n",
            "/kaggle/input/2020mltermprojectbovw/train_csv_v2/scissors/image_0008.csv\n",
            "/kaggle/input/2020mltermprojectbovw/train_csv_v2/scissors/image_0024.csv\n",
            "/kaggle/input/2020mltermprojectbovw/train_csv_v2/scissors/image_0025.csv\n",
            "/kaggle/input/2020mltermprojectbovw/train_csv_v2/scissors/image_0034.csv\n",
            "/kaggle/input/2020mltermprojectbovw/train_csv_v2/scissors/image_0017.csv\n",
            "/kaggle/input/2020mltermprojectbovw/train_csv_v2/scissors/image_0005.csv\n",
            "/kaggle/input/2020mltermprojectbovw/train_csv_v2/scissors/image_0020.csv\n",
            "/kaggle/input/2020mltermprojectbovw/train_csv_v2/scissors/image_0031.csv\n",
            "/kaggle/input/2020mltermprojectbovw/train_csv_v2/scissors/image_0028.csv\n",
            "/kaggle/input/2020mltermprojectbovw/train_csv_v2/scissors/image_0014.csv\n",
            "/kaggle/input/2020mltermprojectbovw/train_csv_v2/scissors/image_0018.csv\n",
            "/kaggle/input/2020mltermprojectbovw/train_csv_v2/scissors/image_0004.csv\n",
            "/kaggle/input/2020mltermprojectbovw/train_csv_v2/scissors/image_0029.csv\n",
            "/kaggle/input/2020mltermprojectbovw/train_csv_v2/scissors/image_0016.csv\n",
            "/kaggle/input/2020mltermprojectbovw/train_csv_v2/scissors/image_0023.csv\n",
            "/kaggle/input/2020mltermprojectbovw/train_csv_v2/scissors/image_0012.csv\n",
            "/kaggle/input/2020mltermprojectbovw/train_csv_v2/scissors/image_0022.csv\n",
            "/kaggle/input/2020mltermprojectbovw/train_csv_v2/scissors/image_0013.csv\n",
            "/kaggle/input/2020mltermprojectbovw/train_csv_v2/scissors/image_0038.csv\n",
            "/kaggle/input/2020mltermprojectbovw/train_csv_v2/scissors/image_0027.csv\n",
            "/kaggle/input/2020mltermprojectbovw/train_csv_v2/scissors/image_0032.csv\n",
            "/kaggle/input/2020mltermprojectbovw/train_csv_v2/scissors/image_0006.csv\n",
            "/kaggle/input/2020mltermprojectbovw/train_csv_v2/scissors/image_0037.csv\n",
            "/kaggle/input/2020mltermprojectbovw/train_csv_v2/scissors/image_0033.csv\n",
            "/kaggle/input/2020mltermprojectbovw/train_csv_v2/scissors/image_0019.csv\n",
            "/kaggle/input/2020mltermprojectbovw/train_csv_v2/scissors/image_0035.csv\n",
            "/kaggle/input/2020mltermprojectbovw/train_csv_v2/scissors/image_0010.csv\n",
            "/kaggle/input/2020mltermprojectbovw/train_csv_v2/scissors/image_0026.csv\n",
            "/kaggle/input/2020mltermprojectbovw/train_csv_v2/scissors/image_0039.csv\n",
            "/kaggle/input/2020mltermprojectbovw/train_csv_v2/crab/image_0073.csv\n",
            "/kaggle/input/2020mltermprojectbovw/train_csv_v2/crab/image_0003.csv\n",
            "/kaggle/input/2020mltermprojectbovw/train_csv_v2/crab/image_0056.csv\n",
            "/kaggle/input/2020mltermprojectbovw/train_csv_v2/crab/image_0024.csv\n",
            "/kaggle/input/2020mltermprojectbovw/train_csv_v2/crab/image_0036.csv\n",
            "/kaggle/input/2020mltermprojectbovw/train_csv_v2/crab/image_0057.csv\n",
            "/kaggle/input/2020mltermprojectbovw/train_csv_v2/crab/image_0034.csv\n",
            "/kaggle/input/2020mltermprojectbovw/train_csv_v2/crab/image_0066.csv\n",
            "/kaggle/input/2020mltermprojectbovw/train_csv_v2/crab/image_0049.csv\n",
            "/kaggle/input/2020mltermprojectbovw/train_csv_v2/crab/image_0005.csv\n",
            "/kaggle/input/2020mltermprojectbovw/train_csv_v2/crab/image_0028.csv\n",
            "/kaggle/input/2020mltermprojectbovw/train_csv_v2/crab/image_0014.csv\n",
            "/kaggle/input/2020mltermprojectbovw/train_csv_v2/crab/image_0054.csv\n",
            "/kaggle/input/2020mltermprojectbovw/train_csv_v2/crab/image_0004.csv\n",
            "/kaggle/input/2020mltermprojectbovw/train_csv_v2/crab/image_0016.csv\n",
            "/kaggle/input/2020mltermprojectbovw/train_csv_v2/crab/image_0041.csv\n",
            "/kaggle/input/2020mltermprojectbovw/train_csv_v2/crab/image_0070.csv\n",
            "/kaggle/input/2020mltermprojectbovw/train_csv_v2/crab/image_0012.csv\n",
            "/kaggle/input/2020mltermprojectbovw/train_csv_v2/crab/image_0043.csv\n",
            "/kaggle/input/2020mltermprojectbovw/train_csv_v2/crab/image_0027.csv\n",
            "/kaggle/input/2020mltermprojectbovw/train_csv_v2/crab/image_0072.csv\n",
            "/kaggle/input/2020mltermprojectbovw/train_csv_v2/crab/image_0033.csv\n",
            "/kaggle/input/2020mltermprojectbovw/train_csv_v2/crab/image_0051.csv\n",
            "/kaggle/input/2020mltermprojectbovw/train_csv_v2/crab/image_0019.csv\n",
            "/kaggle/input/2020mltermprojectbovw/train_csv_v2/crab/image_0010.csv\n",
            "/kaggle/input/2020mltermprojectbovw/train_csv_v2/crab/image_0062.csv\n",
            "/kaggle/input/2020mltermprojectbovw/train_csv_v2/crab/image_0064.csv\n",
            "/kaggle/input/2020mltermprojectbovw/train_csv_v2/crab/image_0007.csv\n",
            "/kaggle/input/2020mltermprojectbovw/train_csv_v2/crab/image_0045.csv\n",
            "/kaggle/input/2020mltermprojectbovw/train_csv_v2/crab/image_0039.csv\n",
            "/kaggle/input/2020mltermprojectbovw/train_csv_v2/car_side/image_0098.csv\n",
            "/kaggle/input/2020mltermprojectbovw/train_csv_v2/car_side/image_0008.csv\n",
            "/kaggle/input/2020mltermprojectbovw/train_csv_v2/car_side/image_0001.csv\n",
            "/kaggle/input/2020mltermprojectbovw/train_csv_v2/car_side/image_0025.csv\n",
            "/kaggle/input/2020mltermprojectbovw/train_csv_v2/car_side/image_0058.csv\n",
            "/kaggle/input/2020mltermprojectbovw/train_csv_v2/car_side/image_0034.csv\n",
            "/kaggle/input/2020mltermprojectbovw/train_csv_v2/car_side/image_0069.csv\n",
            "/kaggle/input/2020mltermprojectbovw/train_csv_v2/car_side/image_0017.csv\n",
            "/kaggle/input/2020mltermprojectbovw/train_csv_v2/car_side/image_0085.csv\n",
            "/kaggle/input/2020mltermprojectbovw/train_csv_v2/car_side/image_0102.csv\n",
            "/kaggle/input/2020mltermprojectbovw/train_csv_v2/car_side/image_0044.csv\n",
            "/kaggle/input/2020mltermprojectbovw/train_csv_v2/car_side/image_0029.csv\n",
            "/kaggle/input/2020mltermprojectbovw/train_csv_v2/car_side/image_0046.csv\n",
            "/kaggle/input/2020mltermprojectbovw/train_csv_v2/car_side/image_0023.csv\n",
            "/kaggle/input/2020mltermprojectbovw/train_csv_v2/car_side/image_0101.csv\n",
            "/kaggle/input/2020mltermprojectbovw/train_csv_v2/car_side/image_0012.csv\n",
            "/kaggle/input/2020mltermprojectbovw/train_csv_v2/car_side/image_0103.csv\n",
            "/kaggle/input/2020mltermprojectbovw/train_csv_v2/car_side/image_0116.csv\n",
            "/kaggle/input/2020mltermprojectbovw/train_csv_v2/car_side/image_0118.csv\n",
            "/kaggle/input/2020mltermprojectbovw/train_csv_v2/car_side/image_0038.csv\n",
            "/kaggle/input/2020mltermprojectbovw/train_csv_v2/car_side/image_0043.csv\n",
            "/kaggle/input/2020mltermprojectbovw/train_csv_v2/car_side/image_0123.csv\n",
            "/kaggle/input/2020mltermprojectbovw/train_csv_v2/car_side/image_0088.csv\n",
            "/kaggle/input/2020mltermprojectbovw/train_csv_v2/car_side/image_0107.csv\n",
            "/kaggle/input/2020mltermprojectbovw/train_csv_v2/car_side/image_0082.csv\n",
            "/kaggle/input/2020mltermprojectbovw/train_csv_v2/car_side/image_0010.csv\n",
            "/kaggle/input/2020mltermprojectbovw/train_csv_v2/car_side/image_0093.csv\n",
            "/kaggle/input/2020mltermprojectbovw/train_csv_v2/car_side/image_0113.csv\n",
            "/kaggle/input/2020mltermprojectbovw/train_csv_v2/car_side/image_0007.csv\n",
            "/kaggle/input/2020mltermprojectbovw/train_csv_v2/car_side/image_0045.csv\n",
            "/kaggle/input/2020mltermprojectbovw/train_csv_v2/brain/image_0098.csv\n",
            "/kaggle/input/2020mltermprojectbovw/train_csv_v2/brain/image_0055.csv\n",
            "/kaggle/input/2020mltermprojectbovw/train_csv_v2/brain/image_0056.csv\n",
            "/kaggle/input/2020mltermprojectbovw/train_csv_v2/brain/image_0094.csv\n",
            "/kaggle/input/2020mltermprojectbovw/train_csv_v2/brain/image_0017.csv\n",
            "/kaggle/input/2020mltermprojectbovw/train_csv_v2/brain/image_0063.csv\n",
            "/kaggle/input/2020mltermprojectbovw/train_csv_v2/brain/image_0071.csv\n",
            "/kaggle/input/2020mltermprojectbovw/train_csv_v2/brain/image_0014.csv\n",
            "/kaggle/input/2020mltermprojectbovw/train_csv_v2/brain/image_0018.csv\n",
            "/kaggle/input/2020mltermprojectbovw/train_csv_v2/brain/image_0044.csv\n",
            "/kaggle/input/2020mltermprojectbovw/train_csv_v2/brain/image_0004.csv\n",
            "/kaggle/input/2020mltermprojectbovw/train_csv_v2/brain/image_0046.csv\n",
            "/kaggle/input/2020mltermprojectbovw/train_csv_v2/brain/image_0023.csv\n",
            "/kaggle/input/2020mltermprojectbovw/train_csv_v2/brain/image_0078.csv\n",
            "/kaggle/input/2020mltermprojectbovw/train_csv_v2/brain/image_0052.csv\n",
            "/kaggle/input/2020mltermprojectbovw/train_csv_v2/brain/image_0047.csv\n",
            "/kaggle/input/2020mltermprojectbovw/train_csv_v2/brain/image_0077.csv\n",
            "/kaggle/input/2020mltermprojectbovw/train_csv_v2/brain/image_0013.csv\n",
            "/kaggle/input/2020mltermprojectbovw/train_csv_v2/brain/image_0038.csv\n",
            "/kaggle/input/2020mltermprojectbovw/train_csv_v2/brain/image_0043.csv\n",
            "/kaggle/input/2020mltermprojectbovw/train_csv_v2/brain/image_0088.csv\n",
            "/kaggle/input/2020mltermprojectbovw/train_csv_v2/brain/image_0032.csv\n",
            "/kaggle/input/2020mltermprojectbovw/train_csv_v2/brain/image_0059.csv\n",
            "/kaggle/input/2020mltermprojectbovw/train_csv_v2/brain/image_0037.csv\n",
            "/kaggle/input/2020mltermprojectbovw/train_csv_v2/brain/image_0019.csv\n",
            "/kaggle/input/2020mltermprojectbovw/train_csv_v2/brain/image_0061.csv\n",
            "/kaggle/input/2020mltermprojectbovw/train_csv_v2/brain/image_0093.csv\n",
            "/kaggle/input/2020mltermprojectbovw/train_csv_v2/brain/image_0062.csv\n",
            "/kaggle/input/2020mltermprojectbovw/train_csv_v2/brain/image_0064.csv\n",
            "/kaggle/input/2020mltermprojectbovw/train_csv_v2/brain/image_0067.csv\n",
            "/kaggle/input/2020mltermprojectbovw/train_csv_v2/tick/image_0003.csv\n",
            "/kaggle/input/2020mltermprojectbovw/train_csv_v2/tick/image_0024.csv\n",
            "/kaggle/input/2020mltermprojectbovw/train_csv_v2/tick/image_0001.csv\n",
            "/kaggle/input/2020mltermprojectbovw/train_csv_v2/tick/image_0015.csv\n",
            "/kaggle/input/2020mltermprojectbovw/train_csv_v2/tick/image_0049.csv\n",
            "/kaggle/input/2020mltermprojectbovw/train_csv_v2/tick/image_0017.csv\n",
            "/kaggle/input/2020mltermprojectbovw/train_csv_v2/tick/image_0005.csv\n",
            "/kaggle/input/2020mltermprojectbovw/train_csv_v2/tick/image_0031.csv\n",
            "/kaggle/input/2020mltermprojectbovw/train_csv_v2/tick/image_0042.csv\n",
            "/kaggle/input/2020mltermprojectbovw/train_csv_v2/tick/image_0014.csv\n",
            "/kaggle/input/2020mltermprojectbovw/train_csv_v2/tick/image_0018.csv\n",
            "/kaggle/input/2020mltermprojectbovw/train_csv_v2/tick/image_0044.csv\n",
            "/kaggle/input/2020mltermprojectbovw/train_csv_v2/tick/image_0048.csv\n",
            "/kaggle/input/2020mltermprojectbovw/train_csv_v2/tick/image_0029.csv\n",
            "/kaggle/input/2020mltermprojectbovw/train_csv_v2/tick/image_0016.csv\n",
            "/kaggle/input/2020mltermprojectbovw/train_csv_v2/tick/image_0021.csv\n",
            "/kaggle/input/2020mltermprojectbovw/train_csv_v2/tick/image_0046.csv\n",
            "/kaggle/input/2020mltermprojectbovw/train_csv_v2/tick/image_0023.csv\n",
            "/kaggle/input/2020mltermprojectbovw/train_csv_v2/tick/image_0002.csv\n",
            "/kaggle/input/2020mltermprojectbovw/train_csv_v2/tick/image_0047.csv\n",
            "/kaggle/input/2020mltermprojectbovw/train_csv_v2/tick/image_0013.csv\n",
            "/kaggle/input/2020mltermprojectbovw/train_csv_v2/tick/image_0038.csv\n",
            "/kaggle/input/2020mltermprojectbovw/train_csv_v2/tick/image_0027.csv\n",
            "/kaggle/input/2020mltermprojectbovw/train_csv_v2/tick/image_0037.csv\n",
            "/kaggle/input/2020mltermprojectbovw/train_csv_v2/tick/image_0033.csv\n",
            "/kaggle/input/2020mltermprojectbovw/train_csv_v2/tick/image_0035.csv\n",
            "/kaggle/input/2020mltermprojectbovw/train_csv_v2/tick/image_0026.csv\n",
            "/kaggle/input/2020mltermprojectbovw/train_csv_v2/tick/image_0007.csv\n",
            "/kaggle/input/2020mltermprojectbovw/train_csv_v2/tick/image_0045.csv\n",
            "/kaggle/input/2020mltermprojectbovw/train_csv_v2/tick/image_0030.csv\n",
            "/kaggle/input/2020mltermprojectbovw/train_csv_v2/chair/image_0003.csv\n",
            "/kaggle/input/2020mltermprojectbovw/train_csv_v2/chair/image_0008.csv\n",
            "/kaggle/input/2020mltermprojectbovw/train_csv_v2/chair/image_0001.csv\n",
            "/kaggle/input/2020mltermprojectbovw/train_csv_v2/chair/image_0036.csv\n",
            "/kaggle/input/2020mltermprojectbovw/train_csv_v2/chair/image_0058.csv\n",
            "/kaggle/input/2020mltermprojectbovw/train_csv_v2/chair/image_0034.csv\n",
            "/kaggle/input/2020mltermprojectbovw/train_csv_v2/chair/image_0049.csv\n",
            "/kaggle/input/2020mltermprojectbovw/train_csv_v2/chair/image_0017.csv\n",
            "/kaggle/input/2020mltermprojectbovw/train_csv_v2/chair/image_0005.csv\n",
            "/kaggle/input/2020mltermprojectbovw/train_csv_v2/chair/image_0028.csv\n",
            "/kaggle/input/2020mltermprojectbovw/train_csv_v2/chair/image_0054.csv\n",
            "/kaggle/input/2020mltermprojectbovw/train_csv_v2/chair/image_0018.csv\n",
            "/kaggle/input/2020mltermprojectbovw/train_csv_v2/chair/image_0009.csv\n",
            "/kaggle/input/2020mltermprojectbovw/train_csv_v2/chair/image_0053.csv\n",
            "/kaggle/input/2020mltermprojectbovw/train_csv_v2/chair/image_0023.csv\n",
            "/kaggle/input/2020mltermprojectbovw/train_csv_v2/chair/image_0012.csv\n",
            "/kaggle/input/2020mltermprojectbovw/train_csv_v2/chair/image_0002.csv\n",
            "/kaggle/input/2020mltermprojectbovw/train_csv_v2/chair/image_0047.csv\n",
            "/kaggle/input/2020mltermprojectbovw/train_csv_v2/chair/image_0027.csv\n",
            "/kaggle/input/2020mltermprojectbovw/train_csv_v2/chair/image_0059.csv\n",
            "/kaggle/input/2020mltermprojectbovw/train_csv_v2/chair/image_0037.csv\n",
            "/kaggle/input/2020mltermprojectbovw/train_csv_v2/chair/image_0033.csv\n",
            "/kaggle/input/2020mltermprojectbovw/train_csv_v2/chair/image_0035.csv\n",
            "/kaggle/input/2020mltermprojectbovw/train_csv_v2/chair/image_0061.csv\n",
            "/kaggle/input/2020mltermprojectbovw/train_csv_v2/chair/image_0010.csv\n",
            "/kaggle/input/2020mltermprojectbovw/train_csv_v2/chair/image_0050.csv\n",
            "/kaggle/input/2020mltermprojectbovw/train_csv_v2/chair/image_0007.csv\n",
            "/kaggle/input/2020mltermprojectbovw/train_csv_v2/chair/image_0045.csv\n",
            "/kaggle/input/2020mltermprojectbovw/train_csv_v2/chair/image_0040.csv\n",
            "/kaggle/input/2020mltermprojectbovw/train_csv_v2/chair/image_0039.csv\n",
            "/kaggle/input/2020mltermprojectbovw/train_csv_v2/rhino/image_0003.csv\n",
            "/kaggle/input/2020mltermprojectbovw/train_csv_v2/rhino/image_0055.csv\n",
            "/kaggle/input/2020mltermprojectbovw/train_csv_v2/rhino/image_0001.csv\n",
            "/kaggle/input/2020mltermprojectbovw/train_csv_v2/rhino/image_0036.csv\n",
            "/kaggle/input/2020mltermprojectbovw/train_csv_v2/rhino/image_0058.csv\n",
            "/kaggle/input/2020mltermprojectbovw/train_csv_v2/rhino/image_0015.csv\n",
            "/kaggle/input/2020mltermprojectbovw/train_csv_v2/rhino/image_0034.csv\n",
            "/kaggle/input/2020mltermprojectbovw/train_csv_v2/rhino/image_0049.csv\n",
            "/kaggle/input/2020mltermprojectbovw/train_csv_v2/rhino/image_0031.csv\n",
            "/kaggle/input/2020mltermprojectbovw/train_csv_v2/rhino/image_0042.csv\n",
            "/kaggle/input/2020mltermprojectbovw/train_csv_v2/rhino/image_0014.csv\n",
            "/kaggle/input/2020mltermprojectbovw/train_csv_v2/rhino/image_0004.csv\n",
            "/kaggle/input/2020mltermprojectbovw/train_csv_v2/rhino/image_0021.csv\n",
            "/kaggle/input/2020mltermprojectbovw/train_csv_v2/rhino/image_0041.csv\n",
            "/kaggle/input/2020mltermprojectbovw/train_csv_v2/rhino/image_0053.csv\n",
            "/kaggle/input/2020mltermprojectbovw/train_csv_v2/rhino/image_0023.csv\n",
            "/kaggle/input/2020mltermprojectbovw/train_csv_v2/rhino/image_0052.csv\n",
            "/kaggle/input/2020mltermprojectbovw/train_csv_v2/rhino/image_0002.csv\n",
            "/kaggle/input/2020mltermprojectbovw/train_csv_v2/rhino/image_0047.csv\n",
            "/kaggle/input/2020mltermprojectbovw/train_csv_v2/rhino/image_0038.csv\n",
            "/kaggle/input/2020mltermprojectbovw/train_csv_v2/rhino/image_0043.csv\n",
            "/kaggle/input/2020mltermprojectbovw/train_csv_v2/rhino/image_0032.csv\n",
            "/kaggle/input/2020mltermprojectbovw/train_csv_v2/rhino/image_0011.csv\n",
            "/kaggle/input/2020mltermprojectbovw/train_csv_v2/rhino/image_0059.csv\n",
            "/kaggle/input/2020mltermprojectbovw/train_csv_v2/rhino/image_0037.csv\n",
            "/kaggle/input/2020mltermprojectbovw/train_csv_v2/rhino/image_0051.csv\n",
            "/kaggle/input/2020mltermprojectbovw/train_csv_v2/rhino/image_0010.csv\n",
            "/kaggle/input/2020mltermprojectbovw/train_csv_v2/rhino/image_0007.csv\n",
            "/kaggle/input/2020mltermprojectbovw/train_csv_v2/rhino/image_0030.csv\n",
            "/kaggle/input/2020mltermprojectbovw/train_csv_v2/rhino/image_0040.csv\n",
            "/kaggle/input/2020mltermprojectbovw/train_csv_v2/dolphin/image_0003.csv\n",
            "/kaggle/input/2020mltermprojectbovw/train_csv_v2/dolphin/image_0055.csv\n",
            "/kaggle/input/2020mltermprojectbovw/train_csv_v2/dolphin/image_0008.csv\n",
            "/kaggle/input/2020mltermprojectbovw/train_csv_v2/dolphin/image_0024.csv\n",
            "/kaggle/input/2020mltermprojectbovw/train_csv_v2/dolphin/image_0001.csv\n",
            "/kaggle/input/2020mltermprojectbovw/train_csv_v2/dolphin/image_0058.csv\n",
            "/kaggle/input/2020mltermprojectbovw/train_csv_v2/dolphin/image_0015.csv\n",
            "/kaggle/input/2020mltermprojectbovw/train_csv_v2/dolphin/image_0005.csv\n",
            "/kaggle/input/2020mltermprojectbovw/train_csv_v2/dolphin/image_0020.csv\n",
            "/kaggle/input/2020mltermprojectbovw/train_csv_v2/dolphin/image_0042.csv\n",
            "/kaggle/input/2020mltermprojectbovw/train_csv_v2/dolphin/image_0014.csv\n",
            "/kaggle/input/2020mltermprojectbovw/train_csv_v2/dolphin/image_0018.csv\n",
            "/kaggle/input/2020mltermprojectbovw/train_csv_v2/dolphin/image_0044.csv\n",
            "/kaggle/input/2020mltermprojectbovw/train_csv_v2/dolphin/image_0048.csv\n",
            "/kaggle/input/2020mltermprojectbovw/train_csv_v2/dolphin/image_0029.csv\n",
            "/kaggle/input/2020mltermprojectbovw/train_csv_v2/dolphin/image_0009.csv\n",
            "/kaggle/input/2020mltermprojectbovw/train_csv_v2/dolphin/image_0065.csv\n",
            "/kaggle/input/2020mltermprojectbovw/train_csv_v2/dolphin/image_0021.csv\n",
            "/kaggle/input/2020mltermprojectbovw/train_csv_v2/dolphin/image_0012.csv\n",
            "/kaggle/input/2020mltermprojectbovw/train_csv_v2/dolphin/image_0002.csv\n",
            "/kaggle/input/2020mltermprojectbovw/train_csv_v2/dolphin/image_0038.csv\n",
            "/kaggle/input/2020mltermprojectbovw/train_csv_v2/dolphin/image_0043.csv\n",
            "/kaggle/input/2020mltermprojectbovw/train_csv_v2/dolphin/image_0011.csv\n",
            "/kaggle/input/2020mltermprojectbovw/train_csv_v2/dolphin/image_0019.csv\n",
            "/kaggle/input/2020mltermprojectbovw/train_csv_v2/dolphin/image_0035.csv\n",
            "/kaggle/input/2020mltermprojectbovw/train_csv_v2/dolphin/image_0061.csv\n",
            "/kaggle/input/2020mltermprojectbovw/train_csv_v2/dolphin/image_0062.csv\n",
            "/kaggle/input/2020mltermprojectbovw/train_csv_v2/dolphin/image_0064.csv\n",
            "/kaggle/input/2020mltermprojectbovw/train_csv_v2/dolphin/image_0026.csv\n",
            "/kaggle/input/2020mltermprojectbovw/train_csv_v2/dolphin/image_0030.csv\n",
            "/kaggle/input/2020mltermprojectbovw/train_csv_v2/rooster/image_0003.csv\n",
            "/kaggle/input/2020mltermprojectbovw/train_csv_v2/rooster/image_0025.csv\n",
            "/kaggle/input/2020mltermprojectbovw/train_csv_v2/rooster/image_0036.csv\n",
            "/kaggle/input/2020mltermprojectbovw/train_csv_v2/rooster/image_0015.csv\n",
            "/kaggle/input/2020mltermprojectbovw/train_csv_v2/rooster/image_0049.csv\n",
            "/kaggle/input/2020mltermprojectbovw/train_csv_v2/rooster/image_0020.csv\n",
            "/kaggle/input/2020mltermprojectbovw/train_csv_v2/rooster/image_0042.csv\n",
            "/kaggle/input/2020mltermprojectbovw/train_csv_v2/rooster/image_0018.csv\n",
            "/kaggle/input/2020mltermprojectbovw/train_csv_v2/rooster/image_0044.csv\n",
            "/kaggle/input/2020mltermprojectbovw/train_csv_v2/rooster/image_0048.csv\n",
            "/kaggle/input/2020mltermprojectbovw/train_csv_v2/rooster/image_0029.csv\n",
            "/kaggle/input/2020mltermprojectbovw/train_csv_v2/rooster/image_0016.csv\n",
            "/kaggle/input/2020mltermprojectbovw/train_csv_v2/rooster/image_0009.csv\n",
            "/kaggle/input/2020mltermprojectbovw/train_csv_v2/rooster/image_0046.csv\n",
            "/kaggle/input/2020mltermprojectbovw/train_csv_v2/rooster/image_0023.csv\n",
            "/kaggle/input/2020mltermprojectbovw/train_csv_v2/rooster/image_0002.csv\n",
            "/kaggle/input/2020mltermprojectbovw/train_csv_v2/rooster/image_0043.csv\n",
            "/kaggle/input/2020mltermprojectbovw/train_csv_v2/rooster/image_0006.csv\n",
            "/kaggle/input/2020mltermprojectbovw/train_csv_v2/rooster/image_0011.csv\n",
            "/kaggle/input/2020mltermprojectbovw/train_csv_v2/rooster/image_0037.csv\n",
            "/kaggle/input/2020mltermprojectbovw/train_csv_v2/rooster/image_0033.csv\n",
            "/kaggle/input/2020mltermprojectbovw/train_csv_v2/rooster/image_0019.csv\n",
            "/kaggle/input/2020mltermprojectbovw/train_csv_v2/rooster/image_0035.csv\n",
            "/kaggle/input/2020mltermprojectbovw/train_csv_v2/rooster/image_0010.csv\n",
            "/kaggle/input/2020mltermprojectbovw/train_csv_v2/rooster/image_0026.csv\n",
            "/kaggle/input/2020mltermprojectbovw/train_csv_v2/rooster/image_0007.csv\n",
            "/kaggle/input/2020mltermprojectbovw/train_csv_v2/rooster/image_0045.csv\n",
            "/kaggle/input/2020mltermprojectbovw/train_csv_v2/rooster/image_0030.csv\n",
            "/kaggle/input/2020mltermprojectbovw/train_csv_v2/rooster/image_0040.csv\n",
            "/kaggle/input/2020mltermprojectbovw/train_csv_v2/rooster/image_0039.csv\n",
            "/kaggle/input/2020mltermprojectbovw/train_csv_v2/okapi/image_0003.csv\n",
            "/kaggle/input/2020mltermprojectbovw/train_csv_v2/okapi/image_0001.csv\n",
            "/kaggle/input/2020mltermprojectbovw/train_csv_v2/okapi/image_0025.csv\n",
            "/kaggle/input/2020mltermprojectbovw/train_csv_v2/okapi/image_0015.csv\n",
            "/kaggle/input/2020mltermprojectbovw/train_csv_v2/okapi/image_0034.csv\n",
            "/kaggle/input/2020mltermprojectbovw/train_csv_v2/okapi/image_0017.csv\n",
            "/kaggle/input/2020mltermprojectbovw/train_csv_v2/okapi/image_0031.csv\n",
            "/kaggle/input/2020mltermprojectbovw/train_csv_v2/okapi/image_0014.csv\n",
            "/kaggle/input/2020mltermprojectbovw/train_csv_v2/okapi/image_0018.csv\n",
            "/kaggle/input/2020mltermprojectbovw/train_csv_v2/okapi/image_0004.csv\n",
            "/kaggle/input/2020mltermprojectbovw/train_csv_v2/okapi/image_0029.csv\n",
            "/kaggle/input/2020mltermprojectbovw/train_csv_v2/okapi/image_0016.csv\n",
            "/kaggle/input/2020mltermprojectbovw/train_csv_v2/okapi/image_0009.csv\n",
            "/kaggle/input/2020mltermprojectbovw/train_csv_v2/okapi/image_0021.csv\n",
            "/kaggle/input/2020mltermprojectbovw/train_csv_v2/okapi/image_0023.csv\n",
            "/kaggle/input/2020mltermprojectbovw/train_csv_v2/okapi/image_0012.csv\n",
            "/kaggle/input/2020mltermprojectbovw/train_csv_v2/okapi/image_0002.csv\n",
            "/kaggle/input/2020mltermprojectbovw/train_csv_v2/okapi/image_0022.csv\n",
            "/kaggle/input/2020mltermprojectbovw/train_csv_v2/okapi/image_0038.csv\n",
            "/kaggle/input/2020mltermprojectbovw/train_csv_v2/okapi/image_0027.csv\n",
            "/kaggle/input/2020mltermprojectbovw/train_csv_v2/okapi/image_0032.csv\n",
            "/kaggle/input/2020mltermprojectbovw/train_csv_v2/okapi/image_0006.csv\n",
            "/kaggle/input/2020mltermprojectbovw/train_csv_v2/okapi/image_0011.csv\n",
            "/kaggle/input/2020mltermprojectbovw/train_csv_v2/okapi/image_0037.csv\n",
            "/kaggle/input/2020mltermprojectbovw/train_csv_v2/okapi/image_0033.csv\n",
            "/kaggle/input/2020mltermprojectbovw/train_csv_v2/okapi/image_0019.csv\n",
            "/kaggle/input/2020mltermprojectbovw/train_csv_v2/okapi/image_0035.csv\n",
            "/kaggle/input/2020mltermprojectbovw/train_csv_v2/okapi/image_0026.csv\n",
            "/kaggle/input/2020mltermprojectbovw/train_csv_v2/okapi/image_0007.csv\n",
            "/kaggle/input/2020mltermprojectbovw/train_csv_v2/okapi/image_0039.csv\n",
            "/kaggle/input/2020mltermprojectbovw/train_csv_v2/pizza/image_0008.csv\n",
            "/kaggle/input/2020mltermprojectbovw/train_csv_v2/pizza/image_0001.csv\n",
            "/kaggle/input/2020mltermprojectbovw/train_csv_v2/pizza/image_0025.csv\n",
            "/kaggle/input/2020mltermprojectbovw/train_csv_v2/pizza/image_0049.csv\n",
            "/kaggle/input/2020mltermprojectbovw/train_csv_v2/pizza/image_0042.csv\n",
            "/kaggle/input/2020mltermprojectbovw/train_csv_v2/pizza/image_0014.csv\n",
            "/kaggle/input/2020mltermprojectbovw/train_csv_v2/pizza/image_0018.csv\n",
            "/kaggle/input/2020mltermprojectbovw/train_csv_v2/pizza/image_0044.csv\n",
            "/kaggle/input/2020mltermprojectbovw/train_csv_v2/pizza/image_0048.csv\n",
            "/kaggle/input/2020mltermprojectbovw/train_csv_v2/pizza/image_0029.csv\n",
            "/kaggle/input/2020mltermprojectbovw/train_csv_v2/pizza/image_0009.csv\n",
            "/kaggle/input/2020mltermprojectbovw/train_csv_v2/pizza/image_0041.csv\n",
            "/kaggle/input/2020mltermprojectbovw/train_csv_v2/pizza/image_0053.csv\n",
            "/kaggle/input/2020mltermprojectbovw/train_csv_v2/pizza/image_0023.csv\n",
            "/kaggle/input/2020mltermprojectbovw/train_csv_v2/pizza/image_0022.csv\n",
            "/kaggle/input/2020mltermprojectbovw/train_csv_v2/pizza/image_0047.csv\n",
            "/kaggle/input/2020mltermprojectbovw/train_csv_v2/pizza/image_0013.csv\n",
            "/kaggle/input/2020mltermprojectbovw/train_csv_v2/pizza/image_0043.csv\n",
            "/kaggle/input/2020mltermprojectbovw/train_csv_v2/pizza/image_0027.csv\n",
            "/kaggle/input/2020mltermprojectbovw/train_csv_v2/pizza/image_0006.csv\n",
            "/kaggle/input/2020mltermprojectbovw/train_csv_v2/pizza/image_0011.csv\n",
            "/kaggle/input/2020mltermprojectbovw/train_csv_v2/pizza/image_0037.csv\n",
            "/kaggle/input/2020mltermprojectbovw/train_csv_v2/pizza/image_0051.csv\n",
            "/kaggle/input/2020mltermprojectbovw/train_csv_v2/pizza/image_0019.csv\n",
            "/kaggle/input/2020mltermprojectbovw/train_csv_v2/pizza/image_0035.csv\n",
            "/kaggle/input/2020mltermprojectbovw/train_csv_v2/pizza/image_0010.csv\n",
            "/kaggle/input/2020mltermprojectbovw/train_csv_v2/pizza/image_0050.csv\n",
            "/kaggle/input/2020mltermprojectbovw/train_csv_v2/pizza/image_0026.csv\n",
            "/kaggle/input/2020mltermprojectbovw/train_csv_v2/pizza/image_0030.csv\n",
            "/kaggle/input/2020mltermprojectbovw/train_csv_v2/pizza/image_0040.csv\n",
            "/kaggle/input/2020mltermprojectbovw/train_csv_v2/soccer_ball/image_0003.csv\n",
            "/kaggle/input/2020mltermprojectbovw/train_csv_v2/soccer_ball/image_0055.csv\n",
            "/kaggle/input/2020mltermprojectbovw/train_csv_v2/soccer_ball/image_0060.csv\n",
            "/kaggle/input/2020mltermprojectbovw/train_csv_v2/soccer_ball/image_0024.csv\n",
            "/kaggle/input/2020mltermprojectbovw/train_csv_v2/soccer_ball/image_0036.csv\n",
            "/kaggle/input/2020mltermprojectbovw/train_csv_v2/soccer_ball/image_0058.csv\n",
            "/kaggle/input/2020mltermprojectbovw/train_csv_v2/soccer_ball/image_0057.csv\n",
            "/kaggle/input/2020mltermprojectbovw/train_csv_v2/soccer_ball/image_0015.csv\n",
            "/kaggle/input/2020mltermprojectbovw/train_csv_v2/soccer_ball/image_0034.csv\n",
            "/kaggle/input/2020mltermprojectbovw/train_csv_v2/soccer_ball/image_0005.csv\n",
            "/kaggle/input/2020mltermprojectbovw/train_csv_v2/soccer_ball/image_0020.csv\n",
            "/kaggle/input/2020mltermprojectbovw/train_csv_v2/soccer_ball/image_0028.csv\n",
            "/kaggle/input/2020mltermprojectbovw/train_csv_v2/soccer_ball/image_0014.csv\n",
            "/kaggle/input/2020mltermprojectbovw/train_csv_v2/soccer_ball/image_0018.csv\n",
            "/kaggle/input/2020mltermprojectbovw/train_csv_v2/soccer_ball/image_0029.csv\n",
            "/kaggle/input/2020mltermprojectbovw/train_csv_v2/soccer_ball/image_0009.csv\n",
            "/kaggle/input/2020mltermprojectbovw/train_csv_v2/soccer_ball/image_0046.csv\n",
            "/kaggle/input/2020mltermprojectbovw/train_csv_v2/soccer_ball/image_0012.csv\n",
            "/kaggle/input/2020mltermprojectbovw/train_csv_v2/soccer_ball/image_0052.csv\n",
            "/kaggle/input/2020mltermprojectbovw/train_csv_v2/soccer_ball/image_0013.csv\n",
            "/kaggle/input/2020mltermprojectbovw/train_csv_v2/soccer_ball/image_0011.csv\n",
            "/kaggle/input/2020mltermprojectbovw/train_csv_v2/soccer_ball/image_0059.csv\n",
            "/kaggle/input/2020mltermprojectbovw/train_csv_v2/soccer_ball/image_0019.csv\n",
            "/kaggle/input/2020mltermprojectbovw/train_csv_v2/soccer_ball/image_0035.csv\n",
            "/kaggle/input/2020mltermprojectbovw/train_csv_v2/soccer_ball/image_0061.csv\n",
            "/kaggle/input/2020mltermprojectbovw/train_csv_v2/soccer_ball/image_0010.csv\n",
            "/kaggle/input/2020mltermprojectbovw/train_csv_v2/soccer_ball/image_0062.csv\n",
            "/kaggle/input/2020mltermprojectbovw/train_csv_v2/soccer_ball/image_0064.csv\n",
            "/kaggle/input/2020mltermprojectbovw/train_csv_v2/soccer_ball/image_0030.csv\n",
            "/kaggle/input/2020mltermprojectbovw/train_csv_v2/soccer_ball/image_0040.csv\n",
            "/kaggle/input/2020mltermprojectbovw/train_csv_v2/garfield/image_0003.csv\n",
            "/kaggle/input/2020mltermprojectbovw/train_csv_v2/garfield/image_0008.csv\n",
            "/kaggle/input/2020mltermprojectbovw/train_csv_v2/garfield/image_0024.csv\n",
            "/kaggle/input/2020mltermprojectbovw/train_csv_v2/garfield/image_0001.csv\n",
            "/kaggle/input/2020mltermprojectbovw/train_csv_v2/garfield/image_0025.csv\n",
            "/kaggle/input/2020mltermprojectbovw/train_csv_v2/garfield/image_0015.csv\n",
            "/kaggle/input/2020mltermprojectbovw/train_csv_v2/garfield/image_0034.csv\n",
            "/kaggle/input/2020mltermprojectbovw/train_csv_v2/garfield/image_0017.csv\n",
            "/kaggle/input/2020mltermprojectbovw/train_csv_v2/garfield/image_0020.csv\n",
            "/kaggle/input/2020mltermprojectbovw/train_csv_v2/garfield/image_0031.csv\n",
            "/kaggle/input/2020mltermprojectbovw/train_csv_v2/garfield/image_0028.csv\n",
            "/kaggle/input/2020mltermprojectbovw/train_csv_v2/garfield/image_0014.csv\n",
            "/kaggle/input/2020mltermprojectbovw/train_csv_v2/garfield/image_0004.csv\n",
            "/kaggle/input/2020mltermprojectbovw/train_csv_v2/garfield/image_0029.csv\n",
            "/kaggle/input/2020mltermprojectbovw/train_csv_v2/garfield/image_0016.csv\n",
            "/kaggle/input/2020mltermprojectbovw/train_csv_v2/garfield/image_0009.csv\n",
            "/kaggle/input/2020mltermprojectbovw/train_csv_v2/garfield/image_0021.csv\n",
            "/kaggle/input/2020mltermprojectbovw/train_csv_v2/garfield/image_0023.csv\n",
            "/kaggle/input/2020mltermprojectbovw/train_csv_v2/garfield/image_0012.csv\n",
            "/kaggle/input/2020mltermprojectbovw/train_csv_v2/garfield/image_0002.csv\n",
            "/kaggle/input/2020mltermprojectbovw/train_csv_v2/garfield/image_0022.csv\n",
            "/kaggle/input/2020mltermprojectbovw/train_csv_v2/garfield/image_0027.csv\n",
            "/kaggle/input/2020mltermprojectbovw/train_csv_v2/garfield/image_0032.csv\n",
            "/kaggle/input/2020mltermprojectbovw/train_csv_v2/garfield/image_0006.csv\n",
            "/kaggle/input/2020mltermprojectbovw/train_csv_v2/garfield/image_0011.csv\n",
            "/kaggle/input/2020mltermprojectbovw/train_csv_v2/garfield/image_0019.csv\n",
            "/kaggle/input/2020mltermprojectbovw/train_csv_v2/garfield/image_0010.csv\n",
            "/kaggle/input/2020mltermprojectbovw/train_csv_v2/garfield/image_0026.csv\n",
            "/kaggle/input/2020mltermprojectbovw/train_csv_v2/garfield/image_0007.csv\n",
            "/kaggle/input/2020mltermprojectbovw/train_csv_v2/garfield/image_0030.csv\n",
            "/kaggle/input/2020mltermprojectbovw/train_csv_v2/ceiling_fan/image_0024.csv\n",
            "/kaggle/input/2020mltermprojectbovw/train_csv_v2/ceiling_fan/image_0001.csv\n",
            "/kaggle/input/2020mltermprojectbovw/train_csv_v2/ceiling_fan/image_0036.csv\n",
            "/kaggle/input/2020mltermprojectbovw/train_csv_v2/ceiling_fan/image_0015.csv\n",
            "/kaggle/input/2020mltermprojectbovw/train_csv_v2/ceiling_fan/image_0034.csv\n",
            "/kaggle/input/2020mltermprojectbovw/train_csv_v2/ceiling_fan/image_0017.csv\n",
            "/kaggle/input/2020mltermprojectbovw/train_csv_v2/ceiling_fan/image_0031.csv\n",
            "/kaggle/input/2020mltermprojectbovw/train_csv_v2/ceiling_fan/image_0028.csv\n",
            "/kaggle/input/2020mltermprojectbovw/train_csv_v2/ceiling_fan/image_0042.csv\n",
            "/kaggle/input/2020mltermprojectbovw/train_csv_v2/ceiling_fan/image_0014.csv\n",
            "/kaggle/input/2020mltermprojectbovw/train_csv_v2/ceiling_fan/image_0004.csv\n",
            "/kaggle/input/2020mltermprojectbovw/train_csv_v2/ceiling_fan/image_0016.csv\n",
            "/kaggle/input/2020mltermprojectbovw/train_csv_v2/ceiling_fan/image_0021.csv\n",
            "/kaggle/input/2020mltermprojectbovw/train_csv_v2/ceiling_fan/image_0023.csv\n",
            "/kaggle/input/2020mltermprojectbovw/train_csv_v2/ceiling_fan/image_0002.csv\n",
            "/kaggle/input/2020mltermprojectbovw/train_csv_v2/ceiling_fan/image_0022.csv\n",
            "/kaggle/input/2020mltermprojectbovw/train_csv_v2/ceiling_fan/image_0047.csv\n",
            "/kaggle/input/2020mltermprojectbovw/train_csv_v2/ceiling_fan/image_0013.csv\n",
            "/kaggle/input/2020mltermprojectbovw/train_csv_v2/ceiling_fan/image_0038.csv\n",
            "/kaggle/input/2020mltermprojectbovw/train_csv_v2/ceiling_fan/image_0027.csv\n",
            "/kaggle/input/2020mltermprojectbovw/train_csv_v2/ceiling_fan/image_0032.csv\n",
            "/kaggle/input/2020mltermprojectbovw/train_csv_v2/ceiling_fan/image_0006.csv\n",
            "/kaggle/input/2020mltermprojectbovw/train_csv_v2/ceiling_fan/image_0033.csv\n",
            "/kaggle/input/2020mltermprojectbovw/train_csv_v2/ceiling_fan/image_0019.csv\n",
            "/kaggle/input/2020mltermprojectbovw/train_csv_v2/ceiling_fan/image_0035.csv\n",
            "/kaggle/input/2020mltermprojectbovw/train_csv_v2/ceiling_fan/image_0010.csv\n",
            "/kaggle/input/2020mltermprojectbovw/train_csv_v2/ceiling_fan/image_0007.csv\n",
            "/kaggle/input/2020mltermprojectbovw/train_csv_v2/ceiling_fan/image_0030.csv\n",
            "/kaggle/input/2020mltermprojectbovw/train_csv_v2/ceiling_fan/image_0040.csv\n",
            "/kaggle/input/2020mltermprojectbovw/train_csv_v2/ceiling_fan/image_0039.csv\n",
            "/kaggle/input/2020mltermprojectbovw/train_csv_v2/schooner/image_0055.csv\n",
            "/kaggle/input/2020mltermprojectbovw/train_csv_v2/schooner/image_0060.csv\n",
            "/kaggle/input/2020mltermprojectbovw/train_csv_v2/schooner/image_0025.csv\n",
            "/kaggle/input/2020mltermprojectbovw/train_csv_v2/schooner/image_0036.csv\n",
            "/kaggle/input/2020mltermprojectbovw/train_csv_v2/schooner/image_0057.csv\n",
            "/kaggle/input/2020mltermprojectbovw/train_csv_v2/schooner/image_0031.csv\n",
            "/kaggle/input/2020mltermprojectbovw/train_csv_v2/schooner/image_0028.csv\n",
            "/kaggle/input/2020mltermprojectbovw/train_csv_v2/schooner/image_0014.csv\n",
            "/kaggle/input/2020mltermprojectbovw/train_csv_v2/schooner/image_0054.csv\n",
            "/kaggle/input/2020mltermprojectbovw/train_csv_v2/schooner/image_0044.csv\n",
            "/kaggle/input/2020mltermprojectbovw/train_csv_v2/schooner/image_0048.csv\n",
            "/kaggle/input/2020mltermprojectbovw/train_csv_v2/schooner/image_0029.csv\n",
            "/kaggle/input/2020mltermprojectbovw/train_csv_v2/schooner/image_0016.csv\n",
            "/kaggle/input/2020mltermprojectbovw/train_csv_v2/schooner/image_0009.csv\n",
            "/kaggle/input/2020mltermprojectbovw/train_csv_v2/schooner/image_0046.csv\n",
            "/kaggle/input/2020mltermprojectbovw/train_csv_v2/schooner/image_0052.csv\n",
            "/kaggle/input/2020mltermprojectbovw/train_csv_v2/schooner/image_0022.csv\n",
            "/kaggle/input/2020mltermprojectbovw/train_csv_v2/schooner/image_0027.csv\n",
            "/kaggle/input/2020mltermprojectbovw/train_csv_v2/schooner/image_0032.csv\n",
            "/kaggle/input/2020mltermprojectbovw/train_csv_v2/schooner/image_0006.csv\n",
            "/kaggle/input/2020mltermprojectbovw/train_csv_v2/schooner/image_0011.csv\n",
            "/kaggle/input/2020mltermprojectbovw/train_csv_v2/schooner/image_0059.csv\n",
            "/kaggle/input/2020mltermprojectbovw/train_csv_v2/schooner/image_0051.csv\n",
            "/kaggle/input/2020mltermprojectbovw/train_csv_v2/schooner/image_0019.csv\n",
            "/kaggle/input/2020mltermprojectbovw/train_csv_v2/schooner/image_0035.csv\n",
            "/kaggle/input/2020mltermprojectbovw/train_csv_v2/schooner/image_0061.csv\n",
            "/kaggle/input/2020mltermprojectbovw/train_csv_v2/schooner/image_0010.csv\n",
            "/kaggle/input/2020mltermprojectbovw/train_csv_v2/schooner/image_0050.csv\n",
            "/kaggle/input/2020mltermprojectbovw/train_csv_v2/schooner/image_0026.csv\n",
            "/kaggle/input/2020mltermprojectbovw/train_csv_v2/schooner/image_0040.csv\n",
            "/kaggle/input/2020mltermprojectbovw/train_csv_v2/joshua_tree/image_0056.csv\n",
            "/kaggle/input/2020mltermprojectbovw/train_csv_v2/joshua_tree/image_0008.csv\n",
            "/kaggle/input/2020mltermprojectbovw/train_csv_v2/joshua_tree/image_0024.csv\n",
            "/kaggle/input/2020mltermprojectbovw/train_csv_v2/joshua_tree/image_0025.csv\n",
            "/kaggle/input/2020mltermprojectbovw/train_csv_v2/joshua_tree/image_0034.csv\n",
            "/kaggle/input/2020mltermprojectbovw/train_csv_v2/joshua_tree/image_0063.csv\n",
            "/kaggle/input/2020mltermprojectbovw/train_csv_v2/joshua_tree/image_0005.csv\n",
            "/kaggle/input/2020mltermprojectbovw/train_csv_v2/joshua_tree/image_0031.csv\n",
            "/kaggle/input/2020mltermprojectbovw/train_csv_v2/joshua_tree/image_0042.csv\n",
            "/kaggle/input/2020mltermprojectbovw/train_csv_v2/joshua_tree/image_0014.csv\n",
            "/kaggle/input/2020mltermprojectbovw/train_csv_v2/joshua_tree/image_0018.csv\n",
            "/kaggle/input/2020mltermprojectbovw/train_csv_v2/joshua_tree/image_0004.csv\n",
            "/kaggle/input/2020mltermprojectbovw/train_csv_v2/joshua_tree/image_0048.csv\n",
            "/kaggle/input/2020mltermprojectbovw/train_csv_v2/joshua_tree/image_0029.csv\n",
            "/kaggle/input/2020mltermprojectbovw/train_csv_v2/joshua_tree/image_0041.csv\n",
            "/kaggle/input/2020mltermprojectbovw/train_csv_v2/joshua_tree/image_0046.csv\n",
            "/kaggle/input/2020mltermprojectbovw/train_csv_v2/joshua_tree/image_0023.csv\n",
            "/kaggle/input/2020mltermprojectbovw/train_csv_v2/joshua_tree/image_0002.csv\n",
            "/kaggle/input/2020mltermprojectbovw/train_csv_v2/joshua_tree/image_0047.csv\n",
            "/kaggle/input/2020mltermprojectbovw/train_csv_v2/joshua_tree/image_0013.csv\n",
            "/kaggle/input/2020mltermprojectbovw/train_csv_v2/joshua_tree/image_0038.csv\n",
            "/kaggle/input/2020mltermprojectbovw/train_csv_v2/joshua_tree/image_0027.csv\n",
            "/kaggle/input/2020mltermprojectbovw/train_csv_v2/joshua_tree/image_0006.csv\n",
            "/kaggle/input/2020mltermprojectbovw/train_csv_v2/joshua_tree/image_0011.csv\n",
            "/kaggle/input/2020mltermprojectbovw/train_csv_v2/joshua_tree/image_0051.csv\n",
            "/kaggle/input/2020mltermprojectbovw/train_csv_v2/joshua_tree/image_0010.csv\n",
            "/kaggle/input/2020mltermprojectbovw/train_csv_v2/joshua_tree/image_0050.csv\n",
            "/kaggle/input/2020mltermprojectbovw/train_csv_v2/joshua_tree/image_0062.csv\n",
            "/kaggle/input/2020mltermprojectbovw/train_csv_v2/joshua_tree/image_0026.csv\n",
            "/kaggle/input/2020mltermprojectbovw/train_csv_v2/joshua_tree/image_0040.csv\n",
            "/kaggle/input/2020mltermprojectbovw/train_csv_v2/crocodile/image_0003.csv\n",
            "/kaggle/input/2020mltermprojectbovw/train_csv_v2/crocodile/image_0024.csv\n",
            "/kaggle/input/2020mltermprojectbovw/train_csv_v2/crocodile/image_0001.csv\n",
            "/kaggle/input/2020mltermprojectbovw/train_csv_v2/crocodile/image_0036.csv\n",
            "/kaggle/input/2020mltermprojectbovw/train_csv_v2/crocodile/image_0049.csv\n",
            "/kaggle/input/2020mltermprojectbovw/train_csv_v2/crocodile/image_0020.csv\n",
            "/kaggle/input/2020mltermprojectbovw/train_csv_v2/crocodile/image_0031.csv\n",
            "/kaggle/input/2020mltermprojectbovw/train_csv_v2/crocodile/image_0042.csv\n",
            "/kaggle/input/2020mltermprojectbovw/train_csv_v2/crocodile/image_0018.csv\n",
            "/kaggle/input/2020mltermprojectbovw/train_csv_v2/crocodile/image_0044.csv\n",
            "/kaggle/input/2020mltermprojectbovw/train_csv_v2/crocodile/image_0029.csv\n",
            "/kaggle/input/2020mltermprojectbovw/train_csv_v2/crocodile/image_0016.csv\n",
            "/kaggle/input/2020mltermprojectbovw/train_csv_v2/crocodile/image_0021.csv\n",
            "/kaggle/input/2020mltermprojectbovw/train_csv_v2/crocodile/image_0041.csv\n",
            "/kaggle/input/2020mltermprojectbovw/train_csv_v2/crocodile/image_0046.csv\n",
            "/kaggle/input/2020mltermprojectbovw/train_csv_v2/crocodile/image_0023.csv\n",
            "/kaggle/input/2020mltermprojectbovw/train_csv_v2/crocodile/image_0012.csv\n",
            "/kaggle/input/2020mltermprojectbovw/train_csv_v2/crocodile/image_0022.csv\n",
            "/kaggle/input/2020mltermprojectbovw/train_csv_v2/crocodile/image_0013.csv\n",
            "/kaggle/input/2020mltermprojectbovw/train_csv_v2/crocodile/image_0038.csv\n",
            "/kaggle/input/2020mltermprojectbovw/train_csv_v2/crocodile/image_0027.csv\n",
            "/kaggle/input/2020mltermprojectbovw/train_csv_v2/crocodile/image_0032.csv\n",
            "/kaggle/input/2020mltermprojectbovw/train_csv_v2/crocodile/image_0035.csv\n",
            "/kaggle/input/2020mltermprojectbovw/train_csv_v2/crocodile/image_0010.csv\n",
            "/kaggle/input/2020mltermprojectbovw/train_csv_v2/crocodile/image_0050.csv\n",
            "/kaggle/input/2020mltermprojectbovw/train_csv_v2/crocodile/image_0026.csv\n",
            "/kaggle/input/2020mltermprojectbovw/train_csv_v2/crocodile/image_0007.csv\n",
            "/kaggle/input/2020mltermprojectbovw/train_csv_v2/crocodile/image_0045.csv\n",
            "/kaggle/input/2020mltermprojectbovw/train_csv_v2/crocodile/image_0030.csv\n",
            "/kaggle/input/2020mltermprojectbovw/train_csv_v2/crocodile/image_0039.csv\n",
            "/kaggle/input/2020mltermprojectbovw/train_csv_v2/brontosaurus/image_0003.csv\n",
            "/kaggle/input/2020mltermprojectbovw/train_csv_v2/brontosaurus/image_0008.csv\n",
            "/kaggle/input/2020mltermprojectbovw/train_csv_v2/brontosaurus/image_0024.csv\n",
            "/kaggle/input/2020mltermprojectbovw/train_csv_v2/brontosaurus/image_0001.csv\n",
            "/kaggle/input/2020mltermprojectbovw/train_csv_v2/brontosaurus/image_0025.csv\n",
            "/kaggle/input/2020mltermprojectbovw/train_csv_v2/brontosaurus/image_0036.csv\n",
            "/kaggle/input/2020mltermprojectbovw/train_csv_v2/brontosaurus/image_0015.csv\n",
            "/kaggle/input/2020mltermprojectbovw/train_csv_v2/brontosaurus/image_0017.csv\n",
            "/kaggle/input/2020mltermprojectbovw/train_csv_v2/brontosaurus/image_0020.csv\n",
            "/kaggle/input/2020mltermprojectbovw/train_csv_v2/brontosaurus/image_0031.csv\n",
            "/kaggle/input/2020mltermprojectbovw/train_csv_v2/brontosaurus/image_0028.csv\n",
            "/kaggle/input/2020mltermprojectbovw/train_csv_v2/brontosaurus/image_0042.csv\n",
            "/kaggle/input/2020mltermprojectbovw/train_csv_v2/brontosaurus/image_0018.csv\n",
            "/kaggle/input/2020mltermprojectbovw/train_csv_v2/brontosaurus/image_0016.csv\n",
            "/kaggle/input/2020mltermprojectbovw/train_csv_v2/brontosaurus/image_0009.csv\n",
            "/kaggle/input/2020mltermprojectbovw/train_csv_v2/brontosaurus/image_0002.csv\n",
            "/kaggle/input/2020mltermprojectbovw/train_csv_v2/brontosaurus/image_0022.csv\n",
            "/kaggle/input/2020mltermprojectbovw/train_csv_v2/brontosaurus/image_0013.csv\n",
            "/kaggle/input/2020mltermprojectbovw/train_csv_v2/brontosaurus/image_0038.csv\n",
            "/kaggle/input/2020mltermprojectbovw/train_csv_v2/brontosaurus/image_0043.csv\n",
            "/kaggle/input/2020mltermprojectbovw/train_csv_v2/brontosaurus/image_0027.csv\n",
            "/kaggle/input/2020mltermprojectbovw/train_csv_v2/brontosaurus/image_0006.csv\n",
            "/kaggle/input/2020mltermprojectbovw/train_csv_v2/brontosaurus/image_0011.csv\n",
            "/kaggle/input/2020mltermprojectbovw/train_csv_v2/brontosaurus/image_0037.csv\n",
            "/kaggle/input/2020mltermprojectbovw/train_csv_v2/brontosaurus/image_0019.csv\n",
            "/kaggle/input/2020mltermprojectbovw/train_csv_v2/brontosaurus/image_0010.csv\n",
            "/kaggle/input/2020mltermprojectbovw/train_csv_v2/brontosaurus/image_0026.csv\n",
            "/kaggle/input/2020mltermprojectbovw/train_csv_v2/brontosaurus/image_0030.csv\n",
            "/kaggle/input/2020mltermprojectbovw/train_csv_v2/brontosaurus/image_0040.csv\n",
            "/kaggle/input/2020mltermprojectbovw/train_csv_v2/brontosaurus/image_0039.csv\n",
            "/kaggle/input/2020mltermprojectbovw/train_csv_v2/euphonium/image_0003.csv\n",
            "/kaggle/input/2020mltermprojectbovw/train_csv_v2/euphonium/image_0056.csv\n",
            "/kaggle/input/2020mltermprojectbovw/train_csv_v2/euphonium/image_0008.csv\n",
            "/kaggle/input/2020mltermprojectbovw/train_csv_v2/euphonium/image_0024.csv\n",
            "/kaggle/input/2020mltermprojectbovw/train_csv_v2/euphonium/image_0036.csv\n",
            "/kaggle/input/2020mltermprojectbovw/train_csv_v2/euphonium/image_0034.csv\n",
            "/kaggle/input/2020mltermprojectbovw/train_csv_v2/euphonium/image_0063.csv\n",
            "/kaggle/input/2020mltermprojectbovw/train_csv_v2/euphonium/image_0020.csv\n",
            "/kaggle/input/2020mltermprojectbovw/train_csv_v2/euphonium/image_0031.csv\n",
            "/kaggle/input/2020mltermprojectbovw/train_csv_v2/euphonium/image_0028.csv\n",
            "/kaggle/input/2020mltermprojectbovw/train_csv_v2/euphonium/image_0042.csv\n",
            "/kaggle/input/2020mltermprojectbovw/train_csv_v2/euphonium/image_0014.csv\n",
            "/kaggle/input/2020mltermprojectbovw/train_csv_v2/euphonium/image_0054.csv\n",
            "/kaggle/input/2020mltermprojectbovw/train_csv_v2/euphonium/image_0044.csv\n",
            "/kaggle/input/2020mltermprojectbovw/train_csv_v2/euphonium/image_0029.csv\n",
            "/kaggle/input/2020mltermprojectbovw/train_csv_v2/euphonium/image_0016.csv\n",
            "/kaggle/input/2020mltermprojectbovw/train_csv_v2/euphonium/image_0009.csv\n",
            "/kaggle/input/2020mltermprojectbovw/train_csv_v2/euphonium/image_0021.csv\n",
            "/kaggle/input/2020mltermprojectbovw/train_csv_v2/euphonium/image_0041.csv\n",
            "/kaggle/input/2020mltermprojectbovw/train_csv_v2/euphonium/image_0046.csv\n",
            "/kaggle/input/2020mltermprojectbovw/train_csv_v2/euphonium/image_0023.csv\n",
            "/kaggle/input/2020mltermprojectbovw/train_csv_v2/euphonium/image_0052.csv\n",
            "/kaggle/input/2020mltermprojectbovw/train_csv_v2/euphonium/image_0002.csv\n",
            "/kaggle/input/2020mltermprojectbovw/train_csv_v2/euphonium/image_0047.csv\n",
            "/kaggle/input/2020mltermprojectbovw/train_csv_v2/euphonium/image_0013.csv\n",
            "/kaggle/input/2020mltermprojectbovw/train_csv_v2/euphonium/image_0038.csv\n",
            "/kaggle/input/2020mltermprojectbovw/train_csv_v2/euphonium/image_0037.csv\n",
            "/kaggle/input/2020mltermprojectbovw/train_csv_v2/euphonium/image_0051.csv\n",
            "/kaggle/input/2020mltermprojectbovw/train_csv_v2/euphonium/image_0007.csv\n",
            "/kaggle/input/2020mltermprojectbovw/train_csv_v2/euphonium/image_0040.csv\n",
            "/kaggle/input/2020mltermprojectbovw/train_csv_v2/minaret/image_0055.csv\n",
            "/kaggle/input/2020mltermprojectbovw/train_csv_v2/minaret/image_0008.csv\n",
            "/kaggle/input/2020mltermprojectbovw/train_csv_v2/minaret/image_0001.csv\n",
            "/kaggle/input/2020mltermprojectbovw/train_csv_v2/minaret/image_0025.csv\n",
            "/kaggle/input/2020mltermprojectbovw/train_csv_v2/minaret/image_0058.csv\n",
            "/kaggle/input/2020mltermprojectbovw/train_csv_v2/minaret/image_0015.csv\n",
            "/kaggle/input/2020mltermprojectbovw/train_csv_v2/minaret/image_0069.csv\n",
            "/kaggle/input/2020mltermprojectbovw/train_csv_v2/minaret/image_0017.csv\n",
            "/kaggle/input/2020mltermprojectbovw/train_csv_v2/minaret/image_0063.csv\n",
            "/kaggle/input/2020mltermprojectbovw/train_csv_v2/minaret/image_0020.csv\n",
            "/kaggle/input/2020mltermprojectbovw/train_csv_v2/minaret/image_0028.csv\n",
            "/kaggle/input/2020mltermprojectbovw/train_csv_v2/minaret/image_0071.csv\n",
            "/kaggle/input/2020mltermprojectbovw/train_csv_v2/minaret/image_0014.csv\n",
            "/kaggle/input/2020mltermprojectbovw/train_csv_v2/minaret/image_0044.csv\n",
            "/kaggle/input/2020mltermprojectbovw/train_csv_v2/minaret/image_0048.csv\n",
            "/kaggle/input/2020mltermprojectbovw/train_csv_v2/minaret/image_0009.csv\n",
            "/kaggle/input/2020mltermprojectbovw/train_csv_v2/minaret/image_0065.csv\n",
            "/kaggle/input/2020mltermprojectbovw/train_csv_v2/minaret/image_0021.csv\n",
            "/kaggle/input/2020mltermprojectbovw/train_csv_v2/minaret/image_0041.csv\n",
            "/kaggle/input/2020mltermprojectbovw/train_csv_v2/minaret/image_0046.csv\n",
            "/kaggle/input/2020mltermprojectbovw/train_csv_v2/minaret/image_0053.csv\n",
            "/kaggle/input/2020mltermprojectbovw/train_csv_v2/minaret/image_0022.csv\n",
            "/kaggle/input/2020mltermprojectbovw/train_csv_v2/minaret/image_0038.csv\n",
            "/kaggle/input/2020mltermprojectbovw/train_csv_v2/minaret/image_0043.csv\n",
            "/kaggle/input/2020mltermprojectbovw/train_csv_v2/minaret/image_0072.csv\n",
            "/kaggle/input/2020mltermprojectbovw/train_csv_v2/minaret/image_0037.csv\n",
            "/kaggle/input/2020mltermprojectbovw/train_csv_v2/minaret/image_0019.csv\n",
            "/kaggle/input/2020mltermprojectbovw/train_csv_v2/minaret/image_0061.csv\n",
            "/kaggle/input/2020mltermprojectbovw/train_csv_v2/minaret/image_0074.csv\n",
            "/kaggle/input/2020mltermprojectbovw/train_csv_v2/minaret/image_0026.csv\n",
            "/kaggle/input/2020mltermprojectbovw/train_csv_v2/sunflower/image_0055.csv\n",
            "/kaggle/input/2020mltermprojectbovw/train_csv_v2/sunflower/image_0008.csv\n",
            "/kaggle/input/2020mltermprojectbovw/train_csv_v2/sunflower/image_0060.csv\n",
            "/kaggle/input/2020mltermprojectbovw/train_csv_v2/sunflower/image_0001.csv\n",
            "/kaggle/input/2020mltermprojectbovw/train_csv_v2/sunflower/image_0034.csv\n",
            "/kaggle/input/2020mltermprojectbovw/train_csv_v2/sunflower/image_0069.csv\n",
            "/kaggle/input/2020mltermprojectbovw/train_csv_v2/sunflower/image_0017.csv\n",
            "/kaggle/input/2020mltermprojectbovw/train_csv_v2/sunflower/image_0085.csv\n",
            "/kaggle/input/2020mltermprojectbovw/train_csv_v2/sunflower/image_0031.csv\n",
            "/kaggle/input/2020mltermprojectbovw/train_csv_v2/sunflower/image_0076.csv\n",
            "/kaggle/input/2020mltermprojectbovw/train_csv_v2/sunflower/image_0044.csv\n",
            "/kaggle/input/2020mltermprojectbovw/train_csv_v2/sunflower/image_0048.csv\n",
            "/kaggle/input/2020mltermprojectbovw/train_csv_v2/sunflower/image_0016.csv\n",
            "/kaggle/input/2020mltermprojectbovw/train_csv_v2/sunflower/image_0021.csv\n",
            "/kaggle/input/2020mltermprojectbovw/train_csv_v2/sunflower/image_0041.csv\n",
            "/kaggle/input/2020mltermprojectbovw/train_csv_v2/sunflower/image_0081.csv\n",
            "/kaggle/input/2020mltermprojectbovw/train_csv_v2/sunflower/image_0012.csv\n",
            "/kaggle/input/2020mltermprojectbovw/train_csv_v2/sunflower/image_0078.csv\n",
            "/kaggle/input/2020mltermprojectbovw/train_csv_v2/sunflower/image_0002.csv\n",
            "/kaggle/input/2020mltermprojectbovw/train_csv_v2/sunflower/image_0022.csv\n",
            "/kaggle/input/2020mltermprojectbovw/train_csv_v2/sunflower/image_0013.csv\n",
            "/kaggle/input/2020mltermprojectbovw/train_csv_v2/sunflower/image_0038.csv\n",
            "/kaggle/input/2020mltermprojectbovw/train_csv_v2/sunflower/image_0043.csv\n",
            "/kaggle/input/2020mltermprojectbovw/train_csv_v2/sunflower/image_0027.csv\n",
            "/kaggle/input/2020mltermprojectbovw/train_csv_v2/sunflower/image_0011.csv\n",
            "/kaggle/input/2020mltermprojectbovw/train_csv_v2/sunflower/image_0033.csv\n",
            "/kaggle/input/2020mltermprojectbovw/train_csv_v2/sunflower/image_0035.csv\n",
            "/kaggle/input/2020mltermprojectbovw/train_csv_v2/sunflower/image_0083.csv\n",
            "/kaggle/input/2020mltermprojectbovw/train_csv_v2/sunflower/image_0040.csv\n",
            "/kaggle/input/2020mltermprojectbovw/train_csv_v2/sunflower/image_0039.csv\n",
            "/kaggle/input/2020mltermprojectbovw/train_csv_v2/BACKGROUND_Google/image_0136.csv\n",
            "/kaggle/input/2020mltermprojectbovw/train_csv_v2/BACKGROUND_Google/image_0197.csv\n",
            "/kaggle/input/2020mltermprojectbovw/train_csv_v2/BACKGROUND_Google/image_0254.csv\n",
            "/kaggle/input/2020mltermprojectbovw/train_csv_v2/BACKGROUND_Google/image_0449.csv\n",
            "/kaggle/input/2020mltermprojectbovw/train_csv_v2/BACKGROUND_Google/image_0407.csv\n",
            "/kaggle/input/2020mltermprojectbovw/train_csv_v2/BACKGROUND_Google/image_0305.csv\n",
            "/kaggle/input/2020mltermprojectbovw/train_csv_v2/BACKGROUND_Google/image_0151.csv\n",
            "/kaggle/input/2020mltermprojectbovw/train_csv_v2/BACKGROUND_Google/image_0299.csv\n",
            "/kaggle/input/2020mltermprojectbovw/train_csv_v2/BACKGROUND_Google/image_0084.csv\n",
            "/kaggle/input/2020mltermprojectbovw/train_csv_v2/BACKGROUND_Google/image_0198.csv\n",
            "/kaggle/input/2020mltermprojectbovw/train_csv_v2/BACKGROUND_Google/image_0414.csv\n",
            "/kaggle/input/2020mltermprojectbovw/train_csv_v2/BACKGROUND_Google/image_0071.csv\n",
            "/kaggle/input/2020mltermprojectbovw/train_csv_v2/BACKGROUND_Google/image_0054.csv\n",
            "/kaggle/input/2020mltermprojectbovw/train_csv_v2/BACKGROUND_Google/image_0065.csv\n",
            "/kaggle/input/2020mltermprojectbovw/train_csv_v2/BACKGROUND_Google/image_0329.csv\n",
            "/kaggle/input/2020mltermprojectbovw/train_csv_v2/BACKGROUND_Google/image_0275.csv\n",
            "/kaggle/input/2020mltermprojectbovw/train_csv_v2/BACKGROUND_Google/image_0267.csv\n",
            "/kaggle/input/2020mltermprojectbovw/train_csv_v2/BACKGROUND_Google/image_0006.csv\n",
            "/kaggle/input/2020mltermprojectbovw/train_csv_v2/BACKGROUND_Google/image_0177.csv\n",
            "/kaggle/input/2020mltermprojectbovw/train_csv_v2/BACKGROUND_Google/image_0342.csv\n",
            "/kaggle/input/2020mltermprojectbovw/train_csv_v2/BACKGROUND_Google/image_0109.csv\n",
            "/kaggle/input/2020mltermprojectbovw/train_csv_v2/BACKGROUND_Google/image_0370.csv\n",
            "/kaggle/input/2020mltermprojectbovw/train_csv_v2/BACKGROUND_Google/image_0457.csv\n",
            "/kaggle/input/2020mltermprojectbovw/train_csv_v2/BACKGROUND_Google/image_0390.csv\n",
            "/kaggle/input/2020mltermprojectbovw/train_csv_v2/BACKGROUND_Google/image_0010.csv\n",
            "/kaggle/input/2020mltermprojectbovw/train_csv_v2/BACKGROUND_Google/image_0438.csv\n",
            "/kaggle/input/2020mltermprojectbovw/train_csv_v2/BACKGROUND_Google/image_0452.csv\n",
            "/kaggle/input/2020mltermprojectbovw/train_csv_v2/BACKGROUND_Google/image_0131.csv\n",
            "/kaggle/input/2020mltermprojectbovw/train_csv_v2/BACKGROUND_Google/image_0249.csv\n",
            "/kaggle/input/2020mltermprojectbovw/train_csv_v2/BACKGROUND_Google/image_0325.csv\n",
            "/kaggle/input/2020mltermprojectbovw/train_csv_v2/cellphone/image_0003.csv\n",
            "/kaggle/input/2020mltermprojectbovw/train_csv_v2/cellphone/image_0008.csv\n",
            "/kaggle/input/2020mltermprojectbovw/train_csv_v2/cellphone/image_0024.csv\n",
            "/kaggle/input/2020mltermprojectbovw/train_csv_v2/cellphone/image_0001.csv\n",
            "/kaggle/input/2020mltermprojectbovw/train_csv_v2/cellphone/image_0025.csv\n",
            "/kaggle/input/2020mltermprojectbovw/train_csv_v2/cellphone/image_0036.csv\n",
            "/kaggle/input/2020mltermprojectbovw/train_csv_v2/cellphone/image_0015.csv\n",
            "/kaggle/input/2020mltermprojectbovw/train_csv_v2/cellphone/image_0034.csv\n",
            "/kaggle/input/2020mltermprojectbovw/train_csv_v2/cellphone/image_0005.csv\n",
            "/kaggle/input/2020mltermprojectbovw/train_csv_v2/cellphone/image_0014.csv\n",
            "/kaggle/input/2020mltermprojectbovw/train_csv_v2/cellphone/image_0044.csv\n",
            "/kaggle/input/2020mltermprojectbovw/train_csv_v2/cellphone/image_0004.csv\n",
            "/kaggle/input/2020mltermprojectbovw/train_csv_v2/cellphone/image_0048.csv\n",
            "/kaggle/input/2020mltermprojectbovw/train_csv_v2/cellphone/image_0029.csv\n",
            "/kaggle/input/2020mltermprojectbovw/train_csv_v2/cellphone/image_0016.csv\n",
            "/kaggle/input/2020mltermprojectbovw/train_csv_v2/cellphone/image_0021.csv\n",
            "/kaggle/input/2020mltermprojectbovw/train_csv_v2/cellphone/image_0041.csv\n",
            "/kaggle/input/2020mltermprojectbovw/train_csv_v2/cellphone/image_0052.csv\n",
            "/kaggle/input/2020mltermprojectbovw/train_csv_v2/cellphone/image_0013.csv\n",
            "/kaggle/input/2020mltermprojectbovw/train_csv_v2/cellphone/image_0038.csv\n",
            "/kaggle/input/2020mltermprojectbovw/train_csv_v2/cellphone/image_0006.csv\n",
            "/kaggle/input/2020mltermprojectbovw/train_csv_v2/cellphone/image_0011.csv\n",
            "/kaggle/input/2020mltermprojectbovw/train_csv_v2/cellphone/image_0059.csv\n",
            "/kaggle/input/2020mltermprojectbovw/train_csv_v2/cellphone/image_0037.csv\n",
            "/kaggle/input/2020mltermprojectbovw/train_csv_v2/cellphone/image_0033.csv\n",
            "/kaggle/input/2020mltermprojectbovw/train_csv_v2/cellphone/image_0051.csv\n",
            "/kaggle/input/2020mltermprojectbovw/train_csv_v2/cellphone/image_0026.csv\n",
            "/kaggle/input/2020mltermprojectbovw/train_csv_v2/cellphone/image_0045.csv\n",
            "/kaggle/input/2020mltermprojectbovw/train_csv_v2/cellphone/image_0040.csv\n",
            "/kaggle/input/2020mltermprojectbovw/train_csv_v2/cellphone/image_0039.csv\n",
            "/kaggle/input/2020mltermprojectbovw/train_csv_v2/trilobite/image_0068.csv\n",
            "/kaggle/input/2020mltermprojectbovw/train_csv_v2/trilobite/image_0060.csv\n",
            "/kaggle/input/2020mltermprojectbovw/train_csv_v2/trilobite/image_0024.csv\n",
            "/kaggle/input/2020mltermprojectbovw/train_csv_v2/trilobite/image_0001.csv\n",
            "/kaggle/input/2020mltermprojectbovw/train_csv_v2/trilobite/image_0036.csv\n",
            "/kaggle/input/2020mltermprojectbovw/train_csv_v2/trilobite/image_0057.csv\n",
            "/kaggle/input/2020mltermprojectbovw/train_csv_v2/trilobite/image_0049.csv\n",
            "/kaggle/input/2020mltermprojectbovw/train_csv_v2/trilobite/image_0084.csv\n",
            "/kaggle/input/2020mltermprojectbovw/train_csv_v2/trilobite/image_0063.csv\n",
            "/kaggle/input/2020mltermprojectbovw/train_csv_v2/trilobite/image_0005.csv\n",
            "/kaggle/input/2020mltermprojectbovw/train_csv_v2/trilobite/image_0054.csv\n",
            "/kaggle/input/2020mltermprojectbovw/train_csv_v2/trilobite/image_0018.csv\n",
            "/kaggle/input/2020mltermprojectbovw/train_csv_v2/trilobite/image_0048.csv\n",
            "/kaggle/input/2020mltermprojectbovw/train_csv_v2/trilobite/image_0029.csv\n",
            "/kaggle/input/2020mltermprojectbovw/train_csv_v2/trilobite/image_0016.csv\n",
            "/kaggle/input/2020mltermprojectbovw/train_csv_v2/trilobite/image_0021.csv\n",
            "/kaggle/input/2020mltermprojectbovw/train_csv_v2/trilobite/image_0053.csv\n",
            "/kaggle/input/2020mltermprojectbovw/train_csv_v2/trilobite/image_0023.csv\n",
            "/kaggle/input/2020mltermprojectbovw/train_csv_v2/trilobite/image_0012.csv\n",
            "/kaggle/input/2020mltermprojectbovw/train_csv_v2/trilobite/image_0022.csv\n",
            "/kaggle/input/2020mltermprojectbovw/train_csv_v2/trilobite/image_0077.csv\n",
            "/kaggle/input/2020mltermprojectbovw/train_csv_v2/trilobite/image_0043.csv\n",
            "/kaggle/input/2020mltermprojectbovw/train_csv_v2/trilobite/image_0011.csv\n",
            "/kaggle/input/2020mltermprojectbovw/train_csv_v2/trilobite/image_0033.csv\n",
            "/kaggle/input/2020mltermprojectbovw/train_csv_v2/trilobite/image_0019.csv\n",
            "/kaggle/input/2020mltermprojectbovw/train_csv_v2/trilobite/image_0082.csv\n",
            "/kaggle/input/2020mltermprojectbovw/train_csv_v2/trilobite/image_0010.csv\n",
            "/kaggle/input/2020mltermprojectbovw/train_csv_v2/trilobite/image_0045.csv\n",
            "/kaggle/input/2020mltermprojectbovw/train_csv_v2/trilobite/image_0083.csv\n",
            "/kaggle/input/2020mltermprojectbovw/train_csv_v2/trilobite/image_0079.csv\n",
            "/kaggle/input/2020mltermprojectbovw/train_csv_v2/lotus/image_0055.csv\n",
            "/kaggle/input/2020mltermprojectbovw/train_csv_v2/lotus/image_0024.csv\n",
            "/kaggle/input/2020mltermprojectbovw/train_csv_v2/lotus/image_0025.csv\n",
            "/kaggle/input/2020mltermprojectbovw/train_csv_v2/lotus/image_0036.csv\n",
            "/kaggle/input/2020mltermprojectbovw/train_csv_v2/lotus/image_0015.csv\n",
            "/kaggle/input/2020mltermprojectbovw/train_csv_v2/lotus/image_0034.csv\n",
            "/kaggle/input/2020mltermprojectbovw/train_csv_v2/lotus/image_0049.csv\n",
            "/kaggle/input/2020mltermprojectbovw/train_csv_v2/lotus/image_0063.csv\n",
            "/kaggle/input/2020mltermprojectbovw/train_csv_v2/lotus/image_0020.csv\n",
            "/kaggle/input/2020mltermprojectbovw/train_csv_v2/lotus/image_0031.csv\n",
            "/kaggle/input/2020mltermprojectbovw/train_csv_v2/lotus/image_0014.csv\n",
            "/kaggle/input/2020mltermprojectbovw/train_csv_v2/lotus/image_0018.csv\n",
            "/kaggle/input/2020mltermprojectbovw/train_csv_v2/lotus/image_0044.csv\n",
            "/kaggle/input/2020mltermprojectbovw/train_csv_v2/lotus/image_0004.csv\n",
            "/kaggle/input/2020mltermprojectbovw/train_csv_v2/lotus/image_0048.csv\n",
            "/kaggle/input/2020mltermprojectbovw/train_csv_v2/lotus/image_0029.csv\n",
            "/kaggle/input/2020mltermprojectbovw/train_csv_v2/lotus/image_0016.csv\n",
            "/kaggle/input/2020mltermprojectbovw/train_csv_v2/lotus/image_0023.csv\n",
            "/kaggle/input/2020mltermprojectbovw/train_csv_v2/lotus/image_0052.csv\n",
            "/kaggle/input/2020mltermprojectbovw/train_csv_v2/lotus/image_0043.csv\n",
            "/kaggle/input/2020mltermprojectbovw/train_csv_v2/lotus/image_0006.csv\n",
            "/kaggle/input/2020mltermprojectbovw/train_csv_v2/lotus/image_0011.csv\n",
            "/kaggle/input/2020mltermprojectbovw/train_csv_v2/lotus/image_0051.csv\n",
            "/kaggle/input/2020mltermprojectbovw/train_csv_v2/lotus/image_0019.csv\n",
            "/kaggle/input/2020mltermprojectbovw/train_csv_v2/lotus/image_0035.csv\n",
            "/kaggle/input/2020mltermprojectbovw/train_csv_v2/lotus/image_0010.csv\n",
            "/kaggle/input/2020mltermprojectbovw/train_csv_v2/lotus/image_0026.csv\n",
            "/kaggle/input/2020mltermprojectbovw/train_csv_v2/lotus/image_0007.csv\n",
            "/kaggle/input/2020mltermprojectbovw/train_csv_v2/lotus/image_0045.csv\n",
            "/kaggle/input/2020mltermprojectbovw/train_csv_v2/lotus/image_0039.csv\n",
            "/kaggle/input/2020mltermprojectbovw/train_csv_v2/accordion/image_0055.csv\n",
            "/kaggle/input/2020mltermprojectbovw/train_csv_v2/accordion/image_0008.csv\n",
            "/kaggle/input/2020mltermprojectbovw/train_csv_v2/accordion/image_0024.csv\n",
            "/kaggle/input/2020mltermprojectbovw/train_csv_v2/accordion/image_0001.csv\n",
            "/kaggle/input/2020mltermprojectbovw/train_csv_v2/accordion/image_0034.csv\n",
            "/kaggle/input/2020mltermprojectbovw/train_csv_v2/accordion/image_0049.csv\n",
            "/kaggle/input/2020mltermprojectbovw/train_csv_v2/accordion/image_0005.csv\n",
            "/kaggle/input/2020mltermprojectbovw/train_csv_v2/accordion/image_0020.csv\n",
            "/kaggle/input/2020mltermprojectbovw/train_csv_v2/accordion/image_0042.csv\n",
            "/kaggle/input/2020mltermprojectbovw/train_csv_v2/accordion/image_0014.csv\n",
            "/kaggle/input/2020mltermprojectbovw/train_csv_v2/accordion/image_0054.csv\n",
            "/kaggle/input/2020mltermprojectbovw/train_csv_v2/accordion/image_0044.csv\n",
            "/kaggle/input/2020mltermprojectbovw/train_csv_v2/accordion/image_0004.csv\n",
            "/kaggle/input/2020mltermprojectbovw/train_csv_v2/accordion/image_0048.csv\n",
            "/kaggle/input/2020mltermprojectbovw/train_csv_v2/accordion/image_0029.csv\n",
            "/kaggle/input/2020mltermprojectbovw/train_csv_v2/accordion/image_0016.csv\n",
            "/kaggle/input/2020mltermprojectbovw/train_csv_v2/accordion/image_0009.csv\n",
            "/kaggle/input/2020mltermprojectbovw/train_csv_v2/accordion/image_0021.csv\n",
            "/kaggle/input/2020mltermprojectbovw/train_csv_v2/accordion/image_0023.csv\n",
            "/kaggle/input/2020mltermprojectbovw/train_csv_v2/accordion/image_0052.csv\n",
            "/kaggle/input/2020mltermprojectbovw/train_csv_v2/accordion/image_0002.csv\n",
            "/kaggle/input/2020mltermprojectbovw/train_csv_v2/accordion/image_0022.csv\n",
            "/kaggle/input/2020mltermprojectbovw/train_csv_v2/accordion/image_0047.csv\n",
            "/kaggle/input/2020mltermprojectbovw/train_csv_v2/accordion/image_0013.csv\n",
            "/kaggle/input/2020mltermprojectbovw/train_csv_v2/accordion/image_0043.csv\n",
            "/kaggle/input/2020mltermprojectbovw/train_csv_v2/accordion/image_0032.csv\n",
            "/kaggle/input/2020mltermprojectbovw/train_csv_v2/accordion/image_0033.csv\n",
            "/kaggle/input/2020mltermprojectbovw/train_csv_v2/accordion/image_0051.csv\n",
            "/kaggle/input/2020mltermprojectbovw/train_csv_v2/accordion/image_0045.csv\n",
            "/kaggle/input/2020mltermprojectbovw/train_csv_v2/accordion/image_0040.csv\n",
            "/kaggle/input/2020mltermprojectbovw/train_csv_v2/watch/image_0098.csv\n",
            "/kaggle/input/2020mltermprojectbovw/train_csv_v2/watch/image_0212.csv\n",
            "/kaggle/input/2020mltermprojectbovw/train_csv_v2/watch/image_0086.csv\n",
            "/kaggle/input/2020mltermprojectbovw/train_csv_v2/watch/image_0024.csv\n",
            "/kaggle/input/2020mltermprojectbovw/train_csv_v2/watch/image_0127.csv\n",
            "/kaggle/input/2020mltermprojectbovw/train_csv_v2/watch/image_0179.csv\n",
            "/kaggle/input/2020mltermprojectbovw/train_csv_v2/watch/image_0151.csv\n",
            "/kaggle/input/2020mltermprojectbovw/train_csv_v2/watch/image_0202.csv\n",
            "/kaggle/input/2020mltermprojectbovw/train_csv_v2/watch/image_0031.csv\n",
            "/kaggle/input/2020mltermprojectbovw/train_csv_v2/watch/image_0145.csv\n",
            "/kaggle/input/2020mltermprojectbovw/train_csv_v2/watch/image_0076.csv\n",
            "/kaggle/input/2020mltermprojectbovw/train_csv_v2/watch/image_0009.csv\n",
            "/kaggle/input/2020mltermprojectbovw/train_csv_v2/watch/image_0167.csv\n",
            "/kaggle/input/2020mltermprojectbovw/train_csv_v2/watch/image_0092.csv\n",
            "/kaggle/input/2020mltermprojectbovw/train_csv_v2/watch/image_0195.csv\n",
            "/kaggle/input/2020mltermprojectbovw/train_csv_v2/watch/image_0023.csv\n",
            "/kaggle/input/2020mltermprojectbovw/train_csv_v2/watch/image_0101.csv\n",
            "/kaggle/input/2020mltermprojectbovw/train_csv_v2/watch/image_0162.csv\n",
            "/kaggle/input/2020mltermprojectbovw/train_csv_v2/watch/image_0170.csv\n",
            "/kaggle/input/2020mltermprojectbovw/train_csv_v2/watch/image_0225.csv\n",
            "/kaggle/input/2020mltermprojectbovw/train_csv_v2/watch/image_0059.csv\n",
            "/kaggle/input/2020mltermprojectbovw/train_csv_v2/watch/image_0133.csv\n",
            "/kaggle/input/2020mltermprojectbovw/train_csv_v2/watch/image_0139.csv\n",
            "/kaggle/input/2020mltermprojectbovw/train_csv_v2/watch/image_0186.csv\n",
            "/kaggle/input/2020mltermprojectbovw/train_csv_v2/watch/image_0171.csv\n",
            "/kaggle/input/2020mltermprojectbovw/train_csv_v2/watch/image_0229.csv\n",
            "/kaggle/input/2020mltermprojectbovw/train_csv_v2/watch/image_0064.csv\n",
            "/kaggle/input/2020mltermprojectbovw/train_csv_v2/watch/image_0026.csv\n",
            "/kaggle/input/2020mltermprojectbovw/train_csv_v2/watch/image_0087.csv\n",
            "/kaggle/input/2020mltermprojectbovw/train_csv_v2/watch/image_0157.csv\n",
            "/kaggle/input/2020mltermprojectbovw/train_csv_v2/binocular/image_0008.csv\n",
            "/kaggle/input/2020mltermprojectbovw/train_csv_v2/binocular/image_0024.csv\n",
            "/kaggle/input/2020mltermprojectbovw/train_csv_v2/binocular/image_0001.csv\n",
            "/kaggle/input/2020mltermprojectbovw/train_csv_v2/binocular/image_0025.csv\n",
            "/kaggle/input/2020mltermprojectbovw/train_csv_v2/binocular/image_0015.csv\n",
            "/kaggle/input/2020mltermprojectbovw/train_csv_v2/binocular/image_0017.csv\n",
            "/kaggle/input/2020mltermprojectbovw/train_csv_v2/binocular/image_0005.csv\n",
            "/kaggle/input/2020mltermprojectbovw/train_csv_v2/binocular/image_0020.csv\n",
            "/kaggle/input/2020mltermprojectbovw/train_csv_v2/binocular/image_0031.csv\n",
            "/kaggle/input/2020mltermprojectbovw/train_csv_v2/binocular/image_0028.csv\n",
            "/kaggle/input/2020mltermprojectbovw/train_csv_v2/binocular/image_0018.csv\n",
            "/kaggle/input/2020mltermprojectbovw/train_csv_v2/binocular/image_0004.csv\n",
            "/kaggle/input/2020mltermprojectbovw/train_csv_v2/binocular/image_0029.csv\n",
            "/kaggle/input/2020mltermprojectbovw/train_csv_v2/binocular/image_0016.csv\n",
            "/kaggle/input/2020mltermprojectbovw/train_csv_v2/binocular/image_0009.csv\n",
            "/kaggle/input/2020mltermprojectbovw/train_csv_v2/binocular/image_0021.csv\n",
            "/kaggle/input/2020mltermprojectbovw/train_csv_v2/binocular/image_0012.csv\n",
            "/kaggle/input/2020mltermprojectbovw/train_csv_v2/binocular/image_0002.csv\n",
            "/kaggle/input/2020mltermprojectbovw/train_csv_v2/binocular/image_0022.csv\n",
            "/kaggle/input/2020mltermprojectbovw/train_csv_v2/binocular/image_0013.csv\n",
            "/kaggle/input/2020mltermprojectbovw/train_csv_v2/binocular/image_0027.csv\n",
            "/kaggle/input/2020mltermprojectbovw/train_csv_v2/binocular/image_0032.csv\n",
            "/kaggle/input/2020mltermprojectbovw/train_csv_v2/binocular/image_0006.csv\n",
            "/kaggle/input/2020mltermprojectbovw/train_csv_v2/binocular/image_0011.csv\n",
            "/kaggle/input/2020mltermprojectbovw/train_csv_v2/binocular/image_0033.csv\n",
            "/kaggle/input/2020mltermprojectbovw/train_csv_v2/binocular/image_0019.csv\n",
            "/kaggle/input/2020mltermprojectbovw/train_csv_v2/binocular/image_0010.csv\n",
            "/kaggle/input/2020mltermprojectbovw/train_csv_v2/binocular/image_0026.csv\n",
            "/kaggle/input/2020mltermprojectbovw/train_csv_v2/binocular/image_0007.csv\n",
            "/kaggle/input/2020mltermprojectbovw/train_csv_v2/binocular/image_0030.csv\n",
            "/kaggle/input/2020mltermprojectbovw/train_csv_v2/camera/image_0024.csv\n",
            "/kaggle/input/2020mltermprojectbovw/train_csv_v2/camera/image_0025.csv\n",
            "/kaggle/input/2020mltermprojectbovw/train_csv_v2/camera/image_0015.csv\n",
            "/kaggle/input/2020mltermprojectbovw/train_csv_v2/camera/image_0034.csv\n",
            "/kaggle/input/2020mltermprojectbovw/train_csv_v2/camera/image_0049.csv\n",
            "/kaggle/input/2020mltermprojectbovw/train_csv_v2/camera/image_0017.csv\n",
            "/kaggle/input/2020mltermprojectbovw/train_csv_v2/camera/image_0031.csv\n",
            "/kaggle/input/2020mltermprojectbovw/train_csv_v2/camera/image_0018.csv\n",
            "/kaggle/input/2020mltermprojectbovw/train_csv_v2/camera/image_0004.csv\n",
            "/kaggle/input/2020mltermprojectbovw/train_csv_v2/camera/image_0048.csv\n",
            "/kaggle/input/2020mltermprojectbovw/train_csv_v2/camera/image_0009.csv\n",
            "/kaggle/input/2020mltermprojectbovw/train_csv_v2/camera/image_0041.csv\n",
            "/kaggle/input/2020mltermprojectbovw/train_csv_v2/camera/image_0046.csv\n",
            "/kaggle/input/2020mltermprojectbovw/train_csv_v2/camera/image_0012.csv\n",
            "/kaggle/input/2020mltermprojectbovw/train_csv_v2/camera/image_0002.csv\n",
            "/kaggle/input/2020mltermprojectbovw/train_csv_v2/camera/image_0022.csv\n",
            "/kaggle/input/2020mltermprojectbovw/train_csv_v2/camera/image_0047.csv\n",
            "/kaggle/input/2020mltermprojectbovw/train_csv_v2/camera/image_0013.csv\n",
            "/kaggle/input/2020mltermprojectbovw/train_csv_v2/camera/image_0027.csv\n",
            "/kaggle/input/2020mltermprojectbovw/train_csv_v2/camera/image_0032.csv\n",
            "/kaggle/input/2020mltermprojectbovw/train_csv_v2/camera/image_0037.csv\n",
            "/kaggle/input/2020mltermprojectbovw/train_csv_v2/camera/image_0033.csv\n",
            "/kaggle/input/2020mltermprojectbovw/train_csv_v2/camera/image_0019.csv\n",
            "/kaggle/input/2020mltermprojectbovw/train_csv_v2/camera/image_0035.csv\n",
            "/kaggle/input/2020mltermprojectbovw/train_csv_v2/camera/image_0010.csv\n",
            "/kaggle/input/2020mltermprojectbovw/train_csv_v2/camera/image_0050.csv\n",
            "/kaggle/input/2020mltermprojectbovw/train_csv_v2/camera/image_0007.csv\n",
            "/kaggle/input/2020mltermprojectbovw/train_csv_v2/camera/image_0045.csv\n",
            "/kaggle/input/2020mltermprojectbovw/train_csv_v2/camera/image_0030.csv\n",
            "/kaggle/input/2020mltermprojectbovw/train_csv_v2/camera/image_0039.csv\n",
            "/kaggle/input/2020mltermprojectbovw/train_csv_v2/electric_guitar/image_0003.csv\n",
            "/kaggle/input/2020mltermprojectbovw/train_csv_v2/electric_guitar/image_0024.csv\n",
            "/kaggle/input/2020mltermprojectbovw/train_csv_v2/electric_guitar/image_0001.csv\n",
            "/kaggle/input/2020mltermprojectbovw/train_csv_v2/electric_guitar/image_0025.csv\n",
            "/kaggle/input/2020mltermprojectbovw/train_csv_v2/electric_guitar/image_0036.csv\n",
            "/kaggle/input/2020mltermprojectbovw/train_csv_v2/electric_guitar/image_0015.csv\n",
            "/kaggle/input/2020mltermprojectbovw/train_csv_v2/electric_guitar/image_0069.csv\n",
            "/kaggle/input/2020mltermprojectbovw/train_csv_v2/electric_guitar/image_0005.csv\n",
            "/kaggle/input/2020mltermprojectbovw/train_csv_v2/electric_guitar/image_0020.csv\n",
            "/kaggle/input/2020mltermprojectbovw/train_csv_v2/electric_guitar/image_0071.csv\n",
            "/kaggle/input/2020mltermprojectbovw/train_csv_v2/electric_guitar/image_0018.csv\n",
            "/kaggle/input/2020mltermprojectbovw/train_csv_v2/electric_guitar/image_0048.csv\n",
            "/kaggle/input/2020mltermprojectbovw/train_csv_v2/electric_guitar/image_0065.csv\n",
            "/kaggle/input/2020mltermprojectbovw/train_csv_v2/electric_guitar/image_0021.csv\n",
            "/kaggle/input/2020mltermprojectbovw/train_csv_v2/electric_guitar/image_0012.csv\n",
            "/kaggle/input/2020mltermprojectbovw/train_csv_v2/electric_guitar/image_0022.csv\n",
            "/kaggle/input/2020mltermprojectbovw/train_csv_v2/electric_guitar/image_0027.csv\n",
            "/kaggle/input/2020mltermprojectbovw/train_csv_v2/electric_guitar/image_0032.csv\n",
            "/kaggle/input/2020mltermprojectbovw/train_csv_v2/electric_guitar/image_0072.csv\n",
            "/kaggle/input/2020mltermprojectbovw/train_csv_v2/electric_guitar/image_0059.csv\n",
            "/kaggle/input/2020mltermprojectbovw/train_csv_v2/electric_guitar/image_0037.csv\n",
            "/kaggle/input/2020mltermprojectbovw/train_csv_v2/electric_guitar/image_0019.csv\n",
            "/kaggle/input/2020mltermprojectbovw/train_csv_v2/electric_guitar/image_0035.csv\n",
            "/kaggle/input/2020mltermprojectbovw/train_csv_v2/electric_guitar/image_0061.csv\n",
            "/kaggle/input/2020mltermprojectbovw/train_csv_v2/electric_guitar/image_0074.csv\n",
            "/kaggle/input/2020mltermprojectbovw/train_csv_v2/electric_guitar/image_0067.csv\n",
            "/kaggle/input/2020mltermprojectbovw/train_csv_v2/electric_guitar/image_0007.csv\n",
            "/kaggle/input/2020mltermprojectbovw/train_csv_v2/electric_guitar/image_0045.csv\n",
            "/kaggle/input/2020mltermprojectbovw/train_csv_v2/electric_guitar/image_0030.csv\n",
            "/kaggle/input/2020mltermprojectbovw/train_csv_v2/electric_guitar/image_0040.csv\n",
            "/kaggle/input/2020mltermprojectbovw/test_csv_v2/img_01054.csv\n",
            "/kaggle/input/2020mltermprojectbovw/test_csv_v2/img_01315.csv\n",
            "/kaggle/input/2020mltermprojectbovw/test_csv_v2/img_01241.csv\n",
            "/kaggle/input/2020mltermprojectbovw/test_csv_v2/img_00843.csv\n",
            "/kaggle/input/2020mltermprojectbovw/test_csv_v2/img_00147.csv\n",
            "/kaggle/input/2020mltermprojectbovw/test_csv_v2/img_00801.csv\n",
            "/kaggle/input/2020mltermprojectbovw/test_csv_v2/img_00712.csv\n",
            "/kaggle/input/2020mltermprojectbovw/test_csv_v2/img_00957.csv\n",
            "/kaggle/input/2020mltermprojectbovw/test_csv_v2/img_00319.csv\n",
            "/kaggle/input/2020mltermprojectbovw/test_csv_v2/img_00680.csv\n",
            "/kaggle/input/2020mltermprojectbovw/test_csv_v2/img_00408.csv\n",
            "/kaggle/input/2020mltermprojectbovw/test_csv_v2/img_00654.csv\n",
            "/kaggle/input/2020mltermprojectbovw/test_csv_v2/img_01121.csv\n",
            "/kaggle/input/2020mltermprojectbovw/test_csv_v2/img_00100.csv\n",
            "/kaggle/input/2020mltermprojectbovw/test_csv_v2/img_00494.csv\n",
            "/kaggle/input/2020mltermprojectbovw/test_csv_v2/img_01128.csv\n",
            "/kaggle/input/2020mltermprojectbovw/test_csv_v2/img_01030.csv\n",
            "/kaggle/input/2020mltermprojectbovw/test_csv_v2/img_00429.csv\n",
            "/kaggle/input/2020mltermprojectbovw/test_csv_v2/img_00196.csv\n",
            "/kaggle/input/2020mltermprojectbovw/test_csv_v2/img_00924.csv\n",
            "/kaggle/input/2020mltermprojectbovw/test_csv_v2/img_01189.csv\n",
            "/kaggle/input/2020mltermprojectbovw/test_csv_v2/img_01177.csv\n",
            "/kaggle/input/2020mltermprojectbovw/test_csv_v2/img_00874.csv\n",
            "/kaggle/input/2020mltermprojectbovw/test_csv_v2/img_01403.csv\n",
            "/kaggle/input/2020mltermprojectbovw/test_csv_v2/img_00285.csv\n",
            "/kaggle/input/2020mltermprojectbovw/test_csv_v2/img_00565.csv\n",
            "/kaggle/input/2020mltermprojectbovw/test_csv_v2/img_01642.csv\n",
            "/kaggle/input/2020mltermprojectbovw/test_csv_v2/img_01066.csv\n",
            "/kaggle/input/2020mltermprojectbovw/test_csv_v2/img_01114.csv\n",
            "/kaggle/input/2020mltermprojectbovw/test_csv_v2/img_01482.csv\n",
            "/kaggle/input/2020mltermprojectbovw/test_csv_v2/img_00954.csv\n",
            "/kaggle/input/2020mltermprojectbovw/test_csv_v2/img_00277.csv\n",
            "/kaggle/input/2020mltermprojectbovw/test_csv_v2/img_01068.csv\n",
            "/kaggle/input/2020mltermprojectbovw/test_csv_v2/img_00939.csv\n",
            "/kaggle/input/2020mltermprojectbovw/test_csv_v2/img_01472.csv\n",
            "/kaggle/input/2020mltermprojectbovw/test_csv_v2/img_01375.csv\n",
            "/kaggle/input/2020mltermprojectbovw/test_csv_v2/img_00725.csv\n",
            "/kaggle/input/2020mltermprojectbovw/test_csv_v2/img_01347.csv\n",
            "/kaggle/input/2020mltermprojectbovw/test_csv_v2/img_00074.csv\n",
            "/kaggle/input/2020mltermprojectbovw/test_csv_v2/img_01402.csv\n",
            "/kaggle/input/2020mltermprojectbovw/test_csv_v2/img_01552.csv\n",
            "/kaggle/input/2020mltermprojectbovw/test_csv_v2/img_00691.csv\n",
            "/kaggle/input/2020mltermprojectbovw/test_csv_v2/img_01571.csv\n",
            "/kaggle/input/2020mltermprojectbovw/test_csv_v2/img_01548.csv\n",
            "/kaggle/input/2020mltermprojectbovw/test_csv_v2/img_00129.csv\n",
            "/kaggle/input/2020mltermprojectbovw/test_csv_v2/img_01244.csv\n",
            "/kaggle/input/2020mltermprojectbovw/test_csv_v2/img_00399.csv\n",
            "/kaggle/input/2020mltermprojectbovw/test_csv_v2/img_00741.csv\n",
            "/kaggle/input/2020mltermprojectbovw/test_csv_v2/img_00308.csv\n",
            "/kaggle/input/2020mltermprojectbovw/test_csv_v2/img_01228.csv\n",
            "/kaggle/input/2020mltermprojectbovw/test_csv_v2/img_00382.csv\n",
            "/kaggle/input/2020mltermprojectbovw/test_csv_v2/img_01341.csv\n",
            "/kaggle/input/2020mltermprojectbovw/test_csv_v2/img_00063.csv\n",
            "/kaggle/input/2020mltermprojectbovw/test_csv_v2/img_00749.csv\n",
            "/kaggle/input/2020mltermprojectbovw/test_csv_v2/img_01346.csv\n",
            "/kaggle/input/2020mltermprojectbovw/test_csv_v2/img_00006.csv\n",
            "/kaggle/input/2020mltermprojectbovw/test_csv_v2/img_00373.csv\n",
            "/kaggle/input/2020mltermprojectbovw/test_csv_v2/img_00766.csv\n",
            "/kaggle/input/2020mltermprojectbovw/test_csv_v2/img_01082.csv\n",
            "/kaggle/input/2020mltermprojectbovw/test_csv_v2/img_01677.csv\n",
            "/kaggle/input/2020mltermprojectbovw/test_csv_v2/img_01525.csv\n",
            "/kaggle/input/2020mltermprojectbovw/test_csv_v2/img_01503.csv\n",
            "/kaggle/input/2020mltermprojectbovw/test_csv_v2/img_00906.csv\n",
            "/kaggle/input/2020mltermprojectbovw/test_csv_v2/img_00463.csv\n",
            "/kaggle/input/2020mltermprojectbovw/test_csv_v2/img_00608.csv\n",
            "/kaggle/input/2020mltermprojectbovw/test_csv_v2/img_00311.csv\n",
            "/kaggle/input/2020mltermprojectbovw/test_csv_v2/img_00008.csv\n",
            "/kaggle/input/2020mltermprojectbovw/test_csv_v2/img_00976.csv\n",
            "/kaggle/input/2020mltermprojectbovw/test_csv_v2/img_01132.csv\n",
            "/kaggle/input/2020mltermprojectbovw/test_csv_v2/img_01117.csv\n",
            "/kaggle/input/2020mltermprojectbovw/test_csv_v2/img_00947.csv\n",
            "/kaggle/input/2020mltermprojectbovw/test_csv_v2/img_00698.csv\n",
            "/kaggle/input/2020mltermprojectbovw/test_csv_v2/img_00891.csv\n",
            "/kaggle/input/2020mltermprojectbovw/test_csv_v2/img_01371.csv\n",
            "/kaggle/input/2020mltermprojectbovw/test_csv_v2/img_01393.csv\n",
            "/kaggle/input/2020mltermprojectbovw/test_csv_v2/img_00098.csv\n",
            "/kaggle/input/2020mltermprojectbovw/test_csv_v2/img_00679.csv\n",
            "/kaggle/input/2020mltermprojectbovw/test_csv_v2/img_00695.csv\n",
            "/kaggle/input/2020mltermprojectbovw/test_csv_v2/img_00951.csv\n",
            "/kaggle/input/2020mltermprojectbovw/test_csv_v2/img_01693.csv\n",
            "/kaggle/input/2020mltermprojectbovw/test_csv_v2/img_00880.csv\n",
            "/kaggle/input/2020mltermprojectbovw/test_csv_v2/img_00566.csv\n",
            "/kaggle/input/2020mltermprojectbovw/test_csv_v2/img_00886.csv\n",
            "/kaggle/input/2020mltermprojectbovw/test_csv_v2/img_00342.csv\n",
            "/kaggle/input/2020mltermprojectbovw/test_csv_v2/img_01653.csv\n",
            "/kaggle/input/2020mltermprojectbovw/test_csv_v2/img_00341.csv\n",
            "/kaggle/input/2020mltermprojectbovw/test_csv_v2/img_01022.csv\n",
            "/kaggle/input/2020mltermprojectbovw/test_csv_v2/img_00423.csv\n",
            "/kaggle/input/2020mltermprojectbovw/test_csv_v2/img_00624.csv\n",
            "/kaggle/input/2020mltermprojectbovw/test_csv_v2/img_01125.csv\n",
            "/kaggle/input/2020mltermprojectbovw/test_csv_v2/img_00011.csv\n",
            "/kaggle/input/2020mltermprojectbovw/test_csv_v2/img_00740.csv\n",
            "/kaggle/input/2020mltermprojectbovw/test_csv_v2/img_00599.csv\n",
            "/kaggle/input/2020mltermprojectbovw/test_csv_v2/img_00774.csv\n",
            "/kaggle/input/2020mltermprojectbovw/test_csv_v2/img_01616.csv\n",
            "/kaggle/input/2020mltermprojectbovw/test_csv_v2/img_00750.csv\n",
            "/kaggle/input/2020mltermprojectbovw/test_csv_v2/img_01209.csv\n",
            "/kaggle/input/2020mltermprojectbovw/test_csv_v2/img_01389.csv\n",
            "/kaggle/input/2020mltermprojectbovw/test_csv_v2/img_01028.csv\n",
            "/kaggle/input/2020mltermprojectbovw/test_csv_v2/img_00855.csv\n",
            "/kaggle/input/2020mltermprojectbovw/test_csv_v2/img_00275.csv\n",
            "/kaggle/input/2020mltermprojectbovw/test_csv_v2/img_00498.csv\n",
            "/kaggle/input/2020mltermprojectbovw/test_csv_v2/img_01374.csv\n",
            "/kaggle/input/2020mltermprojectbovw/test_csv_v2/img_00210.csv\n",
            "/kaggle/input/2020mltermprojectbovw/test_csv_v2/img_00738.csv\n",
            "/kaggle/input/2020mltermprojectbovw/test_csv_v2/img_00678.csv\n",
            "/kaggle/input/2020mltermprojectbovw/test_csv_v2/img_00507.csv\n",
            "/kaggle/input/2020mltermprojectbovw/test_csv_v2/img_00955.csv\n",
            "/kaggle/input/2020mltermprojectbovw/test_csv_v2/img_00422.csv\n",
            "/kaggle/input/2020mltermprojectbovw/test_csv_v2/img_01222.csv\n",
            "/kaggle/input/2020mltermprojectbovw/test_csv_v2/img_01110.csv\n",
            "/kaggle/input/2020mltermprojectbovw/test_csv_v2/img_01069.csv\n",
            "/kaggle/input/2020mltermprojectbovw/test_csv_v2/img_00303.csv\n",
            "/kaggle/input/2020mltermprojectbovw/test_csv_v2/img_00102.csv\n",
            "/kaggle/input/2020mltermprojectbovw/test_csv_v2/img_00253.csv\n",
            "/kaggle/input/2020mltermprojectbovw/test_csv_v2/img_00262.csv\n",
            "/kaggle/input/2020mltermprojectbovw/test_csv_v2/img_01087.csv\n",
            "/kaggle/input/2020mltermprojectbovw/test_csv_v2/img_01096.csv\n",
            "/kaggle/input/2020mltermprojectbovw/test_csv_v2/img_00337.csv\n",
            "/kaggle/input/2020mltermprojectbovw/test_csv_v2/img_00963.csv\n",
            "/kaggle/input/2020mltermprojectbovw/test_csv_v2/img_00592.csv\n",
            "/kaggle/input/2020mltermprojectbovw/test_csv_v2/img_01287.csv\n",
            "/kaggle/input/2020mltermprojectbovw/test_csv_v2/img_01097.csv\n",
            "/kaggle/input/2020mltermprojectbovw/test_csv_v2/img_01093.csv\n",
            "/kaggle/input/2020mltermprojectbovw/test_csv_v2/img_00673.csv\n",
            "/kaggle/input/2020mltermprojectbovw/test_csv_v2/img_00454.csv\n",
            "/kaggle/input/2020mltermprojectbovw/test_csv_v2/img_00247.csv\n",
            "/kaggle/input/2020mltermprojectbovw/test_csv_v2/img_01234.csv\n",
            "/kaggle/input/2020mltermprojectbovw/test_csv_v2/img_00861.csv\n",
            "/kaggle/input/2020mltermprojectbovw/test_csv_v2/img_00827.csv\n",
            "/kaggle/input/2020mltermprojectbovw/test_csv_v2/img_01649.csv\n",
            "/kaggle/input/2020mltermprojectbovw/test_csv_v2/img_01210.csv\n",
            "/kaggle/input/2020mltermprojectbovw/test_csv_v2/img_00898.csv\n",
            "/kaggle/input/2020mltermprojectbovw/test_csv_v2/img_01253.csv\n",
            "/kaggle/input/2020mltermprojectbovw/test_csv_v2/img_01488.csv\n",
            "/kaggle/input/2020mltermprojectbovw/test_csv_v2/img_00990.csv\n",
            "/kaggle/input/2020mltermprojectbovw/test_csv_v2/img_01466.csv\n",
            "/kaggle/input/2020mltermprojectbovw/test_csv_v2/img_01055.csv\n",
            "/kaggle/input/2020mltermprojectbovw/test_csv_v2/img_01480.csv\n",
            "/kaggle/input/2020mltermprojectbovw/test_csv_v2/img_01469.csv\n",
            "/kaggle/input/2020mltermprojectbovw/test_csv_v2/img_00737.csv\n",
            "/kaggle/input/2020mltermprojectbovw/test_csv_v2/img_01163.csv\n",
            "/kaggle/input/2020mltermprojectbovw/test_csv_v2/img_00644.csv\n",
            "/kaggle/input/2020mltermprojectbovw/test_csv_v2/img_00791.csv\n",
            "/kaggle/input/2020mltermprojectbovw/test_csv_v2/img_01405.csv\n",
            "/kaggle/input/2020mltermprojectbovw/test_csv_v2/img_01605.csv\n",
            "/kaggle/input/2020mltermprojectbovw/test_csv_v2/img_00660.csv\n",
            "/kaggle/input/2020mltermprojectbovw/test_csv_v2/img_01559.csv\n",
            "/kaggle/input/2020mltermprojectbovw/test_csv_v2/img_00578.csv\n",
            "/kaggle/input/2020mltermprojectbovw/test_csv_v2/img_00518.csv\n",
            "/kaggle/input/2020mltermprojectbovw/test_csv_v2/img_00440.csv\n",
            "/kaggle/input/2020mltermprojectbovw/test_csv_v2/img_00808.csv\n",
            "/kaggle/input/2020mltermprojectbovw/test_csv_v2/img_00862.csv\n",
            "/kaggle/input/2020mltermprojectbovw/test_csv_v2/img_00789.csv\n",
            "/kaggle/input/2020mltermprojectbovw/test_csv_v2/img_01606.csv\n",
            "/kaggle/input/2020mltermprojectbovw/test_csv_v2/img_00611.csv\n",
            "/kaggle/input/2020mltermprojectbovw/test_csv_v2/img_01377.csv\n",
            "/kaggle/input/2020mltermprojectbovw/test_csv_v2/img_01048.csv\n",
            "/kaggle/input/2020mltermprojectbovw/test_csv_v2/img_01308.csv\n",
            "/kaggle/input/2020mltermprojectbovw/test_csv_v2/img_01231.csv\n",
            "/kaggle/input/2020mltermprojectbovw/test_csv_v2/img_01509.csv\n",
            "/kaggle/input/2020mltermprojectbovw/test_csv_v2/img_00427.csv\n",
            "/kaggle/input/2020mltermprojectbovw/test_csv_v2/img_01607.csv\n",
            "/kaggle/input/2020mltermprojectbovw/test_csv_v2/img_00596.csv\n",
            "/kaggle/input/2020mltermprojectbovw/test_csv_v2/img_01418.csv\n",
            "/kaggle/input/2020mltermprojectbovw/test_csv_v2/img_00361.csv\n",
            "/kaggle/input/2020mltermprojectbovw/test_csv_v2/img_00972.csv\n",
            "/kaggle/input/2020mltermprojectbovw/test_csv_v2/img_01384.csv\n",
            "/kaggle/input/2020mltermprojectbovw/test_csv_v2/img_00245.csv\n",
            "/kaggle/input/2020mltermprojectbovw/test_csv_v2/img_00130.csv\n",
            "/kaggle/input/2020mltermprojectbovw/test_csv_v2/img_00442.csv\n",
            "/kaggle/input/2020mltermprojectbovw/test_csv_v2/img_01300.csv\n",
            "/kaggle/input/2020mltermprojectbovw/test_csv_v2/img_00426.csv\n",
            "/kaggle/input/2020mltermprojectbovw/test_csv_v2/img_00829.csv\n",
            "/kaggle/input/2020mltermprojectbovw/test_csv_v2/img_01058.csv\n",
            "/kaggle/input/2020mltermprojectbovw/test_csv_v2/img_00523.csv\n",
            "/kaggle/input/2020mltermprojectbovw/test_csv_v2/img_00949.csv\n",
            "/kaggle/input/2020mltermprojectbovw/test_csv_v2/img_00176.csv\n",
            "/kaggle/input/2020mltermprojectbovw/test_csv_v2/img_00909.csv\n",
            "/kaggle/input/2020mltermprojectbovw/test_csv_v2/img_00389.csv\n",
            "/kaggle/input/2020mltermprojectbovw/test_csv_v2/img_01708.csv\n",
            "/kaggle/input/2020mltermprojectbovw/test_csv_v2/img_00615.csv\n",
            "/kaggle/input/2020mltermprojectbovw/test_csv_v2/img_01380.csv\n",
            "/kaggle/input/2020mltermprojectbovw/test_csv_v2/img_00207.csv\n",
            "/kaggle/input/2020mltermprojectbovw/test_csv_v2/img_01017.csv\n",
            "/kaggle/input/2020mltermprojectbovw/test_csv_v2/img_01668.csv\n",
            "/kaggle/input/2020mltermprojectbovw/test_csv_v2/img_01339.csv\n",
            "/kaggle/input/2020mltermprojectbovw/test_csv_v2/img_01658.csv\n",
            "/kaggle/input/2020mltermprojectbovw/test_csv_v2/img_01532.csv\n",
            "/kaggle/input/2020mltermprojectbovw/test_csv_v2/img_01218.csv\n",
            "/kaggle/input/2020mltermprojectbovw/test_csv_v2/img_01602.csv\n",
            "/kaggle/input/2020mltermprojectbovw/test_csv_v2/img_01517.csv\n",
            "/kaggle/input/2020mltermprojectbovw/test_csv_v2/img_01424.csv\n",
            "/kaggle/input/2020mltermprojectbovw/test_csv_v2/img_00926.csv\n",
            "/kaggle/input/2020mltermprojectbovw/test_csv_v2/img_00657.csv\n",
            "/kaggle/input/2020mltermprojectbovw/test_csv_v2/img_00087.csv\n",
            "/kaggle/input/2020mltermprojectbovw/test_csv_v2/img_00472.csv\n",
            "/kaggle/input/2020mltermprojectbovw/test_csv_v2/img_00301.csv\n",
            "/kaggle/input/2020mltermprojectbovw/test_csv_v2/img_00975.csv\n",
            "/kaggle/input/2020mltermprojectbovw/test_csv_v2/img_01505.csv\n",
            "/kaggle/input/2020mltermprojectbovw/test_csv_v2/img_01498.csv\n",
            "/kaggle/input/2020mltermprojectbovw/test_csv_v2/img_00722.csv\n",
            "/kaggle/input/2020mltermprojectbovw/test_csv_v2/img_01227.csv\n",
            "/kaggle/input/2020mltermprojectbovw/test_csv_v2/img_00071.csv\n",
            "/kaggle/input/2020mltermprojectbovw/test_csv_v2/img_01646.csv\n",
            "/kaggle/input/2020mltermprojectbovw/test_csv_v2/img_00626.csv\n",
            "/kaggle/input/2020mltermprojectbovw/test_csv_v2/img_00404.csv\n",
            "/kaggle/input/2020mltermprojectbovw/test_csv_v2/img_00343.csv\n",
            "/kaggle/input/2020mltermprojectbovw/test_csv_v2/img_00415.csv\n",
            "/kaggle/input/2020mltermprojectbovw/test_csv_v2/img_00848.csv\n",
            "/kaggle/input/2020mltermprojectbovw/test_csv_v2/img_01207.csv\n",
            "/kaggle/input/2020mltermprojectbovw/test_csv_v2/img_00136.csv\n",
            "/kaggle/input/2020mltermprojectbovw/test_csv_v2/img_00812.csv\n",
            "/kaggle/input/2020mltermprojectbovw/test_csv_v2/img_00593.csv\n",
            "/kaggle/input/2020mltermprojectbovw/test_csv_v2/img_01429.csv\n",
            "/kaggle/input/2020mltermprojectbovw/test_csv_v2/img_00786.csv\n",
            "/kaggle/input/2020mltermprojectbovw/test_csv_v2/img_01449.csv\n",
            "/kaggle/input/2020mltermprojectbovw/test_csv_v2/img_00838.csv\n",
            "/kaggle/input/2020mltermprojectbovw/test_csv_v2/img_00049.csv\n",
            "/kaggle/input/2020mltermprojectbovw/test_csv_v2/img_00562.csv\n",
            "/kaggle/input/2020mltermprojectbovw/test_csv_v2/img_00056.csv\n",
            "/kaggle/input/2020mltermprojectbovw/test_csv_v2/img_00351.csv\n",
            "/kaggle/input/2020mltermprojectbovw/test_csv_v2/img_01126.csv\n",
            "/kaggle/input/2020mltermprojectbovw/test_csv_v2/img_01310.csv\n",
            "/kaggle/input/2020mltermprojectbovw/test_csv_v2/img_00587.csv\n",
            "/kaggle/input/2020mltermprojectbovw/test_csv_v2/img_00863.csv\n",
            "/kaggle/input/2020mltermprojectbovw/test_csv_v2/img_00527.csv\n",
            "/kaggle/input/2020mltermprojectbovw/test_csv_v2/img_01431.csv\n",
            "/kaggle/input/2020mltermprojectbovw/test_csv_v2/img_00364.csv\n",
            "/kaggle/input/2020mltermprojectbovw/test_csv_v2/img_00287.csv\n",
            "/kaggle/input/2020mltermprojectbovw/test_csv_v2/img_00959.csv\n",
            "/kaggle/input/2020mltermprojectbovw/test_csv_v2/img_01330.csv\n",
            "/kaggle/input/2020mltermprojectbovw/test_csv_v2/img_01610.csv\n",
            "/kaggle/input/2020mltermprojectbovw/test_csv_v2/img_01639.csv\n",
            "/kaggle/input/2020mltermprojectbovw/test_csv_v2/img_01521.csv\n",
            "/kaggle/input/2020mltermprojectbovw/test_csv_v2/img_00784.csv\n",
            "/kaggle/input/2020mltermprojectbovw/test_csv_v2/img_00584.csv\n",
            "/kaggle/input/2020mltermprojectbovw/test_csv_v2/img_01441.csv\n",
            "/kaggle/input/2020mltermprojectbovw/test_csv_v2/img_01608.csv\n",
            "/kaggle/input/2020mltermprojectbovw/test_csv_v2/img_00800.csv\n",
            "/kaggle/input/2020mltermprojectbovw/test_csv_v2/img_01304.csv\n",
            "/kaggle/input/2020mltermprojectbovw/test_csv_v2/img_01084.csv\n",
            "/kaggle/input/2020mltermprojectbovw/test_csv_v2/img_01179.csv\n",
            "/kaggle/input/2020mltermprojectbovw/test_csv_v2/img_00438.csv\n",
            "/kaggle/input/2020mltermprojectbovw/test_csv_v2/img_00780.csv\n",
            "/kaggle/input/2020mltermprojectbovw/test_csv_v2/img_00761.csv\n",
            "/kaggle/input/2020mltermprojectbovw/test_csv_v2/img_00628.csv\n",
            "/kaggle/input/2020mltermprojectbovw/test_csv_v2/img_00298.csv\n",
            "/kaggle/input/2020mltermprojectbovw/test_csv_v2/img_00081.csv\n",
            "/kaggle/input/2020mltermprojectbovw/test_csv_v2/img_00591.csv\n",
            "/kaggle/input/2020mltermprojectbovw/test_csv_v2/img_01039.csv\n",
            "/kaggle/input/2020mltermprojectbovw/test_csv_v2/img_00075.csv\n",
            "/kaggle/input/2020mltermprojectbovw/test_csv_v2/img_01411.csv\n",
            "/kaggle/input/2020mltermprojectbovw/test_csv_v2/img_00237.csv\n",
            "/kaggle/input/2020mltermprojectbovw/test_csv_v2/img_01711.csv\n",
            "/kaggle/input/2020mltermprojectbovw/test_csv_v2/img_01444.csv\n",
            "/kaggle/input/2020mltermprojectbovw/test_csv_v2/img_00386.csv\n",
            "/kaggle/input/2020mltermprojectbovw/test_csv_v2/img_00580.csv\n",
            "/kaggle/input/2020mltermprojectbovw/test_csv_v2/img_01438.csv\n",
            "/kaggle/input/2020mltermprojectbovw/test_csv_v2/img_00402.csv\n",
            "/kaggle/input/2020mltermprojectbovw/test_csv_v2/img_00519.csv\n",
            "/kaggle/input/2020mltermprojectbovw/test_csv_v2/img_00707.csv\n",
            "/kaggle/input/2020mltermprojectbovw/test_csv_v2/img_00853.csv\n",
            "/kaggle/input/2020mltermprojectbovw/test_csv_v2/img_00790.csv\n",
            "/kaggle/input/2020mltermprojectbovw/test_csv_v2/img_01219.csv\n",
            "/kaggle/input/2020mltermprojectbovw/test_csv_v2/img_00520.csv\n",
            "/kaggle/input/2020mltermprojectbovw/test_csv_v2/img_00908.csv\n",
            "/kaggle/input/2020mltermprojectbovw/test_csv_v2/img_00292.csv\n",
            "/kaggle/input/2020mltermprojectbovw/test_csv_v2/img_01557.csv\n",
            "/kaggle/input/2020mltermprojectbovw/test_csv_v2/img_01041.csv\n",
            "/kaggle/input/2020mltermprojectbovw/test_csv_v2/img_01252.csv\n",
            "/kaggle/input/2020mltermprojectbovw/test_csv_v2/img_00811.csv\n",
            "/kaggle/input/2020mltermprojectbovw/test_csv_v2/img_01309.csv\n",
            "/kaggle/input/2020mltermprojectbovw/test_csv_v2/img_01545.csv\n",
            "/kaggle/input/2020mltermprojectbovw/test_csv_v2/img_00516.csv\n",
            "/kaggle/input/2020mltermprojectbovw/test_csv_v2/img_01018.csv\n",
            "/kaggle/input/2020mltermprojectbovw/test_csv_v2/img_00710.csv\n",
            "/kaggle/input/2020mltermprojectbovw/test_csv_v2/img_00162.csv\n",
            "/kaggle/input/2020mltermprojectbovw/test_csv_v2/img_01681.csv\n",
            "/kaggle/input/2020mltermprojectbovw/test_csv_v2/img_01598.csv\n",
            "/kaggle/input/2020mltermprojectbovw/test_csv_v2/img_00557.csv\n",
            "/kaggle/input/2020mltermprojectbovw/test_csv_v2/img_01383.csv\n",
            "/kaggle/input/2020mltermprojectbovw/test_csv_v2/img_00202.csv\n",
            "/kaggle/input/2020mltermprojectbovw/test_csv_v2/img_00548.csv\n",
            "/kaggle/input/2020mltermprojectbovw/test_csv_v2/img_00528.csv\n",
            "/kaggle/input/2020mltermprojectbovw/test_csv_v2/img_00195.csv\n",
            "/kaggle/input/2020mltermprojectbovw/test_csv_v2/img_00034.csv\n",
            "/kaggle/input/2020mltermprojectbovw/test_csv_v2/img_01420.csv\n",
            "/kaggle/input/2020mltermprojectbovw/test_csv_v2/img_00085.csv\n",
            "/kaggle/input/2020mltermprojectbovw/test_csv_v2/img_00073.csv\n",
            "/kaggle/input/2020mltermprojectbovw/test_csv_v2/img_00433.csv\n",
            "/kaggle/input/2020mltermprojectbovw/test_csv_v2/img_01183.csv\n",
            "/kaggle/input/2020mltermprojectbovw/test_csv_v2/img_01225.csv\n",
            "/kaggle/input/2020mltermprojectbovw/test_csv_v2/img_01232.csv\n",
            "/kaggle/input/2020mltermprojectbovw/test_csv_v2/img_00279.csv\n",
            "/kaggle/input/2020mltermprojectbovw/test_csv_v2/img_00967.csv\n",
            "/kaggle/input/2020mltermprojectbovw/test_csv_v2/img_00038.csv\n",
            "/kaggle/input/2020mltermprojectbovw/test_csv_v2/img_00478.csv\n",
            "/kaggle/input/2020mltermprojectbovw/test_csv_v2/img_00180.csv\n",
            "/kaggle/input/2020mltermprojectbovw/test_csv_v2/img_01040.csv\n",
            "/kaggle/input/2020mltermprojectbovw/test_csv_v2/img_00443.csv\n",
            "/kaggle/input/2020mltermprojectbovw/test_csv_v2/img_00968.csv\n",
            "/kaggle/input/2020mltermprojectbovw/test_csv_v2/img_00105.csv\n",
            "/kaggle/input/2020mltermprojectbovw/test_csv_v2/img_00854.csv\n",
            "/kaggle/input/2020mltermprojectbovw/test_csv_v2/img_00992.csv\n",
            "/kaggle/input/2020mltermprojectbovw/test_csv_v2/img_01137.csv\n",
            "/kaggle/input/2020mltermprojectbovw/test_csv_v2/img_01492.csv\n",
            "/kaggle/input/2020mltermprojectbovw/test_csv_v2/img_00666.csv\n",
            "/kaggle/input/2020mltermprojectbovw/test_csv_v2/img_01240.csv\n",
            "/kaggle/input/2020mltermprojectbovw/test_csv_v2/img_01182.csv\n",
            "/kaggle/input/2020mltermprojectbovw/test_csv_v2/img_01615.csv\n",
            "/kaggle/input/2020mltermprojectbovw/test_csv_v2/img_00115.csv\n",
            "/kaggle/input/2020mltermprojectbovw/test_csv_v2/img_01426.csv\n",
            "/kaggle/input/2020mltermprojectbovw/test_csv_v2/img_01259.csv\n",
            "/kaggle/input/2020mltermprojectbovw/test_csv_v2/img_00896.csv\n",
            "/kaggle/input/2020mltermprojectbovw/test_csv_v2/img_00146.csv\n",
            "/kaggle/input/2020mltermprojectbovw/test_csv_v2/img_00457.csv\n",
            "/kaggle/input/2020mltermprojectbovw/test_csv_v2/img_01629.csv\n",
            "/kaggle/input/2020mltermprojectbovw/test_csv_v2/img_00103.csv\n",
            "/kaggle/input/2020mltermprojectbovw/test_csv_v2/img_00870.csv\n",
            "/kaggle/input/2020mltermprojectbovw/test_csv_v2/img_01464.csv\n",
            "/kaggle/input/2020mltermprojectbovw/test_csv_v2/img_01550.csv\n",
            "/kaggle/input/2020mltermprojectbovw/test_csv_v2/img_01046.csv\n",
            "/kaggle/input/2020mltermprojectbovw/test_csv_v2/img_01398.csv\n",
            "/kaggle/input/2020mltermprojectbovw/test_csv_v2/img_01490.csv\n",
            "/kaggle/input/2020mltermprojectbovw/test_csv_v2/img_00899.csv\n",
            "/kaggle/input/2020mltermprojectbovw/test_csv_v2/img_01248.csv\n",
            "/kaggle/input/2020mltermprojectbovw/test_csv_v2/img_00352.csv\n",
            "/kaggle/input/2020mltermprojectbovw/test_csv_v2/img_00824.csv\n",
            "/kaggle/input/2020mltermprojectbovw/test_csv_v2/img_00910.csv\n",
            "/kaggle/input/2020mltermprojectbovw/test_csv_v2/img_00739.csv\n",
            "/kaggle/input/2020mltermprojectbovw/test_csv_v2/img_01025.csv\n",
            "/kaggle/input/2020mltermprojectbovw/test_csv_v2/img_01379.csv\n",
            "/kaggle/input/2020mltermprojectbovw/test_csv_v2/img_01089.csv\n",
            "/kaggle/input/2020mltermprojectbovw/test_csv_v2/img_01563.csv\n",
            "/kaggle/input/2020mltermprojectbovw/test_csv_v2/img_00509.csv\n",
            "/kaggle/input/2020mltermprojectbovw/test_csv_v2/img_00515.csv\n",
            "/kaggle/input/2020mltermprojectbovw/test_csv_v2/img_00983.csv\n",
            "/kaggle/input/2020mltermprojectbovw/test_csv_v2/img_01455.csv\n",
            "/kaggle/input/2020mltermprojectbovw/test_csv_v2/img_01311.csv\n",
            "/kaggle/input/2020mltermprojectbovw/test_csv_v2/img_00850.csv\n",
            "/kaggle/input/2020mltermprojectbovw/test_csv_v2/img_01152.csv\n",
            "/kaggle/input/2020mltermprojectbovw/test_csv_v2/img_00639.csv\n",
            "/kaggle/input/2020mltermprojectbovw/test_csv_v2/img_01366.csv\n",
            "/kaggle/input/2020mltermprojectbovw/test_csv_v2/img_01139.csv\n",
            "/kaggle/input/2020mltermprojectbovw/test_csv_v2/img_01115.csv\n",
            "/kaggle/input/2020mltermprojectbovw/test_csv_v2/img_01161.csv\n",
            "/kaggle/input/2020mltermprojectbovw/test_csv_v2/img_01256.csv\n",
            "/kaggle/input/2020mltermprojectbovw/test_csv_v2/img_00978.csv\n",
            "/kaggle/input/2020mltermprojectbovw/test_csv_v2/img_00583.csv\n",
            "/kaggle/input/2020mltermprojectbovw/test_csv_v2/img_01620.csv\n",
            "/kaggle/input/2020mltermprojectbovw/test_csv_v2/img_00634.csv\n",
            "/kaggle/input/2020mltermprojectbovw/test_csv_v2/img_01193.csv\n",
            "/kaggle/input/2020mltermprojectbovw/test_csv_v2/img_01660.csv\n",
            "/kaggle/input/2020mltermprojectbovw/test_csv_v2/img_01273.csv\n",
            "/kaggle/input/2020mltermprojectbovw/test_csv_v2/img_00378.csv\n",
            "/kaggle/input/2020mltermprojectbovw/test_csv_v2/img_01679.csv\n",
            "/kaggle/input/2020mltermprojectbovw/test_csv_v2/img_01216.csv\n",
            "/kaggle/input/2020mltermprojectbovw/test_csv_v2/img_00059.csv\n",
            "/kaggle/input/2020mltermprojectbovw/test_csv_v2/img_01094.csv\n",
            "/kaggle/input/2020mltermprojectbovw/test_csv_v2/img_01301.csv\n",
            "/kaggle/input/2020mltermprojectbovw/test_csv_v2/img_00260.csv\n",
            "/kaggle/input/2020mltermprojectbovw/test_csv_v2/img_00259.csv\n",
            "/kaggle/input/2020mltermprojectbovw/test_csv_v2/img_01336.csv\n",
            "/kaggle/input/2020mltermprojectbovw/test_csv_v2/img_00602.csv\n",
            "/kaggle/input/2020mltermprojectbovw/test_csv_v2/img_01475.csv\n",
            "/kaggle/input/2020mltermprojectbovw/test_csv_v2/img_01006.csv\n",
            "/kaggle/input/2020mltermprojectbovw/test_csv_v2/img_01376.csv\n",
            "/kaggle/input/2020mltermprojectbovw/test_csv_v2/img_00376.csv\n",
            "/kaggle/input/2020mltermprojectbovw/test_csv_v2/img_01285.csv\n",
            "/kaggle/input/2020mltermprojectbovw/test_csv_v2/img_00395.csv\n",
            "/kaggle/input/2020mltermprojectbovw/test_csv_v2/img_00677.csv\n",
            "/kaggle/input/2020mltermprojectbovw/test_csv_v2/img_00133.csv\n",
            "/kaggle/input/2020mltermprojectbovw/test_csv_v2/img_01533.csv\n",
            "/kaggle/input/2020mltermprojectbovw/test_csv_v2/img_00204.csv\n",
            "/kaggle/input/2020mltermprojectbovw/test_csv_v2/img_01029.csv\n",
            "/kaggle/input/2020mltermprojectbovw/test_csv_v2/img_00960.csv\n",
            "/kaggle/input/2020mltermprojectbovw/test_csv_v2/img_00335.csv\n",
            "/kaggle/input/2020mltermprojectbovw/test_csv_v2/img_00917.csv\n",
            "/kaggle/input/2020mltermprojectbovw/test_csv_v2/img_01306.csv\n",
            "/kaggle/input/2020mltermprojectbovw/test_csv_v2/img_00597.csv\n",
            "/kaggle/input/2020mltermprojectbovw/test_csv_v2/img_01457.csv\n",
            "/kaggle/input/2020mltermprojectbovw/test_csv_v2/img_00080.csv\n",
            "/kaggle/input/2020mltermprojectbovw/test_csv_v2/img_01305.csv\n",
            "/kaggle/input/2020mltermprojectbovw/test_csv_v2/img_01042.csv\n",
            "/kaggle/input/2020mltermprojectbovw/test_csv_v2/img_00077.csv\n",
            "/kaggle/input/2020mltermprojectbovw/test_csv_v2/img_00445.csv\n",
            "/kaggle/input/2020mltermprojectbovw/test_csv_v2/img_00425.csv\n",
            "/kaggle/input/2020mltermprojectbovw/test_csv_v2/img_01413.csv\n",
            "/kaggle/input/2020mltermprojectbovw/test_csv_v2/img_00398.csv\n",
            "/kaggle/input/2020mltermprojectbovw/test_csv_v2/img_01352.csv\n",
            "/kaggle/input/2020mltermprojectbovw/test_csv_v2/img_01021.csv\n",
            "/kaggle/input/2020mltermprojectbovw/test_csv_v2/img_00007.csv\n",
            "/kaggle/input/2020mltermprojectbovw/test_csv_v2/img_00484.csv\n",
            "/kaggle/input/2020mltermprojectbovw/test_csv_v2/img_01100.csv\n",
            "/kaggle/input/2020mltermprojectbovw/test_csv_v2/img_01334.csv\n",
            "/kaggle/input/2020mltermprojectbovw/test_csv_v2/img_00338.csv\n",
            "/kaggle/input/2020mltermprojectbovw/test_csv_v2/img_00461.csv\n",
            "/kaggle/input/2020mltermprojectbovw/test_csv_v2/img_01065.csv\n",
            "/kaggle/input/2020mltermprojectbovw/test_csv_v2/img_00385.csv\n",
            "/kaggle/input/2020mltermprojectbovw/test_csv_v2/img_01549.csv\n",
            "/kaggle/input/2020mltermprojectbovw/test_csv_v2/img_00832.csv\n",
            "/kaggle/input/2020mltermprojectbovw/test_csv_v2/img_00466.csv\n",
            "/kaggle/input/2020mltermprojectbovw/test_csv_v2/img_00353.csv\n",
            "/kaggle/input/2020mltermprojectbovw/test_csv_v2/img_00368.csv\n",
            "/kaggle/input/2020mltermprojectbovw/test_csv_v2/img_00630.csv\n",
            "/kaggle/input/2020mltermprojectbovw/test_csv_v2/img_01192.csv\n",
            "/kaggle/input/2020mltermprojectbovw/test_csv_v2/img_00996.csv\n",
            "/kaggle/input/2020mltermprojectbovw/test_csv_v2/img_01579.csv\n",
            "/kaggle/input/2020mltermprojectbovw/test_csv_v2/img_00418.csv\n",
            "/kaggle/input/2020mltermprojectbovw/test_csv_v2/img_00217.csv\n",
            "/kaggle/input/2020mltermprojectbovw/test_csv_v2/img_00973.csv\n",
            "/kaggle/input/2020mltermprojectbovw/test_csv_v2/img_00912.csv\n",
            "/kaggle/input/2020mltermprojectbovw/test_csv_v2/img_01147.csv\n",
            "/kaggle/input/2020mltermprojectbovw/test_csv_v2/img_01710.csv\n",
            "/kaggle/input/2020mltermprojectbovw/test_csv_v2/img_01180.csv\n",
            "/kaggle/input/2020mltermprojectbovw/test_csv_v2/img_00929.csv\n",
            "/kaggle/input/2020mltermprojectbovw/test_csv_v2/img_00042.csv\n",
            "/kaggle/input/2020mltermprojectbovw/test_csv_v2/img_01120.csv\n",
            "/kaggle/input/2020mltermprojectbovw/test_csv_v2/img_01672.csv\n",
            "/kaggle/input/2020mltermprojectbovw/test_csv_v2/img_00486.csv\n",
            "/kaggle/input/2020mltermprojectbovw/test_csv_v2/img_01242.csv\n",
            "/kaggle/input/2020mltermprojectbovw/test_csv_v2/img_01313.csv\n",
            "/kaggle/input/2020mltermprojectbovw/test_csv_v2/img_01158.csv\n",
            "/kaggle/input/2020mltermprojectbovw/test_csv_v2/img_00412.csv\n",
            "/kaggle/input/2020mltermprojectbovw/test_csv_v2/img_00684.csv\n",
            "/kaggle/input/2020mltermprojectbovw/test_csv_v2/img_00268.csv\n",
            "/kaggle/input/2020mltermprojectbovw/test_csv_v2/img_01422.csv\n",
            "/kaggle/input/2020mltermprojectbovw/test_csv_v2/img_00913.csv\n",
            "/kaggle/input/2020mltermprojectbovw/test_csv_v2/img_00282.csv\n",
            "/kaggle/input/2020mltermprojectbovw/test_csv_v2/img_00640.csv\n",
            "/kaggle/input/2020mltermprojectbovw/test_csv_v2/img_01537.csv\n",
            "/kaggle/input/2020mltermprojectbovw/test_csv_v2/img_00964.csv\n",
            "/kaggle/input/2020mltermprojectbovw/test_csv_v2/img_00941.csv\n",
            "/kaggle/input/2020mltermprojectbovw/test_csv_v2/img_01623.csv\n",
            "/kaggle/input/2020mltermprojectbovw/test_csv_v2/img_01130.csv\n",
            "/kaggle/input/2020mltermprojectbovw/test_csv_v2/img_01612.csv\n",
            "/kaggle/input/2020mltermprojectbovw/test_csv_v2/img_01229.csv\n",
            "/kaggle/input/2020mltermprojectbovw/test_csv_v2/img_01169.csv\n",
            "/kaggle/input/2020mltermprojectbovw/test_csv_v2/img_00409.csv\n",
            "/kaggle/input/2020mltermprojectbovw/test_csv_v2/img_00153.csv\n",
            "/kaggle/input/2020mltermprojectbovw/test_csv_v2/img_00743.csv\n",
            "/kaggle/input/2020mltermprojectbovw/test_csv_v2/img_00288.csv\n",
            "/kaggle/input/2020mltermprojectbovw/test_csv_v2/img_01164.csv\n",
            "/kaggle/input/2020mltermprojectbovw/test_csv_v2/img_00920.csv\n",
            "/kaggle/input/2020mltermprojectbovw/test_csv_v2/img_00703.csv\n",
            "/kaggle/input/2020mltermprojectbovw/test_csv_v2/img_01197.csv\n",
            "/kaggle/input/2020mltermprojectbovw/test_csv_v2/img_00506.csv\n",
            "/kaggle/input/2020mltermprojectbovw/test_csv_v2/img_00598.csv\n",
            "/kaggle/input/2020mltermprojectbovw/test_csv_v2/img_00312.csv\n",
            "/kaggle/input/2020mltermprojectbovw/test_csv_v2/img_01129.csv\n",
            "/kaggle/input/2020mltermprojectbovw/test_csv_v2/img_01575.csv\n",
            "/kaggle/input/2020mltermprojectbovw/test_csv_v2/img_00229.csv\n",
            "/kaggle/input/2020mltermprojectbovw/test_csv_v2/img_00690.csv\n",
            "/kaggle/input/2020mltermprojectbovw/test_csv_v2/img_00956.csv\n",
            "/kaggle/input/2020mltermprojectbovw/test_csv_v2/img_01224.csv\n",
            "/kaggle/input/2020mltermprojectbovw/test_csv_v2/img_01496.csv\n",
            "/kaggle/input/2020mltermprojectbovw/test_csv_v2/img_00794.csv\n",
            "/kaggle/input/2020mltermprojectbovw/test_csv_v2/img_00421.csv\n",
            "/kaggle/input/2020mltermprojectbovw/test_csv_v2/img_01353.csv\n",
            "/kaggle/input/2020mltermprojectbovw/test_csv_v2/img_00095.csv\n",
            "/kaggle/input/2020mltermprojectbovw/test_csv_v2/img_00873.csv\n",
            "/kaggle/input/2020mltermprojectbovw/test_csv_v2/img_01165.csv\n",
            "/kaggle/input/2020mltermprojectbovw/test_csv_v2/img_01323.csv\n",
            "/kaggle/input/2020mltermprojectbovw/test_csv_v2/img_00485.csv\n",
            "/kaggle/input/2020mltermprojectbovw/test_csv_v2/img_01052.csv\n",
            "/kaggle/input/2020mltermprojectbovw/test_csv_v2/img_01396.csv\n",
            "/kaggle/input/2020mltermprojectbovw/test_csv_v2/img_01689.csv\n",
            "/kaggle/input/2020mltermprojectbovw/test_csv_v2/img_01299.csv\n",
            "/kaggle/input/2020mltermprojectbovw/test_csv_v2/img_00220.csv\n",
            "/kaggle/input/2020mltermprojectbovw/test_csv_v2/img_01174.csv\n",
            "/kaggle/input/2020mltermprojectbovw/test_csv_v2/img_00043.csv\n",
            "/kaggle/input/2020mltermprojectbovw/test_csv_v2/img_00865.csv\n",
            "/kaggle/input/2020mltermprojectbovw/test_csv_v2/img_01540.csv\n",
            "/kaggle/input/2020mltermprojectbovw/test_csv_v2/img_00554.csv\n",
            "/kaggle/input/2020mltermprojectbovw/test_csv_v2/img_01603.csv\n",
            "/kaggle/input/2020mltermprojectbovw/test_csv_v2/img_01590.csv\n",
            "/kaggle/input/2020mltermprojectbovw/test_csv_v2/img_00047.csv\n",
            "/kaggle/input/2020mltermprojectbovw/test_csv_v2/img_00831.csv\n",
            "/kaggle/input/2020mltermprojectbovw/test_csv_v2/img_00046.csv\n",
            "/kaggle/input/2020mltermprojectbovw/test_csv_v2/img_01077.csv\n",
            "/kaggle/input/2020mltermprojectbovw/test_csv_v2/img_01051.csv\n",
            "/kaggle/input/2020mltermprojectbovw/test_csv_v2/img_00015.csv\n",
            "/kaggle/input/2020mltermprojectbovw/test_csv_v2/img_01286.csv\n",
            "/kaggle/input/2020mltermprojectbovw/test_csv_v2/img_00267.csv\n",
            "/kaggle/input/2020mltermprojectbovw/test_csv_v2/img_01243.csv\n",
            "/kaggle/input/2020mltermprojectbovw/test_csv_v2/img_00564.csv\n",
            "/kaggle/input/2020mltermprojectbovw/test_csv_v2/img_00205.csv\n",
            "/kaggle/input/2020mltermprojectbovw/test_csv_v2/img_00009.csv\n",
            "/kaggle/input/2020mltermprojectbovw/test_csv_v2/img_01657.csv\n",
            "/kaggle/input/2020mltermprojectbovw/test_csv_v2/img_00993.csv\n",
            "/kaggle/input/2020mltermprojectbovw/test_csv_v2/img_01404.csv\n",
            "/kaggle/input/2020mltermprojectbovw/test_csv_v2/img_01124.csv\n",
            "/kaggle/input/2020mltermprojectbovw/test_csv_v2/img_00783.csv\n",
            "/kaggle/input/2020mltermprojectbovw/test_csv_v2/img_00884.csv\n",
            "/kaggle/input/2020mltermprojectbovw/test_csv_v2/img_01555.csv\n",
            "/kaggle/input/2020mltermprojectbovw/test_csv_v2/img_00322.csv\n",
            "/kaggle/input/2020mltermprojectbovw/test_csv_v2/img_00238.csv\n",
            "/kaggle/input/2020mltermprojectbovw/test_csv_v2/img_01691.csv\n",
            "/kaggle/input/2020mltermprojectbovw/test_csv_v2/img_00636.csv\n",
            "/kaggle/input/2020mltermprojectbovw/test_csv_v2/img_01524.csv\n",
            "/kaggle/input/2020mltermprojectbovw/test_csv_v2/img_00333.csv\n",
            "/kaggle/input/2020mltermprojectbovw/test_csv_v2/img_01582.csv\n",
            "/kaggle/input/2020mltermprojectbovw/test_csv_v2/img_00984.csv\n",
            "/kaggle/input/2020mltermprojectbovw/test_csv_v2/img_00177.csv\n",
            "/kaggle/input/2020mltermprojectbovw/test_csv_v2/img_00561.csv\n",
            "/kaggle/input/2020mltermprojectbovw/test_csv_v2/img_00439.csv\n",
            "/kaggle/input/2020mltermprojectbovw/test_csv_v2/img_00191.csv\n",
            "/kaggle/input/2020mltermprojectbovw/test_csv_v2/img_00867.csv\n",
            "/kaggle/input/2020mltermprojectbovw/test_csv_v2/img_01220.csv\n",
            "/kaggle/input/2020mltermprojectbovw/test_csv_v2/img_00670.csv\n",
            "/kaggle/input/2020mltermprojectbovw/test_csv_v2/img_00269.csv\n",
            "/kaggle/input/2020mltermprojectbovw/test_csv_v2/img_00701.csv\n",
            "/kaggle/input/2020mltermprojectbovw/test_csv_v2/img_01332.csv\n",
            "/kaggle/input/2020mltermprojectbovw/test_csv_v2/img_00594.csv\n",
            "/kaggle/input/2020mltermprojectbovw/test_csv_v2/img_01223.csv\n",
            "/kaggle/input/2020mltermprojectbovw/test_csv_v2/img_00828.csv\n",
            "/kaggle/input/2020mltermprojectbovw/test_csv_v2/img_01061.csv\n",
            "/kaggle/input/2020mltermprojectbovw/test_csv_v2/img_00173.csv\n",
            "/kaggle/input/2020mltermprojectbovw/test_csv_v2/img_00962.csv\n",
            "/kaggle/input/2020mltermprojectbovw/test_csv_v2/img_00672.csv\n",
            "/kaggle/input/2020mltermprojectbovw/test_csv_v2/img_00156.csv\n",
            "/kaggle/input/2020mltermprojectbovw/test_csv_v2/img_00121.csv\n",
            "/kaggle/input/2020mltermprojectbovw/test_csv_v2/img_00227.csv\n",
            "/kaggle/input/2020mltermprojectbovw/test_csv_v2/img_01522.csv\n",
            "/kaggle/input/2020mltermprojectbovw/test_csv_v2/img_01448.csv\n",
            "/kaggle/input/2020mltermprojectbovw/test_csv_v2/img_01291.csv\n",
            "/kaggle/input/2020mltermprojectbovw/test_csv_v2/img_00467.csv\n",
            "/kaggle/input/2020mltermprojectbovw/test_csv_v2/img_00841.csv\n",
            "/kaggle/input/2020mltermprojectbovw/test_csv_v2/img_01108.csv\n",
            "/kaggle/input/2020mltermprojectbovw/test_csv_v2/img_01246.csv\n",
            "/kaggle/input/2020mltermprojectbovw/test_csv_v2/img_01694.csv\n",
            "/kaggle/input/2020mltermprojectbovw/test_csv_v2/img_00699.csv\n",
            "/kaggle/input/2020mltermprojectbovw/test_csv_v2/img_01471.csv\n",
            "/kaggle/input/2020mltermprojectbovw/test_csv_v2/img_01692.csv\n",
            "/kaggle/input/2020mltermprojectbovw/test_csv_v2/img_00809.csv\n",
            "/kaggle/input/2020mltermprojectbovw/test_csv_v2/img_01297.csv\n",
            "/kaggle/input/2020mltermprojectbovw/test_csv_v2/img_01410.csv\n",
            "/kaggle/input/2020mltermprojectbovw/test_csv_v2/img_01483.csv\n",
            "/kaggle/input/2020mltermprojectbovw/test_csv_v2/img_00388.csv\n",
            "/kaggle/input/2020mltermprojectbovw/test_csv_v2/img_00792.csv\n",
            "/kaggle/input/2020mltermprojectbovw/test_csv_v2/img_00674.csv\n",
            "/kaggle/input/2020mltermprojectbovw/test_csv_v2/img_00866.csv\n",
            "/kaggle/input/2020mltermprojectbovw/test_csv_v2/img_01159.csv\n",
            "/kaggle/input/2020mltermprojectbovw/test_csv_v2/img_01476.csv\n",
            "/kaggle/input/2020mltermprojectbovw/test_csv_v2/img_01446.csv\n",
            "/kaggle/input/2020mltermprojectbovw/test_csv_v2/img_01106.csv\n",
            "/kaggle/input/2020mltermprojectbovw/test_csv_v2/img_00067.csv\n",
            "/kaggle/input/2020mltermprojectbovw/test_csv_v2/img_00835.csv\n",
            "/kaggle/input/2020mltermprojectbovw/test_csv_v2/img_00765.csv\n",
            "/kaggle/input/2020mltermprojectbovw/test_csv_v2/img_01303.csv\n",
            "/kaggle/input/2020mltermprojectbovw/test_csv_v2/img_01280.csv\n",
            "/kaggle/input/2020mltermprojectbovw/test_csv_v2/img_00953.csv\n",
            "/kaggle/input/2020mltermprojectbovw/test_csv_v2/img_01007.csv\n",
            "/kaggle/input/2020mltermprojectbovw/test_csv_v2/img_00480.csv\n",
            "/kaggle/input/2020mltermprojectbovw/test_csv_v2/img_00281.csv\n",
            "/kaggle/input/2020mltermprojectbovw/test_csv_v2/img_00460.csv\n",
            "/kaggle/input/2020mltermprojectbovw/test_csv_v2/img_00403.csv\n",
            "/kaggle/input/2020mltermprojectbovw/test_csv_v2/img_01611.csv\n",
            "/kaggle/input/2020mltermprojectbovw/test_csv_v2/img_00771.csv\n",
            "/kaggle/input/2020mltermprojectbovw/test_csv_v2/img_01372.csv\n",
            "/kaggle/input/2020mltermprojectbovw/test_csv_v2/img_01160.csv\n",
            "/kaggle/input/2020mltermprojectbovw/test_csv_v2/img_00713.csv\n",
            "/kaggle/input/2020mltermprojectbovw/test_csv_v2/img_00755.csv\n",
            "/kaggle/input/2020mltermprojectbovw/test_csv_v2/img_00897.csv\n",
            "/kaggle/input/2020mltermprojectbovw/test_csv_v2/img_00432.csv\n",
            "/kaggle/input/2020mltermprojectbovw/test_csv_v2/img_01617.csv\n",
            "/kaggle/input/2020mltermprojectbovw/test_csv_v2/img_00330.csv\n",
            "/kaggle/input/2020mltermprojectbovw/test_csv_v2/img_00579.csv\n",
            "/kaggle/input/2020mltermprojectbovw/test_csv_v2/img_00214.csv\n",
            "/kaggle/input/2020mltermprojectbovw/test_csv_v2/img_00169.csv\n",
            "/kaggle/input/2020mltermprojectbovw/test_csv_v2/img_00332.csv\n",
            "/kaggle/input/2020mltermprojectbovw/test_csv_v2/img_00936.csv\n",
            "/kaggle/input/2020mltermprojectbovw/test_csv_v2/img_00532.csv\n",
            "/kaggle/input/2020mltermprojectbovw/test_csv_v2/img_00656.csv\n",
            "/kaggle/input/2020mltermprojectbovw/test_csv_v2/img_01031.csv\n",
            "/kaggle/input/2020mltermprojectbovw/test_csv_v2/img_00778.csv\n",
            "/kaggle/input/2020mltermprojectbovw/test_csv_v2/img_01599.csv\n",
            "/kaggle/input/2020mltermprojectbovw/test_csv_v2/img_00950.csv\n",
            "/kaggle/input/2020mltermprojectbovw/test_csv_v2/img_00726.csv\n",
            "/kaggle/input/2020mltermprojectbovw/test_csv_v2/img_00721.csv\n",
            "/kaggle/input/2020mltermprojectbovw/test_csv_v2/img_00062.csv\n",
            "/kaggle/input/2020mltermprojectbovw/test_csv_v2/img_01427.csv\n",
            "/kaggle/input/2020mltermprojectbovw/test_csv_v2/img_00289.csv\n",
            "/kaggle/input/2020mltermprojectbovw/test_csv_v2/img_00958.csv\n",
            "/kaggle/input/2020mltermprojectbovw/test_csv_v2/img_00239.csv\n",
            "/kaggle/input/2020mltermprojectbovw/test_csv_v2/img_01144.csv\n",
            "/kaggle/input/2020mltermprojectbovw/test_csv_v2/img_01343.csv\n",
            "/kaggle/input/2020mltermprojectbovw/test_csv_v2/img_00489.csv\n",
            "/kaggle/input/2020mltermprojectbovw/test_csv_v2/img_01188.csv\n",
            "/kaggle/input/2020mltermprojectbovw/test_csv_v2/img_01451.csv\n",
            "/kaggle/input/2020mltermprojectbovw/test_csv_v2/img_00890.csv\n",
            "/kaggle/input/2020mltermprojectbovw/test_csv_v2/img_01645.csv\n",
            "/kaggle/input/2020mltermprojectbovw/test_csv_v2/img_00894.csv\n",
            "/kaggle/input/2020mltermprojectbovw/test_csv_v2/img_00622.csv\n",
            "/kaggle/input/2020mltermprojectbovw/test_csv_v2/img_01433.csv\n",
            "/kaggle/input/2020mltermprojectbovw/test_csv_v2/img_00775.csv\n",
            "/kaggle/input/2020mltermprojectbovw/test_csv_v2/img_01098.csv\n",
            "/kaggle/input/2020mltermprojectbovw/test_csv_v2/img_00296.csv\n",
            "/kaggle/input/2020mltermprojectbovw/test_csv_v2/img_00814.csv\n",
            "/kaggle/input/2020mltermprojectbovw/test_csv_v2/img_00728.csv\n",
            "/kaggle/input/2020mltermprojectbovw/test_csv_v2/img_00323.csv\n",
            "/kaggle/input/2020mltermprojectbovw/test_csv_v2/img_01062.csv\n",
            "/kaggle/input/2020mltermprojectbovw/test_csv_v2/img_00135.csv\n",
            "/kaggle/input/2020mltermprojectbovw/test_csv_v2/img_00619.csv\n",
            "/kaggle/input/2020mltermprojectbovw/test_csv_v2/img_01604.csv\n",
            "/kaggle/input/2020mltermprojectbovw/test_csv_v2/img_00109.csv\n",
            "/kaggle/input/2020mltermprojectbovw/test_csv_v2/img_00302.csv\n",
            "/kaggle/input/2020mltermprojectbovw/test_csv_v2/img_00271.csv\n",
            "/kaggle/input/2020mltermprojectbovw/test_csv_v2/img_00178.csv\n",
            "/kaggle/input/2020mltermprojectbovw/test_csv_v2/img_00249.csv\n",
            "/kaggle/input/2020mltermprojectbovw/test_csv_v2/img_00970.csv\n",
            "/kaggle/input/2020mltermprojectbovw/test_csv_v2/img_00188.csv\n",
            "/kaggle/input/2020mltermprojectbovw/test_csv_v2/img_00462.csv\n",
            "/kaggle/input/2020mltermprojectbovw/test_csv_v2/img_01543.csv\n",
            "/kaggle/input/2020mltermprojectbovw/test_csv_v2/img_01381.csv\n",
            "/kaggle/input/2020mltermprojectbovw/test_csv_v2/img_01127.csv\n",
            "/kaggle/input/2020mltermprojectbovw/test_csv_v2/img_00849.csv\n",
            "/kaggle/input/2020mltermprojectbovw/test_csv_v2/img_00199.csv\n",
            "/kaggle/input/2020mltermprojectbovw/test_csv_v2/img_01576.csv\n",
            "/kaggle/input/2020mltermprojectbovw/test_csv_v2/img_00017.csv\n",
            "/kaggle/input/2020mltermprojectbovw/test_csv_v2/img_01233.csv\n",
            "/kaggle/input/2020mltermprojectbovw/test_csv_v2/img_00934.csv\n",
            "/kaggle/input/2020mltermprojectbovw/test_csv_v2/img_00818.csv\n",
            "/kaggle/input/2020mltermprojectbovw/test_csv_v2/img_01036.csv\n",
            "/kaggle/input/2020mltermprojectbovw/test_csv_v2/img_00588.csv\n",
            "/kaggle/input/2020mltermprojectbovw/test_csv_v2/img_00921.csv\n",
            "/kaggle/input/2020mltermprojectbovw/test_csv_v2/img_01501.csv\n",
            "/kaggle/input/2020mltermprojectbovw/test_csv_v2/img_00465.csv\n",
            "/kaggle/input/2020mltermprojectbovw/test_csv_v2/img_00291.csv\n",
            "/kaggle/input/2020mltermprojectbovw/test_csv_v2/img_00614.csv\n",
            "/kaggle/input/2020mltermprojectbovw/test_csv_v2/img_00817.csv\n",
            "/kaggle/input/2020mltermprojectbovw/test_csv_v2/img_00359.csv\n",
            "/kaggle/input/2020mltermprojectbovw/test_csv_v2/img_00340.csv\n",
            "/kaggle/input/2020mltermprojectbovw/test_csv_v2/img_00652.csv\n",
            "/kaggle/input/2020mltermprojectbovw/test_csv_v2/img_01491.csv\n",
            "/kaggle/input/2020mltermprojectbovw/test_csv_v2/img_00371.csv\n",
            "/kaggle/input/2020mltermprojectbovw/test_csv_v2/img_00692.csv\n",
            "/kaggle/input/2020mltermprojectbovw/test_csv_v2/img_00601.csv\n",
            "/kaggle/input/2020mltermprojectbovw/test_csv_v2/img_00700.csv\n",
            "/kaggle/input/2020mltermprojectbovw/test_csv_v2/img_01267.csv\n",
            "/kaggle/input/2020mltermprojectbovw/test_csv_v2/img_01266.csv\n",
            "/kaggle/input/2020mltermprojectbovw/test_csv_v2/img_00362.csv\n",
            "/kaggle/input/2020mltermprojectbovw/test_csv_v2/img_01643.csv\n",
            "/kaggle/input/2020mltermprojectbovw/test_csv_v2/img_00406.csv\n",
            "/kaggle/input/2020mltermprojectbovw/test_csv_v2/img_00230.csv\n",
            "/kaggle/input/2020mltermprojectbovw/test_csv_v2/img_01462.csv\n",
            "/kaggle/input/2020mltermprojectbovw/test_csv_v2/img_01038.csv\n",
            "/kaggle/input/2020mltermprojectbovw/test_csv_v2/img_01016.csv\n",
            "/kaggle/input/2020mltermprojectbovw/test_csv_v2/img_00076.csv\n",
            "/kaggle/input/2020mltermprojectbovw/test_csv_v2/img_00550.csv\n",
            "/kaggle/input/2020mltermprojectbovw/test_csv_v2/img_01628.csv\n",
            "/kaggle/input/2020mltermprojectbovw/test_csv_v2/img_00961.csv\n",
            "/kaggle/input/2020mltermprojectbovw/test_csv_v2/img_00529.csv\n",
            "/kaggle/input/2020mltermprojectbovw/test_csv_v2/img_00918.csv\n",
            "/kaggle/input/2020mltermprojectbovw/test_csv_v2/img_00620.csv\n",
            "/kaggle/input/2020mltermprojectbovw/test_csv_v2/img_01153.csv\n",
            "/kaggle/input/2020mltermprojectbovw/test_csv_v2/img_00086.csv\n",
            "/kaggle/input/2020mltermprojectbovw/test_csv_v2/img_01493.csv\n",
            "/kaggle/input/2020mltermprojectbovw/test_csv_v2/img_00779.csv\n",
            "/kaggle/input/2020mltermprojectbovw/test_csv_v2/img_00039.csv\n",
            "/kaggle/input/2020mltermprojectbovw/test_csv_v2/img_01673.csv\n",
            "/kaggle/input/2020mltermprojectbovw/test_csv_v2/img_00163.csv\n",
            "/kaggle/input/2020mltermprojectbovw/test_csv_v2/img_00943.csv\n",
            "/kaggle/input/2020mltermprojectbovw/test_csv_v2/img_01057.csv\n",
            "/kaggle/input/2020mltermprojectbovw/test_csv_v2/img_01625.csv\n",
            "/kaggle/input/2020mltermprojectbovw/test_csv_v2/img_00702.csv\n",
            "/kaggle/input/2020mltermprojectbovw/test_csv_v2/img_00390.csv\n",
            "/kaggle/input/2020mltermprojectbovw/test_csv_v2/img_00839.csv\n",
            "/kaggle/input/2020mltermprojectbovw/test_csv_v2/img_01460.csv\n",
            "/kaggle/input/2020mltermprojectbovw/test_csv_v2/img_00735.csv\n",
            "/kaggle/input/2020mltermprojectbovw/test_csv_v2/img_00381.csv\n",
            "/kaggle/input/2020mltermprojectbovw/test_csv_v2/img_01686.csv\n",
            "/kaggle/input/2020mltermprojectbovw/test_csv_v2/img_01357.csv\n",
            "/kaggle/input/2020mltermprojectbovw/test_csv_v2/img_00411.csv\n",
            "/kaggle/input/2020mltermprojectbovw/test_csv_v2/img_01456.csv\n",
            "/kaggle/input/2020mltermprojectbovw/test_csv_v2/img_00551.csv\n",
            "/kaggle/input/2020mltermprojectbovw/test_csv_v2/img_00218.csv\n",
            "/kaggle/input/2020mltermprojectbovw/test_csv_v2/img_00231.csv\n",
            "/kaggle/input/2020mltermprojectbovw/test_csv_v2/img_00232.csv\n",
            "/kaggle/input/2020mltermprojectbovw/test_csv_v2/img_01626.csv\n",
            "/kaggle/input/2020mltermprojectbovw/test_csv_v2/img_00753.csv\n",
            "/kaggle/input/2020mltermprojectbovw/test_csv_v2/img_00904.csv\n",
            "/kaggle/input/2020mltermprojectbovw/test_csv_v2/img_00715.csv\n",
            "/kaggle/input/2020mltermprojectbovw/test_csv_v2/img_00387.csv\n",
            "/kaggle/input/2020mltermprojectbovw/test_csv_v2/img_01495.csv\n",
            "/kaggle/input/2020mltermprojectbovw/test_csv_v2/img_01247.csv\n",
            "/kaggle/input/2020mltermprojectbovw/test_csv_v2/img_00708.csv\n",
            "/kaggle/input/2020mltermprojectbovw/test_csv_v2/img_01113.csv\n",
            "/kaggle/input/2020mltermprojectbovw/test_csv_v2/img_00767.csv\n",
            "/kaggle/input/2020mltermprojectbovw/test_csv_v2/img_00733.csv\n",
            "/kaggle/input/2020mltermprojectbovw/test_csv_v2/img_01268.csv\n",
            "/kaggle/input/2020mltermprojectbovw/test_csv_v2/img_00416.csv\n",
            "/kaggle/input/2020mltermprojectbovw/test_csv_v2/img_00013.csv\n",
            "/kaggle/input/2020mltermprojectbovw/test_csv_v2/img_01428.csv\n",
            "/kaggle/input/2020mltermprojectbovw/test_csv_v2/img_01325.csv\n",
            "/kaggle/input/2020mltermprojectbovw/test_csv_v2/img_01572.csv\n",
            "/kaggle/input/2020mltermprojectbovw/test_csv_v2/img_01203.csv\n",
            "/kaggle/input/2020mltermprojectbovw/test_csv_v2/img_01594.csv\n",
            "/kaggle/input/2020mltermprojectbovw/test_csv_v2/img_01281.csv\n",
            "/kaggle/input/2020mltermprojectbovw/test_csv_v2/img_00366.csv\n",
            "/kaggle/input/2020mltermprojectbovw/test_csv_v2/img_00216.csv\n",
            "/kaggle/input/2020mltermprojectbovw/test_csv_v2/img_01698.csv\n",
            "/kaggle/input/2020mltermprojectbovw/test_csv_v2/img_00629.csv\n",
            "/kaggle/input/2020mltermprojectbovw/test_csv_v2/img_00723.csv\n",
            "/kaggle/input/2020mltermprojectbovw/test_csv_v2/img_01081.csv\n",
            "/kaggle/input/2020mltermprojectbovw/test_csv_v2/img_01184.csv\n",
            "/kaggle/input/2020mltermprojectbovw/test_csv_v2/img_00989.csv\n",
            "/kaggle/input/2020mltermprojectbovw/test_csv_v2/img_01511.csv\n",
            "/kaggle/input/2020mltermprojectbovw/test_csv_v2/img_01023.csv\n",
            "/kaggle/input/2020mltermprojectbovw/test_csv_v2/img_01175.csv\n",
            "/kaggle/input/2020mltermprojectbovw/test_csv_v2/img_00734.csv\n",
            "/kaggle/input/2020mltermprojectbovw/test_csv_v2/img_00785.csv\n",
            "/kaggle/input/2020mltermprojectbovw/test_csv_v2/img_00919.csv\n",
            "/kaggle/input/2020mltermprojectbovw/test_csv_v2/img_01696.csv\n",
            "/kaggle/input/2020mltermprojectbovw/test_csv_v2/img_01706.csv\n",
            "/kaggle/input/2020mltermprojectbovw/test_csv_v2/img_00687.csv\n",
            "/kaggle/input/2020mltermprojectbovw/test_csv_v2/img_01293.csv\n",
            "/kaggle/input/2020mltermprojectbovw/test_csv_v2/img_00688.csv\n",
            "/kaggle/input/2020mltermprojectbovw/test_csv_v2/img_00895.csv\n",
            "/kaggle/input/2020mltermprojectbovw/test_csv_v2/img_01135.csv\n",
            "/kaggle/input/2020mltermprojectbovw/test_csv_v2/img_01319.csv\n",
            "/kaggle/input/2020mltermprojectbovw/test_csv_v2/img_01289.csv\n",
            "/kaggle/input/2020mltermprojectbovw/test_csv_v2/img_00577.csv\n",
            "/kaggle/input/2020mltermprojectbovw/test_csv_v2/img_01092.csv\n",
            "/kaggle/input/2020mltermprojectbovw/test_csv_v2/img_00092.csv\n",
            "/kaggle/input/2020mltermprojectbovw/test_csv_v2/img_00186.csv\n",
            "/kaggle/input/2020mltermprojectbovw/test_csv_v2/img_01401.csv\n",
            "/kaggle/input/2020mltermprojectbovw/test_csv_v2/img_01105.csv\n",
            "/kaggle/input/2020mltermprojectbovw/test_csv_v2/img_00876.csv\n",
            "/kaggle/input/2020mltermprojectbovw/test_csv_v2/img_00937.csv\n",
            "/kaggle/input/2020mltermprojectbovw/test_csv_v2/img_01584.csv\n",
            "/kaggle/input/2020mltermprojectbovw/test_csv_v2/img_00233.csv\n",
            "/kaggle/input/2020mltermprojectbovw/test_csv_v2/img_00041.csv\n",
            "/kaggle/input/2020mltermprojectbovw/test_csv_v2/img_01497.csv\n",
            "/kaggle/input/2020mltermprojectbovw/test_csv_v2/img_00272.csv\n",
            "/kaggle/input/2020mltermprojectbovw/test_csv_v2/img_00797.csv\n",
            "/kaggle/input/2020mltermprojectbovw/test_csv_v2/img_00764.csv\n",
            "/kaggle/input/2020mltermprojectbovw/test_csv_v2/img_01012.csv\n",
            "/kaggle/input/2020mltermprojectbovw/test_csv_v2/img_01181.csv\n",
            "/kaggle/input/2020mltermprojectbovw/test_csv_v2/img_00284.csv\n",
            "/kaggle/input/2020mltermprojectbovw/test_csv_v2/img_01102.csv\n",
            "/kaggle/input/2020mltermprojectbovw/test_csv_v2/img_00804.csv\n",
            "/kaggle/input/2020mltermprojectbovw/test_csv_v2/img_01264.csv\n",
            "/kaggle/input/2020mltermprojectbovw/test_csv_v2/img_00844.csv\n",
            "/kaggle/input/2020mltermprojectbovw/test_csv_v2/img_00393.csv\n",
            "/kaggle/input/2020mltermprojectbovw/test_csv_v2/img_01538.csv\n",
            "/kaggle/input/2020mltermprojectbovw/test_csv_v2/img_00999.csv\n",
            "/kaggle/input/2020mltermprojectbovw/test_csv_v2/img_01351.csv\n",
            "/kaggle/input/2020mltermprojectbovw/test_csv_v2/img_00084.csv\n",
            "/kaggle/input/2020mltermprojectbovw/test_csv_v2/img_00428.csv\n",
            "/kaggle/input/2020mltermprojectbovw/test_csv_v2/img_01425.csv\n",
            "/kaggle/input/2020mltermprojectbovw/test_csv_v2/img_00736.csv\n",
            "/kaggle/input/2020mltermprojectbovw/test_csv_v2/img_01070.csv\n",
            "/kaggle/input/2020mltermprojectbovw/test_csv_v2/img_00987.csv\n",
            "/kaggle/input/2020mltermprojectbovw/test_csv_v2/img_00788.csv\n",
            "/kaggle/input/2020mltermprojectbovw/test_csv_v2/img_00079.csv\n",
            "/kaggle/input/2020mltermprojectbovw/test_csv_v2/img_01499.csv\n",
            "/kaggle/input/2020mltermprojectbovw/test_csv_v2/img_01528.csv\n",
            "/kaggle/input/2020mltermprojectbovw/test_csv_v2/img_01554.csv\n",
            "/kaggle/input/2020mltermprojectbovw/test_csv_v2/img_00787.csv\n",
            "/kaggle/input/2020mltermprojectbovw/test_csv_v2/img_00182.csv\n",
            "/kaggle/input/2020mltermprojectbovw/test_csv_v2/img_00864.csv\n",
            "/kaggle/input/2020mltermprojectbovw/test_csv_v2/img_00544.csv\n",
            "/kaggle/input/2020mltermprojectbovw/test_csv_v2/img_00631.csv\n",
            "/kaggle/input/2020mltermprojectbovw/test_csv_v2/img_00570.csv\n",
            "/kaggle/input/2020mltermprojectbovw/test_csv_v2/img_01619.csv\n",
            "/kaggle/input/2020mltermprojectbovw/test_csv_v2/img_01107.csv\n",
            "/kaggle/input/2020mltermprojectbovw/test_csv_v2/img_00903.csv\n",
            "/kaggle/input/2020mltermprojectbovw/test_csv_v2/img_00650.csv\n",
            "/kaggle/input/2020mltermprojectbovw/test_csv_v2/img_01142.csv\n",
            "/kaggle/input/2020mltermprojectbovw/test_csv_v2/img_00111.csv\n",
            "/kaggle/input/2020mltermprojectbovw/test_csv_v2/img_00744.csv\n",
            "/kaggle/input/2020mltermprojectbovw/test_csv_v2/img_00174.csv\n",
            "/kaggle/input/2020mltermprojectbovw/test_csv_v2/img_00911.csv\n",
            "/kaggle/input/2020mltermprojectbovw/test_csv_v2/img_00655.csv\n",
            "/kaggle/input/2020mltermprojectbovw/test_csv_v2/img_00676.csv\n",
            "/kaggle/input/2020mltermprojectbovw/test_csv_v2/img_01473.csv\n",
            "/kaggle/input/2020mltermprojectbovw/test_csv_v2/img_01171.csv\n",
            "/kaggle/input/2020mltermprojectbovw/test_csv_v2/img_00137.csv\n",
            "/kaggle/input/2020mltermprojectbovw/test_csv_v2/img_00052.csv\n",
            "/kaggle/input/2020mltermprojectbovw/test_csv_v2/img_01551.csv\n",
            "/kaggle/input/2020mltermprojectbovw/test_csv_v2/img_01009.csv\n",
            "/kaggle/input/2020mltermprojectbovw/test_csv_v2/img_00796.csv\n",
            "/kaggle/input/2020mltermprojectbovw/test_csv_v2/img_01085.csv\n",
            "/kaggle/input/2020mltermprojectbovw/test_csv_v2/img_01399.csv\n",
            "/kaggle/input/2020mltermprojectbovw/test_csv_v2/img_01201.csv\n",
            "/kaggle/input/2020mltermprojectbovw/test_csv_v2/img_01468.csv\n",
            "/kaggle/input/2020mltermprojectbovw/test_csv_v2/img_00900.csv\n",
            "/kaggle/input/2020mltermprojectbovw/test_csv_v2/img_01516.csv\n",
            "/kaggle/input/2020mltermprojectbovw/test_csv_v2/img_00152.csv\n",
            "/kaggle/input/2020mltermprojectbovw/test_csv_v2/img_00522.csv\n",
            "/kaggle/input/2020mltermprojectbovw/test_csv_v2/img_01437.csv\n",
            "/kaggle/input/2020mltermprojectbovw/test_csv_v2/img_01333.csv\n",
            "/kaggle/input/2020mltermprojectbovw/test_csv_v2/img_00805.csv\n",
            "/kaggle/input/2020mltermprojectbovw/test_csv_v2/img_01541.csv\n",
            "/kaggle/input/2020mltermprojectbovw/test_csv_v2/img_00211.csv\n",
            "/kaggle/input/2020mltermprojectbovw/test_csv_v2/img_01535.csv\n",
            "/kaggle/input/2020mltermprojectbovw/test_csv_v2/img_00623.csv\n",
            "/kaggle/input/2020mltermprojectbovw/test_csv_v2/img_01600.csv\n",
            "/kaggle/input/2020mltermprojectbovw/test_csv_v2/img_00922.csv\n",
            "/kaggle/input/2020mltermprojectbovw/test_csv_v2/img_01261.csv\n",
            "/kaggle/input/2020mltermprojectbovw/test_csv_v2/img_01363.csv\n",
            "/kaggle/input/2020mltermprojectbovw/test_csv_v2/img_00088.csv\n",
            "/kaggle/input/2020mltermprojectbovw/test_csv_v2/img_00151.csv\n",
            "/kaggle/input/2020mltermprojectbovw/test_csv_v2/img_01633.csv\n",
            "/kaggle/input/2020mltermprojectbovw/test_csv_v2/img_00754.csv\n",
            "/kaggle/input/2020mltermprojectbovw/test_csv_v2/img_00508.csv\n",
            "/kaggle/input/2020mltermprojectbovw/test_csv_v2/img_00994.csv\n",
            "/kaggle/input/2020mltermprojectbovw/test_csv_v2/img_01072.csv\n",
            "/kaggle/input/2020mltermprojectbovw/test_csv_v2/img_01204.csv\n",
            "/kaggle/input/2020mltermprojectbovw/test_csv_v2/img_00925.csv\n",
            "/kaggle/input/2020mltermprojectbovw/test_csv_v2/img_01461.csv\n",
            "/kaggle/input/2020mltermprojectbovw/test_csv_v2/img_00470.csv\n",
            "/kaggle/input/2020mltermprojectbovw/test_csv_v2/img_00283.csv\n",
            "/kaggle/input/2020mltermprojectbovw/test_csv_v2/img_00547.csv\n",
            "/kaggle/input/2020mltermprojectbovw/test_csv_v2/img_01445.csv\n",
            "/kaggle/input/2020mltermprojectbovw/test_csv_v2/img_00572.csv\n",
            "/kaggle/input/2020mltermprojectbovw/test_csv_v2/img_01296.csv\n",
            "/kaggle/input/2020mltermprojectbovw/test_csv_v2/img_00405.csv\n",
            "/kaggle/input/2020mltermprojectbovw/test_csv_v2/img_01601.csv\n",
            "/kaggle/input/2020mltermprojectbovw/test_csv_v2/img_00336.csv\n",
            "/kaggle/input/2020mltermprojectbovw/test_csv_v2/img_01265.csv\n",
            "/kaggle/input/2020mltermprojectbovw/test_csv_v2/img_00833.csv\n",
            "/kaggle/input/2020mltermprojectbovw/test_csv_v2/img_01279.csv\n",
            "/kaggle/input/2020mltermprojectbovw/test_csv_v2/img_00625.csv\n",
            "/kaggle/input/2020mltermprojectbovw/test_csv_v2/img_01667.csv\n",
            "/kaggle/input/2020mltermprojectbovw/test_csv_v2/img_01269.csv\n",
            "/kaggle/input/2020mltermprojectbovw/test_csv_v2/img_00856.csv\n",
            "/kaggle/input/2020mltermprojectbovw/test_csv_v2/img_00573.csv\n",
            "/kaggle/input/2020mltermprojectbovw/test_csv_v2/img_00024.csv\n",
            "/kaggle/input/2020mltermprojectbovw/test_csv_v2/img_01178.csv\n",
            "/kaggle/input/2020mltermprojectbovw/test_csv_v2/img_01635.csv\n",
            "/kaggle/input/2020mltermprojectbovw/test_csv_v2/img_01034.csv\n",
            "/kaggle/input/2020mltermprojectbovw/test_csv_v2/img_01574.csv\n",
            "/kaggle/input/2020mltermprojectbovw/test_csv_v2/img_00221.csv\n",
            "/kaggle/input/2020mltermprojectbovw/test_csv_v2/img_00424.csv\n",
            "/kaggle/input/2020mltermprojectbovw/test_csv_v2/img_01700.csv\n",
            "/kaggle/input/2020mltermprojectbovw/test_csv_v2/img_00777.csv\n",
            "/kaggle/input/2020mltermprojectbovw/test_csv_v2/img_01463.csv\n",
            "/kaggle/input/2020mltermprojectbovw/test_csv_v2/img_00251.csv\n",
            "/kaggle/input/2020mltermprojectbovw/test_csv_v2/img_00798.csv\n",
            "/kaggle/input/2020mltermprojectbovw/test_csv_v2/img_00746.csv\n",
            "/kaggle/input/2020mltermprojectbovw/test_csv_v2/img_00662.csv\n",
            "/kaggle/input/2020mltermprojectbovw/test_csv_v2/img_00128.csv\n",
            "/kaggle/input/2020mltermprojectbovw/test_csv_v2/img_00452.csv\n",
            "/kaggle/input/2020mltermprojectbovw/test_csv_v2/img_01638.csv\n",
            "/kaggle/input/2020mltermprojectbovw/test_csv_v2/img_01593.csv\n",
            "/kaggle/input/2020mltermprojectbovw/test_csv_v2/img_00633.csv\n",
            "/kaggle/input/2020mltermprojectbovw/test_csv_v2/img_01185.csv\n",
            "/kaggle/input/2020mltermprojectbovw/test_csv_v2/img_01156.csv\n",
            "/kaggle/input/2020mltermprojectbovw/test_csv_v2/img_00793.csv\n",
            "/kaggle/input/2020mltermprojectbovw/test_csv_v2/img_00193.csv\n",
            "/kaggle/input/2020mltermprojectbovw/test_csv_v2/img_00559.csv\n",
            "/kaggle/input/2020mltermprojectbovw/test_csv_v2/img_00595.csv\n",
            "/kaggle/input/2020mltermprojectbovw/test_csv_v2/img_00479.csv\n",
            "/kaggle/input/2020mltermprojectbovw/test_csv_v2/img_01556.csv\n",
            "/kaggle/input/2020mltermprojectbovw/test_csv_v2/img_01348.csv\n",
            "/kaggle/input/2020mltermprojectbovw/test_csv_v2/img_00417.csv\n",
            "/kaggle/input/2020mltermprojectbovw/test_csv_v2/img_01245.csv\n",
            "/kaggle/input/2020mltermprojectbovw/test_csv_v2/img_00045.csv\n",
            "/kaggle/input/2020mltermprojectbovw/test_csv_v2/img_01663.csv\n",
            "/kaggle/input/2020mltermprojectbovw/test_csv_v2/img_01262.csv\n",
            "/kaggle/input/2020mltermprojectbovw/test_csv_v2/img_00556.csv\n",
            "/kaggle/input/2020mltermprojectbovw/test_csv_v2/img_01467.csv\n",
            "/kaggle/input/2020mltermprojectbovw/test_csv_v2/img_00356.csv\n",
            "/kaggle/input/2020mltermprojectbovw/test_csv_v2/img_00068.csv\n",
            "/kaggle/input/2020mltermprojectbovw/test_csv_v2/img_01378.csv\n",
            "/kaggle/input/2020mltermprojectbovw/test_csv_v2/img_00360.csv\n",
            "/kaggle/input/2020mltermprojectbovw/test_csv_v2/img_00979.csv\n",
            "/kaggle/input/2020mltermprojectbovw/test_csv_v2/img_00367.csv\n",
            "/kaggle/input/2020mltermprojectbovw/test_csv_v2/img_00651.csv\n",
            "/kaggle/input/2020mltermprojectbovw/test_csv_v2/img_00524.csv\n",
            "/kaggle/input/2020mltermprojectbovw/test_csv_v2/img_01118.csv\n",
            "/kaggle/input/2020mltermprojectbovw/test_csv_v2/img_00297.csv\n",
            "/kaggle/input/2020mltermprojectbovw/test_csv_v2/img_00168.csv\n",
            "/kaggle/input/2020mltermprojectbovw/test_csv_v2/img_01141.csv\n",
            "/kaggle/input/2020mltermprojectbovw/test_csv_v2/img_00189.csv\n",
            "/kaggle/input/2020mltermprojectbovw/test_csv_v2/img_00028.csv\n",
            "/kaggle/input/2020mltermprojectbovw/test_csv_v2/img_00093.csv\n",
            "/kaggle/input/2020mltermprojectbovw/test_csv_v2/img_00531.csv\n",
            "/kaggle/input/2020mltermprojectbovw/test_csv_v2/img_00431.csv\n",
            "/kaggle/input/2020mltermprojectbovw/test_csv_v2/img_00574.csv\n",
            "/kaggle/input/2020mltermprojectbovw/test_csv_v2/img_00879.csv\n",
            "/kaggle/input/2020mltermprojectbovw/test_csv_v2/img_01510.csv\n",
            "/kaggle/input/2020mltermprojectbovw/test_csv_v2/img_01489.csv\n",
            "/kaggle/input/2020mltermprojectbovw/test_csv_v2/img_00966.csv\n",
            "/kaggle/input/2020mltermprojectbovw/test_csv_v2/img_00295.csv\n",
            "/kaggle/input/2020mltermprojectbovw/test_csv_v2/img_00803.csv\n",
            "/kaggle/input/2020mltermprojectbovw/test_csv_v2/img_00036.csv\n",
            "/kaggle/input/2020mltermprojectbovw/test_csv_v2/img_00331.csv\n",
            "/kaggle/input/2020mltermprojectbovw/test_csv_v2/img_01272.csv\n",
            "/kaggle/input/2020mltermprojectbovw/test_csv_v2/img_00165.csv\n",
            "/kaggle/input/2020mltermprojectbovw/test_csv_v2/img_00254.csv\n",
            "/kaggle/input/2020mltermprojectbovw/test_csv_v2/img_00144.csv\n",
            "/kaggle/input/2020mltermprojectbovw/test_csv_v2/img_01254.csv\n",
            "/kaggle/input/2020mltermprojectbovw/test_csv_v2/img_01644.csv\n",
            "/kaggle/input/2020mltermprojectbovw/test_csv_v2/img_01523.csv\n",
            "/kaggle/input/2020mltermprojectbovw/test_csv_v2/img_00500.csv\n",
            "/kaggle/input/2020mltermprojectbovw/test_csv_v2/img_01196.csv\n",
            "/kaggle/input/2020mltermprojectbovw/test_csv_v2/img_00605.csv\n",
            "/kaggle/input/2020mltermprojectbovw/test_csv_v2/img_00582.csv\n",
            "/kaggle/input/2020mltermprojectbovw/test_csv_v2/img_01056.csv\n",
            "/kaggle/input/2020mltermprojectbovw/test_csv_v2/img_00986.csv\n",
            "/kaggle/input/2020mltermprojectbovw/test_csv_v2/img_00664.csv\n",
            "/kaggle/input/2020mltermprojectbovw/test_csv_v2/img_00752.csv\n",
            "/kaggle/input/2020mltermprojectbovw/test_csv_v2/img_00840.csv\n",
            "/kaggle/input/2020mltermprojectbovw/test_csv_v2/img_01003.csv\n",
            "/kaggle/input/2020mltermprojectbovw/test_csv_v2/img_00502.csv\n",
            "/kaggle/input/2020mltermprojectbovw/test_csv_v2/img_00497.csv\n",
            "/kaggle/input/2020mltermprojectbovw/test_csv_v2/img_01101.csv\n",
            "/kaggle/input/2020mltermprojectbovw/test_csv_v2/img_00982.csv\n",
            "/kaggle/input/2020mltermprojectbovw/test_csv_v2/img_00396.csv\n",
            "/kaggle/input/2020mltermprojectbovw/test_csv_v2/img_00397.csv\n",
            "/kaggle/input/2020mltermprojectbovw/test_csv_v2/img_00365.csv\n",
            "/kaggle/input/2020mltermprojectbovw/test_csv_v2/img_01547.csv\n",
            "/kaggle/input/2020mltermprojectbovw/test_csv_v2/img_00293.csv\n",
            "/kaggle/input/2020mltermprojectbovw/test_csv_v2/img_01136.csv\n",
            "/kaggle/input/2020mltermprojectbovw/test_csv_v2/img_00745.csv\n",
            "/kaggle/input/2020mltermprojectbovw/test_csv_v2/img_01213.csv\n",
            "/kaggle/input/2020mltermprojectbovw/test_csv_v2/img_01637.csv\n",
            "/kaggle/input/2020mltermprojectbovw/test_csv_v2/img_00377.csv\n",
            "/kaggle/input/2020mltermprojectbovw/test_csv_v2/img_00310.csv\n",
            "/kaggle/input/2020mltermprojectbovw/test_csv_v2/img_01512.csv\n",
            "/kaggle/input/2020mltermprojectbovw/test_csv_v2/img_00181.csv\n",
            "/kaggle/input/2020mltermprojectbovw/test_csv_v2/img_00025.csv\n",
            "/kaggle/input/2020mltermprojectbovw/test_csv_v2/img_01581.csv\n",
            "/kaggle/input/2020mltermprojectbovw/test_csv_v2/img_01167.csv\n",
            "/kaggle/input/2020mltermprojectbovw/test_csv_v2/img_01157.csv\n",
            "/kaggle/input/2020mltermprojectbovw/test_csv_v2/img_00647.csv\n",
            "/kaggle/input/2020mltermprojectbovw/test_csv_v2/img_00517.csv\n",
            "/kaggle/input/2020mltermprojectbovw/test_csv_v2/img_00148.csv\n",
            "/kaggle/input/2020mltermprojectbovw/test_csv_v2/img_00200.csv\n",
            "/kaggle/input/2020mltermprojectbovw/test_csv_v2/img_00658.csv\n",
            "/kaggle/input/2020mltermprojectbovw/test_csv_v2/img_00122.csv\n",
            "/kaggle/input/2020mltermprojectbovw/test_csv_v2/img_00414.csv\n",
            "/kaggle/input/2020mltermprojectbovw/test_csv_v2/img_00499.csv\n",
            "/kaggle/input/2020mltermprojectbovw/test_csv_v2/img_00246.csv\n",
            "/kaggle/input/2020mltermprojectbovw/test_csv_v2/img_01609.csv\n",
            "/kaggle/input/2020mltermprojectbovw/test_csv_v2/img_01664.csv\n",
            "/kaggle/input/2020mltermprojectbovw/test_csv_v2/img_01071.csv\n",
            "/kaggle/input/2020mltermprojectbovw/test_csv_v2/img_01064.csv\n",
            "/kaggle/input/2020mltermprojectbovw/test_csv_v2/img_01687.csv\n",
            "/kaggle/input/2020mltermprojectbovw/test_csv_v2/img_01146.csv\n",
            "/kaggle/input/2020mltermprojectbovw/test_csv_v2/img_00150.csv\n",
            "/kaggle/input/2020mltermprojectbovw/test_csv_v2/img_00159.csv\n",
            "/kaggle/input/2020mltermprojectbovw/test_csv_v2/img_01671.csv\n",
            "/kaggle/input/2020mltermprojectbovw/test_csv_v2/img_01588.csv\n",
            "/kaggle/input/2020mltermprojectbovw/test_csv_v2/img_01481.csv\n",
            "/kaggle/input/2020mltermprojectbovw/test_csv_v2/img_01342.csv\n",
            "/kaggle/input/2020mltermprojectbovw/test_csv_v2/img_01154.csv\n",
            "/kaggle/input/2020mltermprojectbovw/test_csv_v2/img_00069.csv\n",
            "/kaggle/input/2020mltermprojectbovw/test_csv_v2/img_01656.csv\n",
            "/kaggle/input/2020mltermprojectbovw/test_csv_v2/img_01591.csv\n",
            "/kaggle/input/2020mltermprojectbovw/test_csv_v2/img_00823.csv\n",
            "/kaggle/input/2020mltermprojectbovw/test_csv_v2/img_00504.csv\n",
            "/kaggle/input/2020mltermprojectbovw/test_csv_v2/img_01290.csv\n",
            "/kaggle/input/2020mltermprojectbovw/test_csv_v2/img_00190.csv\n",
            "/kaggle/input/2020mltermprojectbovw/test_csv_v2/img_01123.csv\n",
            "/kaggle/input/2020mltermprojectbovw/test_csv_v2/img_00321.csv\n",
            "/kaggle/input/2020mltermprojectbovw/test_csv_v2/img_00942.csv\n",
            "/kaggle/input/2020mltermprojectbovw/test_csv_v2/img_00609.csv\n",
            "/kaggle/input/2020mltermprojectbovw/test_csv_v2/img_01436.csv\n",
            "/kaggle/input/2020mltermprojectbovw/test_csv_v2/img_01502.csv\n",
            "/kaggle/input/2020mltermprojectbovw/test_csv_v2/img_00197.csv\n",
            "/kaggle/input/2020mltermprojectbovw/test_csv_v2/img_00487.csv\n",
            "/kaggle/input/2020mltermprojectbovw/test_csv_v2/img_01328.csv\n",
            "/kaggle/input/2020mltermprojectbovw/test_csv_v2/img_01369.csv\n",
            "/kaggle/input/2020mltermprojectbovw/test_csv_v2/img_01397.csv\n",
            "/kaggle/input/2020mltermprojectbovw/test_csv_v2/img_01111.csv\n",
            "/kaggle/input/2020mltermprojectbovw/test_csv_v2/img_01417.csv\n",
            "/kaggle/input/2020mltermprojectbovw/test_csv_v2/img_00704.csv\n",
            "/kaggle/input/2020mltermprojectbovw/test_csv_v2/img_00410.csv\n",
            "/kaggle/input/2020mltermprojectbovw/test_csv_v2/img_01478.csv\n",
            "/kaggle/input/2020mltermprojectbovw/test_csv_v2/img_01520.csv\n",
            "/kaggle/input/2020mltermprojectbovw/test_csv_v2/img_00476.csv\n",
            "/kaggle/input/2020mltermprojectbovw/test_csv_v2/img_00280.csv\n",
            "/kaggle/input/2020mltermprojectbovw/test_csv_v2/img_00014.csv\n",
            "/kaggle/input/2020mltermprojectbovw/test_csv_v2/img_01133.csv\n",
            "/kaggle/input/2020mltermprojectbovw/test_csv_v2/img_01618.csv\n",
            "/kaggle/input/2020mltermprojectbovw/test_csv_v2/img_00070.csv\n",
            "/kaggle/input/2020mltermprojectbovw/test_csv_v2/img_01295.csv\n",
            "/kaggle/input/2020mltermprojectbovw/test_csv_v2/img_00242.csv\n",
            "/kaggle/input/2020mltermprojectbovw/test_csv_v2/img_01148.csv\n",
            "/kaggle/input/2020mltermprojectbovw/test_csv_v2/img_00090.csv\n",
            "/kaggle/input/2020mltermprojectbovw/test_csv_v2/img_01350.csv\n",
            "/kaggle/input/2020mltermprojectbovw/test_csv_v2/img_00434.csv\n",
            "/kaggle/input/2020mltermprojectbovw/test_csv_v2/img_00871.csv\n",
            "/kaggle/input/2020mltermprojectbovw/test_csv_v2/img_00571.csv\n",
            "/kaggle/input/2020mltermprojectbovw/test_csv_v2/img_01518.csv\n",
            "/kaggle/input/2020mltermprojectbovw/test_csv_v2/img_01186.csv\n",
            "/kaggle/input/2020mltermprojectbovw/test_csv_v2/img_00877.csv\n",
            "/kaggle/input/2020mltermprojectbovw/test_csv_v2/img_00742.csv\n",
            "/kaggle/input/2020mltermprojectbovw/test_csv_v2/img_01202.csv\n",
            "/kaggle/input/2020mltermprojectbovw/test_csv_v2/img_01043.csv\n",
            "/kaggle/input/2020mltermprojectbovw/test_csv_v2/img_00244.csv\n",
            "/kaggle/input/2020mltermprojectbovw/test_csv_v2/img_00083.csv\n",
            "/kaggle/input/2020mltermprojectbovw/test_csv_v2/img_00372.csv\n",
            "/kaggle/input/2020mltermprojectbovw/test_csv_v2/img_00669.csv\n",
            "/kaggle/input/2020mltermprojectbovw/test_csv_v2/img_00604.csv\n",
            "/kaggle/input/2020mltermprojectbovw/test_csv_v2/img_01515.csv\n",
            "/kaggle/input/2020mltermprojectbovw/test_csv_v2/img_01659.csv\n",
            "/kaggle/input/2020mltermprojectbovw/test_csv_v2/img_00686.csv\n",
            "/kaggle/input/2020mltermprojectbovw/test_csv_v2/img_01075.csv\n",
            "/kaggle/input/2020mltermprojectbovw/test_csv_v2/img_01400.csv\n",
            "/kaggle/input/2020mltermprojectbovw/test_csv_v2/img_01504.csv\n",
            "/kaggle/input/2020mltermprojectbovw/test_csv_v2/img_00675.csv\n",
            "/kaggle/input/2020mltermprojectbovw/test_csv_v2/img_00021.csv\n",
            "/kaggle/input/2020mltermprojectbovw/test_csv_v2/img_01354.csv\n",
            "/kaggle/input/2020mltermprojectbovw/test_csv_v2/img_00241.csv\n",
            "/kaggle/input/2020mltermprojectbovw/test_csv_v2/img_01230.csv\n",
            "/kaggle/input/2020mltermprojectbovw/test_csv_v2/img_00539.csv\n",
            "/kaggle/input/2020mltermprojectbovw/test_csv_v2/img_00458.csv\n",
            "/kaggle/input/2020mltermprojectbovw/test_csv_v2/img_01335.csv\n",
            "/kaggle/input/2020mltermprojectbovw/test_csv_v2/img_01002.csv\n",
            "/kaggle/input/2020mltermprojectbovw/test_csv_v2/img_00513.csv\n",
            "/kaggle/input/2020mltermprojectbovw/test_csv_v2/img_00300.csv\n",
            "/kaggle/input/2020mltermprojectbovw/test_csv_v2/img_01705.csv\n",
            "/kaggle/input/2020mltermprojectbovw/test_csv_v2/img_00436.csv\n",
            "/kaggle/input/2020mltermprojectbovw/test_csv_v2/img_01138.csv\n",
            "/kaggle/input/2020mltermprojectbovw/test_csv_v2/img_01624.csv\n",
            "/kaggle/input/2020mltermprojectbovw/test_csv_v2/img_01349.csv\n",
            "/kaggle/input/2020mltermprojectbovw/test_csv_v2/img_00881.csv\n",
            "/kaggle/input/2020mltermprojectbovw/test_csv_v2/img_00328.csv\n",
            "/kaggle/input/2020mltermprojectbovw/test_csv_v2/img_00482.csv\n",
            "/kaggle/input/2020mltermprojectbovw/test_csv_v2/img_00258.csv\n",
            "/kaggle/input/2020mltermprojectbovw/test_csv_v2/img_00887.csv\n",
            "/kaggle/input/2020mltermprojectbovw/test_csv_v2/img_00952.csv\n",
            "/kaggle/input/2020mltermprojectbovw/test_csv_v2/img_00501.csv\n",
            "/kaggle/input/2020mltermprojectbovw/test_csv_v2/img_00158.csv\n",
            "/kaggle/input/2020mltermprojectbovw/test_csv_v2/img_00143.csv\n",
            "/kaggle/input/2020mltermprojectbovw/test_csv_v2/img_00473.csv\n",
            "/kaggle/input/2020mltermprojectbovw/test_csv_v2/img_01565.csv\n",
            "/kaggle/input/2020mltermprojectbovw/test_csv_v2/img_00435.csv\n",
            "/kaggle/input/2020mltermprojectbovw/test_csv_v2/img_00525.csv\n",
            "/kaggle/input/2020mltermprojectbovw/test_csv_v2/img_00179.csv\n",
            "/kaggle/input/2020mltermprojectbovw/test_csv_v2/img_00016.csv\n",
            "/kaggle/input/2020mltermprojectbovw/test_csv_v2/img_00471.csv\n",
            "/kaggle/input/2020mltermprojectbovw/test_csv_v2/img_01329.csv\n",
            "/kaggle/input/2020mltermprojectbovw/test_csv_v2/img_01650.csv\n",
            "/kaggle/input/2020mltermprojectbovw/test_csv_v2/img_00563.csv\n",
            "/kaggle/input/2020mltermprojectbovw/test_csv_v2/img_01076.csv\n",
            "/kaggle/input/2020mltermprojectbovw/test_csv_v2/img_00521.csv\n",
            "/kaggle/input/2020mltermprojectbovw/test_csv_v2/img_00027.csv\n",
            "/kaggle/input/2020mltermprojectbovw/test_csv_v2/img_00905.csv\n",
            "/kaggle/input/2020mltermprojectbovw/test_csv_v2/img_00270.csv\n",
            "/kaggle/input/2020mltermprojectbovw/test_csv_v2/img_00112.csv\n",
            "/kaggle/input/2020mltermprojectbovw/test_csv_v2/img_00444.csv\n",
            "/kaggle/input/2020mltermprojectbovw/test_csv_v2/img_01526.csv\n",
            "/kaggle/input/2020mltermprojectbovw/test_csv_v2/img_01390.csv\n",
            "/kaggle/input/2020mltermprojectbovw/test_csv_v2/img_00815.csv\n",
            "/kaggle/input/2020mltermprojectbovw/test_csv_v2/img_01001.csv\n",
            "/kaggle/input/2020mltermprojectbovw/test_csv_v2/img_00123.csv\n",
            "/kaggle/input/2020mltermprojectbovw/test_csv_v2/img_01190.csv\n",
            "/kaggle/input/2020mltermprojectbovw/test_csv_v2/img_01198.csv\n",
            "/kaggle/input/2020mltermprojectbovw/test_csv_v2/img_00219.csv\n",
            "/kaggle/input/2020mltermprojectbovw/test_csv_v2/img_00694.csv\n",
            "/kaggle/input/2020mltermprojectbovw/test_csv_v2/img_00748.csv\n",
            "/kaggle/input/2020mltermprojectbovw/test_csv_v2/img_00003.csv\n",
            "/kaggle/input/2020mltermprojectbovw/test_csv_v2/img_00944.csv\n",
            "/kaggle/input/2020mltermprojectbovw/test_csv_v2/img_01151.csv\n",
            "/kaggle/input/2020mltermprojectbovw/test_csv_v2/img_00758.csv\n",
            "/kaggle/input/2020mltermprojectbovw/test_csv_v2/img_01685.csv\n",
            "/kaggle/input/2020mltermprojectbovw/test_csv_v2/img_01191.csv\n",
            "/kaggle/input/2020mltermprojectbovw/test_csv_v2/img_01358.csv\n",
            "/kaggle/input/2020mltermprojectbovw/test_csv_v2/img_01414.csv\n",
            "/kaggle/input/2020mltermprojectbovw/test_csv_v2/img_00240.csv\n",
            "/kaggle/input/2020mltermprojectbovw/test_csv_v2/img_01703.csv\n",
            "/kaggle/input/2020mltermprojectbovw/test_csv_v2/img_00822.csv\n",
            "/kaggle/input/2020mltermprojectbovw/test_csv_v2/img_01586.csv\n",
            "/kaggle/input/2020mltermprojectbovw/test_csv_v2/img_01651.csv\n",
            "/kaggle/input/2020mltermprojectbovw/test_csv_v2/img_00226.csv\n",
            "/kaggle/input/2020mltermprojectbovw/test_csv_v2/img_00450.csv\n",
            "/kaggle/input/2020mltermprojectbovw/test_csv_v2/img_01439.csv\n",
            "/kaggle/input/2020mltermprojectbovw/test_csv_v2/img_00236.csv\n",
            "/kaggle/input/2020mltermprojectbovw/test_csv_v2/img_00141.csv\n",
            "/kaggle/input/2020mltermprojectbovw/test_csv_v2/img_00760.csv\n",
            "/kaggle/input/2020mltermprojectbovw/test_csv_v2/img_00772.csv\n",
            "/kaggle/input/2020mltermprojectbovw/test_csv_v2/img_01589.csv\n",
            "/kaggle/input/2020mltermprojectbovw/test_csv_v2/img_01570.csv\n",
            "/kaggle/input/2020mltermprojectbovw/test_csv_v2/img_01217.csv\n",
            "/kaggle/input/2020mltermprojectbovw/test_csv_v2/img_01044.csv\n",
            "/kaggle/input/2020mltermprojectbovw/test_csv_v2/img_01409.csv\n",
            "/kaggle/input/2020mltermprojectbovw/test_csv_v2/img_01080.csv\n",
            "/kaggle/input/2020mltermprojectbovw/test_csv_v2/img_00072.csv\n",
            "/kaggle/input/2020mltermprojectbovw/test_csv_v2/img_01648.csv\n",
            "/kaggle/input/2020mltermprojectbovw/test_csv_v2/img_00667.csv\n",
            "/kaggle/input/2020mltermprojectbovw/test_csv_v2/img_00033.csv\n",
            "/kaggle/input/2020mltermprojectbovw/test_csv_v2/img_01701.csv\n",
            "/kaggle/input/2020mltermprojectbovw/test_csv_v2/img_00097.csv\n",
            "/kaggle/input/2020mltermprojectbovw/test_csv_v2/img_00448.csv\n",
            "/kaggle/input/2020mltermprojectbovw/test_csv_v2/img_00018.csv\n",
            "/kaggle/input/2020mltermprojectbovw/test_csv_v2/img_00391.csv\n",
            "/kaggle/input/2020mltermprojectbovw/test_csv_v2/img_00394.csv\n",
            "/kaggle/input/2020mltermprojectbovw/test_csv_v2/img_00768.csv\n",
            "/kaggle/input/2020mltermprojectbovw/test_csv_v2/img_01485.csv\n",
            "/kaggle/input/2020mltermprojectbovw/test_csv_v2/img_00858.csv\n",
            "/kaggle/input/2020mltermprojectbovw/test_csv_v2/img_00995.csv\n",
            "/kaggle/input/2020mltermprojectbovw/test_csv_v2/img_01408.csv\n",
            "/kaggle/input/2020mltermprojectbovw/test_csv_v2/img_00000.csv\n",
            "/kaggle/input/2020mltermprojectbovw/test_csv_v2/img_00757.csv\n",
            "/kaggle/input/2020mltermprojectbovw/test_csv_v2/img_00859.csv\n",
            "/kaggle/input/2020mltermprojectbovw/test_csv_v2/img_00845.csv\n",
            "/kaggle/input/2020mltermprojectbovw/test_csv_v2/img_01010.csv\n",
            "/kaggle/input/2020mltermprojectbovw/test_csv_v2/img_01674.csv\n",
            "/kaggle/input/2020mltermprojectbovw/test_csv_v2/img_00400.csv\n",
            "/kaggle/input/2020mltermprojectbovw/test_csv_v2/img_00535.csv\n",
            "/kaggle/input/2020mltermprojectbovw/test_csv_v2/img_00659.csv\n",
            "/kaggle/input/2020mltermprojectbovw/test_csv_v2/img_00575.csv\n",
            "/kaggle/input/2020mltermprojectbovw/test_csv_v2/img_00286.csv\n",
            "/kaggle/input/2020mltermprojectbovw/test_csv_v2/img_01447.csv\n",
            "/kaggle/input/2020mltermprojectbovw/test_csv_v2/img_00055.csv\n",
            "/kaggle/input/2020mltermprojectbovw/test_csv_v2/img_01597.csv\n",
            "/kaggle/input/2020mltermprojectbovw/test_csv_v2/img_01316.csv\n",
            "/kaggle/input/2020mltermprojectbovw/test_csv_v2/img_00248.csv\n",
            "/kaggle/input/2020mltermprojectbovw/test_csv_v2/img_00255.csv\n",
            "/kaggle/input/2020mltermprojectbovw/test_csv_v2/img_00243.csv\n",
            "/kaggle/input/2020mltermprojectbovw/test_csv_v2/img_00709.csv\n",
            "/kaggle/input/2020mltermprojectbovw/test_csv_v2/img_00813.csv\n",
            "/kaggle/input/2020mltermprojectbovw/test_csv_v2/img_00705.csv\n",
            "/kaggle/input/2020mltermprojectbovw/test_csv_v2/img_01103.csv\n",
            "/kaggle/input/2020mltermprojectbovw/test_csv_v2/img_00782.csv\n",
            "/kaggle/input/2020mltermprojectbovw/test_csv_v2/img_00938.csv\n",
            "/kaggle/input/2020mltermprojectbovw/test_csv_v2/img_00057.csv\n",
            "/kaggle/input/2020mltermprojectbovw/test_csv_v2/img_01338.csv\n",
            "/kaggle/input/2020mltermprojectbovw/test_csv_v2/img_00607.csv\n",
            "/kaggle/input/2020mltermprojectbovw/test_csv_v2/img_00632.csv\n",
            "/kaggle/input/2020mltermprojectbovw/test_csv_v2/img_00496.csv\n",
            "/kaggle/input/2020mltermprojectbovw/test_csv_v2/img_00648.csv\n",
            "/kaggle/input/2020mltermprojectbovw/test_csv_v2/img_01337.csv\n",
            "/kaggle/input/2020mltermprojectbovw/test_csv_v2/img_00846.csv\n",
            "/kaggle/input/2020mltermprojectbovw/test_csv_v2/img_00927.csv\n",
            "/kaggle/input/2020mltermprojectbovw/test_csv_v2/img_01707.csv\n",
            "/kaggle/input/2020mltermprojectbovw/test_csv_v2/img_00969.csv\n",
            "/kaggle/input/2020mltermprojectbovw/test_csv_v2/img_01435.csv\n",
            "/kaggle/input/2020mltermprojectbovw/test_csv_v2/img_01676.csv\n",
            "/kaggle/input/2020mltermprojectbovw/test_csv_v2/img_00935.csv\n",
            "/kaggle/input/2020mltermprojectbovw/test_csv_v2/img_01278.csv\n",
            "/kaggle/input/2020mltermprojectbovw/test_csv_v2/img_00511.csv\n",
            "/kaggle/input/2020mltermprojectbovw/test_csv_v2/img_01140.csv\n",
            "/kaggle/input/2020mltermprojectbovw/test_csv_v2/img_00819.csv\n",
            "/kaggle/input/2020mltermprojectbovw/test_csv_v2/img_01274.csv\n",
            "/kaggle/input/2020mltermprojectbovw/test_csv_v2/img_01344.csv\n",
            "/kaggle/input/2020mltermprojectbovw/test_csv_v2/img_01416.csv\n",
            "/kaggle/input/2020mltermprojectbovw/test_csv_v2/img_01053.csv\n",
            "/kaggle/input/2020mltermprojectbovw/test_csv_v2/img_00348.csv\n",
            "/kaggle/input/2020mltermprojectbovw/test_csv_v2/img_01355.csv\n",
            "/kaggle/input/2020mltermprojectbovw/test_csv_v2/img_00857.csv\n",
            "/kaggle/input/2020mltermprojectbovw/test_csv_v2/img_00558.csv\n",
            "/kaggle/input/2020mltermprojectbovw/test_csv_v2/img_01682.csv\n",
            "/kaggle/input/2020mltermprojectbovw/test_csv_v2/img_01104.csv\n",
            "/kaggle/input/2020mltermprojectbovw/test_csv_v2/img_01059.csv\n",
            "/kaggle/input/2020mltermprojectbovw/test_csv_v2/img_01486.csv\n",
            "/kaggle/input/2020mltermprojectbovw/test_csv_v2/img_01251.csv\n",
            "/kaggle/input/2020mltermprojectbovw/test_csv_v2/img_00730.csv\n",
            "/kaggle/input/2020mltermprojectbovw/test_csv_v2/img_01561.csv\n",
            "/kaggle/input/2020mltermprojectbovw/test_csv_v2/img_01237.csv\n",
            "/kaggle/input/2020mltermprojectbovw/test_csv_v2/img_01595.csv\n",
            "/kaggle/input/2020mltermprojectbovw/test_csv_v2/img_00825.csv\n",
            "/kaggle/input/2020mltermprojectbovw/test_csv_v2/img_01359.csv\n",
            "/kaggle/input/2020mltermprojectbovw/test_csv_v2/img_00689.csv\n",
            "/kaggle/input/2020mltermprojectbovw/test_csv_v2/img_01078.csv\n",
            "/kaggle/input/2020mltermprojectbovw/test_csv_v2/img_00234.csv\n",
            "/kaggle/input/2020mltermprojectbovw/test_csv_v2/img_01326.csv\n",
            "/kaggle/input/2020mltermprojectbovw/test_csv_v2/img_00155.csv\n",
            "/kaggle/input/2020mltermprojectbovw/test_csv_v2/img_00717.csv\n",
            "/kaggle/input/2020mltermprojectbovw/test_csv_v2/img_00477.csv\n",
            "/kaggle/input/2020mltermprojectbovw/test_csv_v2/img_00187.csv\n",
            "/kaggle/input/2020mltermprojectbovw/test_csv_v2/img_01208.csv\n",
            "/kaggle/input/2020mltermprojectbovw/test_csv_v2/img_00274.csv\n",
            "/kaggle/input/2020mltermprojectbovw/test_csv_v2/img_00048.csv\n",
            "/kaggle/input/2020mltermprojectbovw/test_csv_v2/img_01011.csv\n",
            "/kaggle/input/2020mltermprojectbovw/test_csv_v2/img_00795.csv\n",
            "/kaggle/input/2020mltermprojectbovw/test_csv_v2/img_00469.csv\n",
            "/kaggle/input/2020mltermprojectbovw/test_csv_v2/img_01647.csv\n",
            "/kaggle/input/2020mltermprojectbovw/test_csv_v2/img_01699.csv\n",
            "/kaggle/input/2020mltermprojectbovw/test_csv_v2/img_00882.csv\n",
            "/kaggle/input/2020mltermprojectbovw/test_csv_v2/img_00346.csv\n",
            "/kaggle/input/2020mltermprojectbovw/test_csv_v2/img_00945.csv\n",
            "/kaggle/input/2020mltermprojectbovw/test_csv_v2/img_00869.csv\n",
            "/kaggle/input/2020mltermprojectbovw/test_csv_v2/img_01494.csv\n",
            "/kaggle/input/2020mltermprojectbovw/test_csv_v2/img_01361.csv\n",
            "/kaggle/input/2020mltermprojectbovw/test_csv_v2/img_00252.csv\n",
            "/kaggle/input/2020mltermprojectbovw/test_csv_v2/img_00019.csv\n",
            "/kaggle/input/2020mltermprojectbovw/test_csv_v2/img_01356.csv\n",
            "/kaggle/input/2020mltermprojectbovw/test_csv_v2/img_00638.csv\n",
            "/kaggle/input/2020mltermprojectbovw/test_csv_v2/img_01529.csv\n",
            "/kaggle/input/2020mltermprojectbovw/test_csv_v2/img_00799.csv\n",
            "/kaggle/input/2020mltermprojectbovw/test_csv_v2/img_00603.csv\n",
            "/kaggle/input/2020mltermprojectbovw/test_csv_v2/img_01684.csv\n",
            "/kaggle/input/2020mltermprojectbovw/test_csv_v2/img_00590.csv\n",
            "/kaggle/input/2020mltermprojectbovw/test_csv_v2/img_00379.csv\n",
            "/kaggle/input/2020mltermprojectbovw/test_csv_v2/img_00781.csv\n",
            "/kaggle/input/2020mltermprojectbovw/test_csv_v2/img_00345.csv\n",
            "/kaggle/input/2020mltermprojectbovw/test_csv_v2/img_00108.csv\n",
            "/kaggle/input/2020mltermprojectbovw/test_csv_v2/img_01119.csv\n",
            "/kaggle/input/2020mltermprojectbovw/test_csv_v2/img_01013.csv\n",
            "/kaggle/input/2020mltermprojectbovw/test_csv_v2/img_00514.csv\n",
            "/kaggle/input/2020mltermprojectbovw/test_csv_v2/img_01360.csv\n",
            "/kaggle/input/2020mltermprojectbovw/test_csv_v2/img_00120.csv\n",
            "/kaggle/input/2020mltermprojectbovw/test_csv_v2/img_00834.csv\n",
            "/kaggle/input/2020mltermprojectbovw/test_csv_v2/img_01215.csv\n",
            "/kaggle/input/2020mltermprojectbovw/test_csv_v2/img_00317.csv\n",
            "/kaggle/input/2020mltermprojectbovw/test_csv_v2/img_00304.csv\n",
            "/kaggle/input/2020mltermprojectbovw/test_csv_v2/img_00541.csv\n",
            "/kaggle/input/2020mltermprojectbovw/test_csv_v2/img_01415.csv\n",
            "/kaggle/input/2020mltermprojectbovw/test_csv_v2/img_00569.csv\n",
            "/kaggle/input/2020mltermprojectbovw/test_csv_v2/img_00534.csv\n",
            "/kaggle/input/2020mltermprojectbovw/test_csv_v2/img_00851.csv\n",
            "/kaggle/input/2020mltermprojectbovw/test_csv_v2/img_00118.csv\n",
            "/kaggle/input/2020mltermprojectbovw/test_csv_v2/img_01430.csv\n",
            "/kaggle/input/2020mltermprojectbovw/test_csv_v2/img_01035.csv\n",
            "/kaggle/input/2020mltermprojectbovw/test_csv_v2/img_01322.csv\n",
            "/kaggle/input/2020mltermprojectbovw/test_csv_v2/img_00946.csv\n",
            "/kaggle/input/2020mltermprojectbovw/test_csv_v2/img_01276.csv\n",
            "/kaggle/input/2020mltermprojectbovw/test_csv_v2/img_00145.csv\n",
            "/kaggle/input/2020mltermprojectbovw/test_csv_v2/img_00276.csv\n",
            "/kaggle/input/2020mltermprojectbovw/test_csv_v2/img_01580.csv\n",
            "/kaggle/input/2020mltermprojectbovw/test_csv_v2/img_01452.csv\n",
            "/kaggle/input/2020mltermprojectbovw/test_csv_v2/img_01162.csv\n",
            "/kaggle/input/2020mltermprojectbovw/test_csv_v2/img_01170.csv\n",
            "/kaggle/input/2020mltermprojectbovw/test_csv_v2/img_01546.csv\n",
            "/kaggle/input/2020mltermprojectbovw/test_csv_v2/img_01145.csv\n",
            "/kaggle/input/2020mltermprojectbovw/test_csv_v2/img_00488.csv\n",
            "/kaggle/input/2020mltermprojectbovw/test_csv_v2/img_01239.csv\n",
            "/kaggle/input/2020mltermprojectbovw/test_csv_v2/img_00842.csv\n",
            "/kaggle/input/2020mltermprojectbovw/test_csv_v2/img_01255.csv\n",
            "/kaggle/input/2020mltermprojectbovw/test_csv_v2/img_00889.csv\n",
            "/kaggle/input/2020mltermprojectbovw/test_csv_v2/img_00510.csv\n",
            "/kaggle/input/2020mltermprojectbovw/test_csv_v2/img_01155.csv\n",
            "/kaggle/input/2020mltermprojectbovw/test_csv_v2/img_00113.csv\n",
            "/kaggle/input/2020mltermprojectbovw/test_csv_v2/img_00172.csv\n",
            "/kaggle/input/2020mltermprojectbovw/test_csv_v2/img_01199.csv\n",
            "/kaggle/input/2020mltermprojectbovw/test_csv_v2/img_00682.csv\n",
            "/kaggle/input/2020mltermprojectbovw/test_csv_v2/img_00225.csv\n",
            "/kaggle/input/2020mltermprojectbovw/test_csv_v2/img_01340.csv\n",
            "/kaggle/input/2020mltermprojectbovw/test_csv_v2/img_00635.csv\n",
            "/kaggle/input/2020mltermprojectbovw/test_csv_v2/img_01553.csv\n",
            "/kaggle/input/2020mltermprojectbovw/test_csv_v2/img_00948.csv\n",
            "/kaggle/input/2020mltermprojectbovw/test_csv_v2/img_00860.csv\n",
            "/kaggle/input/2020mltermprojectbovw/test_csv_v2/img_01630.csv\n",
            "/kaggle/input/2020mltermprojectbovw/test_csv_v2/img_01506.csv\n",
            "/kaggle/input/2020mltermprojectbovw/test_csv_v2/img_00104.csv\n",
            "/kaggle/input/2020mltermprojectbovw/test_csv_v2/img_00645.csv\n",
            "/kaggle/input/2020mltermprojectbovw/test_csv_v2/img_00568.csv\n",
            "/kaggle/input/2020mltermprojectbovw/test_csv_v2/img_00154.csv\n",
            "/kaggle/input/2020mltermprojectbovw/test_csv_v2/img_01200.csv\n",
            "/kaggle/input/2020mltermprojectbovw/test_csv_v2/img_00413.csv\n",
            "/kaggle/input/2020mltermprojectbovw/test_csv_v2/img_00980.csv\n",
            "/kaggle/input/2020mltermprojectbovw/test_csv_v2/img_01004.csv\n",
            "/kaggle/input/2020mltermprojectbovw/test_csv_v2/img_00468.csv\n",
            "/kaggle/input/2020mltermprojectbovw/test_csv_v2/img_00585.csv\n",
            "/kaggle/input/2020mltermprojectbovw/test_csv_v2/img_01453.csv\n",
            "/kaggle/input/2020mltermprojectbovw/test_csv_v2/img_01373.csv\n",
            "/kaggle/input/2020mltermprojectbovw/test_csv_v2/img_01008.csv\n",
            "/kaggle/input/2020mltermprojectbovw/test_csv_v2/img_00110.csv\n",
            "/kaggle/input/2020mltermprojectbovw/test_csv_v2/img_00065.csv\n",
            "/kaggle/input/2020mltermprojectbovw/test_csv_v2/img_00481.csv\n",
            "/kaggle/input/2020mltermprojectbovw/test_csv_v2/img_01172.csv\n",
            "/kaggle/input/2020mltermprojectbovw/test_csv_v2/img_00357.csv\n",
            "/kaggle/input/2020mltermprojectbovw/test_csv_v2/img_00806.csv\n",
            "/kaggle/input/2020mltermprojectbovw/test_csv_v2/img_00447.csv\n",
            "/kaggle/input/2020mltermprojectbovw/test_csv_v2/img_01578.csv\n",
            "/kaggle/input/2020mltermprojectbovw/test_csv_v2/img_00451.csv\n",
            "/kaggle/input/2020mltermprojectbovw/test_csv_v2/img_00495.csv\n",
            "/kaggle/input/2020mltermprojectbovw/test_csv_v2/img_01116.csv\n",
            "/kaggle/input/2020mltermprojectbovw/test_csv_v2/img_00032.csv\n",
            "/kaggle/input/2020mltermprojectbovw/test_csv_v2/img_00315.csv\n",
            "/kaggle/input/2020mltermprojectbovw/test_csv_v2/img_01302.csv\n",
            "/kaggle/input/2020mltermprojectbovw/test_csv_v2/img_01312.csv\n",
            "/kaggle/input/2020mltermprojectbovw/test_csv_v2/img_00026.csv\n",
            "/kaggle/input/2020mltermprojectbovw/test_csv_v2/img_00763.csv\n",
            "/kaggle/input/2020mltermprojectbovw/test_csv_v2/img_00729.csv\n",
            "/kaggle/input/2020mltermprojectbovw/test_csv_v2/img_01454.csv\n",
            "/kaggle/input/2020mltermprojectbovw/test_csv_v2/img_01527.csv\n",
            "/kaggle/input/2020mltermprojectbovw/test_csv_v2/img_00171.csv\n",
            "/kaggle/input/2020mltermprojectbovw/test_csv_v2/img_01508.csv\n",
            "/kaggle/input/2020mltermprojectbovw/test_csv_v2/img_00878.csv\n",
            "/kaggle/input/2020mltermprojectbovw/test_csv_v2/img_01709.csv\n",
            "/kaggle/input/2020mltermprojectbovw/test_csv_v2/img_00273.csv\n",
            "/kaggle/input/2020mltermprojectbovw/test_csv_v2/img_00053.csv\n",
            "/kaggle/input/2020mltermprojectbovw/test_csv_v2/img_01134.csv\n",
            "/kaggle/input/2020mltermprojectbovw/test_csv_v2/img_00134.csv\n",
            "/kaggle/input/2020mltermprojectbovw/test_csv_v2/img_01176.csv\n",
            "/kaggle/input/2020mltermprojectbovw/test_csv_v2/img_00714.csv\n",
            "/kaggle/input/2020mltermprojectbovw/test_csv_v2/img_01074.csv\n",
            "/kaggle/input/2020mltermprojectbovw/test_csv_v2/img_01569.csv\n",
            "/kaggle/input/2020mltermprojectbovw/test_csv_v2/img_01680.csv\n",
            "/kaggle/input/2020mltermprojectbovw/test_csv_v2/img_01458.csv\n",
            "/kaggle/input/2020mltermprojectbovw/test_csv_v2/img_00621.csv\n",
            "/kaggle/input/2020mltermprojectbovw/test_csv_v2/img_00693.csv\n",
            "/kaggle/input/2020mltermprojectbovw/test_csv_v2/img_01173.csv\n",
            "/kaggle/input/2020mltermprojectbovw/test_csv_v2/img_00916.csv\n",
            "/kaggle/input/2020mltermprojectbovw/test_csv_v2/img_00020.csv\n",
            "/kaggle/input/2020mltermprojectbovw/test_csv_v2/img_00334.csv\n",
            "/kaggle/input/2020mltermprojectbovw/test_csv_v2/img_00250.csv\n",
            "/kaggle/input/2020mltermprojectbovw/test_csv_v2/img_01214.csv\n",
            "/kaggle/input/2020mltermprojectbovw/test_csv_v2/img_01277.csv\n",
            "/kaggle/input/2020mltermprojectbovw/test_csv_v2/img_00868.csv\n",
            "/kaggle/input/2020mltermprojectbovw/test_csv_v2/img_01263.csv\n",
            "/kaggle/input/2020mltermprojectbovw/test_csv_v2/img_00119.csv\n",
            "/kaggle/input/2020mltermprojectbovw/test_csv_v2/img_00142.csv\n",
            "/kaggle/input/2020mltermprojectbovw/test_csv_v2/img_00347.csv\n",
            "/kaggle/input/2020mltermprojectbovw/test_csv_v2/img_01421.csv\n",
            "/kaggle/input/2020mltermprojectbovw/test_csv_v2/img_00127.csv\n",
            "/kaggle/input/2020mltermprojectbovw/test_csv_v2/img_01236.csv\n",
            "/kaggle/input/2020mltermprojectbovw/test_csv_v2/img_00116.csv\n",
            "/kaggle/input/2020mltermprojectbovw/test_csv_v2/img_00965.csv\n",
            "/kaggle/input/2020mltermprojectbovw/test_csv_v2/img_00560.csv\n",
            "/kaggle/input/2020mltermprojectbovw/test_csv_v2/img_00305.csv\n",
            "/kaggle/input/2020mltermprojectbovw/test_csv_v2/img_00985.csv\n",
            "/kaggle/input/2020mltermprojectbovw/test_csv_v2/img_01632.csv\n",
            "/kaggle/input/2020mltermprojectbovw/test_csv_v2/img_01423.csv\n",
            "/kaggle/input/2020mltermprojectbovw/test_csv_v2/img_01652.csv\n",
            "/kaggle/input/2020mltermprojectbovw/test_csv_v2/img_00160.csv\n",
            "/kaggle/input/2020mltermprojectbovw/test_csv_v2/img_00374.csv\n",
            "/kaggle/input/2020mltermprojectbovw/test_csv_v2/img_01109.csv\n",
            "/kaggle/input/2020mltermprojectbovw/test_csv_v2/img_01257.csv\n",
            "/kaggle/input/2020mltermprojectbovw/test_csv_v2/img_01292.csv\n",
            "/kaggle/input/2020mltermprojectbovw/test_csv_v2/img_01636.csv\n",
            "/kaggle/input/2020mltermprojectbovw/test_csv_v2/img_01567.csv\n",
            "/kaggle/input/2020mltermprojectbovw/test_csv_v2/img_00350.csv\n",
            "/kaggle/input/2020mltermprojectbovw/test_csv_v2/img_01314.csv\n",
            "/kaggle/input/2020mltermprojectbovw/test_csv_v2/img_00683.csv\n",
            "/kaggle/input/2020mltermprojectbovw/test_csv_v2/img_01282.csv\n",
            "/kaggle/input/2020mltermprojectbovw/test_csv_v2/img_01367.csv\n",
            "/kaggle/input/2020mltermprojectbovw/test_csv_v2/img_01324.csv\n",
            "/kaggle/input/2020mltermprojectbovw/test_csv_v2/img_00131.csv\n",
            "/kaggle/input/2020mltermprojectbovw/test_csv_v2/img_00306.csv\n",
            "/kaggle/input/2020mltermprojectbovw/test_csv_v2/img_00375.csv\n",
            "/kaggle/input/2020mltermprojectbovw/test_csv_v2/img_01573.csv\n",
            "/kaggle/input/2020mltermprojectbovw/test_csv_v2/img_01662.csv\n",
            "/kaggle/input/2020mltermprojectbovw/test_csv_v2/img_01583.csv\n",
            "/kaggle/input/2020mltermprojectbovw/test_csv_v2/img_01235.csv\n",
            "/kaggle/input/2020mltermprojectbovw/test_csv_v2/img_00192.csv\n",
            "/kaggle/input/2020mltermprojectbovw/test_csv_v2/img_00449.csv\n",
            "/kaggle/input/2020mltermprojectbovw/test_csv_v2/img_00005.csv\n",
            "/kaggle/input/2020mltermprojectbovw/test_csv_v2/img_00875.csv\n",
            "/kaggle/input/2020mltermprojectbovw/test_csv_v2/img_01542.csv\n",
            "/kaggle/input/2020mltermprojectbovw/test_csv_v2/img_00012.csv\n",
            "/kaggle/input/2020mltermprojectbovw/test_csv_v2/img_01631.csv\n",
            "/kaggle/input/2020mltermprojectbovw/test_csv_v2/img_01284.csv\n",
            "/kaggle/input/2020mltermprojectbovw/test_csv_v2/img_00266.csv\n",
            "/kaggle/input/2020mltermprojectbovw/test_csv_v2/img_00430.csv\n",
            "/kaggle/input/2020mltermprojectbovw/test_csv_v2/img_01621.csv\n",
            "/kaggle/input/2020mltermprojectbovw/test_csv_v2/img_01091.csv\n",
            "/kaggle/input/2020mltermprojectbovw/test_csv_v2/img_00329.csv\n",
            "/kaggle/input/2020mltermprojectbovw/test_csv_v2/img_00933.csv\n",
            "/kaggle/input/2020mltermprojectbovw/test_csv_v2/img_01568.csv\n",
            "/kaggle/input/2020mltermprojectbovw/test_csv_v2/img_01090.csv\n",
            "/kaggle/input/2020mltermprojectbovw/test_csv_v2/img_00892.csv\n",
            "/kaggle/input/2020mltermprojectbovw/test_csv_v2/img_01260.csv\n",
            "/kaggle/input/2020mltermprojectbovw/test_csv_v2/img_00567.csv\n",
            "/kaggle/input/2020mltermprojectbovw/test_csv_v2/img_01221.csv\n",
            "/kaggle/input/2020mltermprojectbovw/test_csv_v2/img_01365.csv\n",
            "/kaggle/input/2020mltermprojectbovw/test_csv_v2/img_00759.csv\n",
            "/kaggle/input/2020mltermprojectbovw/test_csv_v2/img_00316.csv\n",
            "/kaggle/input/2020mltermprojectbovw/test_csv_v2/img_01026.csv\n",
            "/kaggle/input/2020mltermprojectbovw/test_csv_v2/img_00198.csv\n",
            "/kaggle/input/2020mltermprojectbovw/test_csv_v2/img_00530.csv\n",
            "/kaggle/input/2020mltermprojectbovw/test_csv_v2/img_00493.csv\n",
            "/kaggle/input/2020mltermprojectbovw/test_csv_v2/img_00299.csv\n",
            "/kaggle/input/2020mltermprojectbovw/test_csv_v2/img_00586.csv\n",
            "/kaggle/input/2020mltermprojectbovw/test_csv_v2/img_01500.csv\n",
            "/kaggle/input/2020mltermprojectbovw/test_csv_v2/img_01585.csv\n",
            "/kaggle/input/2020mltermprojectbovw/test_csv_v2/img_00201.csv\n",
            "/kaggle/input/2020mltermprojectbovw/test_csv_v2/img_01195.csv\n",
            "/kaggle/input/2020mltermprojectbovw/test_csv_v2/img_00769.csv\n",
            "/kaggle/input/2020mltermprojectbovw/test_csv_v2/img_00050.csv\n",
            "/kaggle/input/2020mltermprojectbovw/test_csv_v2/img_01250.csv\n",
            "/kaggle/input/2020mltermprojectbovw/test_csv_v2/img_00175.csv\n",
            "/kaggle/input/2020mltermprojectbovw/test_csv_v2/img_00037.csv\n",
            "/kaggle/input/2020mltermprojectbovw/test_csv_v2/img_00718.csv\n",
            "/kaggle/input/2020mltermprojectbovw/test_csv_v2/img_00327.csv\n",
            "/kaggle/input/2020mltermprojectbovw/test_csv_v2/img_01479.csv\n",
            "/kaggle/input/2020mltermprojectbovw/test_csv_v2/img_00459.csv\n",
            "/kaggle/input/2020mltermprojectbovw/test_csv_v2/img_00256.csv\n",
            "/kaggle/input/2020mltermprojectbovw/test_csv_v2/img_00610.csv\n",
            "/kaggle/input/2020mltermprojectbovw/test_csv_v2/img_00977.csv\n",
            "/kaggle/input/2020mltermprojectbovw/test_csv_v2/img_01697.csv\n",
            "/kaggle/input/2020mltermprojectbovw/test_csv_v2/img_01275.csv\n",
            "/kaggle/input/2020mltermprojectbovw/test_csv_v2/img_01049.csv\n",
            "/kaggle/input/2020mltermprojectbovw/test_csv_v2/img_01391.csv\n",
            "/kaggle/input/2020mltermprojectbovw/test_csv_v2/img_01666.csv\n",
            "/kaggle/input/2020mltermprojectbovw/test_csv_v2/img_00314.csv\n",
            "/kaggle/input/2020mltermprojectbovw/test_csv_v2/img_01212.csv\n",
            "/kaggle/input/2020mltermprojectbovw/test_csv_v2/img_01032.csv\n",
            "/kaggle/input/2020mltermprojectbovw/test_csv_v2/img_01024.csv\n",
            "/kaggle/input/2020mltermprojectbovw/test_csv_v2/img_00194.csv\n",
            "/kaggle/input/2020mltermprojectbovw/test_csv_v2/img_01364.csv\n",
            "/kaggle/input/2020mltermprojectbovw/test_csv_v2/img_00649.csv\n",
            "/kaggle/input/2020mltermprojectbovw/test_csv_v2/img_00483.csv\n",
            "/kaggle/input/2020mltermprojectbovw/test_csv_v2/img_00837.csv\n",
            "/kaggle/input/2020mltermprojectbovw/test_csv_v2/img_01249.csv\n",
            "/kaggle/input/2020mltermprojectbovw/test_csv_v2/img_01702.csv\n",
            "/kaggle/input/2020mltermprojectbovw/test_csv_v2/img_00001.csv\n",
            "/kaggle/input/2020mltermprojectbovw/test_csv_v2/img_01641.csv\n",
            "/kaggle/input/2020mltermprojectbovw/test_csv_v2/img_01382.csv\n",
            "/kaggle/input/2020mltermprojectbovw/test_csv_v2/img_01387.csv\n",
            "/kaggle/input/2020mltermprojectbovw/test_csv_v2/img_00915.csv\n",
            "/kaggle/input/2020mltermprojectbovw/test_csv_v2/img_00324.csv\n",
            "/kaggle/input/2020mltermprojectbovw/test_csv_v2/img_00455.csv\n",
            "/kaggle/input/2020mltermprojectbovw/test_csv_v2/img_00464.csv\n",
            "/kaggle/input/2020mltermprojectbovw/test_csv_v2/img_00668.csv\n",
            "/kaggle/input/2020mltermprojectbovw/test_csv_v2/img_00613.csv\n",
            "/kaggle/input/2020mltermprojectbovw/test_csv_v2/img_00549.csv\n",
            "/kaggle/input/2020mltermprojectbovw/test_csv_v2/img_00663.csv\n",
            "/kaggle/input/2020mltermprojectbovw/test_csv_v2/img_01412.csv\n",
            "/kaggle/input/2020mltermprojectbovw/test_csv_v2/img_01388.csv\n",
            "/kaggle/input/2020mltermprojectbovw/test_csv_v2/img_01560.csv\n",
            "/kaggle/input/2020mltermprojectbovw/test_csv_v2/img_00099.csv\n",
            "/kaggle/input/2020mltermprojectbovw/test_csv_v2/img_01704.csv\n",
            "/kaggle/input/2020mltermprojectbovw/test_csv_v2/img_00441.csv\n",
            "/kaggle/input/2020mltermprojectbovw/test_csv_v2/img_00762.csv\n",
            "/kaggle/input/2020mltermprojectbovw/test_csv_v2/img_01045.csv\n",
            "/kaggle/input/2020mltermprojectbovw/test_csv_v2/img_01226.csv\n",
            "/kaggle/input/2020mltermprojectbovw/test_csv_v2/img_00392.csv\n",
            "/kaggle/input/2020mltermprojectbovw/test_csv_v2/img_00309.csv\n",
            "/kaggle/input/2020mltermprojectbovw/test_csv_v2/img_00930.csv\n",
            "/kaggle/input/2020mltermprojectbovw/test_csv_v2/img_01507.csv\n",
            "/kaggle/input/2020mltermprojectbovw/test_csv_v2/img_00727.csv\n",
            "/kaggle/input/2020mltermprojectbovw/test_csv_v2/img_01434.csv\n",
            "/kaggle/input/2020mltermprojectbovw/test_csv_v2/img_00355.csv\n",
            "/kaggle/input/2020mltermprojectbovw/test_csv_v2/img_01168.csv\n",
            "/kaggle/input/2020mltermprojectbovw/test_csv_v2/img_00294.csv\n",
            "/kaggle/input/2020mltermprojectbovw/test_csv_v2/img_00139.csv\n",
            "/kaggle/input/2020mltermprojectbovw/test_csv_v2/img_00642.csv\n",
            "/kaggle/input/2020mltermprojectbovw/test_csv_v2/img_01000.csv\n",
            "/kaggle/input/2020mltermprojectbovw/test_csv_v2/img_01258.csv\n",
            "/kaggle/input/2020mltermprojectbovw/test_csv_v2/img_01205.csv\n",
            "/kaggle/input/2020mltermprojectbovw/test_csv_v2/img_01558.csv\n",
            "/kaggle/input/2020mltermprojectbovw/test_csv_v2/img_00206.csv\n",
            "/kaggle/input/2020mltermprojectbovw/test_csv_v2/img_01095.csv\n",
            "/kaggle/input/2020mltermprojectbovw/test_csv_v2/img_00542.csv\n",
            "/kaggle/input/2020mltermprojectbovw/test_csv_v2/img_00540.csv\n",
            "/kaggle/input/2020mltermprojectbovw/test_csv_v2/img_00126.csv\n",
            "/kaggle/input/2020mltermprojectbovw/test_csv_v2/img_01112.csv\n",
            "/kaggle/input/2020mltermprojectbovw/test_csv_v2/img_00023.csv\n",
            "/kaggle/input/2020mltermprojectbovw/test_csv_v2/img_00505.csv\n",
            "/kaggle/input/2020mltermprojectbovw/test_csv_v2/img_00589.csv\n",
            "/kaggle/input/2020mltermprojectbovw/test_csv_v2/img_00089.csv\n",
            "/kaggle/input/2020mltermprojectbovw/test_csv_v2/img_01150.csv\n",
            "/kaggle/input/2020mltermprojectbovw/test_csv_v2/img_01450.csv\n",
            "/kaggle/input/2020mltermprojectbovw/test_csv_v2/img_00228.csv\n",
            "/kaggle/input/2020mltermprojectbovw/test_csv_v2/img_00264.csv\n",
            "/kaggle/input/2020mltermprojectbovw/test_csv_v2/img_00810.csv\n",
            "/kaggle/input/2020mltermprojectbovw/test_csv_v2/img_00383.csv\n",
            "/kaggle/input/2020mltermprojectbovw/test_csv_v2/img_01005.csv\n",
            "/kaggle/input/2020mltermprojectbovw/test_csv_v2/img_00132.csv\n",
            "/kaggle/input/2020mltermprojectbovw/test_csv_v2/img_00883.csv\n",
            "/kaggle/input/2020mltermprojectbovw/test_csv_v2/img_00096.csv\n",
            "/kaggle/input/2020mltermprojectbovw/test_csv_v2/img_01027.csv\n",
            "/kaggle/input/2020mltermprojectbovw/test_csv_v2/img_01536.csv\n",
            "/kaggle/input/2020mltermprojectbovw/test_csv_v2/img_00600.csv\n",
            "/kaggle/input/2020mltermprojectbovw/test_csv_v2/img_00213.csv\n",
            "/kaggle/input/2020mltermprojectbovw/test_csv_v2/img_00040.csv\n",
            "/kaggle/input/2020mltermprojectbovw/test_csv_v2/img_00384.csv\n",
            "/kaggle/input/2020mltermprojectbovw/test_csv_v2/img_00533.csv\n",
            "/kaggle/input/2020mltermprojectbovw/test_csv_v2/img_00923.csv\n",
            "/kaggle/input/2020mltermprojectbovw/test_csv_v2/img_00257.csv\n",
            "/kaggle/input/2020mltermprojectbovw/test_csv_v2/img_00612.csv\n",
            "/kaggle/input/2020mltermprojectbovw/test_csv_v2/img_00370.csv\n",
            "/kaggle/input/2020mltermprojectbovw/test_csv_v2/img_00491.csv\n",
            "/kaggle/input/2020mltermprojectbovw/test_csv_v2/img_00802.csv\n",
            "/kaggle/input/2020mltermprojectbovw/test_csv_v2/img_01385.csv\n",
            "/kaggle/input/2020mltermprojectbovw/test_csv_v2/img_00555.csv\n",
            "/kaggle/input/2020mltermprojectbovw/test_csv_v2/img_00991.csv\n",
            "/kaggle/input/2020mltermprojectbovw/test_csv_v2/img_01406.csv\n",
            "/kaggle/input/2020mltermprojectbovw/test_csv_v2/img_00106.csv\n",
            "/kaggle/input/2020mltermprojectbovw/test_csv_v2/img_00616.csv\n",
            "/kaggle/input/2020mltermprojectbovw/test_csv_v2/img_00536.csv\n",
            "/kaggle/input/2020mltermprojectbovw/test_csv_v2/img_00222.csv\n",
            "/kaggle/input/2020mltermprojectbovw/test_csv_v2/img_00002.csv\n",
            "/kaggle/input/2020mltermprojectbovw/test_csv_v2/img_01519.csv\n",
            "/kaggle/input/2020mltermprojectbovw/test_csv_v2/img_00313.csv\n",
            "/kaggle/input/2020mltermprojectbovw/test_csv_v2/img_00885.csv\n",
            "/kaggle/input/2020mltermprojectbovw/test_csv_v2/img_01465.csv\n",
            "/kaggle/input/2020mltermprojectbovw/test_csv_v2/img_00681.csv\n",
            "/kaggle/input/2020mltermprojectbovw/test_csv_v2/img_00907.csv\n",
            "/kaggle/input/2020mltermprojectbovw/test_csv_v2/img_00349.csv\n",
            "/kaggle/input/2020mltermprojectbovw/test_csv_v2/img_01655.csv\n",
            "/kaggle/input/2020mltermprojectbovw/test_csv_v2/img_00453.csv\n",
            "/kaggle/input/2020mltermprojectbovw/test_csv_v2/img_00354.csv\n",
            "/kaggle/input/2020mltermprojectbovw/test_csv_v2/img_00437.csv\n",
            "/kaggle/input/2020mltermprojectbovw/test_csv_v2/img_00161.csv\n",
            "/kaggle/input/2020mltermprojectbovw/test_csv_v2/img_01539.csv\n",
            "/kaggle/input/2020mltermprojectbovw/test_csv_v2/img_01019.csv\n",
            "/kaggle/input/2020mltermprojectbovw/test_csv_v2/img_01288.csv\n",
            "/kaggle/input/2020mltermprojectbovw/test_csv_v2/img_00719.csv\n",
            "/kaggle/input/2020mltermprojectbovw/test_csv_v2/img_00307.csv\n",
            "/kaggle/input/2020mltermprojectbovw/test_csv_v2/img_00235.csv\n",
            "/kaggle/input/2020mltermprojectbovw/test_csv_v2/img_00997.csv\n",
            "/kaggle/input/2020mltermprojectbovw/test_csv_v2/img_01307.csv\n",
            "/kaggle/input/2020mltermprojectbovw/test_csv_v2/img_01614.csv\n",
            "/kaggle/input/2020mltermprojectbovw/test_csv_v2/img_00265.csv\n",
            "/kaggle/input/2020mltermprojectbovw/test_csv_v2/img_00125.csv\n",
            "/kaggle/input/2020mltermprojectbovw/test_csv_v2/img_01362.csv\n",
            "/kaggle/input/2020mltermprojectbovw/test_csv_v2/img_00902.csv\n",
            "/kaggle/input/2020mltermprojectbovw/test_csv_v2/img_00706.csv\n",
            "/kaggle/input/2020mltermprojectbovw/test_csv_v2/img_00724.csv\n",
            "/kaggle/input/2020mltermprojectbovw/test_csv_v2/img_01088.csv\n",
            "/kaggle/input/2020mltermprojectbovw/test_csv_v2/img_01395.csv\n",
            "/kaggle/input/2020mltermprojectbovw/test_csv_v2/img_00044.csv\n",
            "/kaggle/input/2020mltermprojectbovw/test_csv_v2/img_01474.csv\n",
            "/kaggle/input/2020mltermprojectbovw/test_csv_v2/img_00380.csv\n",
            "/kaggle/input/2020mltermprojectbovw/test_csv_v2/img_01015.csv\n",
            "/kaggle/input/2020mltermprojectbovw/test_csv_v2/img_01407.csv\n",
            "/kaggle/input/2020mltermprojectbovw/test_csv_v2/img_00998.csv\n",
            "/kaggle/input/2020mltermprojectbovw/test_csv_v2/img_00637.csv\n",
            "/kaggle/input/2020mltermprojectbovw/test_csv_v2/img_00546.csv\n",
            "/kaggle/input/2020mltermprojectbovw/test_csv_v2/img_01318.csv\n",
            "/kaggle/input/2020mltermprojectbovw/test_csv_v2/img_01370.csv\n",
            "/kaggle/input/2020mltermprojectbovw/test_csv_v2/img_00223.csv\n",
            "/kaggle/input/2020mltermprojectbovw/test_csv_v2/img_01386.csv\n",
            "/kaggle/input/2020mltermprojectbovw/test_csv_v2/img_00538.csv\n",
            "/kaggle/input/2020mltermprojectbovw/test_csv_v2/img_00776.csv\n",
            "/kaggle/input/2020mltermprojectbovw/test_csv_v2/img_00641.csv\n",
            "/kaggle/input/2020mltermprojectbovw/test_csv_v2/img_00552.csv\n",
            "/kaggle/input/2020mltermprojectbovw/test_csv_v2/img_00022.csv\n",
            "/kaggle/input/2020mltermprojectbovw/test_csv_v2/img_00974.csv\n",
            "/kaggle/input/2020mltermprojectbovw/test_csv_v2/img_01079.csv\n",
            "/kaggle/input/2020mltermprojectbovw/test_csv_v2/img_00627.csv\n",
            "/kaggle/input/2020mltermprojectbovw/test_csv_v2/img_00475.csv\n",
            "/kaggle/input/2020mltermprojectbovw/test_csv_v2/img_00685.csv\n",
            "/kaggle/input/2020mltermprojectbovw/test_csv_v2/img_01690.csv\n",
            "/kaggle/input/2020mltermprojectbovw/test_csv_v2/img_00940.csv\n",
            "/kaggle/input/2020mltermprojectbovw/test_csv_v2/img_00407.csv\n",
            "/kaggle/input/2020mltermprojectbovw/test_csv_v2/img_01683.csv\n",
            "/kaggle/input/2020mltermprojectbovw/test_csv_v2/img_00474.csv\n",
            "/kaggle/input/2020mltermprojectbovw/test_csv_v2/img_01440.csv\n",
            "/kaggle/input/2020mltermprojectbovw/test_csv_v2/img_00325.csv\n",
            "/kaggle/input/2020mltermprojectbovw/test_csv_v2/img_00751.csv\n",
            "/kaggle/input/2020mltermprojectbovw/test_csv_v2/img_00114.csv\n",
            "/kaggle/input/2020mltermprojectbovw/test_csv_v2/img_00732.csv\n",
            "/kaggle/input/2020mltermprojectbovw/test_csv_v2/img_00928.csv\n",
            "/kaggle/input/2020mltermprojectbovw/test_csv_v2/img_01271.csv\n",
            "/kaggle/input/2020mltermprojectbovw/test_csv_v2/img_01534.csv\n",
            "/kaggle/input/2020mltermprojectbovw/test_csv_v2/img_01695.csv\n",
            "/kaggle/input/2020mltermprojectbovw/test_csv_v2/img_01531.csv\n",
            "/kaggle/input/2020mltermprojectbovw/test_csv_v2/img_01211.csv\n",
            "/kaggle/input/2020mltermprojectbovw/test_csv_v2/img_00893.csv\n",
            "/kaggle/input/2020mltermprojectbovw/test_csv_v2/img_00091.csv\n",
            "/kaggle/input/2020mltermprojectbovw/test_csv_v2/img_00932.csv\n",
            "/kaggle/input/2020mltermprojectbovw/test_csv_v2/img_00646.csv\n",
            "/kaggle/input/2020mltermprojectbovw/test_csv_v2/img_01099.csv\n",
            "/kaggle/input/2020mltermprojectbovw/test_csv_v2/img_00821.csv\n",
            "/kaggle/input/2020mltermprojectbovw/test_csv_v2/img_00773.csv\n",
            "/kaggle/input/2020mltermprojectbovw/test_csv_v2/img_01577.csv\n",
            "/kaggle/input/2020mltermprojectbovw/test_csv_v2/img_01566.csv\n",
            "/kaggle/input/2020mltermprojectbovw/test_csv_v2/img_00696.csv\n",
            "/kaggle/input/2020mltermprojectbovw/test_csv_v2/img_00643.csv\n",
            "/kaggle/input/2020mltermprojectbovw/test_csv_v2/img_01149.csv\n",
            "/kaggle/input/2020mltermprojectbovw/test_csv_v2/img_00363.csv\n",
            "/kaggle/input/2020mltermprojectbovw/test_csv_v2/img_00166.csv\n",
            "/kaggle/input/2020mltermprojectbovw/test_csv_v2/img_01470.csv\n",
            "/kaggle/input/2020mltermprojectbovw/test_csv_v2/img_00203.csv\n",
            "/kaggle/input/2020mltermprojectbovw/test_csv_v2/img_00060.csv\n",
            "/kaggle/input/2020mltermprojectbovw/test_csv_v2/img_00526.csv\n",
            "/kaggle/input/2020mltermprojectbovw/test_csv_v2/img_01442.csv\n",
            "/kaggle/input/2020mltermprojectbovw/test_csv_v2/img_00061.csv\n",
            "/kaggle/input/2020mltermprojectbovw/test_csv_v2/img_00988.csv\n",
            "/kaggle/input/2020mltermprojectbovw/test_csv_v2/img_01661.csv\n",
            "/kaggle/input/2020mltermprojectbovw/test_csv_v2/img_01238.csv\n",
            "/kaggle/input/2020mltermprojectbovw/test_csv_v2/img_00164.csv\n",
            "/kaggle/input/2020mltermprojectbovw/test_csv_v2/img_00339.csv\n",
            "/kaggle/input/2020mltermprojectbovw/test_csv_v2/img_01670.csv\n",
            "/kaggle/input/2020mltermprojectbovw/test_csv_v2/img_01477.csv\n",
            "/kaggle/input/2020mltermprojectbovw/test_csv_v2/img_00031.csv\n",
            "/kaggle/input/2020mltermprojectbovw/test_csv_v2/img_01083.csv\n",
            "/kaggle/input/2020mltermprojectbovw/test_csv_v2/img_00826.csv\n",
            "/kaggle/input/2020mltermprojectbovw/test_csv_v2/img_00503.csv\n",
            "/kaggle/input/2020mltermprojectbovw/test_csv_v2/img_00184.csv\n",
            "/kaggle/input/2020mltermprojectbovw/test_csv_v2/img_00094.csv\n",
            "/kaggle/input/2020mltermprojectbovw/test_csv_v2/img_01654.csv\n",
            "/kaggle/input/2020mltermprojectbovw/test_csv_v2/img_01321.csv\n",
            "/kaggle/input/2020mltermprojectbovw/test_csv_v2/img_00490.csv\n",
            "/kaggle/input/2020mltermprojectbovw/test_csv_v2/img_01086.csv\n",
            "/kaggle/input/2020mltermprojectbovw/test_csv_v2/img_00816.csv\n",
            "/kaggle/input/2020mltermprojectbovw/test_csv_v2/img_00029.csv\n",
            "/kaggle/input/2020mltermprojectbovw/test_csv_v2/img_01047.csv\n",
            "/kaggle/input/2020mltermprojectbovw/test_csv_v2/img_00082.csv\n",
            "/kaggle/input/2020mltermprojectbovw/test_csv_v2/img_01131.csv\n",
            "/kaggle/input/2020mltermprojectbovw/test_csv_v2/img_00617.csv\n",
            "/kaggle/input/2020mltermprojectbovw/test_csv_v2/img_01419.csv\n",
            "/kaggle/input/2020mltermprojectbovw/test_csv_v2/img_01345.csv\n",
            "/kaggle/input/2020mltermprojectbovw/test_csv_v2/img_01320.csv\n",
            "/kaggle/input/2020mltermprojectbovw/test_csv_v2/img_00618.csv\n",
            "/kaggle/input/2020mltermprojectbovw/test_csv_v2/img_01587.csv\n",
            "/kaggle/input/2020mltermprojectbovw/test_csv_v2/img_00209.csv\n",
            "/kaggle/input/2020mltermprojectbovw/test_csv_v2/img_00117.csv\n",
            "/kaggle/input/2020mltermprojectbovw/test_csv_v2/img_00420.csv\n",
            "/kaggle/input/2020mltermprojectbovw/test_csv_v2/img_01073.csv\n",
            "/kaggle/input/2020mltermprojectbovw/test_csv_v2/img_00170.csv\n",
            "/kaggle/input/2020mltermprojectbovw/test_csv_v2/img_01665.csv\n",
            "/kaggle/input/2020mltermprojectbovw/test_csv_v2/img_00711.csv\n",
            "/kaggle/input/2020mltermprojectbovw/test_csv_v2/img_01187.csv\n",
            "/kaggle/input/2020mltermprojectbovw/test_csv_v2/img_00212.csv\n",
            "/kaggle/input/2020mltermprojectbovw/test_csv_v2/img_00720.csv\n",
            "/kaggle/input/2020mltermprojectbovw/test_csv_v2/img_00807.csv\n",
            "/kaggle/input/2020mltermprojectbovw/test_csv_v2/img_00369.csv\n",
            "/kaggle/input/2020mltermprojectbovw/test_csv_v2/img_00183.csv\n",
            "/kaggle/input/2020mltermprojectbovw/test_csv_v2/img_01060.csv\n",
            "/kaggle/input/2020mltermprojectbovw/test_csv_v2/img_01634.csv\n",
            "/kaggle/input/2020mltermprojectbovw/test_csv_v2/img_00054.csv\n",
            "/kaggle/input/2020mltermprojectbovw/test_csv_v2/img_01640.csv\n",
            "/kaggle/input/2020mltermprojectbovw/test_csv_v2/img_01283.csv\n",
            "/kaggle/input/2020mltermprojectbovw/test_csv_v2/img_01432.csv\n",
            "/kaggle/input/2020mltermprojectbovw/test_csv_v2/img_00066.csv\n",
            "/kaggle/input/2020mltermprojectbovw/test_csv_v2/img_00010.csv\n",
            "/kaggle/input/2020mltermprojectbovw/test_csv_v2/img_00545.csv\n",
            "/kaggle/input/2020mltermprojectbovw/test_csv_v2/img_00215.csv\n",
            "/kaggle/input/2020mltermprojectbovw/test_csv_v2/img_00537.csv\n",
            "/kaggle/input/2020mltermprojectbovw/test_csv_v2/img_01270.csv\n",
            "/kaggle/input/2020mltermprojectbovw/test_csv_v2/img_00124.csv\n",
            "/kaggle/input/2020mltermprojectbovw/test_csv_v2/img_01063.csv\n",
            "/kaggle/input/2020mltermprojectbovw/test_csv_v2/img_01033.csv\n",
            "/kaggle/input/2020mltermprojectbovw/test_csv_v2/img_01622.csv\n",
            "/kaggle/input/2020mltermprojectbovw/test_csv_v2/img_01592.csv\n",
            "/kaggle/input/2020mltermprojectbovw/test_csv_v2/img_00553.csv\n",
            "/kaggle/input/2020mltermprojectbovw/test_csv_v2/img_00446.csv\n",
            "/kaggle/input/2020mltermprojectbovw/test_csv_v2/img_00138.csv\n",
            "/kaggle/input/2020mltermprojectbovw/test_csv_v2/img_00512.csv\n",
            "/kaggle/input/2020mltermprojectbovw/test_csv_v2/img_01050.csv\n",
            "/kaggle/input/2020mltermprojectbovw/test_csv_v2/img_01331.csv\n",
            "/kaggle/input/2020mltermprojectbovw/test_csv_v2/img_00716.csv\n",
            "/kaggle/input/2020mltermprojectbovw/test_csv_v2/img_00888.csv\n",
            "/kaggle/input/2020mltermprojectbovw/test_csv_v2/img_00456.csv\n",
            "/kaggle/input/2020mltermprojectbovw/test_csv_v2/img_00278.csv\n",
            "/kaggle/input/2020mltermprojectbovw/test_csv_v2/img_01484.csv\n",
            "/kaggle/input/2020mltermprojectbovw/test_csv_v2/img_00847.csv\n",
            "/kaggle/input/2020mltermprojectbovw/test_csv_v2/img_00543.csv\n",
            "/kaggle/input/2020mltermprojectbovw/test_csv_v2/img_01194.csv\n",
            "/kaggle/input/2020mltermprojectbovw/test_csv_v2/img_00208.csv\n",
            "/kaggle/input/2020mltermprojectbovw/test_csv_v2/img_00492.csv\n",
            "/kaggle/input/2020mltermprojectbovw/test_csv_v2/img_01530.csv\n",
            "/kaggle/input/2020mltermprojectbovw/test_csv_v2/img_00665.csv\n",
            "/kaggle/input/2020mltermprojectbovw/test_csv_v2/img_01394.csv\n",
            "/kaggle/input/2020mltermprojectbovw/test_csv_v2/img_00051.csv\n",
            "/kaggle/input/2020mltermprojectbovw/test_csv_v2/img_01459.csv\n",
            "/kaggle/input/2020mltermprojectbovw/test_csv_v2/img_00697.csv\n",
            "/kaggle/input/2020mltermprojectbovw/test_csv_v2/img_01627.csv\n",
            "/kaggle/input/2020mltermprojectbovw/test_csv_v2/img_00290.csv\n",
            "/kaggle/input/2020mltermprojectbovw/test_csv_v2/img_00756.csv\n",
            "/kaggle/input/2020mltermprojectbovw/test_csv_v2/img_00326.csv\n",
            "/kaggle/input/2020mltermprojectbovw/test_csv_v2/img_00318.csv\n",
            "/kaggle/input/2020mltermprojectbovw/test_csv_v2/img_00030.csv\n",
            "/kaggle/input/2020mltermprojectbovw/test_csv_v2/img_01544.csv\n",
            "/kaggle/input/2020mltermprojectbovw/test_csv_v2/img_00078.csv\n",
            "/kaggle/input/2020mltermprojectbovw/test_csv_v2/img_00914.csv\n",
            "/kaggle/input/2020mltermprojectbovw/test_csv_v2/img_00852.csv\n",
            "/kaggle/input/2020mltermprojectbovw/test_csv_v2/img_01037.csv\n",
            "/kaggle/input/2020mltermprojectbovw/test_csv_v2/img_00167.csv\n",
            "/kaggle/input/2020mltermprojectbovw/test_csv_v2/img_01669.csv\n",
            "/kaggle/input/2020mltermprojectbovw/test_csv_v2/img_01513.csv\n",
            "/kaggle/input/2020mltermprojectbovw/test_csv_v2/img_01317.csv\n",
            "/kaggle/input/2020mltermprojectbovw/test_csv_v2/img_00358.csv\n",
            "/kaggle/input/2020mltermprojectbovw/test_csv_v2/img_00931.csv\n",
            "/kaggle/input/2020mltermprojectbovw/test_csv_v2/img_01327.csv\n",
            "/kaggle/input/2020mltermprojectbovw/test_csv_v2/img_00770.csv\n",
            "/kaggle/input/2020mltermprojectbovw/test_csv_v2/img_01514.csv\n",
            "/kaggle/input/2020mltermprojectbovw/test_csv_v2/img_01688.csv\n",
            "/kaggle/input/2020mltermprojectbovw/test_csv_v2/img_00101.csv\n",
            "/kaggle/input/2020mltermprojectbovw/test_csv_v2/img_00661.csv\n",
            "/kaggle/input/2020mltermprojectbovw/test_csv_v2/img_00731.csv\n",
            "/kaggle/input/2020mltermprojectbovw/test_csv_v2/img_00981.csv\n",
            "/kaggle/input/2020mltermprojectbovw/test_csv_v2/img_01122.csv\n",
            "/kaggle/input/2020mltermprojectbovw/test_csv_v2/img_00224.csv\n",
            "/kaggle/input/2020mltermprojectbovw/test_csv_v2/img_00320.csv\n",
            "/kaggle/input/2020mltermprojectbovw/test_csv_v2/img_01562.csv\n",
            "/kaggle/input/2020mltermprojectbovw/test_csv_v2/img_00971.csv\n",
            "/kaggle/input/2020mltermprojectbovw/test_csv_v2/img_00157.csv\n",
            "/kaggle/input/2020mltermprojectbovw/test_csv_v2/img_01392.csv\n",
            "/kaggle/input/2020mltermprojectbovw/test_csv_v2/img_00261.csv\n",
            "/kaggle/input/2020mltermprojectbovw/test_csv_v2/img_00263.csv\n",
            "/kaggle/input/2020mltermprojectbovw/test_csv_v2/img_00836.csv\n",
            "/kaggle/input/2020mltermprojectbovw/test_csv_v2/img_00671.csv\n",
            "/kaggle/input/2020mltermprojectbovw/test_csv_v2/img_00901.csv\n",
            "/kaggle/input/2020mltermprojectbovw/test_csv_v2/img_01298.csv\n",
            "/kaggle/input/2020mltermprojectbovw/test_csv_v2/img_00004.csv\n",
            "/kaggle/input/2020mltermprojectbovw/test_csv_v2/img_01067.csv\n",
            "/kaggle/input/2020mltermprojectbovw/test_csv_v2/img_00058.csv\n",
            "/kaggle/input/2020mltermprojectbovw/test_csv_v2/img_01020.csv\n",
            "/kaggle/input/2020mltermprojectbovw/test_csv_v2/img_00872.csv\n",
            "/kaggle/input/2020mltermprojectbovw/test_csv_v2/img_00140.csv\n",
            "/kaggle/input/2020mltermprojectbovw/test_csv_v2/img_01678.csv\n",
            "/kaggle/input/2020mltermprojectbovw/test_csv_v2/img_00344.csv\n",
            "/kaggle/input/2020mltermprojectbovw/test_csv_v2/img_00581.csv\n",
            "/kaggle/input/2020mltermprojectbovw/test_csv_v2/img_01206.csv\n",
            "/kaggle/input/2020mltermprojectbovw/test_csv_v2/img_00149.csv\n",
            "/kaggle/input/2020mltermprojectbovw/test_csv_v2/img_00107.csv\n",
            "/kaggle/input/2020mltermprojectbovw/test_csv_v2/img_00606.csv\n",
            "/kaggle/input/2020mltermprojectbovw/test_csv_v2/img_00747.csv\n",
            "/kaggle/input/2020mltermprojectbovw/test_csv_v2/img_00064.csv\n",
            "/kaggle/input/2020mltermprojectbovw/test_csv_v2/img_01368.csv\n",
            "/kaggle/input/2020mltermprojectbovw/test_csv_v2/img_01613.csv\n",
            "/kaggle/input/2020mltermprojectbovw/test_csv_v2/img_01596.csv\n",
            "/kaggle/input/2020mltermprojectbovw/test_csv_v2/img_01487.csv\n",
            "/kaggle/input/2020mltermprojectbovw/test_csv_v2/img_01294.csv\n",
            "/kaggle/input/2020mltermprojectbovw/test_csv_v2/img_00419.csv\n",
            "/kaggle/input/2020mltermprojectbovw/test_csv_v2/img_01014.csv\n",
            "/kaggle/input/2020mltermprojectbovw/test_csv_v2/img_00830.csv\n",
            "/kaggle/input/2020mltermprojectbovw/test_csv_v2/img_00185.csv\n",
            "/kaggle/input/2020mltermprojectbovw/test_csv_v2/img_00653.csv\n",
            "/kaggle/input/2020mltermprojectbovw/test_csv_v2/img_00035.csv\n",
            "/kaggle/input/2020mltermprojectbovw/test_csv_v2/img_01564.csv\n",
            "/kaggle/input/2020mltermprojectbovw/test_csv_v2/img_00820.csv\n",
            "/kaggle/input/2020mltermprojectbovw/test_csv_v2/img_01166.csv\n",
            "/kaggle/input/2020mltermprojectbovw/test_csv_v2/img_00576.csv\n",
            "/kaggle/input/2020mltermprojectbovw/test_csv_v2/img_01675.csv\n",
            "/kaggle/input/2020mltermprojectbovw/test_csv_v2/img_01443.csv\n",
            "/kaggle/input/2020mltermprojectbovw/test_csv_v2/img_00401.csv\n",
            "/kaggle/input/2020mltermprojectbovw/test_csv_v2/img_01143.csv\n"
          ],
          "name": "stdout"
        }
      ]
    },
    {
      "cell_type": "markdown",
      "metadata": {
        "papermill": {
          "duration": 0.062831,
          "end_time": "2020-12-10T14:31:41.555104",
          "exception": false,
          "start_time": "2020-12-10T14:31:41.492273",
          "status": "completed"
        },
        "tags": [],
        "id": "AzwexYP38u_e"
      },
      "source": [
        "## [라이브러리 설치] 컴퓨터 비전의 대표 라이브러리 [OpenCV](https://opencv.org/) \n",
        "Opencv는 다양한 영상/동영상 처리에 사용할 수 있는 오픈소스 라이브러리. 이미지 데이터를 처리하기 위한 다양한 함수를 제공하고 있으며, 본 프로젝트에서는 영상의 칼라 변환(RGB영상을 회색영상 변환)시, 특징량 추출(SIFT)시 사용됩니다. OpenCV는 C++로 구현되어 있으며, 파이썬 Wrapper를 제공하고 있어 파이썬에서도 사용가능합니다. JupyterNotebook 환경에서는 import cv2로 불러 와서 사용할 수 있습니다. 현재 Kaggle 노트북 개발 환경에 설치된 OpenCV 라이브러리로는 우리의 프로젝트를 원활하게 수행할 수 없으므로, 아래와 같이 기조에 설치된 OpenCV 라이브러리를 제거하고 우리에게 맞는 버전을 설치합니다."
      ]
    },
    {
      "cell_type": "code",
      "metadata": {
        "execution": {
          "iopub.execute_input": "2020-12-10T14:31:41.650954Z",
          "iopub.status.busy": "2020-12-10T14:31:41.650060Z",
          "iopub.status.idle": "2020-12-10T14:32:10.708719Z",
          "shell.execute_reply": "2020-12-10T14:32:10.707485Z"
        },
        "papermill": {
          "duration": 29.11389,
          "end_time": "2020-12-10T14:32:10.708871",
          "exception": false,
          "start_time": "2020-12-10T14:31:41.594981",
          "status": "completed"
        },
        "tags": [],
        "id": "Xf5Eh1IC8u_f",
        "outputId": "32632a23-8c3a-4655-fffb-f6eb0792ef6c"
      },
      "source": [
        "# 현재 opencv 코드는 3.4.2.17 에 맞춰서 작성되어 있어 버전을 맞추는 작업이 필요하다. \n",
        "\n",
        "!pip3 uninstall --y opencv-python\n",
        "!pip3 uninstall --y opencv-contrib-python\n",
        "!pip3 install opencv-python==3.4.2.17\n",
        "!pip3 install opencv-contrib-python==3.4.2.17"
      ],
      "execution_count": null,
      "outputs": [
        {
          "output_type": "stream",
          "text": [
            "Found existing installation: opencv-python 4.4.0.44\r\n",
            "Uninstalling opencv-python-4.4.0.44:\r\n",
            "  Successfully uninstalled opencv-python-4.4.0.44\r\n",
            "\u001b[33mWARNING: Skipping opencv-contrib-python as it is not installed.\u001b[0m\r\n",
            "Collecting opencv-python==3.4.2.17\r\n",
            "  Downloading opencv_python-3.4.2.17-cp37-cp37m-manylinux1_x86_64.whl (25.0 MB)\r\n",
            "\u001b[K     |████████████████████████████████| 25.0 MB 21.1 MB/s \r\n",
            "\u001b[?25hRequirement already satisfied: numpy>=1.14.5 in /opt/conda/lib/python3.7/site-packages (from opencv-python==3.4.2.17) (1.18.5)\r\n",
            "Installing collected packages: opencv-python\r\n",
            "Successfully installed opencv-python-3.4.2.17\r\n",
            "\u001b[33mWARNING: You are using pip version 20.2.4; however, version 20.3.1 is available.\r\n",
            "You should consider upgrading via the '/opt/conda/bin/python3.7 -m pip install --upgrade pip' command.\u001b[0m\r\n",
            "Collecting opencv-contrib-python==3.4.2.17\r\n",
            "  Downloading opencv_contrib_python-3.4.2.17-cp37-cp37m-manylinux1_x86_64.whl (30.6 MB)\r\n",
            "\u001b[K     |████████████████████████████████| 30.6 MB 27.5 MB/s \r\n",
            "\u001b[?25hRequirement already satisfied: numpy>=1.14.5 in /opt/conda/lib/python3.7/site-packages (from opencv-contrib-python==3.4.2.17) (1.18.5)\r\n",
            "Installing collected packages: opencv-contrib-python\r\n",
            "Successfully installed opencv-contrib-python-3.4.2.17\r\n",
            "\u001b[33mWARNING: You are using pip version 20.2.4; however, version 20.3.1 is available.\r\n",
            "You should consider upgrading via the '/opt/conda/bin/python3.7 -m pip install --upgrade pip' command.\u001b[0m\r\n"
          ],
          "name": "stdout"
        }
      ]
    },
    {
      "cell_type": "code",
      "metadata": {
        "execution": {
          "iopub.execute_input": "2020-12-10T14:32:10.955650Z",
          "iopub.status.busy": "2020-12-10T14:32:10.954799Z",
          "iopub.status.idle": "2020-12-10T14:32:11.024441Z",
          "shell.execute_reply": "2020-12-10T14:32:11.024928Z"
        },
        "papermill": {
          "duration": 0.164044,
          "end_time": "2020-12-10T14:32:11.025062",
          "exception": false,
          "start_time": "2020-12-10T14:32:10.861018",
          "status": "completed"
        },
        "tags": [],
        "id": "9dTP6tU38u_f",
        "outputId": "a3cad7b7-c55b-4829-8903-4bc070e69124"
      },
      "source": [
        "import cv2\n",
        "cv2.__version__"
      ],
      "execution_count": null,
      "outputs": [
        {
          "output_type": "execute_result",
          "data": {
            "text/plain": [
              "'3.4.2'"
            ]
          },
          "metadata": {
            "tags": []
          },
          "execution_count": 3
        }
      ]
    },
    {
      "cell_type": "code",
      "metadata": {
        "execution": {
          "iopub.execute_input": "2020-12-10T14:32:11.193777Z",
          "iopub.status.busy": "2020-12-10T14:32:11.192905Z",
          "iopub.status.idle": "2020-12-10T14:32:12.212875Z",
          "shell.execute_reply": "2020-12-10T14:32:12.211510Z"
        },
        "papermill": {
          "duration": 1.108672,
          "end_time": "2020-12-10T14:32:12.212995",
          "exception": false,
          "start_time": "2020-12-10T14:32:11.104323",
          "status": "completed"
        },
        "tags": [],
        "id": "8wUl2HKP8u_g"
      },
      "source": [
        "# OpenCV를 사용하기 위해 Import한다.\n",
        "import cv2\n",
        "\n",
        "import os\n",
        "import numpy as np\n",
        "from sklearn.cluster import KMeans\n",
        "from sklearn import preprocessing\n",
        "from sklearn.svm import LinearSVC\n",
        "from sklearn.metrics import classification_report\n",
        "from sklearn.model_selection import GridSearchCV\n",
        "from sklearn import svm\n",
        "import pandas as pd\n",
        "from tqdm import tqdm\n",
        "import scipy.cluster.vq as vq"
      ],
      "execution_count": null,
      "outputs": []
    },
    {
      "cell_type": "markdown",
      "metadata": {
        "papermill": {
          "duration": 0.07522,
          "end_time": "2020-12-10T14:32:12.364862",
          "exception": false,
          "start_time": "2020-12-10T14:32:12.289642",
          "status": "completed"
        },
        "tags": [],
        "id": "S3PUaaho8u_g"
      },
      "source": [
        "# >> 필요한 모듈 부분 (function 부)"
      ]
    },
    {
      "cell_type": "markdown",
      "metadata": {
        "papermill": {
          "duration": 0.110737,
          "end_time": "2020-12-10T14:32:12.564542",
          "exception": false,
          "start_time": "2020-12-10T14:32:12.453805",
          "status": "completed"
        },
        "tags": [],
        "id": "VJlLW8jk8u_g"
      },
      "source": [
        "# [Empty Module #1] 데이터 불러오기 \n",
        "\n",
        "### 목표: 지금부터 1D 데이터 형테로 변환하여 저장되어 있는 csv 파일을 읽고, 학습/테스트 데이터를 변수(메모리)에 저장하는 코드를 작성하기로 한다.\n",
        "- 1) 클래스 명을 범주형 라벨로 변환하는 작업을 진행한다. \n",
        "  - (팁) 클래스 명: 저장된 CSV파일의 상위 폴더 이름, 범주형 라벨: Label2Names.csv에 있는 매핑 표\n",
        "  - (예) \"crocodile_head\" -> 30\n",
        "  - (주의) \"BACKGROUND_Google\" 는 Label2Names.csv 안에 없므며, 배경클래스는 102로 맵핑하여 사용하라\n",
        "- 2) 특징점을 추출하기 위해서는 1D 데이터를 2D 형태인 RGB 데이터로 변환이 필요하다. 이와 같이 데이터의 형태를 변환할 때는 reshape 함수를 사용하라.\n",
        "- 3) 그리고 uint64로 제공된 데이터를 uint8로 변경하여 사용한다. 이때 np.uint8 을 사용하라.\n",
        "- 4) 특징점을 추출하는 OpenCV 함수들은 입력으로 칼라 영상이 아닌 Gray 영상을 입력으로 받으므로 영상 칼라를 변환한다. \n",
        " - 현재 제공된 영상 데이터는 칼라 포멧으로 BGR 포맷을 사용하고 있다. (일반적으로 칼라 영상은 RGB 이다.)\n",
        " - 이때 [cv2.cvtcolor() 라는 함수](https://opencv-python.readthedocs.io/en/latest/doc/08.imageProcessing/imageProcessing.html)를 사용하고, flag로 cv2.COLOR_BGR2GRAY 를 사용하라. "
      ]
    },
    {
      "cell_type": "code",
      "metadata": {
        "execution": {
          "iopub.execute_input": "2020-12-10T14:32:12.827527Z",
          "iopub.status.busy": "2020-12-10T14:32:12.824565Z",
          "iopub.status.idle": "2020-12-10T14:32:12.833646Z",
          "shell.execute_reply": "2020-12-10T14:32:12.834316Z"
        },
        "papermill": {
          "duration": 0.151806,
          "end_time": "2020-12-10T14:32:12.834480",
          "exception": false,
          "start_time": "2020-12-10T14:32:12.682674",
          "status": "completed"
        },
        "tags": [],
        "id": "yFglS3Y18u_g"
      },
      "source": [
        "# -------------------------------------\n",
        "# [Empty Module #1] 학습데이터, 테스트 데이터 불러오기 \n",
        "# -------------------------------------\n",
        "\n",
        "\n",
        "# -------------------------------------\n",
        "# loadtrain(dataroottrain): <= 코드를 추가하여 학습데이터를 불러오는 코드를 완성하세요\n",
        "# -------------------------------------\n",
        "# 목적: 학습데이터 불러오기\n",
        "# 입력인자: dataroottrain - 학습 데이터 경로\n",
        "# 출력인자: traindata - 학습데이터(2D img)\n",
        "#          trainlabel - 학습데이터의 라벨 \n",
        "# -------------------------------------\n",
        "\n",
        "def loadtrain(dataroottrain):\n",
        "    trainlabel=[]\n",
        "    traindata=[]\n",
        "\n",
        "    for classname in tqdm(os.listdir(dataroottrain)):\n",
        "        # ------------------------------------------------------------\n",
        "        # 구현 가이드라인  (1)\n",
        "        # ------------------------------------------------------------\n",
        "        #if classname 이 \"BACKGROUND_Google\" 이라면 \n",
        "        #   trainlabel에 102가 현재 클래스의 Index\n",
        "        #else\n",
        "        #   classname 을 df_data 속에서 찾은 다음 그에 해당하는 index가 현재 클래스의 Index \n",
        "        # ------------------------------------------------------------\n",
        "        # 구현 가이드라인을 참고하여 아래쪽에 코드를 추가하라\n",
        "        \n",
        "        if classname == 'BACKGROUND_Google':\n",
        "            curInd = 102\n",
        "        else:\n",
        "            curInd = df_data[df_data[1].isin([classname])][0]\n",
        "            \n",
        "        for csvname in os.listdir(os.path.join(dataroottrain,classname)):\n",
        "            # ------------------------------------------------------------\n",
        "            # 구현 가이드라인 (2)\n",
        "            # ------------------------------------------------------------\n",
        "            # 1) trainlabel에 현재 클래스 index를 append\n",
        "            # 2) csvpath= dataroottrain -> classname -> csvname Tip) os.path.join을 사용해 csvpath 설정\n",
        "            # 3) pd.read_csv를 이용해 csv 읽어온후 np.array를 사용해 numpy 변수로 변환\n",
        "            # 4) csv를 읽으면 matrix는 현재 [256*256*3,] 차원임 이를 [256,256,3] 으로 변경 Tip) np.reshape 함수 사용\n",
        "            # 5) np.uint8을 이용해 타입변경\n",
        "            # 6) cv2.cvtColor 를 사용해 영상의 차원을 변경 Tip:)cv2.COLOR_BGR2GRAY를 인자로 사용 \n",
        "            # 7) traindata에 변경된 데이터 append\n",
        "            # ------------------------------------------------------------\n",
        "            # 구현 가이드라인을 참고하여 아래쪽에 코드를 추가하라\n",
        "            # 1) trainlabel에 현재 클래스 index를 append\n",
        "            trainlabel.append(curInd) #df_data[df_data[1].isin([classname])][0])\n",
        "            # 2) csvpath= dataroottrain -> classname -> csvname Tip) os.path.join을 사용해 csvpath 설정\n",
        "            csvpath=os.path.join(dataroottrain,classname,csvname)\n",
        "            # 3) pd.read_csv를 이용해 csv 읽어온후 np.array를 사용해 numpy 변수로 변환\n",
        "            df_frame = pd.read_csv(csvpath)\n",
        "            df_frame = np.array(df_frame)\n",
        "            # 4) csv를 읽으면 matrix는 현재 [256*256*3,] 차원임 이를 [256,256,3] 으로 변경 Tip) np.reshape 함수 사용\n",
        "            df_frame = df_frame.reshape(256,256,3)\n",
        "            # 5) np.uint8을 이용해 타입변경\n",
        "            df_frame = np.uint8(df_frame)\n",
        "            # 6) cv2.cvtColor 를 사용해 영상의 차원을 변경 Tip:)cv2.COLOR_BGR2GRAY를 인자로 사용 \n",
        "            df_frame = cv2.cvtColor(df_frame,cv2.COLOR_BGR2GRAY)\n",
        "            # 7) traindata에 변경된 데이터 append\n",
        "            traindata.append(df_frame)\n",
        "            \n",
        "    return traindata,trainlabel\n",
        "\n",
        "\n",
        "\n",
        "# -------------------------------------\n",
        "# loadtest(dataroottest): <= 코드를 추가하여 데스트 데이터를 불러오는 코드를 완성하세요\n",
        "# -------------------------------------\n",
        "# 목적: 테스트데이터 불러오기\n",
        "# 입력인자: dataroottest - 테스트 데이터 경로\n",
        "# 출력인자: testdata - 테스트데이터(2D img)\n",
        "#          testlabel - 테스트데이터의 파일 제목  \n",
        "# -------------------------------------\n",
        "def loadtest(dataroottest):\n",
        "    testlabel=[]\n",
        "    testdata=[]\n",
        "    testsort=sorted(os.listdir(dataroottest))\n",
        "    for csvname in tqdm(testsort):\n",
        "        # ------------------------------------------------------------\n",
        "        # 구현 가이드라인\n",
        "        # ------------------------------------------------------------\n",
        "        # 1) csvpath= dataroottest -> csvname Tip) os.path.join을 사용해 csvpath 설정 \n",
        "        # 2) pd.read_csv를 이용해 csv 읽어온후 np.array를 사용해 numpy 변수로 변환\n",
        "        # 3) csv를 읽으면 matrix는 현재 [256*256*3,] 차원임 이를 [256,256,3] 으로 변경 Tip) np.reshape 함수 사용\n",
        "        # 4) np.uint8을 이용해 타입변경\n",
        "        # 5) cv2.cvtColor 를 사용해 영상의 차원을 변경 Tip:)cv2.COLOR_BGR2GRAY를 인자로 사용 \n",
        "        # 6) testdata에 변경된 데이터 append\n",
        "        # ------------------------------------------------------------\n",
        "        # 구현 가이드라인을 참고하여 아래쪽에 코드를 추가하라 \n",
        "        \n",
        "        # 1) csvpath= dataroottest -> csvname Tip) os.path.join을 사용해 csvpath 설정\n",
        "        csvpath = os.path.join(dataroottest,csvname)\n",
        "        print(csvname)\n",
        "        testlabel.append(csvname)\n",
        "        # 2) pd.read_csv를 이용해 csv 읽어온후 np.array를 사용해 numpy 변수로 변환\n",
        "        df_frame = pd.read_csv(csvpath)\n",
        "        df_frame = np.array(df_frame)\n",
        "        # 3) csv를 읽으면 matrix는 현재 [256*256*3,] 차원임 이를 [256,256,3] 으로 변경 Tip) np.reshape 함수 사용\n",
        "        df_frame = df_frame.reshape(256,256,3)\n",
        "        # 4) np.uint8을 이용해 타입변경\n",
        "        df_frame = np.uint8(df_frame)\n",
        "        # 5) cv2.cvtColor 를 사용해 영상의 차원을 변경 Tip:)cv2.COLOR_BGR2GRAY를 인자로 사용 \n",
        "        df_frame = cv2.cvtColor(df_frame,cv2.COLOR_BGR2GRAY)\n",
        "        # 6) testdata에 변경된 데이터 append          \n",
        "        testdata.append(df_frame)\n",
        "        \n",
        "    return testdata,testlabel\n"
      ],
      "execution_count": null,
      "outputs": []
    },
    {
      "cell_type": "markdown",
      "metadata": {
        "papermill": {
          "duration": 0.096311,
          "end_time": "2020-12-10T14:32:13.049824",
          "exception": false,
          "start_time": "2020-12-10T14:32:12.953513",
          "status": "completed"
        },
        "tags": [],
        "id": "XdF3ifF58u_h"
      },
      "source": [
        "# [Empty Module #2] 특징점 추출하기 (Dense-SIFT)\n",
        "- ```extract_sift_descriptors``` 함수를 바탕으로 ```extract_DenseSift_descriptors``` 함수 작성\n",
        "- SIFT의 detect 함수와 compute 함수를 활용한다.\n",
        "- SIFT의 detect 함수는 특징점 위치를 추출하는 함수이고, compute 함수는 특징점 위치 주변 정보를 추출하는 함수이다.\n",
        "- [참고 메뉴얼](https://docs.opencv.org/3.4/d0/d13/classcv_1_1Feature2D.html#ab3cce8d56f4fc5e1d530b5931e1e8dc0) 참고  \n",
        "    "
      ]
    },
    {
      "cell_type": "code",
      "metadata": {
        "execution": {
          "iopub.execute_input": "2020-12-10T14:32:13.294420Z",
          "iopub.status.busy": "2020-12-10T14:32:13.293449Z",
          "iopub.status.idle": "2020-12-10T14:32:13.306800Z",
          "shell.execute_reply": "2020-12-10T14:32:13.307821Z"
        },
        "papermill": {
          "duration": 0.138457,
          "end_time": "2020-12-10T14:32:13.307979",
          "exception": false,
          "start_time": "2020-12-10T14:32:13.169522",
          "status": "completed"
        },
        "tags": [],
        "id": "no0Y6Tv-8u_i"
      },
      "source": [
        "# -------------------------------------\n",
        "# [Empty Module #2] 특징점 추출하기 (Dense-SIFT 사용)\n",
        "# -------------------------------------\n",
        "\n",
        "\n",
        "# -------------------------------------\n",
        "# extract_sift_descriptors(img): <= 수정하지 말고 Dense-SIFT를 위해 참고하세요\n",
        "# -------------------------------------\n",
        "# 목적: SIFT 특징점 추출을 위한 함수\n",
        "# 입력인자: img - 2D 흑백 영상 [256,256]\n",
        "# 출력인자: descriptors - SIFT 기술자\n",
        "# -------------------------------------\n",
        "def extract_sift_descriptors(img):\n",
        "    \n",
        "    # SIFT 인스턴스 생성\n",
        "    sift = cv2.xfeatures2d.SIFT_create()\n",
        "    # SIFT를 이용하여 특징점 위치 추출\n",
        "    keypoints = sift.detect(img,None)\n",
        "    # img의 type을 uint8로 변환 \n",
        "    img=np.uint8(img)\n",
        "    # SIFT를 이용하여 추출된 위치 주변 정보인 기술자 추출\n",
        "    _,descriptors = sift.compute(img,keypoints)\n",
        "    # SIFT 기술자 반환\n",
        "    return descriptors\n",
        "\n",
        "\n",
        "# -------------------------------------\n",
        "# extract_DenseSift_descriptors(img): <= 코드를 추가하여 Dense-SIFT를 추출하는 코드를 완성하세요\n",
        "# -------------------------------------\n",
        "# 목적: Dense-SIFT 특징점 추출을 위한 함수\n",
        "# 입력인자: img - 2D 흑백 영상 [256,256]\n",
        "# 출력인자: descriptors - Dense-SIFT 기술자\n",
        "# -------------------------------------\n",
        "def extract_DenseSift_descriptors(img):\n",
        "\n",
        "    # ------------------------------------------------------------\n",
        "    # 1) SIFT 인스턴스 생성\n",
        "    # ------------------------------------------------------------\n",
        "    # 구현 가이드라인을 참고하여 아래쪽에 코드를 추가하라\n",
        "    sift = cv2.xfeatures2d.SIFT_create()\n",
        "    \n",
        "    # SIFT 기술자를 추출하고 싶은 특징점 위치 정의하기\n",
        "    keypoints = [cv2.KeyPoint(x, y, DSIFT_STEP_SIZE)\n",
        "            for y in range(0, img.shape[0], DSIFT_STEP_SIZE)\n",
        "                for x in range(0, img.shape[1], DSIFT_STEP_SIZE)]\n",
        "    \n",
        "\n",
        "    # ------------------------------------------------------------\n",
        "    # 2) SIFT를 이용하여 Dense SIFT를 추출하시오. (단, Keypoints는 Dense-SIFT의 사전정의된 위치 정보를 담고 있음)\n",
        "    # ------------------------------------------------------------\n",
        "    # 구현 가이드라인을 참고하여 아래쪽에 코드를 추가하라\n",
        "    _,descriptors=sift.compute(img,keypoints)\n",
        "    \n",
        "    \n",
        "    \n",
        "    return descriptors\n"
      ],
      "execution_count": null,
      "outputs": []
    },
    {
      "cell_type": "markdown",
      "metadata": {
        "papermill": {
          "duration": 0.122749,
          "end_time": "2020-12-10T14:32:13.550023",
          "exception": false,
          "start_time": "2020-12-10T14:32:13.427274",
          "status": "completed"
        },
        "tags": [],
        "id": "dFQG0Pdk8u_i"
      },
      "source": [
        "## [Empty Module #3] Codebook 생성\n",
        "\n",
        "- 1) 추출한 Dense-SIFT의 특징량(기술자)을 이용하여 Codebook 을 생성한다\n",
        "  - (팁) sckikit-learn에 있는 Kmeans 사용할 것 [메뉴얼](https://scikit-learn.org/stable/modules/generated/sklearn.cluster.KMeans.html)\n",
        "  - 1) X를 [3060 * 1024,128]로 reshape 할 것 **\n",
        "  - 2) Kmeans의 Cluster 갯수(voc_size)를 입력으로 Kmeans를 정의한 후\n",
        "  - 3) X(data) 를 fit\n",
        "  - kmeans center를 return \n"
      ]
    },
    {
      "cell_type": "code",
      "metadata": {
        "execution": {
          "iopub.execute_input": "2020-12-10T14:32:13.811539Z",
          "iopub.status.busy": "2020-12-10T14:32:13.810384Z",
          "iopub.status.idle": "2020-12-10T14:32:25.887266Z",
          "shell.execute_reply": "2020-12-10T14:32:25.886733Z"
        },
        "papermill": {
          "duration": 12.21018,
          "end_time": "2020-12-10T14:32:25.887383",
          "exception": false,
          "start_time": "2020-12-10T14:32:13.677203",
          "status": "completed"
        },
        "tags": [],
        "id": "nFHw_aAY8u_i",
        "outputId": "cc62c69d-800d-4538-a2aa-868688926164"
      },
      "source": [
        "!pip install faiss-gpu"
      ],
      "execution_count": null,
      "outputs": [
        {
          "output_type": "stream",
          "text": [
            "Collecting faiss-gpu\r\n",
            "  Downloading faiss_gpu-1.6.5-cp37-cp37m-manylinux2014_x86_64.whl (67.6 MB)\r\n",
            "\u001b[K     |████████████████████████████████| 67.6 MB 208 kB/s \r\n",
            "\u001b[?25hInstalling collected packages: faiss-gpu\r\n",
            "Successfully installed faiss-gpu-1.6.5\r\n",
            "\u001b[33mWARNING: You are using pip version 20.2.4; however, version 20.3.1 is available.\r\n",
            "You should consider upgrading via the '/opt/conda/bin/python3.7 -m pip install --upgrade pip' command.\u001b[0m\r\n"
          ],
          "name": "stdout"
        }
      ]
    },
    {
      "cell_type": "code",
      "metadata": {
        "execution": {
          "iopub.execute_input": "2020-12-10T14:32:26.118422Z",
          "iopub.status.busy": "2020-12-10T14:32:26.114715Z",
          "iopub.status.idle": "2020-12-10T14:32:26.262494Z",
          "shell.execute_reply": "2020-12-10T14:32:26.261352Z"
        },
        "papermill": {
          "duration": 0.266619,
          "end_time": "2020-12-10T14:32:26.262644",
          "exception": false,
          "start_time": "2020-12-10T14:32:25.996025",
          "status": "completed"
        },
        "tags": [],
        "id": "Lo0J9y7U8u_j"
      },
      "source": [
        "# ------------------------------------------------------------\n",
        "# [Empty Module #3] 코드북 생성하기 (KMeans 사용)\n",
        "# ------------------------------------------------------------\n",
        "\n",
        "import faiss\n",
        "\n",
        "# ------------------------------------------------------------\n",
        "# build_codebook(X, voc_size): <= 코드를 추가하여 build_codebook를 만드는 코드를 완성하세요\n",
        "# ------------------------------------------------------------\n",
        "# 목적: Visual Words (즉, codebook)을 계산하기 위한 함수\n",
        "#\n",
        "# 입력인자: X - 군집화 하려는 데이터 [3060,1024,128]\n",
        "#         voc_size - 군집화 하려는 센터(Cluster) 수, 즉 Kmeans의 K\n",
        "#\n",
        "# 출력인자:  Kmeans 내장 변수인 cluster_center를 반환\n",
        "# ------------------------------------------------------------\n",
        "def build_codebook(X, voc_size):\n",
        "    # ------------------------------------------------------------\n",
        "    # 구현 가이드라인 \n",
        "    # ------------------------------------------------------------\n",
        "    # 1) X는 [3060*1024,128]의 형태로 reshape 한다 **\n",
        "    # 2) n_clusters를 voc_size로 주고 KMeans를 정의한다\n",
        "    # 3) KMeans의 fit 함수를 사용해 data의 cluster-center를 구한다\n",
        "    # ------------------------------------------------------------\n",
        "    # 구현 가이드라인을 참고하여 아래쪽에 코드를 추가하라\n",
        "\n",
        "    feature=np.array(X).reshape(3060*1024,128).astype('float32')\n",
        "    d=feature.shape[1]\n",
        "    k=voc_size\n",
        "    clus = faiss.Clustering(d, k)\n",
        "    clus.niter = 300\n",
        "    clus.seed =10\n",
        "    clus.max_points_per_centroid = 10000000\n",
        "    ngpu=1\n",
        "    res = [faiss.StandardGpuResources() for i in range(ngpu)]\n",
        "    flat_config = []\n",
        "    for i in range(ngpu):\n",
        "        cfg = faiss.GpuIndexFlatConfig()\n",
        "        cfg.useFloat16 = False\n",
        "        cfg.device = i\n",
        "        flat_config.append(cfg)\n",
        "    if ngpu == 1:\n",
        "        index = faiss.GpuIndexFlatL2(res[0], d, flat_config[0])\n",
        "    clus.train(feature, index)\n",
        "    centroids = faiss.vector_float_to_array(clus.centroids)\n",
        "    centroids=centroids.reshape(k, d)\n",
        "    return centroids # xxx 는 작성자가 변경해야 함\n"
      ],
      "execution_count": null,
      "outputs": []
    },
    {
      "cell_type": "markdown",
      "metadata": {
        "papermill": {
          "duration": 0.105978,
          "end_time": "2020-12-10T14:32:26.480154",
          "exception": false,
          "start_time": "2020-12-10T14:32:26.374176",
          "status": "completed"
        },
        "tags": [],
        "id": "7Km23Ez38u_j"
      },
      "source": [
        "## [Empty Module #4] BoW: histogram vector 생성\n",
        "\n",
        "### BoW\n",
        "- 생성해둔 codebook(kmeans clustrer center) 와 Dense SIFT를 비교하여 histogram을 구하는 작업 진행\n",
        "- 1) scipy.cluster.vq를 사용해 각 Dense SIFT와 유사한 codebook의 Index를 반환 받아 사용. \n",
        "  - (팁) [메뉴얼](https://docs.scipy.org/doc/scipy/reference/generated/scipy.cluster.vq.vq.html) 참고\n",
        "- 2) vq를 이용해 얻은 Index를 np.histogram 을 사용해 histogram을 구한다.\n",
        "  - (팁)np.histogram 사용시 bin=range(codebook.shape[0] + 1), normed=True 설정\n",
        "  - [메뉴얼](https://numpy.org/doc/stable/reference/generated/numpy.histogram.html) 참고\n",
        "\n"
      ]
    },
    {
      "cell_type": "code",
      "metadata": {
        "execution": {
          "iopub.execute_input": "2020-12-10T14:32:26.701224Z",
          "iopub.status.busy": "2020-12-10T14:32:26.700351Z",
          "iopub.status.idle": "2020-12-10T14:32:26.702852Z",
          "shell.execute_reply": "2020-12-10T14:32:26.703323Z"
        },
        "papermill": {
          "duration": 0.11623,
          "end_time": "2020-12-10T14:32:26.703442",
          "exception": false,
          "start_time": "2020-12-10T14:32:26.587212",
          "status": "completed"
        },
        "tags": [],
        "id": "U2JkAGta8u_j"
      },
      "source": [
        "# ------------------------------------------------------------\n",
        "# [Empty Module #4] 히스토그램 생성하기 (vq,np.histogram 사용)\n",
        "# ------------------------------------------------------------\n",
        "\n",
        "# ------------------------------------------------------------\n",
        "# BoW(descriptor, codebook): <= 코드를 추가하여 histogram을 만드는 코드를 완성하세요\n",
        "# ------------------------------------------------------------\n",
        "# 목적: Histogram (즉, 빈도수)를 계산하기 위한 함수\n",
        "#\n",
        "# 입력인자: descriptor - 한 영상의 특징점 Matrix [1024,128] \n",
        "#         codebook - 비교하기 위한 Visual word [200,128]\n",
        "#\n",
        "# 출력인자:  feature의 codebook 빈도수( 즉 histogram)을 flatten한 Matrix\n",
        "\n",
        "# ------------------------------------------------------------\n",
        "def BoW( descriptor, codebook):\n",
        "    descriptor=descriptor.tolist()\n",
        "    # ------------------------------------------------------------\n",
        "    # 구현 가이드라인 \n",
        "    # ------------------------------------------------------------\n",
        "    # 1) scipy.cluster.vq 를 사용해 각 Dense SIFT(descriptor)와 유사한 codebook의 Index를 반환 받아 사용\n",
        "    # 2) 구한 Index들 histogram을  np.histogram 을 사용해 histogram을 구한다\n",
        "    # 2-Tip) np.histogram 사용시 bins=range(codebook.shape[0] + 1), normed=True 로 설정\n",
        "    # ------------------------------------------------------------\n",
        "    # 구현 가이드라인을 참고하여 아래쪽에 코드를 추가하라\n",
        "    # 1) scipy.cluster.vq 를 사용해 각 Dense SIFT(descriptor)와 유사한 codebook의 Index를 반환 받아 사용\n",
        "    result = vq.vq(descriptor,codebook)\n",
        "    # 2) 구한 Index들 histogram을  np.histogram 을 사용해 histogram을 구한다\n",
        "    # 2-Tip) np.histogram 사용시 bins=range(codebook.shape[0] + 1), normed=True 로 설정\n",
        "    code,_ = np.histogram(result,bins=range(codebook.shape[0] + 1), normed=True)\n",
        "    \n",
        "    \n",
        "    \n",
        "    return code # xxx는 작성자가 변경해야 함\n"
      ],
      "execution_count": null,
      "outputs": []
    },
    {
      "cell_type": "markdown",
      "metadata": {
        "papermill": {
          "duration": 0.105452,
          "end_time": "2020-12-10T14:32:26.915214",
          "exception": false,
          "start_time": "2020-12-10T14:32:26.809762",
          "status": "completed"
        },
        "tags": [],
        "id": "PU3Tqk268u_j"
      },
      "source": [
        "## [Empty Module #5] SVM: classifier\n",
        "\n",
        "- svm.SVC() 를 활용해 classification 을 진행\n",
        "- GridSearchCV()를 활용해 SVC의 파라미터 튜닝을 진행 .\n",
        "  - (팁) parameters = {'kernel':('linear', 'rbf'), 'C':[0.1 ,1, 10, 100, 1000]}\n",
        "- fit()으로 train_data에 대한 머신러닝 학습\n",
        "- predict()으로 test_data에 대한 정답을 추론 하여 반환 \n",
        "\n"
      ]
    },
    {
      "cell_type": "markdown",
      "metadata": {
        "papermill": {
          "duration": 0.111319,
          "end_time": "2020-12-10T14:32:27.133062",
          "exception": false,
          "start_time": "2020-12-10T14:32:27.021743",
          "status": "completed"
        },
        "tags": [],
        "id": "6X1kNbdP8u_k"
      },
      "source": [
        "# **Empty Module5**"
      ]
    },
    {
      "cell_type": "code",
      "metadata": {
        "execution": {
          "iopub.execute_input": "2020-12-10T14:32:27.357166Z",
          "iopub.status.busy": "2020-12-10T14:32:27.356267Z",
          "iopub.status.idle": "2020-12-10T14:32:27.358840Z",
          "shell.execute_reply": "2020-12-10T14:32:27.359336Z"
        },
        "papermill": {
          "duration": 0.120032,
          "end_time": "2020-12-10T14:32:27.359468",
          "exception": false,
          "start_time": "2020-12-10T14:32:27.239436",
          "status": "completed"
        },
        "tags": [],
        "id": "EhPzq-Lx8u_k"
      },
      "source": [
        "# ------------------------------------------------------------\n",
        "# [Empty Module #5] SVM 학습 및 실험데이터 classification  (SVM 사용)\n",
        "# ------------------------------------------------------------\n",
        "\n",
        "# ------------------------------------------------------------\n",
        "# SVM(train_data,train_label, test_data): <= 코드를 추가하여 test_data를 classification하는 코드를 완성하세요\n",
        "# ------------------------------------------------------------\n",
        "# 목적: SVM 학습 및 test_data의 class를 분류하는 함수 \n",
        "#\n",
        "# 입력인자: train_data - 모든 학습 영상의 BoW features(histogram) [3060,200] \n",
        "#         train_label - 모든 학습 영상의 class [3060,1]\n",
        "#         test_data   - 모든 테스트 영상의 BoW features(histogram) [1712,200]\n",
        "# 출력인자: test_data을 SVM으로 분류한 결과 \n",
        "\n",
        "# ------------------------------------------------------------\n",
        "def SVM(train_data,train_label,test_data):\n",
        "    # ------------------------------------------------------------\n",
        "    # 구현 가이드라인 \n",
        "    # ------------------------------------------------------------\n",
        "    # 1) svm.SVC() 를 사용해 SVM 정의 \n",
        "    # 2) SVM과 파라미터 {'kernel':('linear', 'rbf'), 'C':[0.1 ,1, 10, 100, 1000]} 를 사용해 GridSearchCV() 정의\n",
        "    # 3) 정의한 GridSearchCV의 함수인 fit을 사용해 train_data 학습 \n",
        "    # 4) 정의한 GridSearchCV의 predict 함수를 사용해 test_data 에 대한 정답을 추론\n",
        "    # ------------------------------------------------------------\n",
        "    # 구현 가이드라인을 참고하여 아래쪽에 코드를 추가하라\n",
        "    \n",
        "    # 1) svm.SVC() 를 사용해 SVM 정의 \n",
        "    svc = svm.SVC()\n",
        "    # 2) SVM과 파라미터 {'kernel':('linear', 'rbf'), 'C':[0.1 ,1, 10, 100, 1000]} 를 사용해 GridSearchCV() 정의\n",
        "    param_grid = {'kernel':('linear', 'rbf'), 'C':[0.1 ,1, 10, 100, 1000]}\n",
        "    svc_cv = GridSearchCV(svc, param_grid)\n",
        "    # 3) 정의한 GridSearchCV의 함수인 fit을 사용해 train_data 학습 \n",
        "    print(train_data.dtype)\n",
        "    train_label = train_label.astype(np.float64)\n",
        "    print(train_label.dtype)\n",
        "    print(test_data.dtype)\n",
        "    svc_cv.fit(train_data,train_label)\n",
        "    # 4) 정의한 GridSearchCV의 predict 함수를 사용해 test_data 에 대한 정답을 추론\n",
        "    predict = svc_cv.predict(test_data)\n",
        "\n",
        "    return predict"
      ],
      "execution_count": null,
      "outputs": []
    },
    {
      "cell_type": "markdown",
      "metadata": {
        "papermill": {
          "duration": 0.107565,
          "end_time": "2020-12-10T14:32:27.574709",
          "exception": false,
          "start_time": "2020-12-10T14:32:27.467144",
          "status": "completed"
        },
        "tags": [],
        "id": "NWLGZCJv8u_k"
      },
      "source": [
        "# >> 코드 시작 부분 (main 부)"
      ]
    },
    {
      "cell_type": "code",
      "metadata": {
        "execution": {
          "iopub.execute_input": "2020-12-10T14:32:27.800497Z",
          "iopub.status.busy": "2020-12-10T14:32:27.799876Z",
          "iopub.status.idle": "2020-12-10T14:32:27.812297Z",
          "shell.execute_reply": "2020-12-10T14:32:27.811770Z"
        },
        "papermill": {
          "duration": 0.130348,
          "end_time": "2020-12-10T14:32:27.812399",
          "exception": false,
          "start_time": "2020-12-10T14:32:27.682051",
          "status": "completed"
        },
        "tags": [],
        "id": "nl--l1nH8u_k"
      },
      "source": [
        "#현재 경로 저장 \n",
        "dataroot=\"/kaggle/input/2020mltermprojectbovw/\"\n",
        "# Class 이름과 Index가 맵핑되어 있는 csv 경로 저장 \n",
        "csvpath=os.path.join(dataroot,\"Label2Names.csv\")\n",
        "# 위 csv 경로로 csv 읽어오기 \n",
        "df_data=pd.read_csv(csvpath,header=None)\n",
        "\n",
        "# 학습 데이터 와 테스트 데이터 경로 저장 \n",
        "dataroottrain=os.path.join(dataroot,\"train_csv_v2\")\n",
        "dataroottest=os.path.join(dataroot,\"test_csv_v2\")"
      ],
      "execution_count": null,
      "outputs": []
    },
    {
      "cell_type": "code",
      "metadata": {
        "execution": {
          "iopub.execute_input": "2020-12-10T14:32:28.033175Z",
          "iopub.status.busy": "2020-12-10T14:32:28.032349Z",
          "iopub.status.idle": "2020-12-10T14:35:47.137173Z",
          "shell.execute_reply": "2020-12-10T14:35:47.135126Z"
        },
        "papermill": {
          "duration": 199.218561,
          "end_time": "2020-12-10T14:35:47.137323",
          "exception": false,
          "start_time": "2020-12-10T14:32:27.918762",
          "status": "completed"
        },
        "tags": [],
        "id": "STLXZiye8u_k",
        "outputId": "225d5c44-1dcb-45e1-8dd2-0d9eed40ee66"
      },
      "source": [
        "# CSV로 저장되어 있는 Img 데이터 읽어오기 (학습데이터, 테스트 데이터)\n",
        "train_data,train_label=loadtrain(dataroottrain)\n",
        "test_data,test_label=loadtest(dataroottest)   \n",
        "\n",
        "# numpy 형식으로 변환 \n",
        "train_data=np.array(train_data)\n",
        "train_label=np.array(train_label)\n",
        "test_data=np.array(test_data)\n",
        "test_label=np.array(test_label)"
      ],
      "execution_count": null,
      "outputs": [
        {
          "output_type": "stream",
          "text": [
            "100%|██████████| 102/102 [02:07<00:00,  1.25s/it]\n",
            "  0%|          | 3/1712 [00:00<01:13, 23.28it/s]"
          ],
          "name": "stderr"
        },
        {
          "output_type": "stream",
          "text": [
            "img_00000.csv\n",
            "img_00001.csv\n",
            "img_00002.csv\n",
            "img_00003.csv\n",
            "img_00004.csv\n"
          ],
          "name": "stdout"
        },
        {
          "output_type": "stream",
          "text": [
            "  1%|          | 9/1712 [00:00<01:09, 24.41it/s]"
          ],
          "name": "stderr"
        },
        {
          "output_type": "stream",
          "text": [
            "img_00005.csv\n",
            "img_00006.csv\n",
            "img_00007.csv\n",
            "img_00008.csv\n",
            "img_00009.csv\n",
            "img_00010.csv\n"
          ],
          "name": "stdout"
        },
        {
          "output_type": "stream",
          "text": [
            "  1%|          | 15/1712 [00:00<01:07, 25.08it/s]"
          ],
          "name": "stderr"
        },
        {
          "output_type": "stream",
          "text": [
            "img_00011.csv\n",
            "img_00012.csv\n",
            "img_00013.csv\n",
            "img_00014.csv\n",
            "img_00015.csv\n",
            "img_00016.csv\n"
          ],
          "name": "stdout"
        },
        {
          "output_type": "stream",
          "text": [
            "  1%|          | 21/1712 [00:00<01:10, 24.02it/s]"
          ],
          "name": "stderr"
        },
        {
          "output_type": "stream",
          "text": [
            "img_00017.csv\n",
            "img_00018.csv\n",
            "img_00019.csv\n",
            "img_00020.csv\n",
            "img_00021.csv\n"
          ],
          "name": "stdout"
        },
        {
          "output_type": "stream",
          "text": [
            "  1%|▏         | 25/1712 [00:01<01:07, 25.00it/s]"
          ],
          "name": "stderr"
        },
        {
          "output_type": "stream",
          "text": [
            "img_00022.csv\n",
            "img_00023.csv\n",
            "img_00024.csv\n",
            "img_00025.csv\n",
            "img_00026.csv\n",
            "img_00027.csv\n"
          ],
          "name": "stdout"
        },
        {
          "output_type": "stream",
          "text": [
            "  2%|▏         | 31/1712 [00:01<01:06, 25.29it/s]"
          ],
          "name": "stderr"
        },
        {
          "output_type": "stream",
          "text": [
            "img_00028.csv\n",
            "img_00029.csv\n",
            "img_00030.csv\n",
            "img_00031.csv\n",
            "img_00032.csv\n",
            "img_00033.csv\n"
          ],
          "name": "stdout"
        },
        {
          "output_type": "stream",
          "text": [
            "  2%|▏         | 37/1712 [00:01<01:08, 24.28it/s]"
          ],
          "name": "stderr"
        },
        {
          "output_type": "stream",
          "text": [
            "img_00034.csv\n",
            "img_00035.csv\n",
            "img_00036.csv\n",
            "img_00037.csv\n",
            "img_00038.csv\n",
            "img_00039.csv\n"
          ],
          "name": "stdout"
        },
        {
          "output_type": "stream",
          "text": [
            "  3%|▎         | 43/1712 [00:01<01:05, 25.35it/s]"
          ],
          "name": "stderr"
        },
        {
          "output_type": "stream",
          "text": [
            "img_00040.csv\n",
            "img_00041.csv\n",
            "img_00042.csv\n",
            "img_00043.csv\n",
            "img_00044.csv\n",
            "img_00045.csv\n"
          ],
          "name": "stdout"
        },
        {
          "output_type": "stream",
          "text": [
            "  3%|▎         | 49/1712 [00:01<01:04, 25.74it/s]"
          ],
          "name": "stderr"
        },
        {
          "output_type": "stream",
          "text": [
            "img_00046.csv\n",
            "img_00047.csv\n",
            "img_00048.csv\n",
            "img_00049.csv\n",
            "img_00050.csv\n"
          ],
          "name": "stdout"
        },
        {
          "output_type": "stream",
          "text": [
            "  3%|▎         | 55/1712 [00:02<01:06, 24.77it/s]"
          ],
          "name": "stderr"
        },
        {
          "output_type": "stream",
          "text": [
            "img_00051.csv\n",
            "img_00052.csv\n",
            "img_00053.csv\n",
            "img_00054.csv\n",
            "img_00055.csv\n",
            "img_00056.csv\n"
          ],
          "name": "stdout"
        },
        {
          "output_type": "stream",
          "text": [
            "  4%|▎         | 61/1712 [00:02<01:04, 25.44it/s]"
          ],
          "name": "stderr"
        },
        {
          "output_type": "stream",
          "text": [
            "img_00057.csv\n",
            "img_00058.csv\n",
            "img_00059.csv\n",
            "img_00060.csv\n",
            "img_00061.csv\n",
            "img_00062.csv\n"
          ],
          "name": "stdout"
        },
        {
          "output_type": "stream",
          "text": [
            "  4%|▍         | 67/1712 [00:02<01:02, 26.30it/s]"
          ],
          "name": "stderr"
        },
        {
          "output_type": "stream",
          "text": [
            "img_00063.csv\n",
            "img_00064.csv\n",
            "img_00065.csv\n",
            "img_00066.csv\n",
            "img_00067.csv\n",
            "img_00068.csv\n"
          ],
          "name": "stdout"
        },
        {
          "output_type": "stream",
          "text": [
            "  4%|▍         | 73/1712 [00:02<01:01, 26.76it/s]"
          ],
          "name": "stderr"
        },
        {
          "output_type": "stream",
          "text": [
            "img_00069.csv\n",
            "img_00070.csv\n",
            "img_00071.csv\n",
            "img_00072.csv\n",
            "img_00073.csv\n",
            "img_00074.csv\n"
          ],
          "name": "stdout"
        },
        {
          "output_type": "stream",
          "text": [
            "  5%|▍         | 79/1712 [00:03<01:01, 26.56it/s]"
          ],
          "name": "stderr"
        },
        {
          "output_type": "stream",
          "text": [
            "img_00075.csv\n",
            "img_00076.csv\n",
            "img_00077.csv\n",
            "img_00078.csv\n",
            "img_00079.csv\n",
            "img_00080.csv\n"
          ],
          "name": "stdout"
        },
        {
          "output_type": "stream",
          "text": [
            "  5%|▍         | 85/1712 [00:03<01:01, 26.47it/s]"
          ],
          "name": "stderr"
        },
        {
          "output_type": "stream",
          "text": [
            "img_00081.csv\n",
            "img_00082.csv\n",
            "img_00083.csv\n",
            "img_00084.csv\n",
            "img_00085.csv\n",
            "img_00086.csv\n"
          ],
          "name": "stdout"
        },
        {
          "output_type": "stream",
          "text": [
            "  5%|▌         | 91/1712 [00:03<01:02, 26.08it/s]"
          ],
          "name": "stderr"
        },
        {
          "output_type": "stream",
          "text": [
            "img_00087.csv\n",
            "img_00088.csv\n",
            "img_00089.csv\n",
            "img_00090.csv\n",
            "img_00091.csv\n",
            "img_00092.csv\n"
          ],
          "name": "stdout"
        },
        {
          "output_type": "stream",
          "text": [
            "  6%|▌         | 97/1712 [00:03<01:04, 25.16it/s]"
          ],
          "name": "stderr"
        },
        {
          "output_type": "stream",
          "text": [
            "img_00093.csv\n",
            "img_00094.csv\n",
            "img_00095.csv\n",
            "img_00096.csv\n",
            "img_00097.csv\n"
          ],
          "name": "stdout"
        },
        {
          "output_type": "stream",
          "text": [
            "  6%|▌         | 103/1712 [00:04<01:02, 25.76it/s]"
          ],
          "name": "stderr"
        },
        {
          "output_type": "stream",
          "text": [
            "img_00098.csv\n",
            "img_00099.csv\n",
            "img_00100.csv\n",
            "img_00101.csv\n",
            "img_00102.csv\n",
            "img_00103.csv\n"
          ],
          "name": "stdout"
        },
        {
          "output_type": "stream",
          "text": [
            "  6%|▋         | 109/1712 [00:04<01:01, 25.86it/s]"
          ],
          "name": "stderr"
        },
        {
          "output_type": "stream",
          "text": [
            "img_00104.csv\n",
            "img_00105.csv\n",
            "img_00106.csv\n",
            "img_00107.csv\n",
            "img_00108.csv\n",
            "img_00109.csv\n"
          ],
          "name": "stdout"
        },
        {
          "output_type": "stream",
          "text": [
            "  7%|▋         | 112/1712 [00:04<01:03, 25.23it/s]"
          ],
          "name": "stderr"
        },
        {
          "output_type": "stream",
          "text": [
            "img_00110.csv\n",
            "img_00111.csv\n",
            "img_00112.csv\n",
            "img_00113.csv\n",
            "img_00114.csv\n"
          ],
          "name": "stdout"
        },
        {
          "output_type": "stream",
          "text": [
            "  7%|▋         | 118/1712 [00:04<01:11, 22.28it/s]"
          ],
          "name": "stderr"
        },
        {
          "output_type": "stream",
          "text": [
            "img_00115.csv\n",
            "img_00116.csv\n",
            "img_00117.csv\n",
            "img_00118.csv\n",
            "img_00119.csv\n"
          ],
          "name": "stdout"
        },
        {
          "output_type": "stream",
          "text": [
            "  7%|▋         | 121/1712 [00:04<01:14, 21.45it/s]"
          ],
          "name": "stderr"
        },
        {
          "output_type": "stream",
          "text": [
            "img_00120.csv\n",
            "img_00121.csv\n",
            "img_00122.csv\n",
            "img_00123.csv\n"
          ],
          "name": "stdout"
        },
        {
          "output_type": "stream",
          "text": [
            "  7%|▋         | 126/1712 [00:05<01:24, 18.76it/s]"
          ],
          "name": "stderr"
        },
        {
          "output_type": "stream",
          "text": [
            "img_00124.csv\n",
            "img_00125.csv\n",
            "img_00126.csv\n",
            "img_00127.csv\n"
          ],
          "name": "stdout"
        },
        {
          "output_type": "stream",
          "text": [
            "  7%|▋         | 128/1712 [00:05<02:09, 12.19it/s]"
          ],
          "name": "stderr"
        },
        {
          "output_type": "stream",
          "text": [
            "img_00128.csv\n",
            "img_00129.csv\n",
            "img_00130.csv\n"
          ],
          "name": "stdout"
        },
        {
          "output_type": "stream",
          "text": [
            "  8%|▊         | 134/1712 [00:05<01:57, 13.41it/s]"
          ],
          "name": "stderr"
        },
        {
          "output_type": "stream",
          "text": [
            "img_00131.csv\n",
            "img_00132.csv\n",
            "img_00133.csv\n",
            "img_00134.csv\n",
            "img_00135.csv\n",
            "img_00136.csv\n"
          ],
          "name": "stdout"
        },
        {
          "output_type": "stream",
          "text": [
            "  8%|▊         | 140/1712 [00:06<01:29, 17.56it/s]"
          ],
          "name": "stderr"
        },
        {
          "output_type": "stream",
          "text": [
            "img_00137.csv\n",
            "img_00138.csv\n",
            "img_00139.csv\n",
            "img_00140.csv\n",
            "img_00141.csv\n"
          ],
          "name": "stdout"
        },
        {
          "output_type": "stream",
          "text": [
            "  9%|▊         | 146/1712 [00:06<01:17, 20.25it/s]"
          ],
          "name": "stderr"
        },
        {
          "output_type": "stream",
          "text": [
            "img_00142.csv\n",
            "img_00143.csv\n",
            "img_00144.csv\n",
            "img_00145.csv\n",
            "img_00146.csv\n"
          ],
          "name": "stdout"
        },
        {
          "output_type": "stream",
          "text": [
            "  9%|▉         | 152/1712 [00:06<01:09, 22.49it/s]"
          ],
          "name": "stderr"
        },
        {
          "output_type": "stream",
          "text": [
            "img_00147.csv\n",
            "img_00148.csv\n",
            "img_00149.csv\n",
            "img_00150.csv\n",
            "img_00151.csv\n",
            "img_00152.csv\n"
          ],
          "name": "stdout"
        },
        {
          "output_type": "stream",
          "text": [
            "  9%|▉         | 158/1712 [00:06<01:05, 23.76it/s]"
          ],
          "name": "stderr"
        },
        {
          "output_type": "stream",
          "text": [
            "img_00153.csv\n",
            "img_00154.csv\n",
            "img_00155.csv\n",
            "img_00156.csv\n",
            "img_00157.csv\n",
            "img_00158.csv\n"
          ],
          "name": "stdout"
        },
        {
          "output_type": "stream",
          "text": [
            " 10%|▉         | 164/1712 [00:07<01:03, 24.43it/s]"
          ],
          "name": "stderr"
        },
        {
          "output_type": "stream",
          "text": [
            "img_00159.csv\n",
            "img_00160.csv\n",
            "img_00161.csv\n",
            "img_00162.csv\n",
            "img_00163.csv\n",
            "img_00164.csv\n"
          ],
          "name": "stdout"
        },
        {
          "output_type": "stream",
          "text": [
            " 10%|▉         | 168/1712 [00:07<01:00, 25.70it/s]"
          ],
          "name": "stderr"
        },
        {
          "output_type": "stream",
          "text": [
            "img_00165.csv\n",
            "img_00166.csv\n",
            "img_00167.csv\n",
            "img_00168.csv\n",
            "img_00169.csv\n",
            "img_00170.csv\n"
          ],
          "name": "stdout"
        },
        {
          "output_type": "stream",
          "text": [
            " 10%|█         | 174/1712 [00:07<01:02, 24.70it/s]"
          ],
          "name": "stderr"
        },
        {
          "output_type": "stream",
          "text": [
            "img_00171.csv\n",
            "img_00172.csv\n",
            "img_00173.csv\n",
            "img_00174.csv\n",
            "img_00175.csv\n",
            "img_00176.csv\n"
          ],
          "name": "stdout"
        },
        {
          "output_type": "stream",
          "text": [
            " 11%|█         | 180/1712 [00:07<01:03, 24.24it/s]"
          ],
          "name": "stderr"
        },
        {
          "output_type": "stream",
          "text": [
            "img_00177.csv\n",
            "img_00178.csv\n",
            "img_00179.csv\n",
            "img_00180.csv\n",
            "img_00181.csv\n",
            "img_00182.csv\n"
          ],
          "name": "stdout"
        },
        {
          "output_type": "stream",
          "text": [
            " 11%|█         | 186/1712 [00:08<01:05, 23.28it/s]"
          ],
          "name": "stderr"
        },
        {
          "output_type": "stream",
          "text": [
            "img_00183.csv\n",
            "img_00184.csv\n",
            "img_00185.csv\n",
            "img_00186.csv\n",
            "img_00187.csv\n"
          ],
          "name": "stdout"
        },
        {
          "output_type": "stream",
          "text": [
            " 11%|█         | 192/1712 [00:08<01:04, 23.75it/s]"
          ],
          "name": "stderr"
        },
        {
          "output_type": "stream",
          "text": [
            "img_00188.csv\n",
            "img_00189.csv\n",
            "img_00190.csv\n",
            "img_00191.csv\n",
            "img_00192.csv\n"
          ],
          "name": "stdout"
        },
        {
          "output_type": "stream",
          "text": [
            " 12%|█▏        | 198/1712 [00:08<01:01, 24.61it/s]"
          ],
          "name": "stderr"
        },
        {
          "output_type": "stream",
          "text": [
            "img_00193.csv\n",
            "img_00194.csv\n",
            "img_00195.csv\n",
            "img_00196.csv\n",
            "img_00197.csv\n",
            "img_00198.csv\n"
          ],
          "name": "stdout"
        },
        {
          "output_type": "stream",
          "text": [
            " 12%|█▏        | 204/1712 [00:08<01:00, 24.96it/s]"
          ],
          "name": "stderr"
        },
        {
          "output_type": "stream",
          "text": [
            "img_00199.csv\n",
            "img_00200.csv\n",
            "img_00201.csv\n",
            "img_00202.csv\n",
            "img_00203.csv\n",
            "img_00204.csv\n"
          ],
          "name": "stdout"
        },
        {
          "output_type": "stream",
          "text": [
            " 12%|█▏        | 210/1712 [00:08<00:58, 25.69it/s]"
          ],
          "name": "stderr"
        },
        {
          "output_type": "stream",
          "text": [
            "img_00205.csv\n",
            "img_00206.csv\n",
            "img_00207.csv\n",
            "img_00208.csv\n",
            "img_00209.csv\n",
            "img_00210.csv\n"
          ],
          "name": "stdout"
        },
        {
          "output_type": "stream",
          "text": [
            " 13%|█▎        | 216/1712 [00:09<00:59, 24.97it/s]"
          ],
          "name": "stderr"
        },
        {
          "output_type": "stream",
          "text": [
            "img_00211.csv\n",
            "img_00212.csv\n",
            "img_00213.csv\n",
            "img_00214.csv\n",
            "img_00215.csv\n",
            "img_00216.csv\n"
          ],
          "name": "stdout"
        },
        {
          "output_type": "stream",
          "text": [
            " 13%|█▎        | 222/1712 [00:09<00:58, 25.27it/s]"
          ],
          "name": "stderr"
        },
        {
          "output_type": "stream",
          "text": [
            "img_00217.csv\n",
            "img_00218.csv\n",
            "img_00219.csv\n",
            "img_00220.csv\n",
            "img_00221.csv\n",
            "img_00222.csv\n"
          ],
          "name": "stdout"
        },
        {
          "output_type": "stream",
          "text": [
            " 13%|█▎        | 228/1712 [00:09<00:57, 25.97it/s]"
          ],
          "name": "stderr"
        },
        {
          "output_type": "stream",
          "text": [
            "img_00223.csv\n",
            "img_00224.csv\n",
            "img_00225.csv\n",
            "img_00226.csv\n",
            "img_00227.csv\n",
            "img_00228.csv\n"
          ],
          "name": "stdout"
        },
        {
          "output_type": "stream",
          "text": [
            " 14%|█▎        | 234/1712 [00:09<00:57, 25.78it/s]"
          ],
          "name": "stderr"
        },
        {
          "output_type": "stream",
          "text": [
            "img_00229.csv\n",
            "img_00230.csv\n",
            "img_00231.csv\n",
            "img_00232.csv\n",
            "img_00233.csv\n",
            "img_00234.csv\n"
          ],
          "name": "stdout"
        },
        {
          "output_type": "stream",
          "text": [
            " 14%|█▍        | 240/1712 [00:10<00:55, 26.66it/s]"
          ],
          "name": "stderr"
        },
        {
          "output_type": "stream",
          "text": [
            "img_00235.csv\n",
            "img_00236.csv\n",
            "img_00237.csv\n",
            "img_00238.csv\n",
            "img_00239.csv\n",
            "img_00240.csv\n"
          ],
          "name": "stdout"
        },
        {
          "output_type": "stream",
          "text": [
            " 14%|█▍        | 243/1712 [00:10<00:57, 25.72it/s]"
          ],
          "name": "stderr"
        },
        {
          "output_type": "stream",
          "text": [
            "img_00241.csv\n",
            "img_00242.csv\n",
            "img_00243.csv\n",
            "img_00244.csv\n",
            "img_00245.csv\n"
          ],
          "name": "stdout"
        },
        {
          "output_type": "stream",
          "text": [
            " 15%|█▍        | 249/1712 [00:10<00:56, 25.90it/s]"
          ],
          "name": "stderr"
        },
        {
          "output_type": "stream",
          "text": [
            "img_00246.csv\n",
            "img_00247.csv\n",
            "img_00248.csv\n",
            "img_00249.csv\n",
            "img_00250.csv\n",
            "img_00251.csv\n"
          ],
          "name": "stdout"
        },
        {
          "output_type": "stream",
          "text": [
            " 15%|█▍        | 255/1712 [00:10<00:57, 25.38it/s]"
          ],
          "name": "stderr"
        },
        {
          "output_type": "stream",
          "text": [
            "img_00252.csv\n",
            "img_00253.csv\n",
            "img_00254.csv\n",
            "img_00255.csv\n",
            "img_00256.csv\n"
          ],
          "name": "stdout"
        },
        {
          "output_type": "stream",
          "text": [
            " 15%|█▌        | 261/1712 [00:10<00:58, 24.78it/s]"
          ],
          "name": "stderr"
        },
        {
          "output_type": "stream",
          "text": [
            "img_00257.csv\n",
            "img_00258.csv\n",
            "img_00259.csv\n",
            "img_00260.csv\n",
            "img_00261.csv\n",
            "img_00262.csv\n"
          ],
          "name": "stdout"
        },
        {
          "output_type": "stream",
          "text": [
            " 16%|█▌        | 267/1712 [00:11<00:55, 25.90it/s]"
          ],
          "name": "stderr"
        },
        {
          "output_type": "stream",
          "text": [
            "img_00263.csv\n",
            "img_00264.csv\n",
            "img_00265.csv\n",
            "img_00266.csv\n",
            "img_00267.csv\n",
            "img_00268.csv\n"
          ],
          "name": "stdout"
        },
        {
          "output_type": "stream",
          "text": [
            " 16%|█▌        | 273/1712 [00:11<00:56, 25.32it/s]"
          ],
          "name": "stderr"
        },
        {
          "output_type": "stream",
          "text": [
            "img_00269.csv\n",
            "img_00270.csv\n",
            "img_00271.csv\n",
            "img_00272.csv\n",
            "img_00273.csv\n",
            "img_00274.csv\n"
          ],
          "name": "stdout"
        },
        {
          "output_type": "stream",
          "text": [
            " 16%|█▋        | 279/1712 [00:11<00:55, 25.63it/s]"
          ],
          "name": "stderr"
        },
        {
          "output_type": "stream",
          "text": [
            "img_00275.csv\n",
            "img_00276.csv\n",
            "img_00277.csv\n",
            "img_00278.csv\n",
            "img_00279.csv\n",
            "img_00280.csv\n"
          ],
          "name": "stdout"
        },
        {
          "output_type": "stream",
          "text": [
            " 17%|█▋        | 285/1712 [00:11<00:56, 25.31it/s]"
          ],
          "name": "stderr"
        },
        {
          "output_type": "stream",
          "text": [
            "img_00281.csv\n",
            "img_00282.csv\n",
            "img_00283.csv\n",
            "img_00284.csv\n",
            "img_00285.csv\n",
            "img_00286.csv\n"
          ],
          "name": "stdout"
        },
        {
          "output_type": "stream",
          "text": [
            " 17%|█▋        | 291/1712 [00:12<00:54, 26.18it/s]"
          ],
          "name": "stderr"
        },
        {
          "output_type": "stream",
          "text": [
            "img_00287.csv\n",
            "img_00288.csv\n",
            "img_00289.csv\n",
            "img_00290.csv\n",
            "img_00291.csv\n",
            "img_00292.csv\n"
          ],
          "name": "stdout"
        },
        {
          "output_type": "stream",
          "text": [
            " 17%|█▋        | 297/1712 [00:12<00:53, 26.60it/s]"
          ],
          "name": "stderr"
        },
        {
          "output_type": "stream",
          "text": [
            "img_00293.csv\n",
            "img_00294.csv\n",
            "img_00295.csv\n",
            "img_00296.csv\n",
            "img_00297.csv\n",
            "img_00298.csv\n"
          ],
          "name": "stdout"
        },
        {
          "output_type": "stream",
          "text": [
            " 18%|█▊        | 303/1712 [00:12<00:53, 26.46it/s]"
          ],
          "name": "stderr"
        },
        {
          "output_type": "stream",
          "text": [
            "img_00299.csv\n",
            "img_00300.csv\n",
            "img_00301.csv\n",
            "img_00302.csv\n",
            "img_00303.csv\n",
            "img_00304.csv\n"
          ],
          "name": "stdout"
        },
        {
          "output_type": "stream",
          "text": [
            " 18%|█▊        | 309/1712 [00:12<00:53, 26.33it/s]"
          ],
          "name": "stderr"
        },
        {
          "output_type": "stream",
          "text": [
            "img_00305.csv\n",
            "img_00306.csv\n",
            "img_00307.csv\n",
            "img_00308.csv\n",
            "img_00309.csv\n",
            "img_00310.csv\n"
          ],
          "name": "stdout"
        },
        {
          "output_type": "stream",
          "text": [
            " 18%|█▊        | 315/1712 [00:13<00:54, 25.64it/s]"
          ],
          "name": "stderr"
        },
        {
          "output_type": "stream",
          "text": [
            "img_00311.csv\n",
            "img_00312.csv\n",
            "img_00313.csv\n",
            "img_00314.csv\n",
            "img_00315.csv\n",
            "img_00316.csv\n"
          ],
          "name": "stdout"
        },
        {
          "output_type": "stream",
          "text": [
            " 19%|█▉        | 321/1712 [00:13<00:52, 26.55it/s]"
          ],
          "name": "stderr"
        },
        {
          "output_type": "stream",
          "text": [
            "img_00317.csv\n",
            "img_00318.csv\n",
            "img_00319.csv\n",
            "img_00320.csv\n",
            "img_00321.csv\n",
            "img_00322.csv\n"
          ],
          "name": "stdout"
        },
        {
          "output_type": "stream",
          "text": [
            " 19%|█▉        | 327/1712 [00:13<00:55, 24.98it/s]"
          ],
          "name": "stderr"
        },
        {
          "output_type": "stream",
          "text": [
            "img_00323.csv\n",
            "img_00324.csv\n",
            "img_00325.csv\n",
            "img_00326.csv\n",
            "img_00327.csv\n"
          ],
          "name": "stdout"
        },
        {
          "output_type": "stream",
          "text": [
            " 19%|█▉        | 330/1712 [00:13<01:07, 20.62it/s]"
          ],
          "name": "stderr"
        },
        {
          "output_type": "stream",
          "text": [
            "img_00328.csv\n",
            "img_00329.csv\n",
            "img_00330.csv\n",
            "img_00331.csv\n",
            "img_00332.csv\n"
          ],
          "name": "stdout"
        },
        {
          "output_type": "stream",
          "text": [
            " 20%|█▉        | 336/1712 [00:13<00:57, 23.89it/s]"
          ],
          "name": "stderr"
        },
        {
          "output_type": "stream",
          "text": [
            "img_00333.csv\n",
            "img_00334.csv\n",
            "img_00335.csv\n",
            "img_00336.csv\n",
            "img_00337.csv\n",
            "img_00338.csv\n",
            "img_00339.csv\n"
          ],
          "name": "stdout"
        },
        {
          "output_type": "stream",
          "text": [
            " 20%|██        | 343/1712 [00:14<00:55, 24.84it/s]"
          ],
          "name": "stderr"
        },
        {
          "output_type": "stream",
          "text": [
            "img_00340.csv\n",
            "img_00341.csv\n",
            "img_00342.csv\n",
            "img_00343.csv\n",
            "img_00344.csv\n",
            "img_00345.csv\n"
          ],
          "name": "stdout"
        },
        {
          "output_type": "stream",
          "text": [
            " 20%|██        | 349/1712 [00:14<00:52, 25.75it/s]"
          ],
          "name": "stderr"
        },
        {
          "output_type": "stream",
          "text": [
            "img_00346.csv\n",
            "img_00347.csv\n",
            "img_00348.csv\n",
            "img_00349.csv\n",
            "img_00350.csv\n"
          ],
          "name": "stdout"
        },
        {
          "output_type": "stream",
          "text": [
            " 21%|██        | 355/1712 [00:14<00:53, 25.14it/s]"
          ],
          "name": "stderr"
        },
        {
          "output_type": "stream",
          "text": [
            "img_00351.csv\n",
            "img_00352.csv\n",
            "img_00353.csv\n",
            "img_00354.csv\n",
            "img_00355.csv\n",
            "img_00356.csv\n"
          ],
          "name": "stdout"
        },
        {
          "output_type": "stream",
          "text": [
            " 21%|██        | 361/1712 [00:14<00:51, 26.13it/s]"
          ],
          "name": "stderr"
        },
        {
          "output_type": "stream",
          "text": [
            "img_00357.csv\n",
            "img_00358.csv\n",
            "img_00359.csv\n",
            "img_00360.csv\n",
            "img_00361.csv\n",
            "img_00362.csv\n"
          ],
          "name": "stdout"
        },
        {
          "output_type": "stream",
          "text": [
            " 21%|██▏       | 367/1712 [00:15<00:55, 24.30it/s]"
          ],
          "name": "stderr"
        },
        {
          "output_type": "stream",
          "text": [
            "img_00363.csv\n",
            "img_00364.csv\n",
            "img_00365.csv\n",
            "img_00366.csv\n",
            "img_00367.csv\n"
          ],
          "name": "stdout"
        },
        {
          "output_type": "stream",
          "text": [
            " 22%|██▏       | 373/1712 [00:15<00:52, 25.63it/s]"
          ],
          "name": "stderr"
        },
        {
          "output_type": "stream",
          "text": [
            "img_00368.csv\n",
            "img_00369.csv\n",
            "img_00370.csv\n",
            "img_00371.csv\n",
            "img_00372.csv\n",
            "img_00373.csv\n"
          ],
          "name": "stdout"
        },
        {
          "output_type": "stream",
          "text": [
            " 22%|██▏       | 376/1712 [00:15<00:57, 23.40it/s]"
          ],
          "name": "stderr"
        },
        {
          "output_type": "stream",
          "text": [
            "img_00374.csv\n",
            "img_00375.csv\n",
            "img_00376.csv\n",
            "img_00377.csv\n"
          ],
          "name": "stdout"
        },
        {
          "output_type": "stream",
          "text": [
            " 22%|██▏       | 382/1712 [00:15<00:58, 22.55it/s]"
          ],
          "name": "stderr"
        },
        {
          "output_type": "stream",
          "text": [
            "img_00378.csv\n",
            "img_00379.csv\n",
            "img_00380.csv\n",
            "img_00381.csv\n",
            "img_00382.csv\n"
          ],
          "name": "stdout"
        },
        {
          "output_type": "stream",
          "text": [
            " 22%|██▏       | 385/1712 [00:15<01:04, 20.44it/s]"
          ],
          "name": "stderr"
        },
        {
          "output_type": "stream",
          "text": [
            "img_00383.csv\n",
            "img_00384.csv\n",
            "img_00385.csv\n",
            "img_00386.csv\n"
          ],
          "name": "stdout"
        },
        {
          "output_type": "stream",
          "text": [
            " 23%|██▎       | 388/1712 [00:16<01:06, 19.77it/s]"
          ],
          "name": "stderr"
        },
        {
          "output_type": "stream",
          "text": [
            "img_00387.csv\n",
            "img_00388.csv\n",
            "img_00389.csv\n",
            "img_00390.csv\n"
          ],
          "name": "stdout"
        },
        {
          "output_type": "stream",
          "text": [
            " 23%|██▎       | 394/1712 [00:16<01:08, 19.27it/s]"
          ],
          "name": "stderr"
        },
        {
          "output_type": "stream",
          "text": [
            "img_00391.csv\n",
            "img_00392.csv\n",
            "img_00393.csv\n",
            "img_00394.csv\n",
            "img_00395.csv\n"
          ],
          "name": "stdout"
        },
        {
          "output_type": "stream",
          "text": [
            " 23%|██▎       | 399/1712 [00:16<01:03, 20.61it/s]"
          ],
          "name": "stderr"
        },
        {
          "output_type": "stream",
          "text": [
            "img_00396.csv\n",
            "img_00397.csv\n",
            "img_00398.csv\n",
            "img_00399.csv\n",
            "img_00400.csv\n",
            "img_00401.csv\n"
          ],
          "name": "stdout"
        },
        {
          "output_type": "stream",
          "text": [
            " 24%|██▎       | 405/1712 [00:16<00:59, 21.84it/s]"
          ],
          "name": "stderr"
        },
        {
          "output_type": "stream",
          "text": [
            "img_00402.csv\n",
            "img_00403.csv\n",
            "img_00404.csv\n",
            "img_00405.csv\n",
            "img_00406.csv\n"
          ],
          "name": "stdout"
        },
        {
          "output_type": "stream",
          "text": [
            " 24%|██▍       | 411/1712 [00:17<00:53, 24.21it/s]"
          ],
          "name": "stderr"
        },
        {
          "output_type": "stream",
          "text": [
            "img_00407.csv\n",
            "img_00408.csv\n",
            "img_00409.csv\n",
            "img_00410.csv\n",
            "img_00411.csv\n",
            "img_00412.csv\n"
          ],
          "name": "stdout"
        },
        {
          "output_type": "stream",
          "text": [
            " 24%|██▍       | 417/1712 [00:17<00:56, 22.99it/s]"
          ],
          "name": "stderr"
        },
        {
          "output_type": "stream",
          "text": [
            "img_00413.csv\n",
            "img_00414.csv\n",
            "img_00415.csv\n",
            "img_00416.csv\n",
            "img_00417.csv\n"
          ],
          "name": "stdout"
        },
        {
          "output_type": "stream",
          "text": [
            " 25%|██▍       | 420/1712 [00:17<00:56, 23.02it/s]"
          ],
          "name": "stderr"
        },
        {
          "output_type": "stream",
          "text": [
            "img_00418.csv\n",
            "img_00419.csv\n",
            "img_00420.csv\n",
            "img_00421.csv\n",
            "img_00422.csv\n"
          ],
          "name": "stdout"
        },
        {
          "output_type": "stream",
          "text": [
            " 25%|██▍       | 426/1712 [00:17<01:00, 21.21it/s]"
          ],
          "name": "stderr"
        },
        {
          "output_type": "stream",
          "text": [
            "img_00423.csv\n",
            "img_00424.csv\n",
            "img_00425.csv\n",
            "img_00426.csv\n",
            "img_00427.csv\n"
          ],
          "name": "stdout"
        },
        {
          "output_type": "stream",
          "text": [
            " 25%|██▌       | 432/1712 [00:18<00:57, 22.09it/s]"
          ],
          "name": "stderr"
        },
        {
          "output_type": "stream",
          "text": [
            "img_00428.csv\n",
            "img_00429.csv\n",
            "img_00430.csv\n",
            "img_00431.csv\n",
            "img_00432.csv\n",
            "img_00433.csv\n"
          ],
          "name": "stdout"
        },
        {
          "output_type": "stream",
          "text": [
            " 26%|██▌       | 439/1712 [00:18<00:52, 24.29it/s]"
          ],
          "name": "stderr"
        },
        {
          "output_type": "stream",
          "text": [
            "img_00434.csv\n",
            "img_00435.csv\n",
            "img_00436.csv\n",
            "img_00437.csv\n",
            "img_00438.csv\n",
            "img_00439.csv\n"
          ],
          "name": "stdout"
        },
        {
          "output_type": "stream",
          "text": [
            " 26%|██▌       | 442/1712 [00:18<00:55, 22.93it/s]"
          ],
          "name": "stderr"
        },
        {
          "output_type": "stream",
          "text": [
            "img_00440.csv\n",
            "img_00441.csv\n",
            "img_00442.csv\n",
            "img_00443.csv\n",
            "img_00444.csv\n"
          ],
          "name": "stdout"
        },
        {
          "output_type": "stream",
          "text": [
            " 26%|██▌       | 448/1712 [00:18<00:55, 22.73it/s]"
          ],
          "name": "stderr"
        },
        {
          "output_type": "stream",
          "text": [
            "img_00445.csv\n",
            "img_00446.csv\n",
            "img_00447.csv\n",
            "img_00448.csv\n",
            "img_00449.csv\n"
          ],
          "name": "stdout"
        },
        {
          "output_type": "stream",
          "text": [
            " 27%|██▋       | 454/1712 [00:19<00:52, 24.10it/s]"
          ],
          "name": "stderr"
        },
        {
          "output_type": "stream",
          "text": [
            "img_00450.csv\n",
            "img_00451.csv\n",
            "img_00452.csv\n",
            "img_00453.csv\n",
            "img_00454.csv\n",
            "img_00455.csv\n"
          ],
          "name": "stdout"
        },
        {
          "output_type": "stream",
          "text": [
            " 27%|██▋       | 460/1712 [00:19<00:47, 26.18it/s]"
          ],
          "name": "stderr"
        },
        {
          "output_type": "stream",
          "text": [
            "img_00456.csv\n",
            "img_00457.csv\n",
            "img_00458.csv\n",
            "img_00459.csv\n",
            "img_00460.csv\n",
            "img_00461.csv\n"
          ],
          "name": "stdout"
        },
        {
          "output_type": "stream",
          "text": [
            " 27%|██▋       | 466/1712 [00:19<00:49, 25.36it/s]"
          ],
          "name": "stderr"
        },
        {
          "output_type": "stream",
          "text": [
            "img_00462.csv\n",
            "img_00463.csv\n",
            "img_00464.csv\n",
            "img_00465.csv\n",
            "img_00466.csv\n",
            "img_00467.csv\n"
          ],
          "name": "stdout"
        },
        {
          "output_type": "stream",
          "text": [
            " 28%|██▊       | 473/1712 [00:19<00:48, 25.61it/s]"
          ],
          "name": "stderr"
        },
        {
          "output_type": "stream",
          "text": [
            "img_00468.csv\n",
            "img_00469.csv\n",
            "img_00470.csv\n",
            "img_00471.csv\n",
            "img_00472.csv\n",
            "img_00473.csv\n"
          ],
          "name": "stdout"
        },
        {
          "output_type": "stream",
          "text": [
            " 28%|██▊       | 476/1712 [00:19<00:49, 25.21it/s]"
          ],
          "name": "stderr"
        },
        {
          "output_type": "stream",
          "text": [
            "img_00474.csv\n",
            "img_00475.csv\n",
            "img_00476.csv\n",
            "img_00477.csv\n",
            "img_00478.csv\n"
          ],
          "name": "stdout"
        },
        {
          "output_type": "stream",
          "text": [
            " 28%|██▊       | 482/1712 [00:20<00:48, 25.55it/s]"
          ],
          "name": "stderr"
        },
        {
          "output_type": "stream",
          "text": [
            "img_00479.csv\n",
            "img_00480.csv\n",
            "img_00481.csv\n",
            "img_00482.csv\n",
            "img_00483.csv\n",
            "img_00484.csv\n"
          ],
          "name": "stdout"
        },
        {
          "output_type": "stream",
          "text": [
            " 29%|██▊       | 488/1712 [00:20<00:47, 25.83it/s]"
          ],
          "name": "stderr"
        },
        {
          "output_type": "stream",
          "text": [
            "img_00485.csv\n",
            "img_00486.csv\n",
            "img_00487.csv\n",
            "img_00488.csv\n",
            "img_00489.csv\n",
            "img_00490.csv\n"
          ],
          "name": "stdout"
        },
        {
          "output_type": "stream",
          "text": [
            " 29%|██▉       | 494/1712 [00:20<00:48, 24.98it/s]"
          ],
          "name": "stderr"
        },
        {
          "output_type": "stream",
          "text": [
            "img_00491.csv\n",
            "img_00492.csv\n",
            "img_00493.csv\n",
            "img_00494.csv\n",
            "img_00495.csv\n",
            "img_00496.csv\n"
          ],
          "name": "stdout"
        },
        {
          "output_type": "stream",
          "text": [
            " 29%|██▉       | 500/1712 [00:20<00:47, 25.25it/s]"
          ],
          "name": "stderr"
        },
        {
          "output_type": "stream",
          "text": [
            "img_00497.csv\n",
            "img_00498.csv\n",
            "img_00499.csv\n",
            "img_00500.csv\n",
            "img_00501.csv\n",
            "img_00502.csv\n"
          ],
          "name": "stdout"
        },
        {
          "output_type": "stream",
          "text": [
            " 30%|██▉       | 507/1712 [00:21<00:45, 26.75it/s]"
          ],
          "name": "stderr"
        },
        {
          "output_type": "stream",
          "text": [
            "img_00503.csv\n",
            "img_00504.csv\n",
            "img_00505.csv\n",
            "img_00506.csv\n",
            "img_00507.csv\n",
            "img_00508.csv\n"
          ],
          "name": "stdout"
        },
        {
          "output_type": "stream",
          "text": [
            " 30%|██▉       | 513/1712 [00:21<00:44, 26.84it/s]"
          ],
          "name": "stderr"
        },
        {
          "output_type": "stream",
          "text": [
            "img_00509.csv\n",
            "img_00510.csv\n",
            "img_00511.csv\n",
            "img_00512.csv\n",
            "img_00513.csv\n",
            "img_00514.csv\n"
          ],
          "name": "stdout"
        },
        {
          "output_type": "stream",
          "text": [
            " 30%|███       | 519/1712 [00:21<00:45, 26.13it/s]"
          ],
          "name": "stderr"
        },
        {
          "output_type": "stream",
          "text": [
            "img_00515.csv\n",
            "img_00516.csv\n",
            "img_00517.csv\n",
            "img_00518.csv\n",
            "img_00519.csv\n",
            "img_00520.csv\n"
          ],
          "name": "stdout"
        },
        {
          "output_type": "stream",
          "text": [
            " 31%|███       | 525/1712 [00:21<00:48, 24.55it/s]"
          ],
          "name": "stderr"
        },
        {
          "output_type": "stream",
          "text": [
            "img_00521.csv\n",
            "img_00522.csv\n",
            "img_00523.csv\n",
            "img_00524.csv\n",
            "img_00525.csv\n"
          ],
          "name": "stdout"
        },
        {
          "output_type": "stream",
          "text": [
            " 31%|███       | 528/1712 [00:21<00:49, 23.97it/s]"
          ],
          "name": "stderr"
        },
        {
          "output_type": "stream",
          "text": [
            "img_00526.csv\n",
            "img_00527.csv\n",
            "img_00528.csv\n",
            "img_00529.csv\n",
            "img_00530.csv\n"
          ],
          "name": "stdout"
        },
        {
          "output_type": "stream",
          "text": [
            " 31%|███       | 534/1712 [00:22<00:52, 22.65it/s]"
          ],
          "name": "stderr"
        },
        {
          "output_type": "stream",
          "text": [
            "img_00531.csv\n",
            "img_00532.csv\n",
            "img_00533.csv\n",
            "img_00534.csv\n",
            "img_00535.csv\n"
          ],
          "name": "stdout"
        },
        {
          "output_type": "stream",
          "text": [
            " 32%|███▏      | 540/1712 [00:22<00:50, 23.12it/s]"
          ],
          "name": "stderr"
        },
        {
          "output_type": "stream",
          "text": [
            "img_00536.csv\n",
            "img_00537.csv\n",
            "img_00538.csv\n",
            "img_00539.csv\n",
            "img_00540.csv\n"
          ],
          "name": "stdout"
        },
        {
          "output_type": "stream",
          "text": [
            " 32%|███▏      | 546/1712 [00:22<00:48, 23.93it/s]"
          ],
          "name": "stderr"
        },
        {
          "output_type": "stream",
          "text": [
            "img_00541.csv\n",
            "img_00542.csv\n",
            "img_00543.csv\n",
            "img_00544.csv\n",
            "img_00545.csv\n",
            "img_00546.csv\n"
          ],
          "name": "stdout"
        },
        {
          "output_type": "stream",
          "text": [
            " 32%|███▏      | 552/1712 [00:22<00:46, 25.21it/s]"
          ],
          "name": "stderr"
        },
        {
          "output_type": "stream",
          "text": [
            "img_00547.csv\n",
            "img_00548.csv\n",
            "img_00549.csv\n",
            "img_00550.csv\n",
            "img_00551.csv\n",
            "img_00552.csv\n"
          ],
          "name": "stdout"
        },
        {
          "output_type": "stream",
          "text": [
            " 33%|███▎      | 558/1712 [00:23<00:46, 25.02it/s]"
          ],
          "name": "stderr"
        },
        {
          "output_type": "stream",
          "text": [
            "img_00553.csv\n",
            "img_00554.csv\n",
            "img_00555.csv\n",
            "img_00556.csv\n",
            "img_00557.csv\n",
            "img_00558.csv\n"
          ],
          "name": "stdout"
        },
        {
          "output_type": "stream",
          "text": [
            " 33%|███▎      | 564/1712 [00:23<00:44, 25.89it/s]"
          ],
          "name": "stderr"
        },
        {
          "output_type": "stream",
          "text": [
            "img_00559.csv\n",
            "img_00560.csv\n",
            "img_00561.csv\n",
            "img_00562.csv\n",
            "img_00563.csv\n",
            "img_00564.csv\n"
          ],
          "name": "stdout"
        },
        {
          "output_type": "stream",
          "text": [
            " 33%|███▎      | 567/1712 [00:23<00:45, 25.29it/s]"
          ],
          "name": "stderr"
        },
        {
          "output_type": "stream",
          "text": [
            "img_00565.csv\n",
            "img_00566.csv\n",
            "img_00567.csv\n",
            "img_00568.csv\n",
            "img_00569.csv\n"
          ],
          "name": "stdout"
        },
        {
          "output_type": "stream",
          "text": [
            " 33%|███▎      | 573/1712 [00:23<00:49, 22.85it/s]"
          ],
          "name": "stderr"
        },
        {
          "output_type": "stream",
          "text": [
            "img_00570.csv\n",
            "img_00571.csv\n",
            "img_00572.csv\n",
            "img_00573.csv\n",
            "img_00574.csv\n"
          ],
          "name": "stdout"
        },
        {
          "output_type": "stream",
          "text": [
            " 34%|███▍      | 579/1712 [00:24<00:47, 23.86it/s]"
          ],
          "name": "stderr"
        },
        {
          "output_type": "stream",
          "text": [
            "img_00575.csv\n",
            "img_00576.csv\n",
            "img_00577.csv\n",
            "img_00578.csv\n",
            "img_00579.csv\n",
            "img_00580.csv\n"
          ],
          "name": "stdout"
        },
        {
          "output_type": "stream",
          "text": [
            " 34%|███▍      | 585/1712 [00:24<00:47, 23.74it/s]"
          ],
          "name": "stderr"
        },
        {
          "output_type": "stream",
          "text": [
            "img_00581.csv\n",
            "img_00582.csv\n",
            "img_00583.csv\n",
            "img_00584.csv\n",
            "img_00585.csv\n"
          ],
          "name": "stdout"
        },
        {
          "output_type": "stream",
          "text": [
            " 35%|███▍      | 591/1712 [00:24<00:45, 24.47it/s]"
          ],
          "name": "stderr"
        },
        {
          "output_type": "stream",
          "text": [
            "img_00586.csv\n",
            "img_00587.csv\n",
            "img_00588.csv\n",
            "img_00589.csv\n",
            "img_00590.csv\n",
            "img_00591.csv\n"
          ],
          "name": "stdout"
        },
        {
          "output_type": "stream",
          "text": [
            " 35%|███▍      | 597/1712 [00:24<00:45, 24.55it/s]"
          ],
          "name": "stderr"
        },
        {
          "output_type": "stream",
          "text": [
            "img_00592.csv\n",
            "img_00593.csv\n",
            "img_00594.csv\n",
            "img_00595.csv\n",
            "img_00596.csv\n"
          ],
          "name": "stdout"
        },
        {
          "output_type": "stream",
          "text": [
            " 35%|███▌      | 603/1712 [00:24<00:44, 24.89it/s]"
          ],
          "name": "stderr"
        },
        {
          "output_type": "stream",
          "text": [
            "img_00597.csv\n",
            "img_00598.csv\n",
            "img_00599.csv\n",
            "img_00600.csv\n",
            "img_00601.csv\n",
            "img_00602.csv\n",
            "img_00603.csv\n"
          ],
          "name": "stdout"
        },
        {
          "output_type": "stream",
          "text": [
            " 36%|███▌      | 609/1712 [00:25<00:43, 25.48it/s]"
          ],
          "name": "stderr"
        },
        {
          "output_type": "stream",
          "text": [
            "img_00604.csv\n",
            "img_00605.csv\n",
            "img_00606.csv\n",
            "img_00607.csv\n",
            "img_00608.csv\n",
            "img_00609.csv\n"
          ],
          "name": "stdout"
        },
        {
          "output_type": "stream",
          "text": [
            " 36%|███▌      | 615/1712 [00:25<00:43, 25.34it/s]"
          ],
          "name": "stderr"
        },
        {
          "output_type": "stream",
          "text": [
            "img_00610.csv\n",
            "img_00611.csv\n",
            "img_00612.csv\n",
            "img_00613.csv\n",
            "img_00614.csv\n",
            "img_00615.csv\n"
          ],
          "name": "stdout"
        },
        {
          "output_type": "stream",
          "text": [
            " 36%|███▌      | 618/1712 [00:25<00:43, 25.14it/s]"
          ],
          "name": "stderr"
        },
        {
          "output_type": "stream",
          "text": [
            "img_00616.csv\n",
            "img_00617.csv\n",
            "img_00618.csv\n",
            "img_00619.csv\n",
            "img_00620.csv\n"
          ],
          "name": "stdout"
        },
        {
          "output_type": "stream",
          "text": [
            " 36%|███▋      | 624/1712 [00:25<00:48, 22.22it/s]"
          ],
          "name": "stderr"
        },
        {
          "output_type": "stream",
          "text": [
            "img_00621.csv\n",
            "img_00622.csv\n",
            "img_00623.csv\n",
            "img_00624.csv\n",
            "img_00625.csv\n"
          ],
          "name": "stdout"
        },
        {
          "output_type": "stream",
          "text": [
            " 37%|███▋      | 630/1712 [00:26<00:48, 22.44it/s]"
          ],
          "name": "stderr"
        },
        {
          "output_type": "stream",
          "text": [
            "img_00626.csv\n",
            "img_00627.csv\n",
            "img_00628.csv\n",
            "img_00629.csv\n",
            "img_00630.csv\n"
          ],
          "name": "stdout"
        },
        {
          "output_type": "stream",
          "text": [
            " 37%|███▋      | 636/1712 [00:26<00:44, 23.92it/s]"
          ],
          "name": "stderr"
        },
        {
          "output_type": "stream",
          "text": [
            "img_00631.csv\n",
            "img_00632.csv\n",
            "img_00633.csv\n",
            "img_00634.csv\n",
            "img_00635.csv\n",
            "img_00636.csv\n"
          ],
          "name": "stdout"
        },
        {
          "output_type": "stream",
          "text": [
            " 37%|███▋      | 639/1712 [00:26<00:46, 22.97it/s]"
          ],
          "name": "stderr"
        },
        {
          "output_type": "stream",
          "text": [
            "img_00637.csv\n",
            "img_00638.csv\n",
            "img_00639.csv\n",
            "img_00640.csv\n",
            "img_00641.csv\n"
          ],
          "name": "stdout"
        },
        {
          "output_type": "stream",
          "text": [
            " 38%|███▊      | 645/1712 [00:26<00:48, 22.11it/s]"
          ],
          "name": "stderr"
        },
        {
          "output_type": "stream",
          "text": [
            "img_00642.csv\n",
            "img_00643.csv\n",
            "img_00644.csv\n",
            "img_00645.csv\n"
          ],
          "name": "stdout"
        },
        {
          "output_type": "stream",
          "text": [
            " 38%|███▊      | 648/1712 [00:27<00:56, 18.77it/s]"
          ],
          "name": "stderr"
        },
        {
          "output_type": "stream",
          "text": [
            "img_00646.csv\n",
            "img_00647.csv\n",
            "img_00648.csv\n"
          ],
          "name": "stdout"
        },
        {
          "output_type": "stream",
          "text": [
            " 38%|███▊      | 650/1712 [00:27<01:04, 16.48it/s]"
          ],
          "name": "stderr"
        },
        {
          "output_type": "stream",
          "text": [
            "img_00649.csv\n",
            "img_00650.csv\n"
          ],
          "name": "stdout"
        },
        {
          "output_type": "stream",
          "text": [
            " 38%|███▊      | 655/1712 [00:27<01:21, 12.89it/s]"
          ],
          "name": "stderr"
        },
        {
          "output_type": "stream",
          "text": [
            "img_00651.csv\n",
            "img_00652.csv\n",
            "img_00653.csv\n",
            "img_00654.csv\n",
            "img_00655.csv\n"
          ],
          "name": "stdout"
        },
        {
          "output_type": "stream",
          "text": [
            " 39%|███▊      | 660/1712 [00:27<01:07, 15.55it/s]"
          ],
          "name": "stderr"
        },
        {
          "output_type": "stream",
          "text": [
            "img_00656.csv\n",
            "img_00657.csv\n",
            "img_00658.csv\n",
            "img_00659.csv\n",
            "img_00660.csv\n"
          ],
          "name": "stdout"
        },
        {
          "output_type": "stream",
          "text": [
            " 39%|███▉      | 666/1712 [00:28<00:53, 19.47it/s]"
          ],
          "name": "stderr"
        },
        {
          "output_type": "stream",
          "text": [
            "img_00661.csv\n",
            "img_00662.csv\n",
            "img_00663.csv\n",
            "img_00664.csv\n",
            "img_00665.csv\n",
            "img_00666.csv\n"
          ],
          "name": "stdout"
        },
        {
          "output_type": "stream",
          "text": [
            " 39%|███▉      | 672/1712 [00:28<00:46, 22.58it/s]"
          ],
          "name": "stderr"
        },
        {
          "output_type": "stream",
          "text": [
            "img_00667.csv\n",
            "img_00668.csv\n",
            "img_00669.csv\n",
            "img_00670.csv\n",
            "img_00671.csv\n",
            "img_00672.csv\n"
          ],
          "name": "stdout"
        },
        {
          "output_type": "stream",
          "text": [
            " 39%|███▉      | 675/1712 [00:28<00:46, 22.32it/s]"
          ],
          "name": "stderr"
        },
        {
          "output_type": "stream",
          "text": [
            "img_00673.csv\n",
            "img_00674.csv\n",
            "img_00675.csv\n",
            "img_00676.csv\n",
            "img_00677.csv\n"
          ],
          "name": "stdout"
        },
        {
          "output_type": "stream",
          "text": [
            " 40%|███▉      | 681/1712 [00:28<00:42, 24.09it/s]"
          ],
          "name": "stderr"
        },
        {
          "output_type": "stream",
          "text": [
            "img_00678.csv\n",
            "img_00679.csv\n",
            "img_00680.csv\n",
            "img_00681.csv\n",
            "img_00682.csv\n",
            "img_00683.csv\n"
          ],
          "name": "stdout"
        },
        {
          "output_type": "stream",
          "text": [
            " 40%|████      | 687/1712 [00:28<00:41, 24.72it/s]"
          ],
          "name": "stderr"
        },
        {
          "output_type": "stream",
          "text": [
            "img_00684.csv\n",
            "img_00685.csv\n",
            "img_00686.csv\n",
            "img_00687.csv\n",
            "img_00688.csv\n"
          ],
          "name": "stdout"
        },
        {
          "output_type": "stream",
          "text": [
            " 40%|████      | 693/1712 [00:29<00:41, 24.44it/s]"
          ],
          "name": "stderr"
        },
        {
          "output_type": "stream",
          "text": [
            "img_00689.csv\n",
            "img_00690.csv\n",
            "img_00691.csv\n",
            "img_00692.csv\n",
            "img_00693.csv\n"
          ],
          "name": "stdout"
        },
        {
          "output_type": "stream",
          "text": [
            " 41%|████      | 699/1712 [00:29<00:39, 25.48it/s]"
          ],
          "name": "stderr"
        },
        {
          "output_type": "stream",
          "text": [
            "img_00694.csv\n",
            "img_00695.csv\n",
            "img_00696.csv\n",
            "img_00697.csv\n",
            "img_00698.csv\n",
            "img_00699.csv\n"
          ],
          "name": "stdout"
        },
        {
          "output_type": "stream",
          "text": [
            " 41%|████      | 702/1712 [00:29<00:40, 24.87it/s]"
          ],
          "name": "stderr"
        },
        {
          "output_type": "stream",
          "text": [
            "img_00700.csv\n",
            "img_00701.csv\n",
            "img_00702.csv\n",
            "img_00703.csv\n",
            "img_00704.csv\n"
          ],
          "name": "stdout"
        },
        {
          "output_type": "stream",
          "text": [
            " 41%|████▏     | 708/1712 [00:29<00:41, 24.38it/s]"
          ],
          "name": "stderr"
        },
        {
          "output_type": "stream",
          "text": [
            "img_00705.csv\n",
            "img_00706.csv\n",
            "img_00707.csv\n",
            "img_00708.csv\n",
            "img_00709.csv\n",
            "img_00710.csv\n"
          ],
          "name": "stdout"
        },
        {
          "output_type": "stream",
          "text": [
            " 42%|████▏     | 714/1712 [00:30<00:39, 25.13it/s]"
          ],
          "name": "stderr"
        },
        {
          "output_type": "stream",
          "text": [
            "img_00711.csv\n",
            "img_00712.csv\n",
            "img_00713.csv\n",
            "img_00714.csv\n",
            "img_00715.csv\n",
            "img_00716.csv\n"
          ],
          "name": "stdout"
        },
        {
          "output_type": "stream",
          "text": [
            " 42%|████▏     | 720/1712 [00:30<00:40, 24.37it/s]"
          ],
          "name": "stderr"
        },
        {
          "output_type": "stream",
          "text": [
            "img_00717.csv\n",
            "img_00718.csv\n",
            "img_00719.csv\n",
            "img_00720.csv\n",
            "img_00721.csv\n"
          ],
          "name": "stdout"
        },
        {
          "output_type": "stream",
          "text": [
            " 42%|████▏     | 726/1712 [00:30<00:39, 24.96it/s]"
          ],
          "name": "stderr"
        },
        {
          "output_type": "stream",
          "text": [
            "img_00722.csv\n",
            "img_00723.csv\n",
            "img_00724.csv\n",
            "img_00725.csv\n",
            "img_00726.csv\n"
          ],
          "name": "stdout"
        },
        {
          "output_type": "stream",
          "text": [
            " 43%|████▎     | 729/1712 [00:30<00:40, 24.28it/s]"
          ],
          "name": "stderr"
        },
        {
          "output_type": "stream",
          "text": [
            "img_00727.csv\n",
            "img_00728.csv\n",
            "img_00729.csv\n",
            "img_00730.csv\n",
            "img_00731.csv\n"
          ],
          "name": "stdout"
        },
        {
          "output_type": "stream",
          "text": [
            " 43%|████▎     | 735/1712 [00:30<00:44, 21.86it/s]"
          ],
          "name": "stderr"
        },
        {
          "output_type": "stream",
          "text": [
            "img_00732.csv\n",
            "img_00733.csv\n",
            "img_00734.csv\n",
            "img_00735.csv\n",
            "img_00736.csv\n"
          ],
          "name": "stdout"
        },
        {
          "output_type": "stream",
          "text": [
            " 43%|████▎     | 741/1712 [00:31<00:40, 24.14it/s]"
          ],
          "name": "stderr"
        },
        {
          "output_type": "stream",
          "text": [
            "img_00737.csv\n",
            "img_00738.csv\n",
            "img_00739.csv\n",
            "img_00740.csv\n",
            "img_00741.csv\n",
            "img_00742.csv\n"
          ],
          "name": "stdout"
        },
        {
          "output_type": "stream",
          "text": [
            " 44%|████▎     | 747/1712 [00:31<00:39, 24.70it/s]"
          ],
          "name": "stderr"
        },
        {
          "output_type": "stream",
          "text": [
            "img_00743.csv\n",
            "img_00744.csv\n",
            "img_00745.csv\n",
            "img_00746.csv\n",
            "img_00747.csv\n",
            "img_00748.csv\n"
          ],
          "name": "stdout"
        },
        {
          "output_type": "stream",
          "text": [
            " 44%|████▍     | 753/1712 [00:31<00:38, 24.94it/s]"
          ],
          "name": "stderr"
        },
        {
          "output_type": "stream",
          "text": [
            "img_00749.csv\n",
            "img_00750.csv\n",
            "img_00751.csv\n",
            "img_00752.csv\n",
            "img_00753.csv\n"
          ],
          "name": "stdout"
        },
        {
          "output_type": "stream",
          "text": [
            " 44%|████▍     | 759/1712 [00:31<00:37, 25.20it/s]"
          ],
          "name": "stderr"
        },
        {
          "output_type": "stream",
          "text": [
            "img_00754.csv\n",
            "img_00755.csv\n",
            "img_00756.csv\n",
            "img_00757.csv\n",
            "img_00758.csv\n",
            "img_00759.csv\n"
          ],
          "name": "stdout"
        },
        {
          "output_type": "stream",
          "text": [
            " 45%|████▍     | 762/1712 [00:32<00:38, 24.59it/s]"
          ],
          "name": "stderr"
        },
        {
          "output_type": "stream",
          "text": [
            "img_00760.csv\n",
            "img_00761.csv\n",
            "img_00762.csv\n",
            "img_00763.csv\n",
            "img_00764.csv\n"
          ],
          "name": "stdout"
        },
        {
          "output_type": "stream",
          "text": [
            " 45%|████▍     | 768/1712 [00:32<00:38, 24.61it/s]"
          ],
          "name": "stderr"
        },
        {
          "output_type": "stream",
          "text": [
            "img_00765.csv\n",
            "img_00766.csv\n",
            "img_00767.csv\n",
            "img_00768.csv\n",
            "img_00769.csv\n",
            "img_00770.csv\n"
          ],
          "name": "stdout"
        },
        {
          "output_type": "stream",
          "text": [
            " 45%|████▌     | 774/1712 [00:32<00:40, 22.92it/s]"
          ],
          "name": "stderr"
        },
        {
          "output_type": "stream",
          "text": [
            "img_00771.csv\n",
            "img_00772.csv\n",
            "img_00773.csv\n",
            "img_00774.csv\n",
            "img_00775.csv\n"
          ],
          "name": "stdout"
        },
        {
          "output_type": "stream",
          "text": [
            " 46%|████▌     | 780/1712 [00:32<00:39, 23.55it/s]"
          ],
          "name": "stderr"
        },
        {
          "output_type": "stream",
          "text": [
            "img_00776.csv\n",
            "img_00777.csv\n",
            "img_00778.csv\n",
            "img_00779.csv\n",
            "img_00780.csv\n"
          ],
          "name": "stdout"
        },
        {
          "output_type": "stream",
          "text": [
            " 46%|████▌     | 786/1712 [00:33<00:37, 25.01it/s]"
          ],
          "name": "stderr"
        },
        {
          "output_type": "stream",
          "text": [
            "img_00781.csv\n",
            "img_00782.csv\n",
            "img_00783.csv\n",
            "img_00784.csv\n",
            "img_00785.csv\n",
            "img_00786.csv\n"
          ],
          "name": "stdout"
        },
        {
          "output_type": "stream",
          "text": [
            " 46%|████▋     | 792/1712 [00:33<00:35, 26.09it/s]"
          ],
          "name": "stderr"
        },
        {
          "output_type": "stream",
          "text": [
            "img_00787.csv\n",
            "img_00788.csv\n",
            "img_00789.csv\n",
            "img_00790.csv\n",
            "img_00791.csv\n",
            "img_00792.csv\n"
          ],
          "name": "stdout"
        },
        {
          "output_type": "stream",
          "text": [
            " 47%|████▋     | 798/1712 [00:33<00:35, 25.80it/s]"
          ],
          "name": "stderr"
        },
        {
          "output_type": "stream",
          "text": [
            "img_00793.csv\n",
            "img_00794.csv\n",
            "img_00795.csv\n",
            "img_00796.csv\n",
            "img_00797.csv\n",
            "img_00798.csv\n"
          ],
          "name": "stdout"
        },
        {
          "output_type": "stream",
          "text": [
            " 47%|████▋     | 804/1712 [00:33<00:34, 26.70it/s]"
          ],
          "name": "stderr"
        },
        {
          "output_type": "stream",
          "text": [
            "img_00799.csv\n",
            "img_00800.csv\n",
            "img_00801.csv\n",
            "img_00802.csv\n",
            "img_00803.csv\n",
            "img_00804.csv\n"
          ],
          "name": "stdout"
        },
        {
          "output_type": "stream",
          "text": [
            " 47%|████▋     | 807/1712 [00:33<00:34, 26.06it/s]"
          ],
          "name": "stderr"
        },
        {
          "output_type": "stream",
          "text": [
            "img_00805.csv\n",
            "img_00806.csv\n",
            "img_00807.csv\n",
            "img_00808.csv\n",
            "img_00809.csv\n"
          ],
          "name": "stdout"
        },
        {
          "output_type": "stream",
          "text": [
            " 47%|████▋     | 813/1712 [00:34<00:35, 25.63it/s]"
          ],
          "name": "stderr"
        },
        {
          "output_type": "stream",
          "text": [
            "img_00810.csv\n",
            "img_00811.csv\n",
            "img_00812.csv\n",
            "img_00813.csv\n",
            "img_00814.csv\n",
            "img_00815.csv\n"
          ],
          "name": "stdout"
        },
        {
          "output_type": "stream",
          "text": [
            " 48%|████▊     | 819/1712 [00:34<00:35, 25.27it/s]"
          ],
          "name": "stderr"
        },
        {
          "output_type": "stream",
          "text": [
            "img_00816.csv\n",
            "img_00817.csv\n",
            "img_00818.csv\n",
            "img_00819.csv\n",
            "img_00820.csv\n",
            "img_00821.csv\n"
          ],
          "name": "stdout"
        },
        {
          "output_type": "stream",
          "text": [
            " 48%|████▊     | 825/1712 [00:34<00:38, 22.93it/s]"
          ],
          "name": "stderr"
        },
        {
          "output_type": "stream",
          "text": [
            "img_00822.csv\n",
            "img_00823.csv\n",
            "img_00824.csv\n",
            "img_00825.csv\n"
          ],
          "name": "stdout"
        },
        {
          "output_type": "stream",
          "text": [
            " 48%|████▊     | 828/1712 [00:34<00:42, 20.78it/s]"
          ],
          "name": "stderr"
        },
        {
          "output_type": "stream",
          "text": [
            "img_00826.csv\n",
            "img_00827.csv\n",
            "img_00828.csv\n",
            "img_00829.csv\n",
            "img_00830.csv\n"
          ],
          "name": "stdout"
        },
        {
          "output_type": "stream",
          "text": [
            " 49%|████▊     | 834/1712 [00:35<00:42, 20.87it/s]"
          ],
          "name": "stderr"
        },
        {
          "output_type": "stream",
          "text": [
            "img_00831.csv\n",
            "img_00832.csv\n",
            "img_00833.csv\n",
            "img_00834.csv\n",
            "img_00835.csv\n"
          ],
          "name": "stdout"
        },
        {
          "output_type": "stream",
          "text": [
            " 49%|████▉     | 840/1712 [00:35<00:40, 21.39it/s]"
          ],
          "name": "stderr"
        },
        {
          "output_type": "stream",
          "text": [
            "img_00836.csv\n",
            "img_00837.csv\n",
            "img_00838.csv\n",
            "img_00839.csv\n",
            "img_00840.csv\n"
          ],
          "name": "stdout"
        },
        {
          "output_type": "stream",
          "text": [
            " 49%|████▉     | 843/1712 [00:35<00:38, 22.55it/s]"
          ],
          "name": "stderr"
        },
        {
          "output_type": "stream",
          "text": [
            "img_00841.csv\n",
            "img_00842.csv\n",
            "img_00843.csv\n",
            "img_00844.csv\n",
            "img_00845.csv\n"
          ],
          "name": "stdout"
        },
        {
          "output_type": "stream",
          "text": [
            " 50%|████▉     | 849/1712 [00:35<00:35, 24.16it/s]"
          ],
          "name": "stderr"
        },
        {
          "output_type": "stream",
          "text": [
            "img_00846.csv\n",
            "img_00847.csv\n",
            "img_00848.csv\n",
            "img_00849.csv\n",
            "img_00850.csv\n",
            "img_00851.csv\n"
          ],
          "name": "stdout"
        },
        {
          "output_type": "stream",
          "text": [
            " 50%|████▉     | 855/1712 [00:35<00:33, 25.23it/s]"
          ],
          "name": "stderr"
        },
        {
          "output_type": "stream",
          "text": [
            "img_00852.csv\n",
            "img_00853.csv\n",
            "img_00854.csv\n",
            "img_00855.csv\n",
            "img_00856.csv\n",
            "img_00857.csv\n"
          ],
          "name": "stdout"
        },
        {
          "output_type": "stream",
          "text": [
            " 50%|█████     | 861/1712 [00:36<00:31, 26.86it/s]"
          ],
          "name": "stderr"
        },
        {
          "output_type": "stream",
          "text": [
            "img_00858.csv\n",
            "img_00859.csv\n",
            "img_00860.csv\n",
            "img_00861.csv\n",
            "img_00862.csv\n",
            "img_00863.csv\n"
          ],
          "name": "stdout"
        },
        {
          "output_type": "stream",
          "text": [
            " 51%|█████     | 867/1712 [00:36<00:33, 25.23it/s]"
          ],
          "name": "stderr"
        },
        {
          "output_type": "stream",
          "text": [
            "img_00864.csv\n",
            "img_00865.csv\n",
            "img_00866.csv\n",
            "img_00867.csv\n",
            "img_00868.csv\n"
          ],
          "name": "stdout"
        },
        {
          "output_type": "stream",
          "text": [
            " 51%|█████     | 873/1712 [00:36<00:36, 23.27it/s]"
          ],
          "name": "stderr"
        },
        {
          "output_type": "stream",
          "text": [
            "img_00869.csv\n",
            "img_00870.csv\n",
            "img_00871.csv\n",
            "img_00872.csv\n",
            "img_00873.csv\n"
          ],
          "name": "stdout"
        },
        {
          "output_type": "stream",
          "text": [
            " 51%|█████     | 876/1712 [00:36<00:36, 22.66it/s]"
          ],
          "name": "stderr"
        },
        {
          "output_type": "stream",
          "text": [
            "img_00874.csv\n",
            "img_00875.csv\n",
            "img_00876.csv\n",
            "img_00877.csv\n",
            "img_00878.csv\n"
          ],
          "name": "stdout"
        },
        {
          "output_type": "stream",
          "text": [
            " 52%|█████▏    | 882/1712 [00:36<00:33, 24.76it/s]"
          ],
          "name": "stderr"
        },
        {
          "output_type": "stream",
          "text": [
            "img_00879.csv\n",
            "img_00880.csv\n",
            "img_00881.csv\n",
            "img_00882.csv\n",
            "img_00883.csv\n",
            "img_00884.csv\n"
          ],
          "name": "stdout"
        },
        {
          "output_type": "stream",
          "text": [
            " 52%|█████▏    | 888/1712 [00:37<00:30, 26.65it/s]"
          ],
          "name": "stderr"
        },
        {
          "output_type": "stream",
          "text": [
            "img_00885.csv\n",
            "img_00886.csv\n",
            "img_00887.csv\n",
            "img_00888.csv\n",
            "img_00889.csv\n",
            "img_00890.csv\n"
          ],
          "name": "stdout"
        },
        {
          "output_type": "stream",
          "text": [
            " 52%|█████▏    | 894/1712 [00:37<00:31, 26.29it/s]"
          ],
          "name": "stderr"
        },
        {
          "output_type": "stream",
          "text": [
            "img_00891.csv\n",
            "img_00892.csv\n",
            "img_00893.csv\n",
            "img_00894.csv\n",
            "img_00895.csv\n",
            "img_00896.csv\n"
          ],
          "name": "stdout"
        },
        {
          "output_type": "stream",
          "text": [
            " 53%|█████▎    | 900/1712 [00:37<00:35, 23.00it/s]"
          ],
          "name": "stderr"
        },
        {
          "output_type": "stream",
          "text": [
            "img_00897.csv\n",
            "img_00898.csv\n",
            "img_00899.csv\n",
            "img_00900.csv\n"
          ],
          "name": "stdout"
        },
        {
          "output_type": "stream",
          "text": [
            " 53%|█████▎    | 903/1712 [00:37<00:36, 21.89it/s]"
          ],
          "name": "stderr"
        },
        {
          "output_type": "stream",
          "text": [
            "img_00901.csv\n",
            "img_00902.csv\n",
            "img_00903.csv\n",
            "img_00904.csv\n"
          ],
          "name": "stdout"
        },
        {
          "output_type": "stream",
          "text": [
            " 53%|█████▎    | 906/1712 [00:38<00:39, 20.61it/s]"
          ],
          "name": "stderr"
        },
        {
          "output_type": "stream",
          "text": [
            "img_00905.csv\n",
            "img_00906.csv\n",
            "img_00907.csv\n",
            "img_00908.csv\n"
          ],
          "name": "stdout"
        },
        {
          "output_type": "stream",
          "text": [
            " 53%|█████▎    | 912/1712 [00:38<00:38, 20.67it/s]"
          ],
          "name": "stderr"
        },
        {
          "output_type": "stream",
          "text": [
            "img_00909.csv\n",
            "img_00910.csv\n",
            "img_00911.csv\n",
            "img_00912.csv\n",
            "img_00913.csv\n"
          ],
          "name": "stdout"
        },
        {
          "output_type": "stream",
          "text": [
            " 54%|█████▎    | 918/1712 [00:38<00:36, 21.74it/s]"
          ],
          "name": "stderr"
        },
        {
          "output_type": "stream",
          "text": [
            "img_00914.csv\n",
            "img_00915.csv\n",
            "img_00916.csv\n",
            "img_00917.csv\n",
            "img_00918.csv\n"
          ],
          "name": "stdout"
        },
        {
          "output_type": "stream",
          "text": [
            " 54%|█████▍    | 921/1712 [00:38<00:38, 20.52it/s]"
          ],
          "name": "stderr"
        },
        {
          "output_type": "stream",
          "text": [
            "img_00919.csv\n",
            "img_00920.csv\n",
            "img_00921.csv\n",
            "img_00922.csv\n",
            "img_00923.csv\n"
          ],
          "name": "stdout"
        },
        {
          "output_type": "stream",
          "text": [
            " 54%|█████▍    | 927/1712 [00:39<00:35, 21.97it/s]"
          ],
          "name": "stderr"
        },
        {
          "output_type": "stream",
          "text": [
            "img_00924.csv\n",
            "img_00925.csv\n",
            "img_00926.csv\n",
            "img_00927.csv\n",
            "img_00928.csv\n",
            "img_00929.csv\n"
          ],
          "name": "stdout"
        },
        {
          "output_type": "stream",
          "text": [
            " 54%|█████▍    | 933/1712 [00:39<00:31, 24.86it/s]"
          ],
          "name": "stderr"
        },
        {
          "output_type": "stream",
          "text": [
            "img_00930.csv\n",
            "img_00931.csv\n",
            "img_00932.csv\n",
            "img_00933.csv\n",
            "img_00934.csv\n",
            "img_00935.csv\n"
          ],
          "name": "stdout"
        },
        {
          "output_type": "stream",
          "text": [
            " 55%|█████▍    | 939/1712 [00:39<00:30, 25.32it/s]"
          ],
          "name": "stderr"
        },
        {
          "output_type": "stream",
          "text": [
            "img_00936.csv\n",
            "img_00937.csv\n",
            "img_00938.csv\n",
            "img_00939.csv\n",
            "img_00940.csv\n",
            "img_00941.csv\n"
          ],
          "name": "stdout"
        },
        {
          "output_type": "stream",
          "text": [
            " 55%|█████▌    | 945/1712 [00:39<00:32, 23.79it/s]"
          ],
          "name": "stderr"
        },
        {
          "output_type": "stream",
          "text": [
            "img_00942.csv\n",
            "img_00943.csv\n",
            "img_00944.csv\n",
            "img_00945.csv\n",
            "img_00946.csv\n"
          ],
          "name": "stdout"
        },
        {
          "output_type": "stream",
          "text": [
            " 56%|█████▌    | 951/1712 [00:39<00:30, 25.18it/s]"
          ],
          "name": "stderr"
        },
        {
          "output_type": "stream",
          "text": [
            "img_00947.csv\n",
            "img_00948.csv\n",
            "img_00949.csv\n",
            "img_00950.csv\n",
            "img_00951.csv\n",
            "img_00952.csv\n"
          ],
          "name": "stdout"
        },
        {
          "output_type": "stream",
          "text": [
            " 56%|█████▌    | 957/1712 [00:40<00:29, 25.94it/s]"
          ],
          "name": "stderr"
        },
        {
          "output_type": "stream",
          "text": [
            "img_00953.csv\n",
            "img_00954.csv\n",
            "img_00955.csv\n",
            "img_00956.csv\n",
            "img_00957.csv\n",
            "img_00958.csv\n"
          ],
          "name": "stdout"
        },
        {
          "output_type": "stream",
          "text": [
            " 56%|█████▋    | 963/1712 [00:40<00:29, 25.26it/s]"
          ],
          "name": "stderr"
        },
        {
          "output_type": "stream",
          "text": [
            "img_00959.csv\n",
            "img_00960.csv\n",
            "img_00961.csv\n",
            "img_00962.csv\n",
            "img_00963.csv\n"
          ],
          "name": "stdout"
        },
        {
          "output_type": "stream",
          "text": [
            " 57%|█████▋    | 969/1712 [00:40<00:28, 26.14it/s]"
          ],
          "name": "stderr"
        },
        {
          "output_type": "stream",
          "text": [
            "img_00964.csv\n",
            "img_00965.csv\n",
            "img_00966.csv\n",
            "img_00967.csv\n",
            "img_00968.csv\n",
            "img_00969.csv\n"
          ],
          "name": "stdout"
        },
        {
          "output_type": "stream",
          "text": [
            " 57%|█████▋    | 972/1712 [00:40<00:28, 25.83it/s]"
          ],
          "name": "stderr"
        },
        {
          "output_type": "stream",
          "text": [
            "img_00970.csv\n",
            "img_00971.csv\n",
            "img_00972.csv\n",
            "img_00973.csv\n",
            "img_00974.csv\n"
          ],
          "name": "stdout"
        },
        {
          "output_type": "stream",
          "text": [
            " 57%|█████▋    | 978/1712 [00:40<00:28, 25.51it/s]"
          ],
          "name": "stderr"
        },
        {
          "output_type": "stream",
          "text": [
            "img_00975.csv\n",
            "img_00976.csv\n",
            "img_00977.csv\n",
            "img_00978.csv\n",
            "img_00979.csv\n",
            "img_00980.csv\n"
          ],
          "name": "stdout"
        },
        {
          "output_type": "stream",
          "text": [
            " 57%|█████▋    | 984/1712 [00:41<00:29, 24.88it/s]"
          ],
          "name": "stderr"
        },
        {
          "output_type": "stream",
          "text": [
            "img_00981.csv\n",
            "img_00982.csv\n",
            "img_00983.csv\n",
            "img_00984.csv\n",
            "img_00985.csv\n",
            "img_00986.csv\n"
          ],
          "name": "stdout"
        },
        {
          "output_type": "stream",
          "text": [
            " 58%|█████▊    | 990/1712 [00:41<00:28, 25.46it/s]"
          ],
          "name": "stderr"
        },
        {
          "output_type": "stream",
          "text": [
            "img_00987.csv\n",
            "img_00988.csv\n",
            "img_00989.csv\n",
            "img_00990.csv\n",
            "img_00991.csv\n",
            "img_00992.csv\n"
          ],
          "name": "stdout"
        },
        {
          "output_type": "stream",
          "text": [
            " 58%|█████▊    | 996/1712 [00:41<00:28, 25.13it/s]"
          ],
          "name": "stderr"
        },
        {
          "output_type": "stream",
          "text": [
            "img_00993.csv\n",
            "img_00994.csv\n",
            "img_00995.csv\n",
            "img_00996.csv\n",
            "img_00997.csv\n",
            "img_00998.csv\n"
          ],
          "name": "stdout"
        },
        {
          "output_type": "stream",
          "text": [
            " 59%|█████▊    | 1002/1712 [00:41<00:26, 26.47it/s]"
          ],
          "name": "stderr"
        },
        {
          "output_type": "stream",
          "text": [
            "img_00999.csv\n",
            "img_01000.csv\n",
            "img_01001.csv\n",
            "img_01002.csv\n",
            "img_01003.csv\n",
            "img_01004.csv\n"
          ],
          "name": "stdout"
        },
        {
          "output_type": "stream",
          "text": [
            " 59%|█████▉    | 1009/1712 [00:42<00:25, 28.09it/s]"
          ],
          "name": "stderr"
        },
        {
          "output_type": "stream",
          "text": [
            "img_01005.csv\n",
            "img_01006.csv\n",
            "img_01007.csv\n",
            "img_01008.csv\n",
            "img_01009.csv\n",
            "img_01010.csv\n"
          ],
          "name": "stdout"
        },
        {
          "output_type": "stream",
          "text": [
            " 59%|█████▉    | 1015/1712 [00:42<00:27, 25.00it/s]"
          ],
          "name": "stderr"
        },
        {
          "output_type": "stream",
          "text": [
            "img_01011.csv\n",
            "img_01012.csv\n",
            "img_01013.csv\n",
            "img_01014.csv\n",
            "img_01015.csv\n"
          ],
          "name": "stdout"
        },
        {
          "output_type": "stream",
          "text": [
            " 60%|█████▉    | 1021/1712 [00:42<00:26, 25.93it/s]"
          ],
          "name": "stderr"
        },
        {
          "output_type": "stream",
          "text": [
            "img_01016.csv\n",
            "img_01017.csv\n",
            "img_01018.csv\n",
            "img_01019.csv\n",
            "img_01020.csv\n",
            "img_01021.csv\n"
          ],
          "name": "stdout"
        },
        {
          "output_type": "stream",
          "text": [
            " 60%|█████▉    | 1027/1712 [00:42<00:26, 26.01it/s]"
          ],
          "name": "stderr"
        },
        {
          "output_type": "stream",
          "text": [
            "img_01022.csv\n",
            "img_01023.csv\n",
            "img_01024.csv\n",
            "img_01025.csv\n",
            "img_01026.csv\n",
            "img_01027.csv\n"
          ],
          "name": "stdout"
        },
        {
          "output_type": "stream",
          "text": [
            " 60%|██████    | 1030/1712 [00:43<00:26, 25.80it/s]"
          ],
          "name": "stderr"
        },
        {
          "output_type": "stream",
          "text": [
            "img_01028.csv\n",
            "img_01029.csv\n",
            "img_01030.csv\n",
            "img_01031.csv\n",
            "img_01032.csv\n"
          ],
          "name": "stdout"
        },
        {
          "output_type": "stream",
          "text": [
            " 61%|██████    | 1036/1712 [00:43<00:26, 25.84it/s]"
          ],
          "name": "stderr"
        },
        {
          "output_type": "stream",
          "text": [
            "img_01033.csv\n",
            "img_01034.csv\n",
            "img_01035.csv\n",
            "img_01036.csv\n",
            "img_01037.csv\n",
            "img_01038.csv\n"
          ],
          "name": "stdout"
        },
        {
          "output_type": "stream",
          "text": [
            " 61%|██████    | 1042/1712 [00:43<00:25, 26.13it/s]"
          ],
          "name": "stderr"
        },
        {
          "output_type": "stream",
          "text": [
            "img_01039.csv\n",
            "img_01040.csv\n",
            "img_01041.csv\n",
            "img_01042.csv\n",
            "img_01043.csv\n",
            "img_01044.csv\n"
          ],
          "name": "stdout"
        },
        {
          "output_type": "stream",
          "text": [
            " 61%|██████    | 1048/1712 [00:43<00:25, 26.01it/s]"
          ],
          "name": "stderr"
        },
        {
          "output_type": "stream",
          "text": [
            "img_01045.csv\n",
            "img_01046.csv\n",
            "img_01047.csv\n",
            "img_01048.csv\n",
            "img_01049.csv\n",
            "img_01050.csv\n"
          ],
          "name": "stdout"
        },
        {
          "output_type": "stream",
          "text": [
            " 62%|██████▏   | 1054/1712 [00:43<00:24, 27.10it/s]"
          ],
          "name": "stderr"
        },
        {
          "output_type": "stream",
          "text": [
            "img_01051.csv\n",
            "img_01052.csv\n",
            "img_01053.csv\n",
            "img_01054.csv\n",
            "img_01055.csv\n",
            "img_01056.csv\n"
          ],
          "name": "stdout"
        },
        {
          "output_type": "stream",
          "text": [
            " 62%|██████▏   | 1060/1712 [00:44<00:23, 27.22it/s]"
          ],
          "name": "stderr"
        },
        {
          "output_type": "stream",
          "text": [
            "img_01057.csv\n",
            "img_01058.csv\n",
            "img_01059.csv\n",
            "img_01060.csv\n",
            "img_01061.csv\n",
            "img_01062.csv\n"
          ],
          "name": "stdout"
        },
        {
          "output_type": "stream",
          "text": [
            " 62%|██████▏   | 1066/1712 [00:44<00:24, 26.36it/s]"
          ],
          "name": "stderr"
        },
        {
          "output_type": "stream",
          "text": [
            "img_01063.csv\n",
            "img_01064.csv\n",
            "img_01065.csv\n",
            "img_01066.csv\n",
            "img_01067.csv\n"
          ],
          "name": "stdout"
        },
        {
          "output_type": "stream",
          "text": [
            " 63%|██████▎   | 1072/1712 [00:44<00:25, 25.03it/s]"
          ],
          "name": "stderr"
        },
        {
          "output_type": "stream",
          "text": [
            "img_01068.csv\n",
            "img_01069.csv\n",
            "img_01070.csv\n",
            "img_01071.csv\n",
            "img_01072.csv\n",
            "img_01073.csv\n"
          ],
          "name": "stdout"
        },
        {
          "output_type": "stream",
          "text": [
            " 63%|██████▎   | 1078/1712 [00:44<00:23, 26.49it/s]"
          ],
          "name": "stderr"
        },
        {
          "output_type": "stream",
          "text": [
            "img_01074.csv\n",
            "img_01075.csv\n",
            "img_01076.csv\n",
            "img_01077.csv\n",
            "img_01078.csv\n",
            "img_01079.csv\n"
          ],
          "name": "stdout"
        },
        {
          "output_type": "stream",
          "text": [
            " 63%|██████▎   | 1084/1712 [00:45<00:24, 25.99it/s]"
          ],
          "name": "stderr"
        },
        {
          "output_type": "stream",
          "text": [
            "img_01080.csv\n",
            "img_01081.csv\n",
            "img_01082.csv\n",
            "img_01083.csv\n",
            "img_01084.csv\n",
            "img_01085.csv\n"
          ],
          "name": "stdout"
        },
        {
          "output_type": "stream",
          "text": [
            " 64%|██████▎   | 1090/1712 [00:45<00:24, 25.58it/s]"
          ],
          "name": "stderr"
        },
        {
          "output_type": "stream",
          "text": [
            "img_01086.csv\n",
            "img_01087.csv\n",
            "img_01088.csv\n",
            "img_01089.csv\n",
            "img_01090.csv\n",
            "img_01091.csv\n"
          ],
          "name": "stdout"
        },
        {
          "output_type": "stream",
          "text": [
            " 64%|██████▍   | 1096/1712 [00:45<00:24, 25.39it/s]"
          ],
          "name": "stderr"
        },
        {
          "output_type": "stream",
          "text": [
            "img_01092.csv\n",
            "img_01093.csv\n",
            "img_01094.csv\n",
            "img_01095.csv\n",
            "img_01096.csv\n",
            "img_01097.csv\n"
          ],
          "name": "stdout"
        },
        {
          "output_type": "stream",
          "text": [
            " 64%|██████▍   | 1102/1712 [00:45<00:24, 24.65it/s]"
          ],
          "name": "stderr"
        },
        {
          "output_type": "stream",
          "text": [
            "img_01098.csv\n",
            "img_01099.csv\n",
            "img_01100.csv\n",
            "img_01101.csv\n",
            "img_01102.csv\n"
          ],
          "name": "stdout"
        },
        {
          "output_type": "stream",
          "text": [
            " 65%|██████▍   | 1108/1712 [00:46<00:24, 25.07it/s]"
          ],
          "name": "stderr"
        },
        {
          "output_type": "stream",
          "text": [
            "img_01103.csv\n",
            "img_01104.csv\n",
            "img_01105.csv\n",
            "img_01106.csv\n",
            "img_01107.csv\n",
            "img_01108.csv\n"
          ],
          "name": "stdout"
        },
        {
          "output_type": "stream",
          "text": [
            " 65%|██████▍   | 1111/1712 [00:46<00:23, 25.36it/s]"
          ],
          "name": "stderr"
        },
        {
          "output_type": "stream",
          "text": [
            "img_01109.csv\n",
            "img_01110.csv\n",
            "img_01111.csv\n",
            "img_01112.csv\n",
            "img_01113.csv\n"
          ],
          "name": "stdout"
        },
        {
          "output_type": "stream",
          "text": [
            " 65%|██████▌   | 1117/1712 [00:46<00:23, 25.85it/s]"
          ],
          "name": "stderr"
        },
        {
          "output_type": "stream",
          "text": [
            "img_01114.csv\n",
            "img_01115.csv\n",
            "img_01116.csv\n",
            "img_01117.csv\n",
            "img_01118.csv\n",
            "img_01119.csv\n"
          ],
          "name": "stdout"
        },
        {
          "output_type": "stream",
          "text": [
            " 66%|██████▌   | 1123/1712 [00:46<00:23, 25.27it/s]"
          ],
          "name": "stderr"
        },
        {
          "output_type": "stream",
          "text": [
            "img_01120.csv\n",
            "img_01121.csv\n",
            "img_01122.csv\n",
            "img_01123.csv\n",
            "img_01124.csv\n"
          ],
          "name": "stdout"
        },
        {
          "output_type": "stream",
          "text": [
            " 66%|██████▌   | 1129/1712 [00:46<00:23, 24.31it/s]"
          ],
          "name": "stderr"
        },
        {
          "output_type": "stream",
          "text": [
            "img_01125.csv\n",
            "img_01126.csv\n",
            "img_01127.csv\n",
            "img_01128.csv\n",
            "img_01129.csv\n"
          ],
          "name": "stdout"
        },
        {
          "output_type": "stream",
          "text": [
            " 66%|██████▌   | 1132/1712 [00:46<00:23, 24.57it/s]"
          ],
          "name": "stderr"
        },
        {
          "output_type": "stream",
          "text": [
            "img_01130.csv\n",
            "img_01131.csv\n",
            "img_01132.csv\n",
            "img_01133.csv\n",
            "img_01134.csv\n"
          ],
          "name": "stdout"
        },
        {
          "output_type": "stream",
          "text": [
            " 66%|██████▋   | 1138/1712 [00:47<00:22, 25.04it/s]"
          ],
          "name": "stderr"
        },
        {
          "output_type": "stream",
          "text": [
            "img_01135.csv\n",
            "img_01136.csv\n",
            "img_01137.csv\n",
            "img_01138.csv\n",
            "img_01139.csv\n",
            "img_01140.csv\n"
          ],
          "name": "stdout"
        },
        {
          "output_type": "stream",
          "text": [
            " 67%|██████▋   | 1144/1712 [00:47<00:23, 24.47it/s]"
          ],
          "name": "stderr"
        },
        {
          "output_type": "stream",
          "text": [
            "img_01141.csv\n",
            "img_01142.csv\n",
            "img_01143.csv\n",
            "img_01144.csv\n",
            "img_01145.csv\n",
            "img_01146.csv\n"
          ],
          "name": "stdout"
        },
        {
          "output_type": "stream",
          "text": [
            " 67%|██████▋   | 1150/1712 [00:47<00:22, 24.75it/s]"
          ],
          "name": "stderr"
        },
        {
          "output_type": "stream",
          "text": [
            "img_01147.csv\n",
            "img_01148.csv\n",
            "img_01149.csv\n",
            "img_01150.csv\n",
            "img_01151.csv\n",
            "img_01152.csv\n"
          ],
          "name": "stdout"
        },
        {
          "output_type": "stream",
          "text": [
            " 68%|██████▊   | 1156/1712 [00:48<00:26, 20.86it/s]"
          ],
          "name": "stderr"
        },
        {
          "output_type": "stream",
          "text": [
            "img_01153.csv\n",
            "img_01154.csv\n",
            "img_01155.csv\n",
            "img_01156.csv\n"
          ],
          "name": "stdout"
        },
        {
          "output_type": "stream",
          "text": [
            " 68%|██████▊   | 1162/1712 [00:48<00:23, 23.59it/s]"
          ],
          "name": "stderr"
        },
        {
          "output_type": "stream",
          "text": [
            "img_01157.csv\n",
            "img_01158.csv\n",
            "img_01159.csv\n",
            "img_01160.csv\n",
            "img_01161.csv\n",
            "img_01162.csv\n"
          ],
          "name": "stdout"
        },
        {
          "output_type": "stream",
          "text": [
            " 68%|██████▊   | 1168/1712 [00:48<00:22, 24.42it/s]"
          ],
          "name": "stderr"
        },
        {
          "output_type": "stream",
          "text": [
            "img_01163.csv\n",
            "img_01164.csv\n",
            "img_01165.csv\n",
            "img_01166.csv\n",
            "img_01167.csv\n"
          ],
          "name": "stdout"
        },
        {
          "output_type": "stream",
          "text": [
            " 68%|██████▊   | 1171/1712 [00:48<00:23, 22.85it/s]"
          ],
          "name": "stderr"
        },
        {
          "output_type": "stream",
          "text": [
            "img_01168.csv\n",
            "img_01169.csv\n",
            "img_01170.csv\n",
            "img_01171.csv\n",
            "img_01172.csv\n"
          ],
          "name": "stdout"
        },
        {
          "output_type": "stream",
          "text": [
            " 69%|██████▉   | 1177/1712 [00:48<00:24, 21.85it/s]"
          ],
          "name": "stderr"
        },
        {
          "output_type": "stream",
          "text": [
            "img_01173.csv\n",
            "img_01174.csv\n",
            "img_01175.csv\n",
            "img_01176.csv\n",
            "img_01177.csv\n",
            "img_01178.csv\n"
          ],
          "name": "stdout"
        },
        {
          "output_type": "stream",
          "text": [
            " 69%|██████▉   | 1180/1712 [00:49<00:35, 14.81it/s]"
          ],
          "name": "stderr"
        },
        {
          "output_type": "stream",
          "text": [
            "img_01179.csv\n",
            "img_01180.csv\n",
            "img_01181.csv\n"
          ],
          "name": "stdout"
        },
        {
          "output_type": "stream",
          "text": [
            " 69%|██████▉   | 1185/1712 [00:49<00:40, 13.17it/s]"
          ],
          "name": "stderr"
        },
        {
          "output_type": "stream",
          "text": [
            "img_01182.csv\n",
            "img_01183.csv\n",
            "img_01184.csv\n",
            "img_01185.csv\n",
            "img_01186.csv\n"
          ],
          "name": "stdout"
        },
        {
          "output_type": "stream",
          "text": [
            " 70%|██████▉   | 1191/1712 [00:49<00:30, 16.95it/s]"
          ],
          "name": "stderr"
        },
        {
          "output_type": "stream",
          "text": [
            "img_01187.csv\n",
            "img_01188.csv\n",
            "img_01189.csv\n",
            "img_01190.csv\n",
            "img_01191.csv\n",
            "img_01192.csv\n"
          ],
          "name": "stdout"
        },
        {
          "output_type": "stream",
          "text": [
            " 70%|██████▉   | 1197/1712 [00:50<00:25, 20.53it/s]"
          ],
          "name": "stderr"
        },
        {
          "output_type": "stream",
          "text": [
            "img_01193.csv\n",
            "img_01194.csv\n",
            "img_01195.csv\n",
            "img_01196.csv\n",
            "img_01197.csv\n",
            "img_01198.csv\n"
          ],
          "name": "stdout"
        },
        {
          "output_type": "stream",
          "text": [
            " 70%|███████   | 1203/1712 [00:50<00:23, 21.74it/s]"
          ],
          "name": "stderr"
        },
        {
          "output_type": "stream",
          "text": [
            "img_01199.csv\n",
            "img_01200.csv\n",
            "img_01201.csv\n",
            "img_01202.csv\n",
            "img_01203.csv\n"
          ],
          "name": "stdout"
        },
        {
          "output_type": "stream",
          "text": [
            " 70%|███████   | 1206/1712 [00:50<00:23, 21.22it/s]"
          ],
          "name": "stderr"
        },
        {
          "output_type": "stream",
          "text": [
            "img_01204.csv\n",
            "img_01205.csv\n",
            "img_01206.csv\n",
            "img_01207.csv\n"
          ],
          "name": "stdout"
        },
        {
          "output_type": "stream",
          "text": [
            " 71%|███████   | 1209/1712 [00:50<00:24, 20.22it/s]"
          ],
          "name": "stderr"
        },
        {
          "output_type": "stream",
          "text": [
            "img_01208.csv\n",
            "img_01209.csv\n",
            "img_01210.csv\n",
            "img_01211.csv\n"
          ],
          "name": "stdout"
        },
        {
          "output_type": "stream",
          "text": [
            " 71%|███████   | 1215/1712 [00:51<00:26, 18.89it/s]"
          ],
          "name": "stderr"
        },
        {
          "output_type": "stream",
          "text": [
            "img_01212.csv\n",
            "img_01213.csv\n",
            "img_01214.csv\n",
            "img_01215.csv\n",
            "img_01216.csv\n"
          ],
          "name": "stdout"
        },
        {
          "output_type": "stream",
          "text": [
            " 71%|███████   | 1218/1712 [00:51<00:25, 19.62it/s]"
          ],
          "name": "stderr"
        },
        {
          "output_type": "stream",
          "text": [
            "img_01217.csv\n",
            "img_01218.csv\n",
            "img_01219.csv\n",
            "img_01220.csv\n"
          ],
          "name": "stdout"
        },
        {
          "output_type": "stream",
          "text": [
            " 71%|███████▏  | 1224/1712 [00:51<00:24, 20.16it/s]"
          ],
          "name": "stderr"
        },
        {
          "output_type": "stream",
          "text": [
            "img_01221.csv\n",
            "img_01222.csv\n",
            "img_01223.csv\n",
            "img_01224.csv\n",
            "img_01225.csv\n"
          ],
          "name": "stdout"
        },
        {
          "output_type": "stream",
          "text": [
            " 72%|███████▏  | 1230/1712 [00:51<00:22, 21.87it/s]"
          ],
          "name": "stderr"
        },
        {
          "output_type": "stream",
          "text": [
            "img_01226.csv\n",
            "img_01227.csv\n",
            "img_01228.csv\n",
            "img_01229.csv\n",
            "img_01230.csv\n",
            "img_01231.csv\n"
          ],
          "name": "stdout"
        },
        {
          "output_type": "stream",
          "text": [
            " 72%|███████▏  | 1236/1712 [00:52<00:19, 24.37it/s]"
          ],
          "name": "stderr"
        },
        {
          "output_type": "stream",
          "text": [
            "img_01232.csv\n",
            "img_01233.csv\n",
            "img_01234.csv\n",
            "img_01235.csv\n",
            "img_01236.csv\n",
            "img_01237.csv\n"
          ],
          "name": "stdout"
        },
        {
          "output_type": "stream",
          "text": [
            " 73%|███████▎  | 1242/1712 [00:52<00:19, 24.21it/s]"
          ],
          "name": "stderr"
        },
        {
          "output_type": "stream",
          "text": [
            "img_01238.csv\n",
            "img_01239.csv\n",
            "img_01240.csv\n",
            "img_01241.csv\n",
            "img_01242.csv\n"
          ],
          "name": "stdout"
        },
        {
          "output_type": "stream",
          "text": [
            " 73%|███████▎  | 1248/1712 [00:52<00:18, 24.60it/s]"
          ],
          "name": "stderr"
        },
        {
          "output_type": "stream",
          "text": [
            "img_01243.csv\n",
            "img_01244.csv\n",
            "img_01245.csv\n",
            "img_01246.csv\n",
            "img_01247.csv\n",
            "img_01248.csv\n"
          ],
          "name": "stdout"
        },
        {
          "output_type": "stream",
          "text": [
            " 73%|███████▎  | 1254/1712 [00:52<00:17, 26.47it/s]"
          ],
          "name": "stderr"
        },
        {
          "output_type": "stream",
          "text": [
            "img_01249.csv\n",
            "img_01250.csv\n",
            "img_01251.csv\n",
            "img_01252.csv\n",
            "img_01253.csv\n",
            "img_01254.csv\n"
          ],
          "name": "stdout"
        },
        {
          "output_type": "stream",
          "text": [
            " 74%|███████▎  | 1260/1712 [00:52<00:16, 27.21it/s]"
          ],
          "name": "stderr"
        },
        {
          "output_type": "stream",
          "text": [
            "img_01255.csv\n",
            "img_01256.csv\n",
            "img_01257.csv\n",
            "img_01258.csv\n",
            "img_01259.csv\n",
            "img_01260.csv\n"
          ],
          "name": "stdout"
        },
        {
          "output_type": "stream",
          "text": [
            " 74%|███████▍  | 1266/1712 [00:53<00:17, 26.00it/s]"
          ],
          "name": "stderr"
        },
        {
          "output_type": "stream",
          "text": [
            "img_01261.csv\n",
            "img_01262.csv\n",
            "img_01263.csv\n",
            "img_01264.csv\n",
            "img_01265.csv\n",
            "img_01266.csv\n"
          ],
          "name": "stdout"
        },
        {
          "output_type": "stream",
          "text": [
            " 74%|███████▍  | 1272/1712 [00:53<00:17, 25.50it/s]"
          ],
          "name": "stderr"
        },
        {
          "output_type": "stream",
          "text": [
            "img_01267.csv\n",
            "img_01268.csv\n",
            "img_01269.csv\n",
            "img_01270.csv\n",
            "img_01271.csv\n",
            "img_01272.csv\n"
          ],
          "name": "stdout"
        },
        {
          "output_type": "stream",
          "text": [
            " 74%|███████▍  | 1275/1712 [00:53<00:17, 25.07it/s]"
          ],
          "name": "stderr"
        },
        {
          "output_type": "stream",
          "text": [
            "img_01273.csv\n",
            "img_01274.csv\n",
            "img_01275.csv\n",
            "img_01276.csv\n",
            "img_01277.csv\n"
          ],
          "name": "stdout"
        },
        {
          "output_type": "stream",
          "text": [
            " 75%|███████▍  | 1281/1712 [00:53<00:17, 24.87it/s]"
          ],
          "name": "stderr"
        },
        {
          "output_type": "stream",
          "text": [
            "img_01278.csv\n",
            "img_01279.csv\n",
            "img_01280.csv\n",
            "img_01281.csv\n",
            "img_01282.csv\n",
            "img_01283.csv\n"
          ],
          "name": "stdout"
        },
        {
          "output_type": "stream",
          "text": [
            " 75%|███████▌  | 1287/1712 [00:54<00:17, 24.12it/s]"
          ],
          "name": "stderr"
        },
        {
          "output_type": "stream",
          "text": [
            "img_01284.csv\n",
            "img_01285.csv\n",
            "img_01286.csv\n",
            "img_01287.csv\n",
            "img_01288.csv\n"
          ],
          "name": "stdout"
        },
        {
          "output_type": "stream",
          "text": [
            " 76%|███████▌  | 1293/1712 [00:54<00:16, 25.11it/s]"
          ],
          "name": "stderr"
        },
        {
          "output_type": "stream",
          "text": [
            "img_01289.csv\n",
            "img_01290.csv\n",
            "img_01291.csv\n",
            "img_01292.csv\n",
            "img_01293.csv\n",
            "img_01294.csv\n"
          ],
          "name": "stdout"
        },
        {
          "output_type": "stream",
          "text": [
            " 76%|███████▌  | 1299/1712 [00:54<00:15, 26.25it/s]"
          ],
          "name": "stderr"
        },
        {
          "output_type": "stream",
          "text": [
            "img_01295.csv\n",
            "img_01296.csv\n",
            "img_01297.csv\n",
            "img_01298.csv\n",
            "img_01299.csv\n",
            "img_01300.csv\n"
          ],
          "name": "stdout"
        },
        {
          "output_type": "stream",
          "text": [
            " 76%|███████▌  | 1305/1712 [00:54<00:15, 26.09it/s]"
          ],
          "name": "stderr"
        },
        {
          "output_type": "stream",
          "text": [
            "img_01301.csv\n",
            "img_01302.csv\n",
            "img_01303.csv\n",
            "img_01304.csv\n",
            "img_01305.csv\n"
          ],
          "name": "stdout"
        },
        {
          "output_type": "stream",
          "text": [
            " 77%|███████▋  | 1311/1712 [00:54<00:15, 25.41it/s]"
          ],
          "name": "stderr"
        },
        {
          "output_type": "stream",
          "text": [
            "img_01306.csv\n",
            "img_01307.csv\n",
            "img_01308.csv\n",
            "img_01309.csv\n",
            "img_01310.csv\n",
            "img_01311.csv\n"
          ],
          "name": "stdout"
        },
        {
          "output_type": "stream",
          "text": [
            " 77%|███████▋  | 1317/1712 [00:55<00:15, 25.33it/s]"
          ],
          "name": "stderr"
        },
        {
          "output_type": "stream",
          "text": [
            "img_01312.csv\n",
            "img_01313.csv\n",
            "img_01314.csv\n",
            "img_01315.csv\n",
            "img_01316.csv\n",
            "img_01317.csv\n"
          ],
          "name": "stdout"
        },
        {
          "output_type": "stream",
          "text": [
            " 77%|███████▋  | 1320/1712 [00:55<00:15, 25.65it/s]"
          ],
          "name": "stderr"
        },
        {
          "output_type": "stream",
          "text": [
            "img_01318.csv\n",
            "img_01319.csv\n",
            "img_01320.csv\n",
            "img_01321.csv\n",
            "img_01322.csv\n"
          ],
          "name": "stdout"
        },
        {
          "output_type": "stream",
          "text": [
            " 77%|███████▋  | 1326/1712 [00:55<00:15, 24.30it/s]"
          ],
          "name": "stderr"
        },
        {
          "output_type": "stream",
          "text": [
            "img_01323.csv\n",
            "img_01324.csv\n",
            "img_01325.csv\n",
            "img_01326.csv\n",
            "img_01327.csv\n"
          ],
          "name": "stdout"
        },
        {
          "output_type": "stream",
          "text": [
            " 78%|███████▊  | 1332/1712 [00:55<00:15, 24.93it/s]"
          ],
          "name": "stderr"
        },
        {
          "output_type": "stream",
          "text": [
            "img_01328.csv\n",
            "img_01329.csv\n",
            "img_01330.csv\n",
            "img_01331.csv\n",
            "img_01332.csv\n",
            "img_01333.csv\n"
          ],
          "name": "stdout"
        },
        {
          "output_type": "stream",
          "text": [
            " 78%|███████▊  | 1338/1712 [00:56<00:15, 23.90it/s]"
          ],
          "name": "stderr"
        },
        {
          "output_type": "stream",
          "text": [
            "img_01334.csv\n",
            "img_01335.csv\n",
            "img_01336.csv\n",
            "img_01337.csv\n",
            "img_01338.csv\n"
          ],
          "name": "stdout"
        },
        {
          "output_type": "stream",
          "text": [
            " 79%|███████▊  | 1344/1712 [00:56<00:14, 24.70it/s]"
          ],
          "name": "stderr"
        },
        {
          "output_type": "stream",
          "text": [
            "img_01339.csv\n",
            "img_01340.csv\n",
            "img_01341.csv\n",
            "img_01342.csv\n",
            "img_01343.csv\n",
            "img_01344.csv\n"
          ],
          "name": "stdout"
        },
        {
          "output_type": "stream",
          "text": [
            " 79%|███████▉  | 1350/1712 [00:56<00:14, 24.89it/s]"
          ],
          "name": "stderr"
        },
        {
          "output_type": "stream",
          "text": [
            "img_01345.csv\n",
            "img_01346.csv\n",
            "img_01347.csv\n",
            "img_01348.csv\n",
            "img_01349.csv\n",
            "img_01350.csv\n"
          ],
          "name": "stdout"
        },
        {
          "output_type": "stream",
          "text": [
            " 79%|███████▉  | 1356/1712 [00:56<00:13, 26.40it/s]"
          ],
          "name": "stderr"
        },
        {
          "output_type": "stream",
          "text": [
            "img_01351.csv\n",
            "img_01352.csv\n",
            "img_01353.csv\n",
            "img_01354.csv\n",
            "img_01355.csv\n",
            "img_01356.csv\n"
          ],
          "name": "stdout"
        },
        {
          "output_type": "stream",
          "text": [
            " 80%|███████▉  | 1362/1712 [00:57<00:13, 25.56it/s]"
          ],
          "name": "stderr"
        },
        {
          "output_type": "stream",
          "text": [
            "img_01357.csv\n",
            "img_01358.csv\n",
            "img_01359.csv\n",
            "img_01360.csv\n",
            "img_01361.csv\n"
          ],
          "name": "stdout"
        },
        {
          "output_type": "stream",
          "text": [
            " 80%|███████▉  | 1365/1712 [00:57<00:13, 25.90it/s]"
          ],
          "name": "stderr"
        },
        {
          "output_type": "stream",
          "text": [
            "img_01362.csv\n",
            "img_01363.csv\n",
            "img_01364.csv\n",
            "img_01365.csv\n",
            "img_01366.csv\n",
            "img_01367.csv\n"
          ],
          "name": "stdout"
        },
        {
          "output_type": "stream",
          "text": [
            " 80%|████████  | 1371/1712 [00:57<00:13, 24.66it/s]"
          ],
          "name": "stderr"
        },
        {
          "output_type": "stream",
          "text": [
            "img_01368.csv\n",
            "img_01369.csv\n",
            "img_01370.csv\n",
            "img_01371.csv\n",
            "img_01372.csv\n"
          ],
          "name": "stdout"
        },
        {
          "output_type": "stream",
          "text": [
            " 80%|████████  | 1377/1712 [00:57<00:14, 23.19it/s]"
          ],
          "name": "stderr"
        },
        {
          "output_type": "stream",
          "text": [
            "img_01373.csv\n",
            "img_01374.csv\n",
            "img_01375.csv\n",
            "img_01376.csv\n",
            "img_01377.csv\n"
          ],
          "name": "stdout"
        },
        {
          "output_type": "stream",
          "text": [
            " 81%|████████  | 1380/1712 [00:57<00:14, 23.32it/s]"
          ],
          "name": "stderr"
        },
        {
          "output_type": "stream",
          "text": [
            "img_01378.csv\n",
            "img_01379.csv\n",
            "img_01380.csv\n",
            "img_01381.csv\n",
            "img_01382.csv\n"
          ],
          "name": "stdout"
        },
        {
          "output_type": "stream",
          "text": [
            " 81%|████████  | 1386/1712 [00:58<00:14, 22.52it/s]"
          ],
          "name": "stderr"
        },
        {
          "output_type": "stream",
          "text": [
            "img_01383.csv\n",
            "img_01384.csv\n",
            "img_01385.csv\n",
            "img_01386.csv\n",
            "img_01387.csv\n",
            "img_01388.csv\n"
          ],
          "name": "stdout"
        },
        {
          "output_type": "stream",
          "text": [
            " 81%|████████▏ | 1392/1712 [00:58<00:13, 24.26it/s]"
          ],
          "name": "stderr"
        },
        {
          "output_type": "stream",
          "text": [
            "img_01389.csv\n",
            "img_01390.csv\n",
            "img_01391.csv\n",
            "img_01392.csv\n",
            "img_01393.csv\n",
            "img_01394.csv\n"
          ],
          "name": "stdout"
        },
        {
          "output_type": "stream",
          "text": [
            " 82%|████████▏ | 1398/1712 [00:58<00:12, 24.51it/s]"
          ],
          "name": "stderr"
        },
        {
          "output_type": "stream",
          "text": [
            "img_01395.csv\n",
            "img_01396.csv\n",
            "img_01397.csv\n",
            "img_01398.csv\n",
            "img_01399.csv\n",
            "img_01400.csv\n"
          ],
          "name": "stdout"
        },
        {
          "output_type": "stream",
          "text": [
            " 82%|████████▏ | 1404/1712 [00:58<00:11, 26.01it/s]"
          ],
          "name": "stderr"
        },
        {
          "output_type": "stream",
          "text": [
            "img_01401.csv\n",
            "img_01402.csv\n",
            "img_01403.csv\n",
            "img_01404.csv\n",
            "img_01405.csv\n",
            "img_01406.csv\n"
          ],
          "name": "stdout"
        },
        {
          "output_type": "stream",
          "text": [
            " 82%|████████▏ | 1410/1712 [00:58<00:11, 26.83it/s]"
          ],
          "name": "stderr"
        },
        {
          "output_type": "stream",
          "text": [
            "img_01407.csv\n",
            "img_01408.csv\n",
            "img_01409.csv\n",
            "img_01410.csv\n",
            "img_01411.csv\n",
            "img_01412.csv\n"
          ],
          "name": "stdout"
        },
        {
          "output_type": "stream",
          "text": [
            " 83%|████████▎ | 1416/1712 [00:59<00:11, 25.81it/s]"
          ],
          "name": "stderr"
        },
        {
          "output_type": "stream",
          "text": [
            "img_01413.csv\n",
            "img_01414.csv\n",
            "img_01415.csv\n",
            "img_01416.csv\n",
            "img_01417.csv\n",
            "img_01418.csv\n"
          ],
          "name": "stdout"
        },
        {
          "output_type": "stream",
          "text": [
            " 83%|████████▎ | 1422/1712 [00:59<00:11, 24.97it/s]"
          ],
          "name": "stderr"
        },
        {
          "output_type": "stream",
          "text": [
            "img_01419.csv\n",
            "img_01420.csv\n",
            "img_01421.csv\n",
            "img_01422.csv\n",
            "img_01423.csv\n"
          ],
          "name": "stdout"
        },
        {
          "output_type": "stream",
          "text": [
            " 83%|████████▎ | 1428/1712 [00:59<00:12, 21.97it/s]"
          ],
          "name": "stderr"
        },
        {
          "output_type": "stream",
          "text": [
            "img_01424.csv\n",
            "img_01425.csv\n",
            "img_01426.csv\n",
            "img_01427.csv\n",
            "img_01428.csv\n"
          ],
          "name": "stdout"
        },
        {
          "output_type": "stream",
          "text": [
            " 84%|████████▎ | 1431/1712 [00:59<00:13, 20.68it/s]"
          ],
          "name": "stderr"
        },
        {
          "output_type": "stream",
          "text": [
            "img_01429.csv\n",
            "img_01430.csv\n",
            "img_01431.csv\n",
            "img_01432.csv\n"
          ],
          "name": "stdout"
        },
        {
          "output_type": "stream",
          "text": [
            " 84%|████████▍ | 1434/1712 [01:00<00:14, 19.51it/s]"
          ],
          "name": "stderr"
        },
        {
          "output_type": "stream",
          "text": [
            "img_01433.csv\n",
            "img_01434.csv\n",
            "img_01435.csv\n"
          ],
          "name": "stdout"
        },
        {
          "output_type": "stream",
          "text": [
            " 84%|████████▍ | 1438/1712 [01:00<00:16, 16.99it/s]"
          ],
          "name": "stderr"
        },
        {
          "output_type": "stream",
          "text": [
            "img_01436.csv\n",
            "img_01437.csv\n",
            "img_01438.csv\n",
            "img_01439.csv\n",
            "img_01440.csv\n"
          ],
          "name": "stdout"
        },
        {
          "output_type": "stream",
          "text": [
            " 84%|████████▍ | 1444/1712 [01:00<00:14, 19.12it/s]"
          ],
          "name": "stderr"
        },
        {
          "output_type": "stream",
          "text": [
            "img_01441.csv\n",
            "img_01442.csv\n",
            "img_01443.csv\n",
            "img_01444.csv\n",
            "img_01445.csv\n"
          ],
          "name": "stdout"
        },
        {
          "output_type": "stream",
          "text": [
            " 85%|████████▍ | 1450/1712 [01:00<00:11, 22.02it/s]"
          ],
          "name": "stderr"
        },
        {
          "output_type": "stream",
          "text": [
            "img_01446.csv\n",
            "img_01447.csv\n",
            "img_01448.csv\n",
            "img_01449.csv\n",
            "img_01450.csv\n",
            "img_01451.csv\n"
          ],
          "name": "stdout"
        },
        {
          "output_type": "stream",
          "text": [
            " 85%|████████▌ | 1457/1712 [01:01<00:10, 24.74it/s]"
          ],
          "name": "stderr"
        },
        {
          "output_type": "stream",
          "text": [
            "img_01452.csv\n",
            "img_01453.csv\n",
            "img_01454.csv\n",
            "img_01455.csv\n",
            "img_01456.csv\n",
            "img_01457.csv\n"
          ],
          "name": "stdout"
        },
        {
          "output_type": "stream",
          "text": [
            " 85%|████████▌ | 1463/1712 [01:01<00:09, 25.07it/s]"
          ],
          "name": "stderr"
        },
        {
          "output_type": "stream",
          "text": [
            "img_01458.csv\n",
            "img_01459.csv\n",
            "img_01460.csv\n",
            "img_01461.csv\n",
            "img_01462.csv\n",
            "img_01463.csv\n"
          ],
          "name": "stdout"
        },
        {
          "output_type": "stream",
          "text": [
            " 86%|████████▌ | 1469/1712 [01:01<00:09, 25.68it/s]"
          ],
          "name": "stderr"
        },
        {
          "output_type": "stream",
          "text": [
            "img_01464.csv\n",
            "img_01465.csv\n",
            "img_01466.csv\n",
            "img_01467.csv\n",
            "img_01468.csv\n",
            "img_01469.csv\n"
          ],
          "name": "stdout"
        },
        {
          "output_type": "stream",
          "text": [
            " 86%|████████▌ | 1475/1712 [01:01<00:08, 27.03it/s]"
          ],
          "name": "stderr"
        },
        {
          "output_type": "stream",
          "text": [
            "img_01470.csv\n",
            "img_01471.csv\n",
            "img_01472.csv\n",
            "img_01473.csv\n",
            "img_01474.csv\n",
            "img_01475.csv\n"
          ],
          "name": "stdout"
        },
        {
          "output_type": "stream",
          "text": [
            " 87%|████████▋ | 1481/1712 [01:02<00:08, 26.22it/s]"
          ],
          "name": "stderr"
        },
        {
          "output_type": "stream",
          "text": [
            "img_01476.csv\n",
            "img_01477.csv\n",
            "img_01478.csv\n",
            "img_01479.csv\n",
            "img_01480.csv\n",
            "img_01481.csv\n"
          ],
          "name": "stdout"
        },
        {
          "output_type": "stream",
          "text": [
            " 87%|████████▋ | 1487/1712 [01:02<00:08, 26.26it/s]"
          ],
          "name": "stderr"
        },
        {
          "output_type": "stream",
          "text": [
            "img_01482.csv\n",
            "img_01483.csv\n",
            "img_01484.csv\n",
            "img_01485.csv\n",
            "img_01486.csv\n",
            "img_01487.csv\n"
          ],
          "name": "stdout"
        },
        {
          "output_type": "stream",
          "text": [
            " 87%|████████▋ | 1493/1712 [01:02<00:08, 26.32it/s]"
          ],
          "name": "stderr"
        },
        {
          "output_type": "stream",
          "text": [
            "img_01488.csv\n",
            "img_01489.csv\n",
            "img_01490.csv\n",
            "img_01491.csv\n",
            "img_01492.csv\n",
            "img_01493.csv\n"
          ],
          "name": "stdout"
        },
        {
          "output_type": "stream",
          "text": [
            " 88%|████████▊ | 1499/1712 [01:02<00:07, 27.35it/s]"
          ],
          "name": "stderr"
        },
        {
          "output_type": "stream",
          "text": [
            "img_01494.csv\n",
            "img_01495.csv\n",
            "img_01496.csv\n",
            "img_01497.csv\n",
            "img_01498.csv\n",
            "img_01499.csv\n"
          ],
          "name": "stdout"
        },
        {
          "output_type": "stream",
          "text": [
            " 88%|████████▊ | 1502/1712 [01:02<00:07, 27.22it/s]"
          ],
          "name": "stderr"
        },
        {
          "output_type": "stream",
          "text": [
            "img_01500.csv\n",
            "img_01501.csv\n",
            "img_01502.csv\n",
            "img_01503.csv\n",
            "img_01504.csv\n"
          ],
          "name": "stdout"
        },
        {
          "output_type": "stream",
          "text": [
            " 88%|████████▊ | 1508/1712 [01:03<00:07, 25.65it/s]"
          ],
          "name": "stderr"
        },
        {
          "output_type": "stream",
          "text": [
            "img_01505.csv\n",
            "img_01506.csv\n",
            "img_01507.csv\n",
            "img_01508.csv\n",
            "img_01509.csv\n",
            "img_01510.csv\n"
          ],
          "name": "stdout"
        },
        {
          "output_type": "stream",
          "text": [
            " 88%|████████▊ | 1515/1712 [01:03<00:07, 26.27it/s]"
          ],
          "name": "stderr"
        },
        {
          "output_type": "stream",
          "text": [
            "img_01511.csv\n",
            "img_01512.csv\n",
            "img_01513.csv\n",
            "img_01514.csv\n",
            "img_01515.csv\n",
            "img_01516.csv\n"
          ],
          "name": "stdout"
        },
        {
          "output_type": "stream",
          "text": [
            " 89%|████████▉ | 1521/1712 [01:03<00:07, 25.39it/s]"
          ],
          "name": "stderr"
        },
        {
          "output_type": "stream",
          "text": [
            "img_01517.csv\n",
            "img_01518.csv\n",
            "img_01519.csv\n",
            "img_01520.csv\n",
            "img_01521.csv\n"
          ],
          "name": "stdout"
        },
        {
          "output_type": "stream",
          "text": [
            " 89%|████████▉ | 1524/1712 [01:03<00:07, 25.00it/s]"
          ],
          "name": "stderr"
        },
        {
          "output_type": "stream",
          "text": [
            "img_01522.csv\n",
            "img_01523.csv\n",
            "img_01524.csv\n",
            "img_01525.csv\n",
            "img_01526.csv\n"
          ],
          "name": "stdout"
        },
        {
          "output_type": "stream",
          "text": [
            " 89%|████████▉ | 1530/1712 [01:03<00:07, 24.98it/s]"
          ],
          "name": "stderr"
        },
        {
          "output_type": "stream",
          "text": [
            "img_01527.csv\n",
            "img_01528.csv\n",
            "img_01529.csv\n",
            "img_01530.csv\n",
            "img_01531.csv\n",
            "img_01532.csv\n"
          ],
          "name": "stdout"
        },
        {
          "output_type": "stream",
          "text": [
            " 90%|████████▉ | 1536/1712 [01:04<00:06, 25.55it/s]"
          ],
          "name": "stderr"
        },
        {
          "output_type": "stream",
          "text": [
            "img_01533.csv\n",
            "img_01534.csv\n",
            "img_01535.csv\n",
            "img_01536.csv\n",
            "img_01537.csv\n",
            "img_01538.csv\n"
          ],
          "name": "stdout"
        },
        {
          "output_type": "stream",
          "text": [
            " 90%|█████████ | 1542/1712 [01:04<00:06, 26.44it/s]"
          ],
          "name": "stderr"
        },
        {
          "output_type": "stream",
          "text": [
            "img_01539.csv\n",
            "img_01540.csv\n",
            "img_01541.csv\n",
            "img_01542.csv\n",
            "img_01543.csv\n",
            "img_01544.csv\n"
          ],
          "name": "stdout"
        },
        {
          "output_type": "stream",
          "text": [
            " 90%|█████████ | 1548/1712 [01:04<00:06, 26.24it/s]"
          ],
          "name": "stderr"
        },
        {
          "output_type": "stream",
          "text": [
            "img_01545.csv\n",
            "img_01546.csv\n",
            "img_01547.csv\n",
            "img_01548.csv\n",
            "img_01549.csv\n",
            "img_01550.csv\n"
          ],
          "name": "stdout"
        },
        {
          "output_type": "stream",
          "text": [
            " 91%|█████████ | 1554/1712 [01:04<00:05, 26.35it/s]"
          ],
          "name": "stderr"
        },
        {
          "output_type": "stream",
          "text": [
            "img_01551.csv\n",
            "img_01552.csv\n",
            "img_01553.csv\n",
            "img_01554.csv\n",
            "img_01555.csv\n",
            "img_01556.csv\n"
          ],
          "name": "stdout"
        },
        {
          "output_type": "stream",
          "text": [
            " 91%|█████████ | 1560/1712 [01:05<00:05, 26.87it/s]"
          ],
          "name": "stderr"
        },
        {
          "output_type": "stream",
          "text": [
            "img_01557.csv\n",
            "img_01558.csv\n",
            "img_01559.csv\n",
            "img_01560.csv\n",
            "img_01561.csv\n",
            "img_01562.csv\n"
          ],
          "name": "stdout"
        },
        {
          "output_type": "stream",
          "text": [
            " 91%|█████████▏| 1566/1712 [01:05<00:05, 25.84it/s]"
          ],
          "name": "stderr"
        },
        {
          "output_type": "stream",
          "text": [
            "img_01563.csv\n",
            "img_01564.csv\n",
            "img_01565.csv\n",
            "img_01566.csv\n",
            "img_01567.csv\n",
            "img_01568.csv\n"
          ],
          "name": "stdout"
        },
        {
          "output_type": "stream",
          "text": [
            " 92%|█████████▏| 1572/1712 [01:05<00:05, 25.45it/s]"
          ],
          "name": "stderr"
        },
        {
          "output_type": "stream",
          "text": [
            "img_01569.csv\n",
            "img_01570.csv\n",
            "img_01571.csv\n",
            "img_01572.csv\n",
            "img_01573.csv\n",
            "img_01574.csv\n"
          ],
          "name": "stdout"
        },
        {
          "output_type": "stream",
          "text": [
            " 92%|█████████▏| 1578/1712 [01:05<00:05, 25.71it/s]"
          ],
          "name": "stderr"
        },
        {
          "output_type": "stream",
          "text": [
            "img_01575.csv\n",
            "img_01576.csv\n",
            "img_01577.csv\n",
            "img_01578.csv\n",
            "img_01579.csv\n",
            "img_01580.csv\n"
          ],
          "name": "stdout"
        },
        {
          "output_type": "stream",
          "text": [
            " 93%|█████████▎| 1584/1712 [01:05<00:04, 27.27it/s]"
          ],
          "name": "stderr"
        },
        {
          "output_type": "stream",
          "text": [
            "img_01581.csv\n",
            "img_01582.csv\n",
            "img_01583.csv\n",
            "img_01584.csv\n",
            "img_01585.csv\n",
            "img_01586.csv\n"
          ],
          "name": "stdout"
        },
        {
          "output_type": "stream",
          "text": [
            " 93%|█████████▎| 1590/1712 [01:06<00:04, 26.84it/s]"
          ],
          "name": "stderr"
        },
        {
          "output_type": "stream",
          "text": [
            "img_01587.csv\n",
            "img_01588.csv\n",
            "img_01589.csv\n",
            "img_01590.csv\n",
            "img_01591.csv\n",
            "img_01592.csv\n"
          ],
          "name": "stdout"
        },
        {
          "output_type": "stream",
          "text": [
            " 93%|█████████▎| 1596/1712 [01:06<00:04, 27.86it/s]"
          ],
          "name": "stderr"
        },
        {
          "output_type": "stream",
          "text": [
            "img_01593.csv\n",
            "img_01594.csv\n",
            "img_01595.csv\n",
            "img_01596.csv\n",
            "img_01597.csv\n",
            "img_01598.csv\n"
          ],
          "name": "stdout"
        },
        {
          "output_type": "stream",
          "text": [
            " 94%|█████████▎| 1602/1712 [01:06<00:04, 25.99it/s]"
          ],
          "name": "stderr"
        },
        {
          "output_type": "stream",
          "text": [
            "img_01599.csv\n",
            "img_01600.csv\n",
            "img_01601.csv\n",
            "img_01602.csv\n",
            "img_01603.csv\n",
            "img_01604.csv\n"
          ],
          "name": "stdout"
        },
        {
          "output_type": "stream",
          "text": [
            " 94%|█████████▍| 1608/1712 [01:06<00:04, 25.52it/s]"
          ],
          "name": "stderr"
        },
        {
          "output_type": "stream",
          "text": [
            "img_01605.csv\n",
            "img_01606.csv\n",
            "img_01607.csv\n",
            "img_01608.csv\n",
            "img_01609.csv\n"
          ],
          "name": "stdout"
        },
        {
          "output_type": "stream",
          "text": [
            " 94%|█████████▍| 1614/1712 [01:07<00:03, 25.36it/s]"
          ],
          "name": "stderr"
        },
        {
          "output_type": "stream",
          "text": [
            "img_01610.csv\n",
            "img_01611.csv\n",
            "img_01612.csv\n",
            "img_01613.csv\n",
            "img_01614.csv\n",
            "img_01615.csv\n"
          ],
          "name": "stdout"
        },
        {
          "output_type": "stream",
          "text": [
            " 95%|█████████▍| 1620/1712 [01:07<00:03, 25.91it/s]"
          ],
          "name": "stderr"
        },
        {
          "output_type": "stream",
          "text": [
            "img_01616.csv\n",
            "img_01617.csv\n",
            "img_01618.csv\n",
            "img_01619.csv\n",
            "img_01620.csv\n",
            "img_01621.csv\n"
          ],
          "name": "stdout"
        },
        {
          "output_type": "stream",
          "text": [
            " 95%|█████████▍| 1626/1712 [01:07<00:03, 25.68it/s]"
          ],
          "name": "stderr"
        },
        {
          "output_type": "stream",
          "text": [
            "img_01622.csv\n",
            "img_01623.csv\n",
            "img_01624.csv\n",
            "img_01625.csv\n",
            "img_01626.csv\n",
            "img_01627.csv\n"
          ],
          "name": "stdout"
        },
        {
          "output_type": "stream",
          "text": [
            " 95%|█████████▌| 1632/1712 [01:07<00:03, 25.08it/s]"
          ],
          "name": "stderr"
        },
        {
          "output_type": "stream",
          "text": [
            "img_01628.csv\n",
            "img_01629.csv\n",
            "img_01630.csv\n",
            "img_01631.csv\n",
            "img_01632.csv\n"
          ],
          "name": "stdout"
        },
        {
          "output_type": "stream",
          "text": [
            " 96%|█████████▌| 1635/1712 [01:07<00:03, 24.24it/s]"
          ],
          "name": "stderr"
        },
        {
          "output_type": "stream",
          "text": [
            "img_01633.csv\n",
            "img_01634.csv\n",
            "img_01635.csv\n",
            "img_01636.csv\n",
            "img_01637.csv\n"
          ],
          "name": "stdout"
        },
        {
          "output_type": "stream",
          "text": [
            " 96%|█████████▌| 1641/1712 [01:08<00:02, 24.21it/s]"
          ],
          "name": "stderr"
        },
        {
          "output_type": "stream",
          "text": [
            "img_01638.csv\n",
            "img_01639.csv\n",
            "img_01640.csv\n",
            "img_01641.csv\n",
            "img_01642.csv\n"
          ],
          "name": "stdout"
        },
        {
          "output_type": "stream",
          "text": [
            " 96%|█████████▌| 1647/1712 [01:08<00:02, 24.10it/s]"
          ],
          "name": "stderr"
        },
        {
          "output_type": "stream",
          "text": [
            "img_01643.csv\n",
            "img_01644.csv\n",
            "img_01645.csv\n",
            "img_01646.csv\n",
            "img_01647.csv\n",
            "img_01648.csv\n"
          ],
          "name": "stdout"
        },
        {
          "output_type": "stream",
          "text": [
            " 97%|█████████▋| 1653/1712 [01:08<00:02, 25.49it/s]"
          ],
          "name": "stderr"
        },
        {
          "output_type": "stream",
          "text": [
            "img_01649.csv\n",
            "img_01650.csv\n",
            "img_01651.csv\n",
            "img_01652.csv\n",
            "img_01653.csv\n"
          ],
          "name": "stdout"
        },
        {
          "output_type": "stream",
          "text": [
            " 97%|█████████▋| 1656/1712 [01:08<00:02, 23.44it/s]"
          ],
          "name": "stderr"
        },
        {
          "output_type": "stream",
          "text": [
            "img_01654.csv\n",
            "img_01655.csv\n",
            "img_01656.csv\n",
            "img_01657.csv\n",
            "img_01658.csv\n"
          ],
          "name": "stdout"
        },
        {
          "output_type": "stream",
          "text": [
            " 97%|█████████▋| 1662/1712 [01:09<00:02, 23.80it/s]"
          ],
          "name": "stderr"
        },
        {
          "output_type": "stream",
          "text": [
            "img_01659.csv\n",
            "img_01660.csv\n",
            "img_01661.csv\n",
            "img_01662.csv\n",
            "img_01663.csv\n"
          ],
          "name": "stdout"
        },
        {
          "output_type": "stream",
          "text": [
            " 97%|█████████▋| 1668/1712 [01:09<00:01, 23.45it/s]"
          ],
          "name": "stderr"
        },
        {
          "output_type": "stream",
          "text": [
            "img_01664.csv\n",
            "img_01665.csv\n",
            "img_01666.csv\n",
            "img_01667.csv\n",
            "img_01668.csv\n"
          ],
          "name": "stdout"
        },
        {
          "output_type": "stream",
          "text": [
            " 98%|█████████▊| 1671/1712 [01:09<00:01, 23.54it/s]"
          ],
          "name": "stderr"
        },
        {
          "output_type": "stream",
          "text": [
            "img_01669.csv\n",
            "img_01670.csv\n",
            "img_01671.csv\n",
            "img_01672.csv\n",
            "img_01673.csv\n"
          ],
          "name": "stdout"
        },
        {
          "output_type": "stream",
          "text": [
            " 98%|█████████▊| 1677/1712 [01:09<00:01, 24.50it/s]"
          ],
          "name": "stderr"
        },
        {
          "output_type": "stream",
          "text": [
            "img_01674.csv\n",
            "img_01675.csv\n",
            "img_01676.csv\n",
            "img_01677.csv\n",
            "img_01678.csv\n",
            "img_01679.csv\n"
          ],
          "name": "stdout"
        },
        {
          "output_type": "stream",
          "text": [
            " 98%|█████████▊| 1683/1712 [01:09<00:01, 24.36it/s]"
          ],
          "name": "stderr"
        },
        {
          "output_type": "stream",
          "text": [
            "img_01680.csv\n",
            "img_01681.csv\n",
            "img_01682.csv\n",
            "img_01683.csv\n",
            "img_01684.csv\n",
            "img_01685.csv\n"
          ],
          "name": "stdout"
        },
        {
          "output_type": "stream",
          "text": [
            " 99%|█████████▊| 1689/1712 [01:10<00:00, 25.96it/s]"
          ],
          "name": "stderr"
        },
        {
          "output_type": "stream",
          "text": [
            "img_01686.csv\n",
            "img_01687.csv\n",
            "img_01688.csv\n",
            "img_01689.csv\n",
            "img_01690.csv\n",
            "img_01691.csv\n"
          ],
          "name": "stdout"
        },
        {
          "output_type": "stream",
          "text": [
            " 99%|█████████▉| 1695/1712 [01:10<00:00, 27.10it/s]"
          ],
          "name": "stderr"
        },
        {
          "output_type": "stream",
          "text": [
            "img_01692.csv\n",
            "img_01693.csv\n",
            "img_01694.csv\n",
            "img_01695.csv\n",
            "img_01696.csv\n"
          ],
          "name": "stdout"
        },
        {
          "output_type": "stream",
          "text": [
            " 99%|█████████▉| 1701/1712 [01:10<00:00, 22.90it/s]"
          ],
          "name": "stderr"
        },
        {
          "output_type": "stream",
          "text": [
            "img_01697.csv\n",
            "img_01698.csv\n",
            "img_01699.csv\n",
            "img_01700.csv\n"
          ],
          "name": "stdout"
        },
        {
          "output_type": "stream",
          "text": [
            "100%|█████████▉| 1704/1712 [01:10<00:00, 22.61it/s]"
          ],
          "name": "stderr"
        },
        {
          "output_type": "stream",
          "text": [
            "img_01701.csv\n",
            "img_01702.csv\n",
            "img_01703.csv\n",
            "img_01704.csv\n",
            "img_01705.csv\n"
          ],
          "name": "stdout"
        },
        {
          "output_type": "stream",
          "text": [
            "100%|█████████▉| 1707/1712 [01:11<00:00, 20.67it/s]"
          ],
          "name": "stderr"
        },
        {
          "output_type": "stream",
          "text": [
            "img_01706.csv\n",
            "img_01707.csv\n",
            "img_01708.csv\n",
            "img_01709.csv\n"
          ],
          "name": "stdout"
        },
        {
          "output_type": "stream",
          "text": [
            "100%|██████████| 1712/1712 [01:11<00:00, 24.02it/s]\n"
          ],
          "name": "stderr"
        },
        {
          "output_type": "stream",
          "text": [
            "img_01710.csv\n",
            "img_01711.csv\n"
          ],
          "name": "stdout"
        }
      ]
    },
    {
      "cell_type": "code",
      "metadata": {
        "execution": {
          "iopub.execute_input": "2020-12-10T14:35:48.082176Z",
          "iopub.status.busy": "2020-12-10T14:35:48.081119Z",
          "iopub.status.idle": "2020-12-10T14:43:28.515522Z",
          "shell.execute_reply": "2020-12-10T14:43:28.516408Z"
        },
        "papermill": {
          "duration": 460.880287,
          "end_time": "2020-12-10T14:43:28.516621",
          "exception": false,
          "start_time": "2020-12-10T14:35:47.636334",
          "status": "completed"
        },
        "tags": [],
        "id": "FgUAmbMQ8u_l",
        "outputId": "9cb08d88-0233-4495-e9f2-6a6108652c89"
      },
      "source": [
        "# Dense SIFT의 Keypoint 간격 설정 \n",
        "DSIFT_STEP_SIZE = 8\n",
        "# 영상의 특징점(DenseSIFT) 검출(학습데이터, 테스트데이터)\n",
        "x_train_feature = [extract_DenseSift_descriptors(img) for img in tqdm(train_data)]\n",
        "x_test_feature = [extract_DenseSift_descriptors(img) for img in tqdm(test_data)]\n",
        "# numpy 형식으로 변환\n",
        "x_train_des = np.array(x_train_feature)\n",
        "x_test_des = np.array(x_test_feature)"
      ],
      "execution_count": null,
      "outputs": [
        {
          "output_type": "stream",
          "text": [
            "100%|██████████| 3060/3060 [04:53<00:00, 10.44it/s]\n",
            "100%|██████████| 1712/1712 [02:46<00:00, 10.31it/s]\n"
          ],
          "name": "stderr"
        }
      ]
    },
    {
      "cell_type": "code",
      "metadata": {
        "execution": {
          "iopub.execute_input": "2020-12-10T14:43:31.569293Z",
          "iopub.status.busy": "2020-12-10T14:43:31.568361Z",
          "iopub.status.idle": "2020-12-10T14:46:54.751347Z",
          "shell.execute_reply": "2020-12-10T14:46:54.752445Z"
        },
        "papermill": {
          "duration": 204.54616,
          "end_time": "2020-12-10T14:46:54.752646",
          "exception": false,
          "start_time": "2020-12-10T14:43:30.206486",
          "status": "completed"
        },
        "tags": [],
        "id": "AiIlUlrg8u_l"
      },
      "source": [
        "# num_cluster를 200으로 설졍하여 Visual Words(codebook) 계산 \n",
        "codebook = build_codebook(x_train_des, 200)"
      ],
      "execution_count": null,
      "outputs": []
    },
    {
      "cell_type": "code",
      "metadata": {
        "execution": {
          "iopub.execute_input": "2020-12-10T14:46:57.834517Z",
          "iopub.status.busy": "2020-12-10T14:46:57.833805Z",
          "iopub.status.idle": "2020-12-10T14:48:47.123543Z",
          "shell.execute_reply": "2020-12-10T14:48:47.124476Z"
        },
        "papermill": {
          "duration": 110.979789,
          "end_time": "2020-12-10T14:48:47.124743",
          "exception": false,
          "start_time": "2020-12-10T14:46:56.144954",
          "status": "completed"
        },
        "tags": [],
        "id": "pfMq6WNC8u_l",
        "outputId": "de9b3faf-ec82-4ed0-fbf9-a53cfc62bd32"
      },
      "source": [
        "# BoW feature 계산 (학습 데이터, 테스트 데이터)\n",
        "x_train = [BoW(x_train_des[i],codebook) for i in range(len(train_data))]\n",
        "x_train = np.asarray(x_train)\n",
        "x_test = [BoW(x_test_des[i],codebook) for i in range(len(test_data))]\n",
        "x_test = np.asarray(x_test)"
      ],
      "execution_count": null,
      "outputs": [
        {
          "output_type": "stream",
          "text": [
            "/opt/conda/lib/python3.7/site-packages/ipykernel_launcher.py:30: VisibleDeprecationWarning: Passing `normed=True` on non-uniform bins has always been broken, and computes neither the probability density function nor the probability mass function. The result is only correct if the bins are uniform, when density=True will produce the same result anyway. The argument will be removed in a future version of numpy.\n"
          ],
          "name": "stderr"
        }
      ]
    },
    {
      "cell_type": "code",
      "metadata": {
        "execution": {
          "iopub.execute_input": "2020-12-10T14:48:50.071674Z",
          "iopub.status.busy": "2020-12-10T14:48:50.051256Z",
          "iopub.status.idle": "2020-12-10T14:52:06.104199Z",
          "shell.execute_reply": "2020-12-10T14:52:06.103537Z"
        },
        "papermill": {
          "duration": 197.40364,
          "end_time": "2020-12-10T14:52:06.104324",
          "exception": false,
          "start_time": "2020-12-10T14:48:48.700684",
          "status": "completed"
        },
        "tags": [],
        "id": "y1dCAsaS8u_l",
        "outputId": "36adac7c-4f31-4a81-a865-16d164f4ef69"
      },
      "source": [
        "# SVM으로 테스트 데이터 클래스 분류\n",
        "\n",
        "predict=SVM(x_train,train_label,x_test) "
      ],
      "execution_count": null,
      "outputs": [
        {
          "output_type": "stream",
          "text": [
            "float64\n",
            "float64\n",
            "float64\n"
          ],
          "name": "stdout"
        }
      ]
    },
    {
      "cell_type": "code",
      "metadata": {
        "execution": {
          "iopub.execute_input": "2020-12-10T14:52:08.794216Z",
          "iopub.status.busy": "2020-12-10T14:52:08.793394Z",
          "iopub.status.idle": "2020-12-10T14:52:09.202421Z",
          "shell.execute_reply": "2020-12-10T14:52:09.201325Z"
        },
        "papermill": {
          "duration": 1.76711,
          "end_time": "2020-12-10T14:52:09.202559",
          "exception": false,
          "start_time": "2020-12-10T14:52:07.435449",
          "status": "completed"
        },
        "tags": [],
        "id": "iE7uJRPT8u_l",
        "outputId": "ec57a6da-9125-4bd7-bb1a-2e8e4ee20c8c"
      },
      "source": [
        "# CSV 제출을 위한 predict shape 변환 \n",
        "predict=predict.reshape(-1,1)\n",
        "# CSV 제출을 위한 test_label(id) shape 변환 \n",
        "test_label=np.array(test_label)\n",
        "test_label=test_label.reshape(-1,1)\n",
        "\n",
        "# CSV 제출을 위한 Predict 와 label 합치기 \n",
        "total_result=np.hstack([test_label,predict.astype('int')])\n",
        "print(total_result)\n",
        "# CSV 제출을 위한 Dataframe으로 변환 \n",
        "df = pd.DataFrame(total_result,columns=[\"Id\",\"Category\"])\n",
        "# CSV 저장 \n",
        "df.to_csv(\"./Test_2020ML.csv\",index=False,header=True)"
      ],
      "execution_count": null,
      "outputs": [
        {
          "output_type": "stream",
          "text": [
            "[['img_00000.csv' '57']\n",
            " ['img_00001.csv' '42']\n",
            " ['img_00002.csv' '23']\n",
            " ...\n",
            " ['img_01709.csv' '83']\n",
            " ['img_01710.csv' '60']\n",
            " ['img_01711.csv' '92']]\n"
          ],
          "name": "stdout"
        }
      ]
    }
  ]
}